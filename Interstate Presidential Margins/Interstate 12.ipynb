{
 "cells": [
  {
   "cell_type": "markdown",
   "metadata": {},
   "source": [
    "<h2>Calculating 2020 Presidential Margins Along Interstate 12</h2>"
   ]
  },
  {
   "cell_type": "code",
   "execution_count": 1,
   "metadata": {},
   "outputs": [],
   "source": [
    "#Import relevant libraries\n",
    "import numpy as np\n",
    "import pandas as pd\n",
    "import warnings\n",
    "warnings.filterwarnings(\"ignore\")"
   ]
  },
  {
   "cell_type": "code",
   "execution_count": 2,
   "metadata": {},
   "outputs": [],
   "source": [
    "la_votes = pd.read_csv('../ElectionData/Louisiana.csv', low_memory=False)\n",
    "la_votes['Year'] = pd.to_numeric(la_votes['Year'])\n",
    "la_votes.loc[:,'Total Votes'] = (la_votes.sum(axis=1)) - la_votes['Year']\n",
    "la_pres = la_votes[la_votes['Office'] == 'President']\n",
    "la_pres = la_pres.drop('Office', axis = 1)\n",
    "la_pres['Year'] = pd.to_numeric(la_pres['Year'])\n",
    "la_pres['PCT_DEM'] = (round(la_pres['D#']/la_pres['Total Votes'],4))*100\n",
    "la_pres['PCT_REP'] = (round(la_pres['R#']/la_pres['Total Votes'],4))*100\n",
    "la_pres['RD_DIFF'] = la_pres['PCT_REP'] - la_pres['PCT_DEM']\n",
    "la_pres_pct = la_pres[['State', 'Year', 'Parish', 'RD_DIFF']]\n",
    "la_pres_pct_2020 = la_pres_pct[la_pres_pct['Year'] == 2020]\n",
    "la_parishes = ['East Baton Rouge', 'Livingston', 'Tangipahoa', 'Saint Tammany']"
   ]
  },
  {
   "cell_type": "markdown",
   "metadata": {},
   "source": [
    "Now find the margins from each county."
   ]
  },
  {
   "cell_type": "code",
   "execution_count": 3,
   "metadata": {},
   "outputs": [
    {
     "name": "stdout",
     "output_type": "stream",
     "text": [
      "          State  Year            Parish  RD_DIFF\n",
      "4940  Louisiana  2020  East Baton Rouge   -13.05\n",
      "          State  Year      Parish  RD_DIFF\n",
      "4955  Louisiana  2020  Livingston    69.95\n",
      "          State  Year      Parish  RD_DIFF\n",
      "4976  Louisiana  2020  Tangipahoa    32.81\n",
      "          State  Year         Parish  RD_DIFF\n",
      "4975  Louisiana  2020  Saint Tammany    44.19\n"
     ]
    }
   ],
   "source": [
    "for p in la_parishes:\n",
    "    print(la_pres_pct_2020[la_pres_pct_2020['Parish'] == p])"
   ]
  }
 ],
 "metadata": {
  "kernelspec": {
   "display_name": "Python 3",
   "language": "python",
   "name": "python3"
  },
  "language_info": {
   "codemirror_mode": {
    "name": "ipython",
    "version": 3
   },
   "file_extension": ".py",
   "mimetype": "text/x-python",
   "name": "python",
   "nbconvert_exporter": "python",
   "pygments_lexer": "ipython3",
   "version": "3.8.5"
  }
 },
 "nbformat": 4,
 "nbformat_minor": 4
}
