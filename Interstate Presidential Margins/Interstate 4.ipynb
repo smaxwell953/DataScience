{
 "cells": [
  {
   "cell_type": "markdown",
   "metadata": {},
   "source": [
    "<h2>Calculating 2020 Presidential Margins Along Interstate 4</h2>"
   ]
  },
  {
   "cell_type": "code",
   "execution_count": 1,
   "metadata": {},
   "outputs": [],
   "source": [
    "#Import relevant libraries\n",
    "import numpy as np\n",
    "import pandas as pd\n",
    "import warnings\n",
    "warnings.filterwarnings(\"ignore\")"
   ]
  },
  {
   "cell_type": "code",
   "execution_count": 2,
   "metadata": {},
   "outputs": [],
   "source": [
    "fl_vote = pd.read_csv('../ElectionData/Florida.csv', low_memory=False)\n",
    "fl_votes = pd.DataFrame(fl_vote[fl_vote.Year == 2020])\n",
    "fl_votes = fl_votes.fillna(0)\n",
    "fl_votes['Year'] = pd.to_numeric(fl_votes['Year'])\n",
    "fl_votes.loc[:,'Total Votes'] = (fl_votes.sum(axis=1)) - fl_votes['Year']\n",
    "fl_pres = fl_votes[fl_votes['Office'] == 'President']\n",
    "fl_pres = fl_pres.drop('Office', axis = 1)\n",
    "fl_pres['Year'] = pd.to_numeric(fl_pres['Year'])\n",
    "fl_pres['PCT_DEM'] = (round(fl_pres['D#']/fl_pres['Total Votes'],4))*100\n",
    "fl_pres['PCT_REP'] = (round(fl_pres['R#']/fl_pres['Total Votes'],4))*100\n",
    "fl_pres['RD_DIFF'] = fl_pres['PCT_REP'] - fl_pres['PCT_DEM']\n",
    "fl_pres_pct = fl_pres[['State', 'Year', 'County', 'RD_DIFF']]\n",
    "fl_counties = ['Hillsborough', 'Polk', 'Osceola', 'Orange', 'Seminole', 'Volusia']"
   ]
  },
  {
   "cell_type": "markdown",
   "metadata": {},
   "source": [
    "Now find the margins from each county."
   ]
  },
  {
   "cell_type": "code",
   "execution_count": 3,
   "metadata": {},
   "outputs": [
    {
     "name": "stdout",
     "output_type": "stream",
     "text": [
      "        State  Year        County  RD_DIFF\n",
      "7380  Florida  2020  Hillsborough    -6.86\n",
      "        State  Year County  RD_DIFF\n",
      "7405  Florida  2020   Polk     14.4\n",
      "        State  Year   County  RD_DIFF\n",
      "7401  Florida  2020  Osceola   -13.78\n",
      "        State  Year  County  RD_DIFF\n",
      "7400  Florida  2020  Orange   -23.05\n",
      "        State  Year    County  RD_DIFF\n",
      "7411  Florida  2020  Seminole    -2.78\n",
      "        State  Year   County  RD_DIFF\n",
      "7416  Florida  2020  Volusia    14.04\n"
     ]
    }
   ],
   "source": [
    "for c in fl_counties:\n",
    "    print(fl_pres_pct[fl_pres_pct['County'] == c])"
   ]
  }
 ],
 "metadata": {
  "kernelspec": {
   "display_name": "Python 3",
   "language": "python",
   "name": "python3"
  },
  "language_info": {
   "codemirror_mode": {
    "name": "ipython",
    "version": 3
   },
   "file_extension": ".py",
   "mimetype": "text/x-python",
   "name": "python",
   "nbconvert_exporter": "python",
   "pygments_lexer": "ipython3",
   "version": "3.8.5"
  }
 },
 "nbformat": 4,
 "nbformat_minor": 4
}
