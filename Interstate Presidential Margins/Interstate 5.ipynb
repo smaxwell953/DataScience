{
 "cells": [
  {
   "cell_type": "markdown",
   "metadata": {},
   "source": [
    "<h2>Calculating 2020 Presidential Margins Along Interstate 5</h2>"
   ]
  },
  {
   "cell_type": "code",
   "execution_count": 1,
   "metadata": {},
   "outputs": [],
   "source": [
    "#Import relevant libraries\n",
    "import numpy as np\n",
    "import pandas as pd\n",
    "import warnings\n",
    "warnings.filterwarnings(\"ignore\")"
   ]
  },
  {
   "cell_type": "code",
   "execution_count": 2,
   "metadata": {},
   "outputs": [],
   "source": [
    "ca_vote = pd.read_csv('../ElectionData/California.csv', low_memory=False)\n",
    "ca_votes = pd.DataFrame(ca_vote[ca_vote.Year == '2020'])\n",
    "ca_votes = ca_votes.fillna(0)\n",
    "ca_votes['Year'] = pd.to_numeric(ca_votes['Year'])\n",
    "ca_votes.loc[:,'Total Votes'] = (ca_votes.sum(axis=1)) - ca_votes['Year']\n",
    "ca_pres = ca_votes[ca_votes['Office'] == 'President']\n",
    "ca_pres = ca_pres.drop('Office', axis = 1)\n",
    "ca_pres['Year'] = pd.to_numeric(ca_pres['Year'])\n",
    "ca_pres['PCT_DEM'] = (round(ca_pres['D1#']/ca_pres['Total Votes'],4))*100\n",
    "ca_pres['PCT_REP'] = (round(ca_pres['R#']/ca_pres['Total Votes'],4))*100\n",
    "ca_pres['RD_DIFF'] = ca_pres['PCT_REP'] - ca_pres['PCT_DEM']\n",
    "ca_pres_pct = ca_pres[['State', 'Year', 'County', 'RD_DIFF']]\n",
    "ca_counties = ['San Diego', 'Orange', 'Los Angeles', 'Kern', 'Kings', 'Fresno', 'Merced', 'Stanislaus', 'San Joaquin', \\\n",
    "               'Sacramento', 'Yolo', 'Colusa', 'Glenn', 'Tehama', 'Shasta', 'Siskiyou']"
   ]
  },
  {
   "cell_type": "code",
   "execution_count": 3,
   "metadata": {},
   "outputs": [],
   "source": [
    "or_vote = pd.read_csv('../ElectionData/Oregon.csv', low_memory=False)\n",
    "or_votes = pd.DataFrame(or_vote[or_vote.Year == 2020])\n",
    "or_votes = or_votes.fillna(0)\n",
    "or_votes['Year'] = pd.to_numeric(or_votes['Year'])\n",
    "or_votes.loc[:,'Total Votes'] = (or_votes.sum(axis=1)) - or_votes['Year']\n",
    "or_pres = or_votes[or_votes['Office'] == 'President']\n",
    "or_pres = or_pres.drop('Office', axis = 1)\n",
    "or_pres['Year'] = pd.to_numeric(or_pres['Year'])\n",
    "or_pres['PCT_DEM'] = (round(or_pres['D#']/or_pres['Total Votes'],4))*100\n",
    "or_pres['PCT_REP'] = (round(or_pres['R#']/or_pres['Total Votes'],4))*100\n",
    "or_pres['RD_DIFF'] = or_pres['PCT_REP'] - or_pres['PCT_DEM']\n",
    "or_pres_pct = or_pres[['State', 'Year', 'County', 'RD_DIFF']]\n",
    "or_counties = ['Jackson', 'Josephine', 'Douglas', 'Lane', 'Linn', 'Marion', 'Clackamas', 'Washington', 'Multnomah']"
   ]
  },
  {
   "cell_type": "code",
   "execution_count": 4,
   "metadata": {},
   "outputs": [],
   "source": [
    "wa_vote = pd.read_csv('../ElectionData/Washington.csv', low_memory=False)\n",
    "wa_votes = pd.DataFrame(wa_vote[wa_vote.Year == 2020])\n",
    "wa_votes = wa_votes.fillna(0)\n",
    "wa_votes['Year'] = pd.to_numeric(wa_votes['Year'])\n",
    "wa_votes.loc[:,'Total Votes'] = (wa_votes.sum(axis=1)) - wa_votes['Year']\n",
    "wa_pres = wa_votes[wa_votes['Office'] == 'President']\n",
    "wa_pres = wa_pres.drop('Office', axis = 1)\n",
    "wa_pres['Year'] = pd.to_numeric(wa_pres['Year'])\n",
    "wa_pres['PCT_DEM'] = (round(wa_pres['D#']/wa_pres['Total Votes'],4))*100\n",
    "wa_pres['PCT_REP'] = (round(wa_pres['R#']/wa_pres['Total Votes'],4))*100\n",
    "wa_pres['RD_DIFF'] = wa_pres['PCT_REP'] - wa_pres['PCT_DEM']\n",
    "wa_pres_pct = wa_pres[['State', 'Year', 'County', 'RD_DIFF']]\n",
    "wa_counties = ['Clark', 'Cowlitz', 'Lewis', 'Thurston', 'Pierce', 'King', 'Snohomish', 'Skagit', 'Whatcom']"
   ]
  },
  {
   "cell_type": "markdown",
   "metadata": {},
   "source": [
    "Now find the margins from each county."
   ]
  },
  {
   "cell_type": "code",
   "execution_count": 5,
   "metadata": {},
   "outputs": [
    {
     "name": "stdout",
     "output_type": "stream",
     "text": [
      "            State  Year     County  RD_DIFF\n",
      "11450  California  2020  San Diego   -22.75\n",
      "            State  Year  County  RD_DIFF\n",
      "11443  California  2020  Orange    -9.04\n",
      "            State  Year       County  RD_DIFF\n",
      "11432  California  2020  Los Angeles   -44.17\n",
      "            State  Year County  RD_DIFF\n",
      "11428  California  2020   Kern     10.2\n",
      "            State  Year County  RD_DIFF\n",
      "11429  California  2020  Kings    12.25\n",
      "            State  Year  County  RD_DIFF\n",
      "11423  California  2020  Fresno    -7.83\n",
      "            State  Year  County  RD_DIFF\n",
      "11437  California  2020  Merced   -10.54\n",
      "            State  Year      County  RD_DIFF\n",
      "11463  California  2020  Stanislaus    -0.78\n",
      "            State  Year       County  RD_DIFF\n",
      "11452  California  2020  San Joaquin   -13.82\n",
      "            State  Year      County  RD_DIFF\n",
      "11447  California  2020  Sacramento   -25.25\n",
      "            State  Year County  RD_DIFF\n",
      "11470  California  2020   Yolo   -41.43\n",
      "            State  Year  County  RD_DIFF\n",
      "11419  California  2020  Colusa    16.58\n",
      "            State  Year County  RD_DIFF\n",
      "11424  California  2020  Glenn    27.16\n",
      "            State  Year  County  RD_DIFF\n",
      "11465  California  2020  Tehama     35.6\n",
      "            State  Year  County  RD_DIFF\n",
      "11458  California  2020  Shasta    33.13\n",
      "            State  Year    County  RD_DIFF\n",
      "11460  California  2020  Siskiyou    15.75\n"
     ]
    }
   ],
   "source": [
    "for c in ca_counties:\n",
    "    print(ca_pres_pct[ca_pres_pct['County'] == c])"
   ]
  },
  {
   "cell_type": "code",
   "execution_count": 6,
   "metadata": {},
   "outputs": [
    {
     "name": "stdout",
     "output_type": "stream",
     "text": [
      "       State    Year   County  RD_DIFF\n",
      "3542  Oregon  2020.0  Jackson     3.46\n",
      "       State    Year     County  RD_DIFF\n",
      "3544  Oregon  2020.0  Josephine    25.75\n",
      "       State    Year   County  RD_DIFF\n",
      "3537  Oregon  2020.0  Douglas    37.51\n",
      "       State    Year County  RD_DIFF\n",
      "3547  Oregon  2020.0   Lane   -24.31\n",
      "       State    Year County  RD_DIFF\n",
      "3549  Oregon  2020.0   Linn    23.37\n",
      "       State    Year  County  RD_DIFF\n",
      "3551  Oregon  2020.0  Marion    -1.13\n",
      "       State    Year     County  RD_DIFF\n",
      "3530  Oregon  2020.0  Clackamas   -11.07\n",
      "       State    Year      County  RD_DIFF\n",
      "3561  Oregon  2020.0  Washington   -34.61\n",
      "       State    Year     County  RD_DIFF\n",
      "3553  Oregon  2020.0  Multnomah   -61.31\n"
     ]
    }
   ],
   "source": [
    "for c in or_counties:\n",
    "    print(or_pres_pct[or_pres_pct['County'] == c])"
   ]
  },
  {
   "cell_type": "code",
   "execution_count": 7,
   "metadata": {},
   "outputs": [
    {
     "name": "stdout",
     "output_type": "stream",
     "text": [
      "           State    Year County  RD_DIFF\n",
      "9948  Washington  2020.0  Clark    -5.09\n",
      "           State    Year   County  RD_DIFF\n",
      "9950  Washington  2020.0  Cowlitz     17.4\n",
      "           State    Year County  RD_DIFF\n",
      "9963  Washington  2020.0  Lewis    32.82\n",
      "           State    Year    County  RD_DIFF\n",
      "9976  Washington  2020.0  Thurston   -18.64\n",
      "           State    Year  County  RD_DIFF\n",
      "9969  Washington  2020.0  Pierce   -11.15\n",
      "           State    Year County  RD_DIFF\n",
      "9959  Washington  2020.0   King   -52.71\n",
      "           State    Year     County  RD_DIFF\n",
      "9973  Washington  2020.0  Snohomish   -20.58\n",
      "           State    Year  County  RD_DIFF\n",
      "9971  Washington  2020.0  Skagit    -7.48\n",
      "           State    Year   County  RD_DIFF\n",
      "9979  Washington  2020.0  Whatcom   -23.93\n"
     ]
    }
   ],
   "source": [
    "for c in wa_counties:\n",
    "    print(wa_pres_pct[wa_pres_pct['County'] == c])"
   ]
  }
 ],
 "metadata": {
  "kernelspec": {
   "display_name": "Python 3",
   "language": "python",
   "name": "python3"
  },
  "language_info": {
   "codemirror_mode": {
    "name": "ipython",
    "version": 3
   },
   "file_extension": ".py",
   "mimetype": "text/x-python",
   "name": "python",
   "nbconvert_exporter": "python",
   "pygments_lexer": "ipython3",
   "version": "3.8.5"
  }
 },
 "nbformat": 4,
 "nbformat_minor": 4
}
