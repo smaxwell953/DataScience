{
 "cells": [
  {
   "cell_type": "markdown",
   "metadata": {},
   "source": [
    "<h2>Calculating 2020 Presidential Margins Along Interstate 16</h2>"
   ]
  },
  {
   "cell_type": "code",
   "execution_count": 1,
   "metadata": {},
   "outputs": [],
   "source": [
    "#Import relevant libraries\n",
    "import numpy as np\n",
    "import pandas as pd\n",
    "import warnings\n",
    "warnings.filterwarnings(\"ignore\")"
   ]
  },
  {
   "cell_type": "code",
   "execution_count": 2,
   "metadata": {},
   "outputs": [],
   "source": [
    "ga_vote = pd.read_csv('../ElectionData/Georgia.csv', low_memory=False)\n",
    "ga_votes = pd.DataFrame(ga_vote[ga_vote.Year == 2020])\n",
    "ga_votes = ga_votes.fillna(0)\n",
    "ga_votes['Year'] = pd.to_numeric(ga_votes['Year'])\n",
    "ga_votes.loc[:,'Total Votes'] = (ga_votes.sum(axis=1)) - ga_votes['Year']\n",
    "ga_pres = ga_votes[ga_votes['Office'] == 'President']\n",
    "ga_pres = ga_pres.drop('Office', axis = 1)\n",
    "ga_pres['Year'] = pd.to_numeric(ga_pres['Year'])\n",
    "ga_pres['PCT_DEM'] = (round(ga_pres['D#']/ga_pres['Total Votes'],4))*100\n",
    "ga_pres['PCT_REP'] = (round(ga_pres['R#']/ga_pres['Total Votes'],4))*100\n",
    "ga_pres['RD_DIFF'] = ga_pres['PCT_REP'] - ga_pres['PCT_DEM']\n",
    "ga_pres_pct = ga_pres[['State', 'Year', 'County', 'RD_DIFF']]\n",
    "ga_counties = ['Bibb', 'Twiggs', 'Bleckley', 'Laurens', 'Treutlen', 'Emanuel', 'Candler', 'Bulloch', 'Bryan', 'Effingham',\\\n",
    "               'Chatham']"
   ]
  },
  {
   "cell_type": "markdown",
   "metadata": {},
   "source": [
    "Now find the margins from each county."
   ]
  },
  {
   "cell_type": "code",
   "execution_count": 3,
   "metadata": {},
   "outputs": [
    {
     "name": "stdout",
     "output_type": "stream",
     "text": [
      "         State  Year County  RD_DIFF\n",
      "16365  Georgia  2020   Bibb   -23.81\n",
      "         State  Year  County  RD_DIFF\n",
      "16497  Georgia  2020  Twiggs     7.34\n",
      "         State  Year    County  RD_DIFF\n",
      "16366  Georgia  2020  Bleckley    52.83\n",
      "         State  Year   County  RD_DIFF\n",
      "16441  Georgia  2020  Laurens    28.24\n",
      "         State  Year    County  RD_DIFF\n",
      "16494  Georgia  2020  Treutlen    37.34\n",
      "         State  Year   County  RD_DIFF\n",
      "16407  Georgia  2020  Emanuel    38.57\n",
      "         State  Year   County  RD_DIFF\n",
      "16375  Georgia  2020  Candler    42.07\n",
      "         State  Year   County  RD_DIFF\n",
      "16370  Georgia  2020  Bulloch    23.71\n",
      "         State  Year County  RD_DIFF\n",
      "16369  Georgia  2020  Bryan    35.14\n",
      "         State  Year     County  RD_DIFF\n",
      "16405  Georgia  2020  Effingham    49.54\n",
      "         State  Year   County  RD_DIFF\n",
      "16379  Georgia  2020  Chatham   -18.74\n"
     ]
    }
   ],
   "source": [
    "for c in ga_counties:\n",
    "    print(ga_pres_pct[ga_pres_pct['County'] == c])"
   ]
  }
 ],
 "metadata": {
  "kernelspec": {
   "display_name": "Python 3",
   "language": "python",
   "name": "python3"
  },
  "language_info": {
   "codemirror_mode": {
    "name": "ipython",
    "version": 3
   },
   "file_extension": ".py",
   "mimetype": "text/x-python",
   "name": "python",
   "nbconvert_exporter": "python",
   "pygments_lexer": "ipython3",
   "version": "3.8.5"
  }
 },
 "nbformat": 4,
 "nbformat_minor": 4
}
