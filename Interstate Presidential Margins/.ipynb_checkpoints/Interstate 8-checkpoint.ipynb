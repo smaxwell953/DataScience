{
 "cells": [
  {
   "cell_type": "markdown",
   "metadata": {},
   "source": [
    "<h2>Calculating 2020 Presidential Margins Along Interstate 8</h2>"
   ]
  },
  {
   "cell_type": "code",
   "execution_count": 1,
   "metadata": {},
   "outputs": [],
   "source": [
    "#Import relevant libraries\n",
    "import numpy as np\n",
    "import pandas as pd\n",
    "import warnings\n",
    "warnings.filterwarnings(\"ignore\")"
   ]
  },
  {
   "cell_type": "code",
   "execution_count": 2,
   "metadata": {},
   "outputs": [],
   "source": [
    "az_vote = pd.read_csv('../ElectionData/Arizona.csv', low_memory=False)\n",
    "az_votes = pd.DataFrame(az_vote[az_vote.Year == 2020])\n",
    "az_votes = az_votes.fillna(0)\n",
    "az_votes['Year'] = pd.to_numeric(az_votes['Year'])\n",
    "az_votes.loc[:,'Total Votes'] = (az_votes.sum(axis=1)) - az_votes['Year']\n",
    "az_pres = az_votes[az_votes['Office'] == 'President']\n",
    "az_pres = az_pres.drop('Office', axis = 1)\n",
    "az_pres['Year'] = pd.to_numeric(az_pres['Year'])\n",
    "az_pres['PCT_DEM'] = (round(az_pres['D#']/az_pres['Total Votes'],4))*100\n",
    "az_pres['PCT_REP'] = (round(az_pres['R#']/az_pres['Total Votes'],4))*100\n",
    "az_pres['RD_DIFF'] = az_pres['PCT_REP'] - az_pres['PCT_DEM']\n",
    "az_pres_pct = az_pres[['State', 'Year', 'County', 'RD_DIFF']]\n",
    "az_counties = ['Pinal', 'Maricopa', 'Yuma']"
   ]
  },
  {
   "cell_type": "code",
   "execution_count": 3,
   "metadata": {},
   "outputs": [],
   "source": [
    "ca_vote = pd.read_csv('../ElectionData/California.csv', low_memory=False)\n",
    "ca_votes = pd.DataFrame(ca_vote[ca_vote.Year == '2020'])\n",
    "ca_votes = ca_votes.fillna(0)\n",
    "ca_votes['Year'] = pd.to_numeric(ca_votes['Year'])\n",
    "ca_votes.loc[:,'Total Votes'] = (ca_votes.sum(axis=1)) - ca_votes['Year']\n",
    "ca_pres = ca_votes[ca_votes['Office'] == 'President']\n",
    "ca_pres = ca_pres.drop('Office', axis = 1)\n",
    "ca_pres['Year'] = pd.to_numeric(ca_pres['Year'])\n",
    "ca_pres['PCT_DEM'] = (round(ca_pres['D1#']/ca_pres['Total Votes'],4))*100\n",
    "ca_pres['PCT_REP'] = (round(ca_pres['R#']/ca_pres['Total Votes'],4))*100\n",
    "ca_pres['RD_DIFF'] = ca_pres['PCT_REP'] - ca_pres['PCT_DEM']\n",
    "ca_pres_pct = ca_pres[['State', 'Year', 'County', 'RD_DIFF']]\n",
    "ca_counties = ['Imperial', 'San Diego']"
   ]
  },
  {
   "cell_type": "markdown",
   "metadata": {},
   "source": [
    "Now find the margins from each county."
   ]
  },
  {
   "cell_type": "code",
   "execution_count": 4,
   "metadata": {},
   "outputs": [
    {
     "name": "stdout",
     "output_type": "stream",
     "text": [
      "        State  Year County  RD_DIFF\n",
      "1848  Arizona  2020  Pinal    17.24\n",
      "        State  Year    County  RD_DIFF\n",
      "1844  Arizona  2020  Maricopa    -2.17\n",
      "        State  Year County  RD_DIFF\n",
      "1851  Arizona  2020   Yuma     6.17\n"
     ]
    }
   ],
   "source": [
    "for c in az_counties:\n",
    "    print(az_pres_pct[az_pres_pct['County'] == c])"
   ]
  },
  {
   "cell_type": "code",
   "execution_count": 5,
   "metadata": {},
   "outputs": [
    {
     "name": "stdout",
     "output_type": "stream",
     "text": [
      "            State  Year    County  RD_DIFF\n",
      "11426  California  2020  Imperial   -24.37\n",
      "            State  Year     County  RD_DIFF\n",
      "11450  California  2020  San Diego   -22.75\n"
     ]
    }
   ],
   "source": [
    "for c in ca_counties:\n",
    "    print(ca_pres_pct[ca_pres_pct['County'] == c])"
   ]
  }
 ],
 "metadata": {
  "kernelspec": {
   "display_name": "Python 3",
   "language": "python",
   "name": "python3"
  },
  "language_info": {
   "codemirror_mode": {
    "name": "ipython",
    "version": 3
   },
   "file_extension": ".py",
   "mimetype": "text/x-python",
   "name": "python",
   "nbconvert_exporter": "python",
   "pygments_lexer": "ipython3",
   "version": "3.8.5"
  }
 },
 "nbformat": 4,
 "nbformat_minor": 4
}
