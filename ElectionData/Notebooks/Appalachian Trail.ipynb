{
 "cells": [
  {
   "cell_type": "markdown",
   "metadata": {},
   "source": [
    "<h2>Calculating 2020 Presidential Margins Along the Appalachian Trail</h2>"
   ]
  },
  {
   "cell_type": "code",
   "execution_count": 1,
   "metadata": {},
   "outputs": [],
   "source": [
    "#Import relevant libraries\n",
    "import numpy as np\n",
    "import pandas as pd\n",
    "import warnings\n",
    "warnings.filterwarnings(\"ignore\")"
   ]
  },
  {
   "cell_type": "code",
   "execution_count": 2,
   "metadata": {},
   "outputs": [],
   "source": [
    "#Repeat for Georgia\n",
    "ga_votes = pd.read_csv('../ElectionData/Georgia.csv', low_memory=False)\n",
    "ga_votes = ga_votes.fillna(0)\n",
    "ga_votes['Year'] = pd.to_numeric(ga_votes['Year'])\n",
    "ga_votes.loc[:,'Total Votes'] = (ga_votes.sum(axis=1)) - ga_votes['Year']\n",
    "ga_pres = ga_votes[ga_votes['Office'] == 'President']\n",
    "ga_pres = ga_pres.drop('Office', axis = 1)\n",
    "ga_pres['Year'] = pd.to_numeric(ga_pres['Year'])\n",
    "ga_pres['PCT_DEM'] = (round(ga_pres['D#']/ga_pres['Total Votes'],4))*100\n",
    "ga_pres['PCT_REP'] = (round(ga_pres['R#']/ga_pres['Total Votes'],4))*100\n",
    "ga_pres['RD_DIFF'] = ga_pres['PCT_REP'] - ga_pres['PCT_DEM']\n",
    "ga_pres_pct = ga_pres[['State', 'Year', 'County', 'RD_DIFF']]\n",
    "ga_pres_pct_2020 = ga_pres_pct[ga_pres_pct['Year'] == 2020]\n",
    "ga_counties = ['Fannin', 'Union', 'Lumpkin', 'White', 'Towns', 'Habersham', 'Rabun']"
   ]
  },
  {
   "cell_type": "code",
   "execution_count": 3,
   "metadata": {},
   "outputs": [],
   "source": [
    "#Repeat for North Carolina\n",
    "nc_votes = pd.read_csv('../ElectionData/North Carolina.csv', low_memory=False)\n",
    "nc_votes = nc_votes.fillna(0)\n",
    "nc_votes['Year'] = pd.to_numeric(nc_votes['Year'])\n",
    "nc_votes.loc[:,'Total Votes'] = (nc_votes.sum(axis=1)) - nc_votes['Year']\n",
    "nc_pres = nc_votes[nc_votes['Office'] == 'President']\n",
    "nc_pres = nc_pres.drop('Office', axis = 1)\n",
    "nc_pres['Year'] = pd.to_numeric(nc_pres['Year'])\n",
    "nc_pres['PCT_DEM'] = (round(nc_pres['D#']/nc_pres['Total Votes'],4))*100\n",
    "nc_pres['PCT_REP'] = (round(nc_pres['R#']/nc_pres['Total Votes'],4))*100\n",
    "nc_pres['RD_DIFF'] = nc_pres['PCT_REP'] - nc_pres['PCT_DEM']\n",
    "nc_pres_pct = nc_pres[['State', 'Year', 'County', 'RD_DIFF']]\n",
    "nc_pres_pct_2020 = nc_pres_pct[nc_pres_pct['Year'] == 2020]\n",
    "nc_counties = ['Clay', 'Macon', 'Graham', 'Swain', 'Haywood', 'Madison', 'Yancey', 'Mitchell', 'Avery']"
   ]
  },
  {
   "cell_type": "code",
   "execution_count": 4,
   "metadata": {},
   "outputs": [],
   "source": [
    "#Repeat for Tennessee\n",
    "tn_votes = pd.read_csv('../ElectionData/Tennessee.csv', low_memory=False)\n",
    "tn_votes = tn_votes.fillna(0)\n",
    "tn_votes['Year'] = pd.to_numeric(tn_votes['Year'])\n",
    "tn_votes.loc[:,'Total Votes'] = (tn_votes.sum(axis=1)) - tn_votes['Year']\n",
    "tn_pres = tn_votes[tn_votes['Office'] == 'President']\n",
    "tn_pres = tn_pres.drop('Office', axis = 1)\n",
    "tn_pres['Year'] = pd.to_numeric(tn_pres['Year'])\n",
    "tn_pres['PCT_DEM'] = (round(tn_pres['D#']/tn_pres['Total Votes'],4))*100\n",
    "tn_pres['PCT_REP'] = (round(tn_pres['R#']/tn_pres['Total Votes'],4))*100\n",
    "tn_pres['RD_DIFF'] = tn_pres['PCT_REP'] - tn_pres['PCT_DEM']\n",
    "tn_pres_pct = tn_pres[['State', 'Year', 'County', 'RD_DIFF']]\n",
    "tn_pres_pct_2020 = tn_pres_pct[tn_pres_pct['Year'] == 2020]\n",
    "tn_counties = ['Blount', 'Sevier', 'Cocke', 'Greene', 'Unicoi', 'Carter', 'Johnson', 'Sullivan']"
   ]
  },
  {
   "cell_type": "code",
   "execution_count": 5,
   "metadata": {},
   "outputs": [],
   "source": [
    "#Repeat for Virginia\n",
    "va_votes = pd.read_csv('../ElectionData/Virginia.csv', low_memory=False)\n",
    "va_votes = va_votes.fillna(0)\n",
    "va_votes['Year'] = pd.to_numeric(va_votes['Year'])\n",
    "va_votes.loc[:,'Total Votes'] = (va_votes.sum(axis=1)) - va_votes['Year']\n",
    "va_pres = va_votes[va_votes['Office'] == 'President']\n",
    "va_pres = va_pres.drop('Office', axis = 1)\n",
    "va_pres['Year'] = pd.to_numeric(va_pres['Year'])\n",
    "va_pres['PCT_DEM'] = (round(va_pres['D#']/va_pres['Total Votes'],4))*100\n",
    "va_pres['PCT_REP'] = (round(va_pres['R#']/va_pres['Total Votes'],4))*100\n",
    "va_pres['RD_DIFF'] = va_pres['PCT_REP'] - va_pres['PCT_DEM']\n",
    "va_pres_pct = va_pres[['State', 'Year', 'County/City', 'RD_DIFF']]\n",
    "va_pres_pct_2020 = va_pres_pct[va_pres_pct['Year'] == 2020]\n",
    "va_counties = ['Washington', 'Smyth', 'Grayson', 'Wythe', 'Bland', 'Tazewell', 'Giles', 'Craig', 'Montgomery', 'Roanoke',\\\n",
    "               'Botetourt', 'Bedford', 'Rockbridge', 'Amherst', 'Nelson', 'Augusta', 'Albemarle', 'Rockingham', 'Greene',\\\n",
    "               'Page', 'Rappahannock', 'Warren', 'Fauquier', 'Clarke', 'Loudoun']"
   ]
  },
  {
   "cell_type": "code",
   "execution_count": 6,
   "metadata": {},
   "outputs": [],
   "source": [
    "#Repeat for West Virginia\n",
    "wv_votes = pd.read_csv('../ElectionData/West Virginia.csv', low_memory=False)\n",
    "wv_votes = wv_votes.fillna(0)\n",
    "wv_votes['Year'] = pd.to_numeric(wv_votes['Year'])\n",
    "wv_votes.loc[:,'Total Votes'] = (wv_votes.sum(axis=1)) - wv_votes['Year']\n",
    "wv_pres = wv_votes[wv_votes['Office'] == 'President']\n",
    "wv_pres = wv_pres.drop('Office', axis = 1)\n",
    "wv_pres['Year'] = pd.to_numeric(wv_pres['Year'])\n",
    "wv_pres['PCT_DEM'] = (round(wv_pres['D#']/wv_pres['Total Votes'],4))*100\n",
    "wv_pres['PCT_REP'] = (round(wv_pres['R#']/wv_pres['Total Votes'],4))*100\n",
    "wv_pres['RD_DIFF'] = wv_pres['PCT_REP'] - wv_pres['PCT_DEM']\n",
    "wv_pres_pct = wv_pres[['State', 'Year', 'County', 'RD_DIFF']]\n",
    "wv_pres_pct_2020 = wv_pres_pct[wv_pres_pct['Year'] == 2020]\n",
    "wv_counties = ['Monroe', 'Jefferson']"
   ]
  },
  {
   "cell_type": "code",
   "execution_count": 7,
   "metadata": {},
   "outputs": [],
   "source": [
    "#Repeat for Maryland\n",
    "md_votes = pd.read_csv('../ElectionData/Maryland.csv', low_memory=False)\n",
    "md_votes = md_votes.fillna(0)\n",
    "md_votes['Year'] = pd.to_numeric(md_votes['Year'])\n",
    "md_votes.loc[:,'Total Votes'] = (md_votes.sum(axis=1)) - md_votes['Year']\n",
    "md_pres = md_votes[md_votes['Office'] == 'President']\n",
    "md_pres = md_pres.drop('Office', axis = 1)\n",
    "md_pres['Year'] = pd.to_numeric(md_pres['Year'])\n",
    "md_pres['PCT_DEM'] = (round(md_pres['D#']/md_pres['Total Votes'],4))*100\n",
    "md_pres['PCT_REP'] = (round(md_pres['R#']/md_pres['Total Votes'],4))*100\n",
    "md_pres['RD_DIFF'] = md_pres['PCT_REP'] - md_pres['PCT_DEM']\n",
    "md_pres_pct = md_pres[['State', 'Year', 'County', 'RD_DIFF']]\n",
    "md_pres_pct_2020 = md_pres_pct[md_pres_pct['Year'] == 2020]\n",
    "md_counties = ['Washington', 'Frederick']"
   ]
  },
  {
   "cell_type": "code",
   "execution_count": 8,
   "metadata": {},
   "outputs": [],
   "source": [
    "#Repeat for Pennsylvania\n",
    "pa_votes = pd.read_csv('../ElectionData/Pennsylvania.csv', low_memory=False)\n",
    "pa_votes = pa_votes.fillna(0)\n",
    "pa_votes['Year'] = pd.to_numeric(pa_votes['Year'])\n",
    "pa_votes.loc[:,'Total Votes'] = (pa_votes.sum(axis=1)) - pa_votes['Year']\n",
    "pa_pres = pa_votes[pa_votes['Office'] == 'President']\n",
    "pa_pres = pa_pres.drop('Office', axis = 1)\n",
    "pa_pres['Year'] = pd.to_numeric(pa_pres['Year'])\n",
    "pa_pres['PCT_DEM'] = (round(pa_pres['D#']/pa_pres['Total Votes'],4))*100\n",
    "pa_pres['PCT_REP'] = (round(pa_pres['R#']/pa_pres['Total Votes'],4))*100\n",
    "pa_pres['RD_DIFF'] = pa_pres['PCT_REP'] - pa_pres['PCT_DEM']\n",
    "pa_pres_pct = pa_pres[['State', 'Year', 'County', 'RD_DIFF']]\n",
    "pa_pres_pct_2020 = pa_pres_pct[pa_pres_pct['Year'] == 2020]\n",
    "pa_counties = ['Franklin', 'Cumberland', 'Perry', 'Dauphin', 'Lebanon', 'Schuylkill', 'Berks', 'Lehigh', 'Carbon',\\\n",
    "               'Northampton', 'Monroe']"
   ]
  },
  {
   "cell_type": "code",
   "execution_count": 9,
   "metadata": {},
   "outputs": [],
   "source": [
    "#Repeat for New Jersey\n",
    "nj_votes = pd.read_csv('../ElectionData/New Jersey.csv', low_memory=False)\n",
    "nj_votes = nj_votes.fillna(0)\n",
    "nj_votes['Year'] = pd.to_numeric(nj_votes['Year'])\n",
    "nj_votes.loc[:,'Total Votes'] = (nj_votes.sum(axis=1)) - nj_votes['Year']\n",
    "nj_pres = nj_votes[nj_votes['Office'] == 'President']\n",
    "nj_pres = nj_pres.drop('Office', axis = 1)\n",
    "nj_pres['Year'] = pd.to_numeric(nj_pres['Year'])\n",
    "nj_pres['PCT_DEM'] = (round(nj_pres['D#']/nj_pres['Total Votes'],4))*100\n",
    "nj_pres['PCT_REP'] = (round(nj_pres['R#']/nj_pres['Total Votes'],4))*100\n",
    "nj_pres['RD_DIFF'] = nj_pres['PCT_REP'] - nj_pres['PCT_DEM']\n",
    "nj_pres_pct = nj_pres[['State', 'Year', 'County', 'RD_DIFF']]\n",
    "nj_pres_pct_2020 = nj_pres_pct[nj_pres_pct['Year'] == 2020]\n",
    "nj_counties = ['Warren', 'Sussex', 'Passaic']"
   ]
  },
  {
   "cell_type": "code",
   "execution_count": 10,
   "metadata": {},
   "outputs": [],
   "source": [
    "#Repeat for New York\n",
    "ny_votes = pd.read_csv('../ElectionData/New York.csv', low_memory=False)\n",
    "ny_votes = ny_votes.fillna(0)\n",
    "ny_votes['Year'] = pd.to_numeric(ny_votes['Year'])\n",
    "ny_votes.loc[:,'Total Votes'] = (ny_votes.sum(axis=1)) - ny_votes['Year']\n",
    "ny_pres = ny_votes[ny_votes['Office'] == 'President']\n",
    "ny_pres = ny_pres.drop('Office', axis = 1)\n",
    "ny_pres['Year'] = pd.to_numeric(ny_pres['Year'])\n",
    "ny_pres['PCT_DEM'] = (round(ny_pres['D#']/ny_pres['Total Votes'],4))*100\n",
    "ny_pres['PCT_REP'] = (round(ny_pres['R#']/ny_pres['Total Votes'],4))*100\n",
    "ny_pres['RD_DIFF'] = ny_pres['PCT_REP'] - ny_pres['PCT_DEM']\n",
    "ny_pres_pct = ny_pres[['State', 'Year', 'County', 'RD_DIFF']]\n",
    "ny_pres_pct_2020 = ny_pres_pct[ny_pres_pct['Year'] == 2020]\n",
    "ny_counties = ['Orange', 'Rockland', 'Westchester', 'Putnam', 'Dutchess']"
   ]
  },
  {
   "cell_type": "code",
   "execution_count": 11,
   "metadata": {},
   "outputs": [],
   "source": [
    "#Repeat for Connecticut\n",
    "ct_vote = pd.read_csv('../ElectionData/Connecticut.csv', low_memory=False)\n",
    "ct_votes = ct_vote[ct_vote['Year'] == '2020']\n",
    "ct_votes = ct_votes.fillna(0)\n",
    "ct_votes['Year'] = pd.to_numeric(ct_votes['Year'])\n",
    "ct_votes.loc[:,'Total Votes'] = (ct_votes.sum(axis=1)) - ct_votes['Year']\n",
    "ct_pres = ct_votes[ct_votes['Office'] == 'President']\n",
    "ct_pres = ct_pres.drop('Office', axis = 1)\n",
    "ct_pres['Year'] = pd.to_numeric(ct_pres['Year'])\n",
    "ct_pres['PCT_DEM'] = (round(ct_pres['D#']/ct_pres['Total Votes'],4))*100\n",
    "ct_pres['PCT_REP'] = (round(ct_pres['R#']/ct_pres['Total Votes'],4))*100\n",
    "ct_pres['RD_DIFF'] = ct_pres['PCT_REP'] - ct_pres['PCT_DEM']\n",
    "ct_pres_pct = ct_pres[['State', 'Year', 'Town', 'RD_DIFF']]\n",
    "ct_counties = ['Litchfield County']"
   ]
  },
  {
   "cell_type": "code",
   "execution_count": 12,
   "metadata": {},
   "outputs": [],
   "source": [
    "#Repeat for Massachusetts\n",
    "ma_votes = pd.read_csv('../ElectionData/Massachusetts.csv', low_memory=False)\n",
    "ma_votes = ma_votes.fillna(0)\n",
    "ma_votes['Year'] = pd.to_numeric(ma_votes['Year'])\n",
    "ma_votes.loc[:,'Total Votes'] = (ma_votes.sum(axis=1)) - ma_votes['Year']\n",
    "ma_pres = ma_votes[ma_votes['Office'] == 'President']\n",
    "ma_pres = ma_pres.drop('Office', axis = 1)\n",
    "ma_pres['Year'] = pd.to_numeric(ma_pres['Year'])\n",
    "ma_pres['PCT_DEM'] = (round(ma_pres['D#']/ma_pres['Total Votes'],4))*100\n",
    "ma_pres['PCT_REP'] = (round(ma_pres['R#']/ma_pres['Total Votes'],4))*100\n",
    "ma_pres['RD_DIFF'] = ma_pres['PCT_REP'] - ma_pres['PCT_DEM']\n",
    "ma_pres_pct = ma_pres[['State', 'Year', 'County', 'RD_DIFF']]\n",
    "ma_pres_pct_2020 = ma_pres_pct[ma_pres_pct['Year'] == 2020]\n",
    "ma_counties = ['Berkshire']"
   ]
  },
  {
   "cell_type": "code",
   "execution_count": 13,
   "metadata": {},
   "outputs": [],
   "source": [
    "#Repeat for Vermont\n",
    "vt_votes = pd.read_csv('../ElectionData/Vermont.csv', low_memory=False)\n",
    "vt_votes = vt_votes.fillna(0)\n",
    "vt_votes['Year'] = pd.to_numeric(vt_votes['Year'])\n",
    "vt_votes.loc[:,'Total Votes'] = (vt_votes.sum(axis=1)) - vt_votes['Year']\n",
    "vt_pres = vt_votes[vt_votes['Office'] == 'President']\n",
    "vt_pres = vt_pres.drop('Office', axis = 1)\n",
    "vt_pres['Year'] = pd.to_numeric(vt_pres['Year'])\n",
    "vt_pres['PCT_DEM'] = (round(vt_pres['D#']/vt_pres['Total Votes'],4))*100\n",
    "vt_pres['PCT_REP'] = (round(vt_pres['R#']/vt_pres['Total Votes'],4))*100\n",
    "vt_pres['RD_DIFF'] = vt_pres['PCT_REP'] - vt_pres['PCT_DEM']\n",
    "vt_pres_pct = vt_pres[['State', 'Year', 'County', 'RD_DIFF']]\n",
    "vt_pres_pct_2020 = vt_pres_pct[vt_pres_pct['Year'] == 2020]\n",
    "vt_counties = ['Bennington', 'Windham', 'Rutland', 'Windsor']"
   ]
  },
  {
   "cell_type": "code",
   "execution_count": 14,
   "metadata": {},
   "outputs": [],
   "source": [
    "#Repeat for New Hampshire\n",
    "nh_votes = pd.read_csv('../ElectionData/New Hampshire.csv', low_memory=False)\n",
    "nh_votes = nh_votes.fillna(0)\n",
    "nh_votes['Year'] = pd.to_numeric(nh_votes['Year'])\n",
    "nh_votes.loc[:,'Total Votes'] = (nh_votes.sum(axis=1)) - nh_votes['Year']\n",
    "nh_pres = nh_votes[nh_votes['Office'] == 'President']\n",
    "nh_pres = nh_pres.drop('Office', axis = 1)\n",
    "nh_pres['Year'] = pd.to_numeric(nh_pres['Year'])\n",
    "nh_pres['PCT_DEM'] = (round(nh_pres['D#']/nh_pres['Total Votes'],4))*100\n",
    "nh_pres['PCT_REP'] = (round(nh_pres['R#']/nh_pres['Total Votes'],4))*100\n",
    "nh_pres['RD_DIFF'] = nh_pres['PCT_REP'] - nh_pres['PCT_DEM']\n",
    "nh_pres_pct = nh_pres[['State', 'Year', 'County', 'RD_DIFF']]\n",
    "nh_pres_pct_2020 = nh_pres_pct[nh_pres_pct['Year'] == 2020]\n",
    "nh_counties = ['Grafton', 'Carroll', 'Coos']"
   ]
  },
  {
   "cell_type": "code",
   "execution_count": 15,
   "metadata": {},
   "outputs": [],
   "source": [
    "#Repeat for Maine\n",
    "me_votes = pd.read_csv('../ElectionData/Maine.csv', low_memory=False)\n",
    "me_votes = me_votes.fillna(0)\n",
    "me_votes['Year'] = pd.to_numeric(me_votes['Year'])\n",
    "me_votes.loc[:,'Total Votes'] = (me_votes.sum(axis=1)) - me_votes['Year']\n",
    "me_pres = me_votes[me_votes['Office'] == 'President']\n",
    "me_pres = me_pres.drop('Office', axis = 1)\n",
    "me_pres['Year'] = pd.to_numeric(me_pres['Year'])\n",
    "me_pres['PCT_DEM'] = (round(me_pres['D#']/me_pres['Total Votes'],4))*100\n",
    "me_pres['PCT_REP'] = (round(me_pres['R#']/me_pres['Total Votes'],4))*100\n",
    "me_pres['RD_DIFF'] = me_pres['PCT_REP'] - me_pres['PCT_DEM']\n",
    "me_pres_pct = me_pres[['State', 'Year', 'County', 'RD_DIFF']]\n",
    "me_pres_pct_2020 = me_pres_pct[me_pres_pct['Year'] == 2020]\n",
    "me_counties = ['Oxford', 'Franklin', 'Somerset', 'Piscataquis']"
   ]
  },
  {
   "cell_type": "code",
   "execution_count": 16,
   "metadata": {},
   "outputs": [
    {
     "name": "stdout",
     "output_type": "stream",
     "text": [
      "         State  Year  County  RD_DIFF\n",
      "16409  Georgia  2020  Fannin    64.64\n",
      "         State  Year County  RD_DIFF\n",
      "16498  Georgia  2020  Union     63.3\n",
      "         State  Year   County  RD_DIFF\n",
      "16447  Georgia  2020  Lumpkin    58.13\n",
      "         State  Year County  RD_DIFF\n",
      "16508  Georgia  2020  White    66.15\n",
      "         State  Year County  RD_DIFF\n",
      "16493  Georgia  2020  Towns    60.58\n",
      "         State  Year     County  RD_DIFF\n",
      "16422  Georgia  2020  Habersham    63.97\n",
      "         State  Year County  RD_DIFF\n",
      "16473  Georgia  2020  Rabun    57.35\n"
     ]
    }
   ],
   "source": [
    "for c in ga_counties:\n",
    "    print(ga_pres_pct_2020[ga_pres_pct_2020['County'] == c])"
   ]
  },
  {
   "cell_type": "code",
   "execution_count": 17,
   "metadata": {},
   "outputs": [
    {
     "name": "stdout",
     "output_type": "stream",
     "text": [
      "                State    Year County  RD_DIFF\n",
      "11717  North Carolina  2020.0   Clay    49.51\n",
      "                State    Year County  RD_DIFF\n",
      "11752  North Carolina  2020.0  Macon    38.48\n",
      "                State    Year  County  RD_DIFF\n",
      "11733  North Carolina  2020.0  Graham    60.13\n",
      "                State    Year County  RD_DIFF\n",
      "11782  North Carolina  2020.0  Swain    19.54\n",
      "                State    Year   County  RD_DIFF\n",
      "11739  North Carolina  2020.0  Haywood    26.52\n",
      "                State    Year   County  RD_DIFF\n",
      "11753  North Carolina  2020.0  Madison    23.54\n",
      "                State    Year  County  RD_DIFF\n",
      "11795  North Carolina  2020.0  Yancey    33.72\n",
      "                State    Year    County  RD_DIFF\n",
      "11756  North Carolina  2020.0  Mitchell    57.77\n",
      "                State    Year County  RD_DIFF\n",
      "11701  North Carolina  2020.0  Avery    52.66\n"
     ]
    }
   ],
   "source": [
    "for c in nc_counties:\n",
    "    print(nc_pres_pct_2020[nc_pres_pct_2020['County'] == c])"
   ]
  },
  {
   "cell_type": "code",
   "execution_count": 18,
   "metadata": {},
   "outputs": [
    {
     "name": "stdout",
     "output_type": "stream",
     "text": [
      "          State    Year  County  RD_DIFF\n",
      "7097  Tennessee  2020.0  Blount     44.2\n",
      "          State    Year  County  RD_DIFF\n",
      "7170  Tennessee  2020.0  Sevier    57.57\n",
      "          State    Year County  RD_DIFF\n",
      "7107  Tennessee  2020.0  Cocke     64.8\n",
      "          State    Year  County  RD_DIFF\n",
      "7122  Tennessee  2020.0  Greene    60.74\n",
      "          State    Year  County  RD_DIFF\n",
      "7178  Tennessee  2020.0  Unicoi     60.0\n",
      "          State    Year  County  RD_DIFF\n",
      "7102  Tennessee  2020.0  Carter    61.47\n",
      "          State    Year   County  RD_DIFF\n",
      "7138  Tennessee  2020.0  Johnson    66.94\n",
      "          State    Year    County  RD_DIFF\n",
      "7174  Tennessee  2020.0  Sullivan    51.89\n"
     ]
    }
   ],
   "source": [
    "for c in tn_counties:\n",
    "    print(tn_pres_pct_2020[tn_pres_pct_2020['County'] == c])"
   ]
  },
  {
   "cell_type": "code",
   "execution_count": 19,
   "metadata": {},
   "outputs": [
    {
     "name": "stdout",
     "output_type": "stream",
     "text": [
      "          State    Year County/City  RD_DIFF\n",
      "13984  Virginia  2020.0  Washington    52.51\n",
      "          State    Year County/City  RD_DIFF\n",
      "13976  Virginia  2020.0       Smyth    56.27\n",
      "          State    Year County/City  RD_DIFF\n",
      "13931  Virginia  2020.0     Grayson    61.42\n",
      "          State    Year County/City  RD_DIFF\n",
      "13987  Virginia  2020.0       Wythe     57.0\n",
      "          State    Year County/City  RD_DIFF\n",
      "13904  Virginia  2020.0       Bland    68.15\n",
      "          State    Year County/City  RD_DIFF\n",
      "13982  Virginia  2020.0    Tazewell    67.18\n",
      "          State    Year County/City  RD_DIFF\n",
      "13928  Virginia  2020.0       Giles    51.43\n",
      "          State    Year County/City  RD_DIFF\n",
      "13916  Virginia  2020.0       Craig    61.51\n",
      "          State    Year County/City  RD_DIFF\n",
      "13953  Virginia  2020.0  Montgomery    -5.75\n",
      "          State    Year County/City  RD_DIFF\n",
      "13970  Virginia  2020.0     Roanoke    21.81\n",
      "          State    Year County/City  RD_DIFF\n",
      "13905  Virginia  2020.0   Botetourt     44.5\n",
      "          State    Year County/City  RD_DIFF\n",
      "13903  Virginia  2020.0     Bedford    48.13\n",
      "          State    Year County/City  RD_DIFF\n",
      "13971  Virginia  2020.0  Rockbridge    32.35\n",
      "          State    Year County/City  RD_DIFF\n",
      "13898  Virginia  2020.0     Amherst    31.58\n",
      "          State    Year County/City  RD_DIFF\n",
      "13954  Virginia  2020.0      Nelson      5.2\n",
      "          State    Year County/City  RD_DIFF\n",
      "13901  Virginia  2020.0     Augusta    47.01\n",
      "          State    Year County/City  RD_DIFF\n",
      "13895  Virginia  2020.0   Albemarle    -33.5\n",
      "          State    Year County/City  RD_DIFF\n",
      "13972  Virginia  2020.0  Rockingham    40.41\n",
      "          State    Year County/City  RD_DIFF\n",
      "13932  Virginia  2020.0      Greene     23.9\n",
      "          State    Year County/City  RD_DIFF\n",
      "13960  Virginia  2020.0        Page    50.65\n",
      "          State    Year   County/City  RD_DIFF\n",
      "13968  Virginia  2020.0  Rappahannock    14.38\n",
      "          State    Year County/City  RD_DIFF\n",
      "13983  Virginia  2020.0      Warren    35.31\n",
      "          State    Year County/City  RD_DIFF\n",
      "13923  Virginia  2020.0    Fauquier    17.27\n",
      "          State    Year County/City  RD_DIFF\n",
      "13915  Virginia  2020.0      Clarke    13.63\n",
      "          State    Year County/City  RD_DIFF\n",
      "13946  Virginia  2020.0     Loudoun   -25.03\n"
     ]
    }
   ],
   "source": [
    "for c in va_counties:\n",
    "    print(va_pres_pct_2020[va_pres_pct_2020['County/City'] == c])"
   ]
  },
  {
   "cell_type": "code",
   "execution_count": 20,
   "metadata": {},
   "outputs": [
    {
     "name": "stdout",
     "output_type": "stream",
     "text": [
      "              State    Year  County  RD_DIFF\n",
      "5916  West Virginia  2020.0  Monroe    57.37\n",
      "              State    Year     County  RD_DIFF\n",
      "5903  West Virginia  2020.0  Jefferson    10.49\n"
     ]
    }
   ],
   "source": [
    "for c in wv_counties:\n",
    "    print(wv_pres_pct_2020[wv_pres_pct_2020['County'] == c])"
   ]
  },
  {
   "cell_type": "code",
   "execution_count": 21,
   "metadata": {},
   "outputs": [
    {
     "name": "stdout",
     "output_type": "stream",
     "text": [
      "         State  Year      County  RD_DIFF\n",
      "3669  Maryland  2020  Washington    20.93\n",
      "         State  Year     County  RD_DIFF\n",
      "3658  Maryland  2020  Frederick    -9.61\n"
     ]
    }
   ],
   "source": [
    "for c in md_counties:\n",
    "    print(md_pres_pct_2020[md_pres_pct_2020['County'] == c])"
   ]
  },
  {
   "cell_type": "code",
   "execution_count": 22,
   "metadata": {},
   "outputs": [
    {
     "name": "stdout",
     "output_type": "stream",
     "text": [
      "             State    Year    County  RD_DIFF\n",
      "9273  Pennsylvania  2020.0  Franklin    42.98\n",
      "             State    Year      County  RD_DIFF\n",
      "9266  Pennsylvania  2020.0  Cumberland    10.52\n",
      "             State    Year County  RD_DIFF\n",
      "9295  Pennsylvania  2020.0  Perry    49.92\n",
      "             State    Year   County  RD_DIFF\n",
      "9267  Pennsylvania  2020.0  Dauphin     -8.5\n",
      "             State    Year   County  RD_DIFF\n",
      "9283  Pennsylvania  2020.0  Lebanon    31.73\n",
      "             State    Year      County  RD_DIFF\n",
      "9299  Pennsylvania  2020.0  Schuylkill    39.78\n",
      "             State    Year County  RD_DIFF\n",
      "9251  Pennsylvania  2020.0  Berks     8.14\n",
      "             State    Year  County  RD_DIFF\n",
      "9284  Pennsylvania  2020.0  Lehigh    -7.58\n",
      "             State    Year  County  RD_DIFF\n",
      "9258  Pennsylvania  2020.0  Carbon    31.98\n",
      "             State    Year       County  RD_DIFF\n",
      "9293  Pennsylvania  2020.0  Northampton    -0.72\n",
      "             State    Year  County  RD_DIFF\n",
      "9290  Pennsylvania  2020.0  Monroe    -6.35\n"
     ]
    }
   ],
   "source": [
    "for c in pa_counties:\n",
    "    print(pa_pres_pct_2020[pa_pres_pct_2020['County'] == c])"
   ]
  },
  {
   "cell_type": "code",
   "execution_count": 23,
   "metadata": {},
   "outputs": [
    {
     "name": "stdout",
     "output_type": "stream",
     "text": [
      "           State  Year  County  RD_DIFF\n",
      "1742  New Jersey  2020  Warren    16.17\n",
      "           State  Year  County  RD_DIFF\n",
      "1740  New Jersey  2020  Sussex    19.48\n",
      "           State  Year   County  RD_DIFF\n",
      "1737  New Jersey  2020  Passaic   -16.53\n"
     ]
    }
   ],
   "source": [
    "for c in nj_counties:\n",
    "    print(nj_pres_pct_2020[nj_pres_pct_2020['County'] == c])"
   ]
  },
  {
   "cell_type": "code",
   "execution_count": 24,
   "metadata": {},
   "outputs": [
    {
     "name": "stdout",
     "output_type": "stream",
     "text": [
      "         State    Year  County  RD_DIFF\n",
      "5538  New York  2020.0  Orange     0.06\n",
      "         State    Year    County  RD_DIFF\n",
      "5546  New York  2020.0  Rockland    -1.74\n",
      "         State    Year       County  RD_DIFF\n",
      "5562  New York  2020.0  Westchester   -36.27\n",
      "         State    Year  County  RD_DIFF\n",
      "5542  New York  2020.0  Putnam     7.85\n",
      "         State    Year    County  RD_DIFF\n",
      "5516  New York  2020.0  Dutchess    -9.64\n"
     ]
    }
   ],
   "source": [
    "for c in ny_counties:\n",
    "    print(ny_pres_pct_2020[ny_pres_pct_2020['County'] == c])"
   ]
  },
  {
   "cell_type": "code",
   "execution_count": 25,
   "metadata": {},
   "outputs": [
    {
     "name": "stdout",
     "output_type": "stream",
     "text": [
      "            State  Year               Town  RD_DIFF\n",
      "6167  Connecticut  2020  Litchfield County     5.05\n"
     ]
    }
   ],
   "source": [
    "for c in ct_counties:\n",
    "    print(ct_pres_pct[ct_pres_pct['Town'] == c])"
   ]
  },
  {
   "cell_type": "code",
   "execution_count": 26,
   "metadata": {},
   "outputs": [
    {
     "name": "stdout",
     "output_type": "stream",
     "text": [
      "               State  Year     County  RD_DIFF\n",
      "14984  Massachusetts  2020  Berkshire   -47.13\n"
     ]
    }
   ],
   "source": [
    "for c in ma_counties:\n",
    "    print(ma_pres_pct_2020[ma_pres_pct_2020['County'] == c])"
   ]
  },
  {
   "cell_type": "code",
   "execution_count": 27,
   "metadata": {},
   "outputs": [
    {
     "name": "stdout",
     "output_type": "stream",
     "text": [
      "         State    Year      County  RD_DIFF\n",
      "11139  Vermont  2020.0  Bennington   -27.32\n",
      "         State    Year   County  RD_DIFF\n",
      "11150  Vermont  2020.0  Windham   -47.34\n",
      "         State    Year   County  RD_DIFF\n",
      "11148  Vermont  2020.0  Rutland   -10.47\n",
      "         State    Year   County  RD_DIFF\n",
      "11151  Vermont  2020.0  Windsor   -38.91\n"
     ]
    }
   ],
   "source": [
    "for c in vt_counties:\n",
    "    print(vt_pres_pct_2020[vt_pres_pct_2020['County'] == c])"
   ]
  },
  {
   "cell_type": "code",
   "execution_count": 28,
   "metadata": {},
   "outputs": [
    {
     "name": "stdout",
     "output_type": "stream",
     "text": [
      "               State    Year   County  RD_DIFF\n",
      "10331  New Hampshire  2020.0  Grafton   -24.52\n",
      "               State    Year   County  RD_DIFF\n",
      "10328  New Hampshire  2020.0  Carroll     -1.5\n",
      "               State    Year County  RD_DIFF\n",
      "10330  New Hampshire  2020.0   Coos     5.91\n"
     ]
    }
   ],
   "source": [
    "for c in nh_counties:\n",
    "    print(nh_pres_pct_2020[nh_pres_pct_2020['County'] == c])"
   ]
  },
  {
   "cell_type": "code",
   "execution_count": 29,
   "metadata": {},
   "outputs": [
    {
     "name": "stdout",
     "output_type": "stream",
     "text": [
      "       State  Year  County  RD_DIFF\n",
      "18867  Maine  2020  Oxford     8.78\n",
      "       State  Year    County  RD_DIFF\n",
      "18862  Maine  2020  Franklin     3.94\n",
      "       State  Year    County  RD_DIFF\n",
      "18871  Maine  2020  Somerset    23.37\n",
      "       State  Year       County  RD_DIFF\n",
      "18869  Maine  2020  Piscataquis     26.5\n"
     ]
    }
   ],
   "source": [
    "for c in me_counties:\n",
    "    print(me_pres_pct_2020[me_pres_pct_2020['County'] == c])"
   ]
  }
 ],
 "metadata": {
  "kernelspec": {
   "display_name": "Python 3",
   "language": "python",
   "name": "python3"
  },
  "language_info": {
   "codemirror_mode": {
    "name": "ipython",
    "version": 3
   },
   "file_extension": ".py",
   "mimetype": "text/x-python",
   "name": "python",
   "nbconvert_exporter": "python",
   "pygments_lexer": "ipython3",
   "version": "3.8.5"
  }
 },
 "nbformat": 4,
 "nbformat_minor": 4
}
