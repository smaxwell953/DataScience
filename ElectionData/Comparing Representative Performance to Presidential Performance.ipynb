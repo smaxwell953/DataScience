{
 "cells": [
  {
   "cell_type": "markdown",
   "metadata": {},
   "source": [
    "<h3>Questions</h3>\n",
    "<ol>\n",
    "    <li>How did all Democratic candidates perform in the districts compared to Joe Biden?</li>\n",
    "    <li>How did all Republican candidates perform in the districts compared to Donald Trump?</li>\n",
    "    <li>How did Democratic winners perform in the districts compared to Joe Biden?</li>\n",
    "    <li>How did Republican winners perform in the districts compared to Donald Trump?</li>\n",
    "    <li>Which party's House incumbents underperformed more relative to presidential numbers, Democrats or Republicans?</li>\n",
    "</ol>"
   ]
  },
  {
   "cell_type": "code",
   "execution_count": 183,
   "metadata": {},
   "outputs": [],
   "source": [
    "import csv\n",
    "import numpy as np\n",
    "import pandas as pd\n",
    "from pandas import DataFrame\n",
    "\n",
    "import matplotlib.pyplot as plt\n",
    "import seaborn as sns\n",
    "\n",
    "from scipy import stats\n",
    "from sklearn import preprocessing\n",
    "from sklearn.preprocessing import normalize\n",
    "\n",
    "%matplotlib inline"
   ]
  },
  {
   "cell_type": "code",
   "execution_count": 184,
   "metadata": {},
   "outputs": [],
   "source": [
    "diff = pd.read_csv('Pres_vs_House.csv')"
   ]
  },
  {
   "cell_type": "code",
   "execution_count": 185,
   "metadata": {},
   "outputs": [
    {
     "data": {
      "text/html": [
       "<div>\n",
       "<style scoped>\n",
       "    .dataframe tbody tr th:only-of-type {\n",
       "        vertical-align: middle;\n",
       "    }\n",
       "\n",
       "    .dataframe tbody tr th {\n",
       "        vertical-align: top;\n",
       "    }\n",
       "\n",
       "    .dataframe thead th {\n",
       "        text-align: right;\n",
       "    }\n",
       "</style>\n",
       "<table border=\"1\" class=\"dataframe\">\n",
       "  <thead>\n",
       "    <tr style=\"text-align: right;\">\n",
       "      <th></th>\n",
       "      <th>District</th>\n",
       "      <th>Party</th>\n",
       "      <th>2020DPCT_P</th>\n",
       "      <th>2020RPCT_P</th>\n",
       "      <th>2020DPCT_H</th>\n",
       "      <th>2020RPCT_H</th>\n",
       "    </tr>\n",
       "  </thead>\n",
       "  <tbody>\n",
       "    <tr>\n",
       "      <th>0</th>\n",
       "      <td>AL-01</td>\n",
       "      <td>Republican</td>\n",
       "      <td>35.3</td>\n",
       "      <td>63.7</td>\n",
       "      <td>35.5</td>\n",
       "      <td>64.4</td>\n",
       "    </tr>\n",
       "    <tr>\n",
       "      <th>1</th>\n",
       "      <td>AL-02</td>\n",
       "      <td>Republican</td>\n",
       "      <td>35.1</td>\n",
       "      <td>63.9</td>\n",
       "      <td>34.7</td>\n",
       "      <td>65.2</td>\n",
       "    </tr>\n",
       "    <tr>\n",
       "      <th>2</th>\n",
       "      <td>AL-03</td>\n",
       "      <td>Republican</td>\n",
       "      <td>33.7</td>\n",
       "      <td>65.3</td>\n",
       "      <td>32.5</td>\n",
       "      <td>67.5</td>\n",
       "    </tr>\n",
       "    <tr>\n",
       "      <th>3</th>\n",
       "      <td>AL-04</td>\n",
       "      <td>Republican</td>\n",
       "      <td>17.8</td>\n",
       "      <td>81.2</td>\n",
       "      <td>17.7</td>\n",
       "      <td>82.2</td>\n",
       "    </tr>\n",
       "    <tr>\n",
       "      <th>4</th>\n",
       "      <td>AL-05</td>\n",
       "      <td>Republican</td>\n",
       "      <td>35.7</td>\n",
       "      <td>62.7</td>\n",
       "      <td>0.0</td>\n",
       "      <td>95.8</td>\n",
       "    </tr>\n",
       "  </tbody>\n",
       "</table>\n",
       "</div>"
      ],
      "text/plain": [
       "  District       Party  2020DPCT_P  2020RPCT_P  2020DPCT_H  2020RPCT_H\n",
       "0    AL-01  Republican        35.3        63.7        35.5        64.4\n",
       "1    AL-02  Republican        35.1        63.9        34.7        65.2\n",
       "2    AL-03  Republican        33.7        65.3        32.5        67.5\n",
       "3    AL-04  Republican        17.8        81.2        17.7        82.2\n",
       "4    AL-05  Republican        35.7        62.7         0.0        95.8"
      ]
     },
     "execution_count": 185,
     "metadata": {},
     "output_type": "execute_result"
    }
   ],
   "source": [
    "diff.head()"
   ]
  },
  {
   "cell_type": "code",
   "execution_count": 186,
   "metadata": {},
   "outputs": [
    {
     "data": {
      "text/plain": [
       "array(['Republican', 'Democratic', 'Vacant (D)', 'Vacant (R)'],\n",
       "      dtype=object)"
      ]
     },
     "execution_count": 186,
     "metadata": {},
     "output_type": "execute_result"
    }
   ],
   "source": [
    "diff.Party.unique()"
   ]
  },
  {
   "cell_type": "code",
   "execution_count": 187,
   "metadata": {},
   "outputs": [],
   "source": [
    "#Replace vacant seats with respective party labels\n",
    "diff.loc[(diff.Party == 'Vacant (D)'), 'Party'] = 'Democratic'\n",
    "diff.loc[(diff.Party == 'Vacant (R)'), 'Party'] = 'Republican'"
   ]
  },
  {
   "cell_type": "code",
   "execution_count": 188,
   "metadata": {},
   "outputs": [
    {
     "data": {
      "text/html": [
       "<div>\n",
       "<style scoped>\n",
       "    .dataframe tbody tr th:only-of-type {\n",
       "        vertical-align: middle;\n",
       "    }\n",
       "\n",
       "    .dataframe tbody tr th {\n",
       "        vertical-align: top;\n",
       "    }\n",
       "\n",
       "    .dataframe thead th {\n",
       "        text-align: right;\n",
       "    }\n",
       "</style>\n",
       "<table border=\"1\" class=\"dataframe\">\n",
       "  <thead>\n",
       "    <tr style=\"text-align: right;\">\n",
       "      <th></th>\n",
       "      <th>District</th>\n",
       "      <th>Party</th>\n",
       "      <th>2020DPCT_P</th>\n",
       "      <th>2020RPCT_P</th>\n",
       "      <th>2020DPCT_H</th>\n",
       "      <th>2020RPCT_H</th>\n",
       "      <th>DEM_Diff</th>\n",
       "      <th>REP_Diff</th>\n",
       "    </tr>\n",
       "  </thead>\n",
       "  <tbody>\n",
       "    <tr>\n",
       "      <th>0</th>\n",
       "      <td>AL-01</td>\n",
       "      <td>Republican</td>\n",
       "      <td>35.3</td>\n",
       "      <td>63.7</td>\n",
       "      <td>35.5</td>\n",
       "      <td>64.4</td>\n",
       "      <td>0.2</td>\n",
       "      <td>0.7</td>\n",
       "    </tr>\n",
       "    <tr>\n",
       "      <th>1</th>\n",
       "      <td>AL-02</td>\n",
       "      <td>Republican</td>\n",
       "      <td>35.1</td>\n",
       "      <td>63.9</td>\n",
       "      <td>34.7</td>\n",
       "      <td>65.2</td>\n",
       "      <td>-0.4</td>\n",
       "      <td>1.3</td>\n",
       "    </tr>\n",
       "    <tr>\n",
       "      <th>2</th>\n",
       "      <td>AL-03</td>\n",
       "      <td>Republican</td>\n",
       "      <td>33.7</td>\n",
       "      <td>65.3</td>\n",
       "      <td>32.5</td>\n",
       "      <td>67.5</td>\n",
       "      <td>-1.2</td>\n",
       "      <td>2.2</td>\n",
       "    </tr>\n",
       "    <tr>\n",
       "      <th>3</th>\n",
       "      <td>AL-04</td>\n",
       "      <td>Republican</td>\n",
       "      <td>17.8</td>\n",
       "      <td>81.2</td>\n",
       "      <td>17.7</td>\n",
       "      <td>82.2</td>\n",
       "      <td>-0.1</td>\n",
       "      <td>1.0</td>\n",
       "    </tr>\n",
       "    <tr>\n",
       "      <th>4</th>\n",
       "      <td>AL-05</td>\n",
       "      <td>Republican</td>\n",
       "      <td>35.7</td>\n",
       "      <td>62.7</td>\n",
       "      <td>0.0</td>\n",
       "      <td>95.8</td>\n",
       "      <td>-35.7</td>\n",
       "      <td>33.1</td>\n",
       "    </tr>\n",
       "  </tbody>\n",
       "</table>\n",
       "</div>"
      ],
      "text/plain": [
       "  District       Party  2020DPCT_P  2020RPCT_P  2020DPCT_H  2020RPCT_H  \\\n",
       "0    AL-01  Republican        35.3        63.7        35.5        64.4   \n",
       "1    AL-02  Republican        35.1        63.9        34.7        65.2   \n",
       "2    AL-03  Republican        33.7        65.3        32.5        67.5   \n",
       "3    AL-04  Republican        17.8        81.2        17.7        82.2   \n",
       "4    AL-05  Republican        35.7        62.7         0.0        95.8   \n",
       "\n",
       "   DEM_Diff  REP_Diff  \n",
       "0       0.2       0.7  \n",
       "1      -0.4       1.3  \n",
       "2      -1.2       2.2  \n",
       "3      -0.1       1.0  \n",
       "4     -35.7      33.1  "
      ]
     },
     "execution_count": 188,
     "metadata": {},
     "output_type": "execute_result"
    }
   ],
   "source": [
    "#Columns of the differences between House performances and Presidential performances\n",
    "\n",
    "diff['DEM_Diff'] = diff['2020DPCT_H'] - diff['2020DPCT_P']\n",
    "diff['REP_Diff'] = diff['2020RPCT_H'] - diff['2020RPCT_P']\n",
    "diff.head()"
   ]
  },
  {
   "cell_type": "markdown",
   "metadata": {},
   "source": [
    "1. How did all Democratic candidates perform in the districts compared to Joe Biden?"
   ]
  },
  {
   "cell_type": "code",
   "execution_count": 189,
   "metadata": {},
   "outputs": [
    {
     "data": {
      "text/plain": [
       "-1.0862068965517242"
      ]
     },
     "execution_count": 189,
     "metadata": {},
     "output_type": "execute_result"
    }
   ],
   "source": [
    "diff['DEM_Diff'].mean()"
   ]
  },
  {
   "cell_type": "markdown",
   "metadata": {},
   "source": [
    "Democratic candidates performed about 1 point below Joe Biden."
   ]
  },
  {
   "cell_type": "markdown",
   "metadata": {},
   "source": [
    "2. How did all Republican candidates perform in the districts compared to Donald Trump?"
   ]
  },
  {
   "cell_type": "code",
   "execution_count": 190,
   "metadata": {},
   "outputs": [
    {
     "data": {
      "text/plain": [
       "0.3664367816091953"
      ]
     },
     "execution_count": 190,
     "metadata": {},
     "output_type": "execute_result"
    }
   ],
   "source": [
    "diff['REP_Diff'].mean()"
   ]
  },
  {
   "cell_type": "markdown",
   "metadata": {},
   "source": [
    "Republican candidates performed about 0.36 points above Donald Trump."
   ]
  },
  {
   "cell_type": "markdown",
   "metadata": {},
   "source": [
    "3. How did Democratic winners perform in the districts compared to Joe Biden?"
   ]
  },
  {
   "cell_type": "code",
   "execution_count": 191,
   "metadata": {},
   "outputs": [
    {
     "data": {
      "text/plain": [
       "1.0198198198198192"
      ]
     },
     "execution_count": 191,
     "metadata": {},
     "output_type": "execute_result"
    }
   ],
   "source": [
    "dem_win = diff[(diff[\"Party\"] == 'Democratic')]\n",
    "dem_win['DEM_Diff'].mean()"
   ]
  },
  {
   "cell_type": "markdown",
   "metadata": {},
   "source": [
    "Democratic winners performed about 1 point above Joe Biden."
   ]
  },
  {
   "cell_type": "markdown",
   "metadata": {},
   "source": [
    "4. How did Republican winners perform in the districts compared to Donald Trump?"
   ]
  },
  {
   "cell_type": "code",
   "execution_count": 192,
   "metadata": {},
   "outputs": [
    {
     "data": {
      "text/plain": [
       "3.276995305164318"
      ]
     },
     "execution_count": 192,
     "metadata": {},
     "output_type": "execute_result"
    }
   ],
   "source": [
    "rep_win = diff[(diff[\"Party\"] == 'Republican')]\n",
    "rep_win['REP_Diff'].mean()"
   ]
  },
  {
   "cell_type": "markdown",
   "metadata": {},
   "source": [
    "Republican winners performed about 3.3 points above than Donald Trump."
   ]
  },
  {
   "cell_type": "markdown",
   "metadata": {},
   "source": [
    "5. Which party's House incumbents underperformed more relative to presidential numbers, Democrats or Republicans?"
   ]
  },
  {
   "cell_type": "code",
   "execution_count": 193,
   "metadata": {},
   "outputs": [
    {
     "data": {
      "text/html": [
       "<div>\n",
       "<style scoped>\n",
       "    .dataframe tbody tr th:only-of-type {\n",
       "        vertical-align: middle;\n",
       "    }\n",
       "\n",
       "    .dataframe tbody tr th {\n",
       "        vertical-align: top;\n",
       "    }\n",
       "\n",
       "    .dataframe thead th {\n",
       "        text-align: right;\n",
       "    }\n",
       "</style>\n",
       "<table border=\"1\" class=\"dataframe\">\n",
       "  <thead>\n",
       "    <tr style=\"text-align: right;\">\n",
       "      <th></th>\n",
       "      <th>DEM_Diff</th>\n",
       "      <th>REP_Diff</th>\n",
       "    </tr>\n",
       "  </thead>\n",
       "  <tbody>\n",
       "    <tr>\n",
       "      <th>0</th>\n",
       "      <td>0.2</td>\n",
       "      <td>0.7</td>\n",
       "    </tr>\n",
       "    <tr>\n",
       "      <th>1</th>\n",
       "      <td>-0.4</td>\n",
       "      <td>1.3</td>\n",
       "    </tr>\n",
       "    <tr>\n",
       "      <th>2</th>\n",
       "      <td>-1.2</td>\n",
       "      <td>2.2</td>\n",
       "    </tr>\n",
       "    <tr>\n",
       "      <th>3</th>\n",
       "      <td>-0.1</td>\n",
       "      <td>1.0</td>\n",
       "    </tr>\n",
       "    <tr>\n",
       "      <th>4</th>\n",
       "      <td>-35.7</td>\n",
       "      <td>33.1</td>\n",
       "    </tr>\n",
       "  </tbody>\n",
       "</table>\n",
       "</div>"
      ],
      "text/plain": [
       "   DEM_Diff  REP_Diff\n",
       "0       0.2       0.7\n",
       "1      -0.4       1.3\n",
       "2      -1.2       2.2\n",
       "3      -0.1       1.0\n",
       "4     -35.7      33.1"
      ]
     },
     "execution_count": 193,
     "metadata": {},
     "output_type": "execute_result"
    }
   ],
   "source": [
    "party_diff = diff[['DEM_Diff', 'REP_Diff']]\n",
    "party_diff.head()"
   ]
  },
  {
   "cell_type": "code",
   "execution_count": 194,
   "metadata": {},
   "outputs": [
    {
     "data": {
      "text/plain": [
       "<AxesSubplot:ylabel='Frequency'>"
      ]
     },
     "execution_count": 194,
     "metadata": {},
     "output_type": "execute_result"
    },
    {
     "data": {
      "image/png": "[encoded data removed]",
      "text/plain": [
       "<Figure size 432x288 with 1 Axes>"
      ]
     },
     "metadata": {
      "needs_background": "light"
     },
     "output_type": "display_data"
    }
   ],
   "source": [
    "party_diff.plot.hist(bins=20, alpha=0.7)"
   ]
  },
  {
   "cell_type": "code",
   "execution_count": 195,
   "metadata": {},
   "outputs": [
    {
     "data": {
      "text/plain": [
       "<AxesSubplot:>"
      ]
     },
     "execution_count": 195,
     "metadata": {},
     "output_type": "execute_result"
    },
    {
     "data": {
      "image/png": "[encoded data removed]",
      "text/plain": [
       "<Figure size 432x288 with 1 Axes>"
      ]
     },
     "metadata": {
      "needs_background": "light"
     },
     "output_type": "display_data"
    }
   ],
   "source": [
    "sns.boxplot(data = party_diff)"
   ]
  },
  {
   "cell_type": "code",
   "execution_count": 196,
   "metadata": {},
   "outputs": [
    {
     "data": {
      "text/plain": [
       "<AxesSubplot:xlabel='Party', ylabel='DEM_Diff'>"
      ]
     },
     "execution_count": 196,
     "metadata": {},
     "output_type": "execute_result"
    },
    {
     "data": {
      "image/png": "[encoded data removed]",
      "text/plain": [
       "<Figure size 432x288 with 1 Axes>"
      ]
     },
     "metadata": {
      "needs_background": "light"
     },
     "output_type": "display_data"
    }
   ],
   "source": [
    "sns.boxplot(x = 'Party', y = 'DEM_Diff', data = diff)"
   ]
  },
  {
   "cell_type": "code",
   "execution_count": 197,
   "metadata": {},
   "outputs": [
    {
     "data": {
      "text/plain": [
       "<AxesSubplot:xlabel='Party', ylabel='REP_Diff'>"
      ]
     },
     "execution_count": 197,
     "metadata": {},
     "output_type": "execute_result"
    },
    {
     "data": {
      "image/png": "[encoded data removed]",
      "text/plain": [
       "<Figure size 432x288 with 1 Axes>"
      ]
     },
     "metadata": {
      "needs_background": "light"
     },
     "output_type": "display_data"
    }
   ],
   "source": [
    "sns.boxplot(x = 'Party', y = 'REP_Diff', data = diff)"
   ]
  },
  {
   "cell_type": "code",
   "execution_count": 198,
   "metadata": {},
   "outputs": [
    {
     "data": {
      "text/html": [
       "<div>\n",
       "<style scoped>\n",
       "    .dataframe tbody tr th:only-of-type {\n",
       "        vertical-align: middle;\n",
       "    }\n",
       "\n",
       "    .dataframe tbody tr th {\n",
       "        vertical-align: top;\n",
       "    }\n",
       "\n",
       "    .dataframe thead th {\n",
       "        text-align: right;\n",
       "    }\n",
       "</style>\n",
       "<table border=\"1\" class=\"dataframe\">\n",
       "  <thead>\n",
       "    <tr style=\"text-align: right;\">\n",
       "      <th></th>\n",
       "      <th>DEM_Diff</th>\n",
       "      <th>REP_Diff</th>\n",
       "    </tr>\n",
       "  </thead>\n",
       "  <tbody>\n",
       "    <tr>\n",
       "      <th>0</th>\n",
       "      <td>0.001362</td>\n",
       "      <td>0.004176</td>\n",
       "    </tr>\n",
       "    <tr>\n",
       "      <th>1</th>\n",
       "      <td>-0.002725</td>\n",
       "      <td>0.007756</td>\n",
       "    </tr>\n",
       "    <tr>\n",
       "      <th>2</th>\n",
       "      <td>-0.008174</td>\n",
       "      <td>0.013125</td>\n",
       "    </tr>\n",
       "    <tr>\n",
       "      <th>3</th>\n",
       "      <td>-0.000681</td>\n",
       "      <td>0.005966</td>\n",
       "    </tr>\n",
       "    <tr>\n",
       "      <th>4</th>\n",
       "      <td>-0.243188</td>\n",
       "      <td>0.197477</td>\n",
       "    </tr>\n",
       "  </tbody>\n",
       "</table>\n",
       "</div>"
      ],
      "text/plain": [
       "   DEM_Diff  REP_Diff\n",
       "0  0.001362  0.004176\n",
       "1 -0.002725  0.007756\n",
       "2 -0.008174  0.013125\n",
       "3 -0.000681  0.005966\n",
       "4 -0.243188  0.197477"
      ]
     },
     "execution_count": 198,
     "metadata": {},
     "output_type": "execute_result"
    }
   ],
   "source": [
    "#Normalize age and time served for Democrats\n",
    "party_diff = preprocessing.normalize(party_diff[['DEM_Diff', 'REP_Diff']], axis=0)\n",
    "\n",
    "#Convert array to DataFrame\n",
    "party_diff = pd.DataFrame(party_diff)\n",
    "\n",
    "#Rename column heads\n",
    "party_diff.rename(columns={0:'DEM_Diff', 1:'REP_Diff'}, inplace=True)\n",
    "party_diff.head()"
   ]
  },
  {
   "cell_type": "code",
   "execution_count": 199,
   "metadata": {},
   "outputs": [
    {
     "data": {
      "text/plain": [
       "-0.00739923812425539"
      ]
     },
     "execution_count": 199,
     "metadata": {},
     "output_type": "execute_result"
    }
   ],
   "source": [
    "party_diff['DEM_Diff'].mean()"
   ]
  },
  {
   "cell_type": "code",
   "execution_count": 200,
   "metadata": {},
   "outputs": [
    {
     "data": {
      "text/plain": [
       "0.0021861894194610157"
      ]
     },
     "execution_count": 200,
     "metadata": {},
     "output_type": "execute_result"
    }
   ],
   "source": [
    "party_diff['REP_Diff'].mean()"
   ]
  },
  {
   "cell_type": "markdown",
   "metadata": {},
   "source": [
    "Null hypothesis: Democrats performed the same relative to Biden as Republicans performed relative to Trump.<br><br>\n",
    "Alternate hypothesis: Democrats performed significantly different relative to Biden as Republicans did to Trump."
   ]
  },
  {
   "cell_type": "code",
   "execution_count": 175,
   "metadata": {},
   "outputs": [
    {
     "data": {
      "text/plain": [
       "Ttest_indResult(statistic=-2.964256832849132, pvalue=0.003117125939951357)"
      ]
     },
     "metadata": {},
     "output_type": "display_data"
    }
   ],
   "source": [
    "party_diff = stats.ttest_ind(party_diff['DEM_Diff'], party_diff['REP_Diff'])\n",
    "display(party_diff)"
   ]
  },
  {
   "cell_type": "markdown",
   "metadata": {},
   "source": [
    "The p-value from comparing the means between Democratic and Republican performances is low enough that the null hypotheses is rejected. There is a statistically significant difference between the mean of the differences between Democratic House candidates' performances relative to Biden, and the mean of the differences between Republican House candidates' performances relative to Trump."
   ]
  }
 ],
 "metadata": {
  "kernelspec": {
   "display_name": "Python 3",
   "language": "python",
   "name": "python3"
  },
  "language_info": {
   "codemirror_mode": {
    "name": "ipython",
    "version": 3
   },
   "file_extension": ".py",
   "mimetype": "text/x-python",
   "name": "python",
   "nbconvert_exporter": "python",
   "pygments_lexer": "ipython3",
   "version": "3.8.5"
  }
 },
 "nbformat": 4,
 "nbformat_minor": 4
}
