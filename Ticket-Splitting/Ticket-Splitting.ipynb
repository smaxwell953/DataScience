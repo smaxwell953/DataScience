{
 "cells": [
  {
   "cell_type": "markdown",
   "metadata": {},
   "source": [
    "<h1>Ticket-Splitting</h1>"
   ]
  },
  {
   "cell_type": "markdown",
   "metadata": {},
   "source": [
    "After making maps showing ticket-splitting in the elections for President and United States Senate in the years 2016, 2012, 2008, 2004, and 2000, I am writing code to use when making my maps."
   ]
  },
  {
   "cell_type": "code",
   "execution_count": null,
   "metadata": {},
   "outputs": [],
   "source": [
    "#Import relevant libraries\n",
    "\n",
    "import numpy as np\n",
    "import pandas as pd\n",
    "import os\n",
    "from pandas import DataFrame"
   ]
  },
  {
   "cell_type": "code",
   "execution_count": null,
   "metadata": {},
   "outputs": [],
   "source": [
    "#Read in csv files\n",
    "\n",
    "al_split = pd.read_csv('../ElectionData/Alabama.csv')\n",
    "az_split = pd.read_csv('../ElectionData/Arizona.csv')\n",
    "ar_split = pd.read_csv('../ElectionData/Arkansas.csv')\n",
    "ca_split = pd.read_csv('../ElectionData/California.csv')\n",
    "co_split = pd.read_csv('../ElectionData/Colorado.csv')\n",
    "ct_split = pd.read_csv('../ElectionData/Connecticut.csv')\n",
    "de_split = pd.read_csv('../ElectionData/Delaware.csv')\n",
    "fl_split = pd.read_csv('../ElectionData/Florida.csv')\n",
    "ga_split = pd.read_csv('../ElectionData/Georgia.csv')\n",
    "hi_split = pd.read_csv('../ElectionData/Hawaii.csv')\n",
    "id_split = pd.read_csv('../ElectionData/Illinois.csv')\n",
    "in_split = pd.read_csv('../ElectionData/Indiana.csv')\n",
    "ia_split = pd.read_csv('../ElectionData/Iowa.csv')\n",
    "ks_split = pd.read_csv('../ElectionData/Kansas.csv')\n",
    "ky_split = pd.read_csv('../ElectionData/Kentucky.csv')\n",
    "la_split = pd.read_csv('../ElectionData/Louisiana.csv')\n",
    "me_split = pd.read_csv('../ElectionData/Maine.csv')\n",
    "md_split = pd.read_csv('../ElectionData/Maryland.csv')\n",
    "ma_split = pd.read_csv('../ElectionData/Massachusetts.csv')\n",
    "mi_split = pd.read_csv('../ElectionData/Michigan.csv')\n",
    "mn_split = pd.read_csv('../ElectionData/Minnesota.csv')\n",
    "ms_split = pd.read_csv('../ElectionData/Mississippi.csv')\n",
    "mo_split = pd.read_csv('../ElectionData/Missouri.csv')\n",
    "mt_split = pd.read_csv('../ElectionData/Montana.csv')\n",
    "ne_split = pd.read_csv('../ElectionData/Nebraska.csv')\n",
    "nv_split = pd.read_csv('../ElectionData/Nevada.csv')\n",
    "nh_split = pd.read_csv('../ElectionData/New Hampshire.csv')\n",
    "nj_split = pd.read_csv('../ElectionData/New Jersey.csv')\n",
    "nm_split = pd.read_csv('../ElectionData/New Mexico.csv')\n",
    "ny_split = pd.read_csv('../ElectionData/New York.csv')\n",
    "nc_split = pd.read_csv('../ElectionData/North Carolina.csv')\n",
    "nd_split = pd.read_csv('../ElectionData/North Dakota.csv')\n",
    "oh_split = pd.read_csv('../ElectionData/Ohio.csv')\n",
    "ok_split = pd.read_csv('../ElectionData/Oklahoma.csv')\n",
    "or_split = pd.read_csv('../ElectionData/Oregon.csv')\n",
    "pa_split = pd.read_csv('../ElectionData/Pennsylvania.csv')\n",
    "ri_split = pd.read_csv('../ElectionData/Rhode Island.csv')\n",
    "sc_split = pd.read_csv('../ElectionData/South Carolina.csv')\n",
    "sd_split = pd.read_csv('../ElectionData/South Dakota.csv')\n",
    "tn_split = pd.read_csv('../ElectionData/Tennessee.csv')\n",
    "tx_split = pd.read_csv('../ElectionData/Texas.csv')\n",
    "ut_split = pd.read_csv('../ElectionData/Utah.csv')\n",
    "vt_split = pd.read_csv('../ElectionData/Vermont.csv')\n",
    "va_split = pd.read_csv('../ElectionData/Virginia.csv')\n",
    "wa_split = pd.read_csv('../ElectionData/Washington.csv')\n",
    "wv_split = pd.read_csv('../ElectionData/West Virginia.csv')\n",
    "wi_split = pd.read_csv('../ElectionData/Wisconsin.csv')\n",
    "wy_split = pd.read_csv('../ElectionData/Wyoming.csv')"
   ]
  },
  {
   "cell_type": "code",
   "execution_count": null,
   "metadata": {},
   "outputs": [],
   "source": [
    "#Set office column as index\n",
    "\n",
    "al_split.set_index('Office', inplace=True)\n",
    "al_split.head()"
   ]
  },
  {
   "cell_type": "code",
   "execution_count": null,
   "metadata": {},
   "outputs": [],
   "source": [
    "#Filter rows with the year 1996\n",
    "\n",
    "al96 = al_split[al_split['Year'] == '1996']\n",
    "al96.head()"
   ]
  },
  {
   "cell_type": "code",
   "execution_count": null,
   "metadata": {},
   "outputs": [],
   "source": [
    "#Data subset with state, year, county, Democratic numbers, and Republican numbers\n",
    "\n",
    "al96_split = al96[['State', 'Year', 'County', 'D#', 'R#']]\n",
    "al96_split.head()"
   ]
  },
  {
   "cell_type": "code",
   "execution_count": null,
   "metadata": {},
   "outputs": [],
   "source": [
    "#Make a new column with the differences between the Democratic and Republican numbers\n",
    "\n",
    "al96_split['Difference'] = al96_split['D#'] - al96_split['R#']\n",
    "al96_split.head()"
   ]
  },
  {
   "cell_type": "code",
   "execution_count": null,
   "metadata": {},
   "outputs": [],
   "source": [
    "#For now, I decided to try one county to test the subsequent if statements\n",
    "\n",
    "al96_split_01 = al96_split[al96_split['County'] == 'Autauga']\n",
    "al96_split_01"
   ]
  },
  {
   "cell_type": "markdown",
   "metadata": {},
   "source": [
    "This is my code for now. Later, I will try putting these statements into a loop with the other counties, and then the other states."
   ]
  },
  {
   "cell_type": "code",
   "execution_count": null,
   "metadata": {},
   "outputs": [],
   "source": [
    "if al96_split_01.loc['President', 'Difference'] < 0 and al96_split_01.loc['US Senate', 'Difference'] < 0:\n",
    "    print('Dole / Republican')\n",
    "elif al96_split_01.loc['President', 'Difference'] > 0 and al96_split_01.loc['US Senate', 'Difference'] < 0:\n",
    "    print('Clinton / Republican')\n",
    "elif al96_split_01.loc['President', 'Difference'] < 0 and al96_split_01.loc['US Senate', 'Difference'] > 0:\n",
    "    print('Dole / Democratic')\n",
    "else:\n",
    "    print('Clinton / Democratic')"
   ]
  }
 ],
 "metadata": {
  "kernelspec": {
   "display_name": "Python 3",
   "language": "python",
   "name": "python3"
  },
  "language_info": {
   "codemirror_mode": {
    "name": "ipython",
    "version": 3
   },
   "file_extension": ".py",
   "mimetype": "text/x-python",
   "name": "python",
   "nbconvert_exporter": "python",
   "pygments_lexer": "ipython3",
   "version": "3.6.10"
  }
 },
 "nbformat": 4,
 "nbformat_minor": 4
}
