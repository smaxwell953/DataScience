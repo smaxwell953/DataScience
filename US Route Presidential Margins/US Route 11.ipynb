{
 "cells": [
  {
   "cell_type": "markdown",
   "metadata": {},
   "source": [
    "<h2>Calculating 2020 Presidential Margins Along U.S. Route 11</h2>"
   ]
  },
  {
   "cell_type": "code",
   "execution_count": 1,
   "metadata": {},
   "outputs": [],
   "source": [
    "#Import relevant libraries\n",
    "import numpy as np\n",
    "import pandas as pd\n",
    "import warnings\n",
    "warnings.filterwarnings(\"ignore\")"
   ]
  },
  {
   "cell_type": "code",
   "execution_count": 2,
   "metadata": {},
   "outputs": [
    {
     "data": {
      "text/html": [
       "<div>\n",
       "<style scoped>\n",
       "    .dataframe tbody tr th:only-of-type {\n",
       "        vertical-align: middle;\n",
       "    }\n",
       "\n",
       "    .dataframe tbody tr th {\n",
       "        vertical-align: top;\n",
       "    }\n",
       "\n",
       "    .dataframe thead th {\n",
       "        text-align: right;\n",
       "    }\n",
       "</style>\n",
       "<table border=\"1\" class=\"dataframe\">\n",
       "  <thead>\n",
       "    <tr style=\"text-align: right;\">\n",
       "      <th></th>\n",
       "      <th>State</th>\n",
       "      <th>Year</th>\n",
       "      <th>Office</th>\n",
       "      <th>Parish</th>\n",
       "      <th>D#</th>\n",
       "      <th>R#</th>\n",
       "      <th>Proh.#</th>\n",
       "      <th>Prog.#</th>\n",
       "      <th>Pop.#</th>\n",
       "      <th>S#</th>\n",
       "      <th>...</th>\n",
       "      <th>BD#</th>\n",
       "      <th>Solid.#</th>\n",
       "      <th>BON#</th>\n",
       "      <th>CUP</th>\n",
       "      <th>S&amp;L#</th>\n",
       "      <th>C#</th>\n",
       "      <th>F&amp;P#</th>\n",
       "      <th>LLC#</th>\n",
       "      <th>Unity#</th>\n",
       "      <th>Gold#</th>\n",
       "    </tr>\n",
       "  </thead>\n",
       "  <tbody>\n",
       "    <tr>\n",
       "      <th>0</th>\n",
       "      <td>Louisiana</td>\n",
       "      <td>1912</td>\n",
       "      <td>President</td>\n",
       "      <td>Acadia</td>\n",
       "      <td>1147.0</td>\n",
       "      <td>51.0</td>\n",
       "      <td>NaN</td>\n",
       "      <td>164.0</td>\n",
       "      <td>NaN</td>\n",
       "      <td>166.0</td>\n",
       "      <td>...</td>\n",
       "      <td>NaN</td>\n",
       "      <td>NaN</td>\n",
       "      <td>NaN</td>\n",
       "      <td>NaN</td>\n",
       "      <td>NaN</td>\n",
       "      <td>NaN</td>\n",
       "      <td>NaN</td>\n",
       "      <td>NaN</td>\n",
       "      <td>NaN</td>\n",
       "      <td>NaN</td>\n",
       "    </tr>\n",
       "    <tr>\n",
       "      <th>1</th>\n",
       "      <td>Louisiana</td>\n",
       "      <td>1912</td>\n",
       "      <td>President</td>\n",
       "      <td>Ascension</td>\n",
       "      <td>413.0</td>\n",
       "      <td>64.0</td>\n",
       "      <td>NaN</td>\n",
       "      <td>135.0</td>\n",
       "      <td>NaN</td>\n",
       "      <td>12.0</td>\n",
       "      <td>...</td>\n",
       "      <td>NaN</td>\n",
       "      <td>NaN</td>\n",
       "      <td>NaN</td>\n",
       "      <td>NaN</td>\n",
       "      <td>NaN</td>\n",
       "      <td>NaN</td>\n",
       "      <td>NaN</td>\n",
       "      <td>NaN</td>\n",
       "      <td>NaN</td>\n",
       "      <td>NaN</td>\n",
       "    </tr>\n",
       "    <tr>\n",
       "      <th>2</th>\n",
       "      <td>Louisiana</td>\n",
       "      <td>1912</td>\n",
       "      <td>President</td>\n",
       "      <td>Assumption</td>\n",
       "      <td>423.0</td>\n",
       "      <td>149.0</td>\n",
       "      <td>NaN</td>\n",
       "      <td>171.0</td>\n",
       "      <td>NaN</td>\n",
       "      <td>1.0</td>\n",
       "      <td>...</td>\n",
       "      <td>NaN</td>\n",
       "      <td>NaN</td>\n",
       "      <td>NaN</td>\n",
       "      <td>NaN</td>\n",
       "      <td>NaN</td>\n",
       "      <td>NaN</td>\n",
       "      <td>NaN</td>\n",
       "      <td>NaN</td>\n",
       "      <td>NaN</td>\n",
       "      <td>NaN</td>\n",
       "    </tr>\n",
       "    <tr>\n",
       "      <th>3</th>\n",
       "      <td>Louisiana</td>\n",
       "      <td>1912</td>\n",
       "      <td>President</td>\n",
       "      <td>Avoyelles</td>\n",
       "      <td>949.0</td>\n",
       "      <td>38.0</td>\n",
       "      <td>NaN</td>\n",
       "      <td>36.0</td>\n",
       "      <td>NaN</td>\n",
       "      <td>116.0</td>\n",
       "      <td>...</td>\n",
       "      <td>NaN</td>\n",
       "      <td>NaN</td>\n",
       "      <td>NaN</td>\n",
       "      <td>NaN</td>\n",
       "      <td>NaN</td>\n",
       "      <td>NaN</td>\n",
       "      <td>NaN</td>\n",
       "      <td>NaN</td>\n",
       "      <td>NaN</td>\n",
       "      <td>NaN</td>\n",
       "    </tr>\n",
       "    <tr>\n",
       "      <th>4</th>\n",
       "      <td>Louisiana</td>\n",
       "      <td>1912</td>\n",
       "      <td>President</td>\n",
       "      <td>Bienville</td>\n",
       "      <td>822.0</td>\n",
       "      <td>8.0</td>\n",
       "      <td>NaN</td>\n",
       "      <td>34.0</td>\n",
       "      <td>NaN</td>\n",
       "      <td>141.0</td>\n",
       "      <td>...</td>\n",
       "      <td>NaN</td>\n",
       "      <td>NaN</td>\n",
       "      <td>NaN</td>\n",
       "      <td>NaN</td>\n",
       "      <td>NaN</td>\n",
       "      <td>NaN</td>\n",
       "      <td>NaN</td>\n",
       "      <td>NaN</td>\n",
       "      <td>NaN</td>\n",
       "      <td>NaN</td>\n",
       "    </tr>\n",
       "  </tbody>\n",
       "</table>\n",
       "<p>5 rows × 78 columns</p>\n",
       "</div>"
      ],
      "text/plain": [
       "       State  Year     Office      Parish      D#     R#  Proh.#  Prog.#  \\\n",
       "0  Louisiana  1912  President      Acadia  1147.0   51.0     NaN   164.0   \n",
       "1  Louisiana  1912  President   Ascension   413.0   64.0     NaN   135.0   \n",
       "2  Louisiana  1912  President  Assumption   423.0  149.0     NaN   171.0   \n",
       "3  Louisiana  1912  President   Avoyelles   949.0   38.0     NaN    36.0   \n",
       "4  Louisiana  1912  President   Bienville   822.0    8.0     NaN    34.0   \n",
       "\n",
       "   Pop.#     S#  ...  BD#  Solid.#  BON#  CUP  S&L#  C#  F&P#  LLC#  Unity#  \\\n",
       "0    NaN  166.0  ...  NaN      NaN   NaN  NaN   NaN NaN   NaN   NaN     NaN   \n",
       "1    NaN   12.0  ...  NaN      NaN   NaN  NaN   NaN NaN   NaN   NaN     NaN   \n",
       "2    NaN    1.0  ...  NaN      NaN   NaN  NaN   NaN NaN   NaN   NaN     NaN   \n",
       "3    NaN  116.0  ...  NaN      NaN   NaN  NaN   NaN NaN   NaN   NaN     NaN   \n",
       "4    NaN  141.0  ...  NaN      NaN   NaN  NaN   NaN NaN   NaN   NaN     NaN   \n",
       "\n",
       "   Gold#  \n",
       "0    NaN  \n",
       "1    NaN  \n",
       "2    NaN  \n",
       "3    NaN  \n",
       "4    NaN  \n",
       "\n",
       "[5 rows x 78 columns]"
      ]
     },
     "execution_count": 2,
     "metadata": {},
     "output_type": "execute_result"
    }
   ],
   "source": [
    "#Read in Louisiana election data\n",
    "la_votes = pd.read_csv('../ElectionData/Louisiana.csv', low_memory=False)\n",
    "la_votes.head()"
   ]
  },
  {
   "cell_type": "code",
   "execution_count": 3,
   "metadata": {},
   "outputs": [
    {
     "name": "stdout",
     "output_type": "stream",
     "text": [
      "<class 'pandas.core.frame.DataFrame'>\n",
      "RangeIndex: 5052 entries, 0 to 5051\n",
      "Data columns (total 78 columns):\n",
      " #   Column       Non-Null Count  Dtype  \n",
      "---  ------       --------------  -----  \n",
      " 0   State        5052 non-null   object \n",
      " 1   Year         5052 non-null   int64  \n",
      " 2   Office       5052 non-null   object \n",
      " 3   Parish       5052 non-null   object \n",
      " 4   D#           1788 non-null   float64\n",
      " 5   R#           1788 non-null   float64\n",
      " 6   Proh.#       128 non-null    float64\n",
      " 7   Prog.#       125 non-null    float64\n",
      " 8   Pop.#        128 non-null    float64\n",
      " 9   S#           124 non-null    float64\n",
      " 10  UP#          191 non-null    float64\n",
      " 11  T#           64 non-null     float64\n",
      " 12  AI#          704 non-null    float64\n",
      " 13  SW#          576 non-null    float64\n",
      " 14  Comm.#       64 non-null     float64\n",
      " 15  I1#          960 non-null    float64\n",
      " 16  I2#          576 non-null    float64\n",
      " 17  Ref.#        256 non-null    float64\n",
      " 18  NL#          192 non-null    float64\n",
      " 19  NA#          128 non-null    float64\n",
      " 20  L#           1024 non-null   float64\n",
      " 21  G#           320 non-null    float64\n",
      " 22  S&L          128 non-null    float64\n",
      " 23  PWF#         64 non-null     float64\n",
      " 24  BL#          64 non-null     float64\n",
      " 25  Cit.#        128 non-null    float64\n",
      " 26  Nom.#        64 non-null     float64\n",
      " 27  MPD#         0 non-null      float64\n",
      " 28  JIA#         64 non-null     float64\n",
      " 29  ER#          128 non-null    float64\n",
      " 30  AF#          64 non-null     float64\n",
      " 31  LEC#         64 non-null     float64\n",
      " 32  WW#          64 non-null     float64\n",
      " 33  EJO#         64 non-null     float64\n",
      " 34  W/I#         448 non-null    float64\n",
      " 35  CCS#         64 non-null     float64\n",
      " 36  Vet.#        64 non-null     float64\n",
      " 37  LFC#         64 non-null     float64\n",
      " 38  IOC#         64 non-null     float64\n",
      " 39  LTC#         64 non-null     float64\n",
      " 40  SE#          64 non-null     float64\n",
      " 41  O1#          384 non-null    float64\n",
      " 42  O2#          256 non-null    float64\n",
      " 43  O3#          192 non-null    float64\n",
      " 44  O4#          192 non-null    float64\n",
      " 45  O5#          64 non-null     float64\n",
      " 46  O6#          64 non-null     float64\n",
      " 47  O7#          64 non-null     float64\n",
      " 48  D1#          3008 non-null   float64\n",
      " 49  D2#          1018 non-null   float64\n",
      " 50  D3#          512 non-null    float64\n",
      " 51  D4#          384 non-null    float64\n",
      " 52  D5#          64 non-null     float64\n",
      " 53  R1#          2886 non-null   float64\n",
      " 54  R2#          896 non-null    float64\n",
      " 55  I3#          320 non-null    float64\n",
      " 56  I4#          192 non-null    float64\n",
      " 57  I5#          64 non-null     float64\n",
      " 58  I6#          0 non-null      float64\n",
      " 59  I7#          0 non-null      float64\n",
      " 60  I8#          0 non-null      float64\n",
      " 61  D5#.1        192 non-null    float64\n",
      " 62  D6#          128 non-null    float64\n",
      " 63  D7#          64 non-null     float64\n",
      " 64  R3#          186 non-null    float64\n",
      " 65  O#           70 non-null     float64\n",
      " 66  Unnamed: 13  58 non-null     float64\n",
      " 67  Unnamed: 14  15 non-null     float64\n",
      " 68  BD#          64 non-null     float64\n",
      " 69  Solid.#      64 non-null     float64\n",
      " 70  BON#         64 non-null     float64\n",
      " 71  CUP          64 non-null     float64\n",
      " 72  S&L#         64 non-null     float64\n",
      " 73  C#           64 non-null     float64\n",
      " 74  F&P#         64 non-null     float64\n",
      " 75  LLC#         64 non-null     float64\n",
      " 76  Unity#       64 non-null     float64\n",
      " 77  Gold#        64 non-null     float64\n",
      "dtypes: float64(74), int64(1), object(3)\n",
      "memory usage: 3.0+ MB\n"
     ]
    }
   ],
   "source": [
    "#Louisiana column info\n",
    "la_votes.info()"
   ]
  },
  {
   "cell_type": "code",
   "execution_count": 4,
   "metadata": {},
   "outputs": [],
   "source": [
    "#Fill NaN votes with zeroes\n",
    "la_votes = la_votes.fillna(0)"
   ]
  },
  {
   "cell_type": "code",
   "execution_count": 5,
   "metadata": {},
   "outputs": [],
   "source": [
    "#Convert year to numeric\n",
    "la_votes['Year'] = pd.to_numeric(la_votes['Year'])"
   ]
  },
  {
   "cell_type": "code",
   "execution_count": 6,
   "metadata": {},
   "outputs": [],
   "source": [
    "#Make Total Votes column\n",
    "la_votes.loc[:,'Total Votes'] = (la_votes.sum(axis=1)) - la_votes['Year']"
   ]
  },
  {
   "cell_type": "code",
   "execution_count": 7,
   "metadata": {},
   "outputs": [],
   "source": [
    "#Filter rows with election results for president\n",
    "la_pres = la_votes[la_votes['Office'] == 'President']"
   ]
  },
  {
   "cell_type": "code",
   "execution_count": 8,
   "metadata": {},
   "outputs": [],
   "source": [
    "#Drop office column\n",
    "la_pres = la_pres.drop('Office', axis = 1)"
   ]
  },
  {
   "cell_type": "code",
   "execution_count": 9,
   "metadata": {},
   "outputs": [],
   "source": [
    "#Convert year to numeric\n",
    "la_pres['Year'] = pd.to_numeric(la_pres['Year'])"
   ]
  },
  {
   "cell_type": "code",
   "execution_count": 10,
   "metadata": {},
   "outputs": [],
   "source": [
    "#Percentage of Democratic votes\n",
    "la_pres['PCT_DEM'] = (round(la_pres['D#']/la_pres['Total Votes'],4))*100"
   ]
  },
  {
   "cell_type": "code",
   "execution_count": 11,
   "metadata": {},
   "outputs": [],
   "source": [
    "#Percentage of Republican votes\n",
    "la_pres['PCT_REP'] = (round(la_pres['R#']/la_pres['Total Votes'],4))*100"
   ]
  },
  {
   "cell_type": "code",
   "execution_count": 12,
   "metadata": {},
   "outputs": [],
   "source": [
    "#Difference between Democratic and Republican votes\n",
    "la_pres['RD_DIFF'] = la_pres['PCT_REP'] - la_pres['PCT_DEM']"
   ]
  },
  {
   "cell_type": "code",
   "execution_count": 13,
   "metadata": {},
   "outputs": [],
   "source": [
    "#Isolate state, year, parish, and D/R difference\n",
    "la_pres_pct = la_pres[['State', 'Year', 'Parish', 'RD_DIFF']]"
   ]
  },
  {
   "cell_type": "code",
   "execution_count": 14,
   "metadata": {},
   "outputs": [],
   "source": [
    "#Filter the presidential results from 2020\n",
    "la_pres_pct_2020 = la_pres_pct[la_pres_pct['Year'] == 2020]"
   ]
  },
  {
   "cell_type": "code",
   "execution_count": 15,
   "metadata": {},
   "outputs": [],
   "source": [
    "#Parishes on US Route 11\n",
    "la_parishes = ['Orleans', 'Saint Tammany']"
   ]
  },
  {
   "cell_type": "code",
   "execution_count": 16,
   "metadata": {},
   "outputs": [
    {
     "data": {
      "text/plain": [
       "Index(['State', 'Year', 'Office', 'County', 'D#', 'R#', 'Prog.#', 'S#', 'AI#',\n",
       "       'L#', 'G#', 'I1#', 'I2#', 'I3#', 'I4#', 'I5#', 'NL#', 'Ref.#', 'W/I1#',\n",
       "       'W/2#', 'W/3#', 'D1#', 'D2#', 'D3#', 'D4#', 'D5#', 'I#', 'Ind.#', 'C#',\n",
       "       'O#', 'Solid.#', 'Others'],\n",
       "      dtype='object')"
      ]
     },
     "execution_count": 16,
     "metadata": {},
     "output_type": "execute_result"
    }
   ],
   "source": [
    "#Repeat for Mississippi, with some modifications\n",
    "\n",
    "ms_vote = pd.read_csv('../ElectionData/Mississippi.csv', low_memory=False)\n",
    "\n",
    "ms_vote.columns"
   ]
  },
  {
   "cell_type": "code",
   "execution_count": 17,
   "metadata": {},
   "outputs": [
    {
     "data": {
      "text/plain": [
       "array(['1912', '1916', '1920', '1924', '1928', '1932', '1936', '1940',\n",
       "       '1944', '1948', '1952', '1956', '1960', '1964', '1968', '1972',\n",
       "       '1976', '1980', '1984', '1988', '1992', '1996', '2000', '2004',\n",
       "       '2008', '2012', '2016', '1942', '1947', '1978', '1990', '1994',\n",
       "       '2002', '2006', '2008S', '2014', '2018', '2018S', '1979', '1983',\n",
       "       '1987', '1991', '1995', '1999', '2003', '2007', '2011', '2015',\n",
       "       '2019', '2020'], dtype=object)"
      ]
     },
     "execution_count": 17,
     "metadata": {},
     "output_type": "execute_result"
    }
   ],
   "source": [
    "ms_vote['Year'].unique()"
   ]
  },
  {
   "cell_type": "code",
   "execution_count": 18,
   "metadata": {},
   "outputs": [],
   "source": [
    "#Filter the 2020 results here rather than near the end, as an error results when trying to parse '2008S'\n",
    "\n",
    "ms_votes = pd.DataFrame(ms_vote[ms_vote.Year == '2020'])\n",
    "ms_votes = ms_votes.fillna(0)\n",
    "ms_votes['Year'] = pd.to_numeric(ms_votes['Year'])\n",
    "ms_votes.loc[:,'Total Votes'] = (ms_votes.sum(axis=1)) - ms_votes['Year']\n",
    "ms_pres = ms_votes[ms_votes['Office'] == 'President']\n",
    "ms_pres = ms_pres.drop('Office', axis = 1)\n",
    "ms_pres['Year'] = pd.to_numeric(ms_pres['Year'])\n",
    "ms_pres['PCT_DEM'] = (round(ms_pres['D#']/ms_pres['Total Votes'],4))*100\n",
    "ms_pres['PCT_REP'] = (round(ms_pres['R#']/ms_pres['Total Votes'],4))*100\n",
    "ms_pres['RD_DIFF'] = ms_pres['PCT_REP'] - ms_pres['PCT_DEM']\n",
    "ms_pres_pct = ms_pres[['State', 'Year', 'County', 'RD_DIFF']]\n",
    "ms_counties = ['Pearl River', 'Lamar', 'Forrest', 'Jones', 'Jasper', 'Clarke', 'Lauderdale']"
   ]
  },
  {
   "cell_type": "code",
   "execution_count": 19,
   "metadata": {},
   "outputs": [
    {
     "data": {
      "text/plain": [
       "Index(['State', 'Year', 'Office', 'County', 'D#', 'R#', 'Pop.#', 'Prog.#',\n",
       "       'Proh.#', 'U#', 'S#', 'SW#', 'ND#', 'Comm.#', 'C#', 'CON#', 'IND#',\n",
       "       'I1#', 'I2#', 'I3#', 'I4#', 'I5#', 'I6#', 'I7#', 'Ref.#', 'NL#', 'L#',\n",
       "       'G#', 'Citizens', 'States' Rights', 'Independent African American',\n",
       "       'Statesman', 'Write-Ins', 'SM#', 'W/I1#', 'W/I2#', 'Det.#', 'W#'],\n",
       "      dtype='object')"
      ]
     },
     "execution_count": 19,
     "metadata": {},
     "output_type": "execute_result"
    }
   ],
   "source": [
    "al_vote = pd.read_csv('../ElectionData/Alabama.csv', low_memory=False)\n",
    "al_vote.columns"
   ]
  },
  {
   "cell_type": "code",
   "execution_count": 20,
   "metadata": {},
   "outputs": [
    {
     "data": {
      "text/plain": [
       "array(['1904', '1908', '1912', '1916', '1920', '1924', '1928', '1932',\n",
       "       '1936', '1940', '1944', '1948', '1952', '1956', '1960', '1964',\n",
       "       '1968', '1972', '1976', '1980', '1984', '1988', '1992', '1996',\n",
       "       '2000', '2004', '2008', '2012', '2016', '1914', '1962', '1966',\n",
       "       '1974', '1986', '1990', '1998', '2002', '2010', '2014', '2017S',\n",
       "       '2018', '1982', '1978', '1994', '2006', '1970', '1958', '1954',\n",
       "       '1950', '1946', '2020'], dtype=object)"
      ]
     },
     "execution_count": 20,
     "metadata": {},
     "output_type": "execute_result"
    }
   ],
   "source": [
    "al_vote['Year'].unique()"
   ]
  },
  {
   "cell_type": "code",
   "execution_count": 21,
   "metadata": {},
   "outputs": [],
   "source": [
    "#Filter the 2020 results here rather than near the end, as an error results when trying to parse '2017S'\n",
    "\n",
    "al_votes = pd.DataFrame(al_vote[al_vote.Year == '2020'])\n",
    "al_votes = al_votes.fillna(0)\n",
    "al_votes['Year'] = pd.to_numeric(al_votes['Year'])\n",
    "al_votes.loc[:,'Total Votes'] = (al_votes.sum(axis=1)) - al_votes['Year']\n",
    "al_pres = al_votes[al_votes['Office'] == 'President']\n",
    "al_pres = al_pres.drop('Office', axis = 1)\n",
    "al_pres['Year'] = pd.to_numeric(al_pres['Year'])\n",
    "al_pres['PCT_DEM'] = (round(al_pres['D#']/al_pres['Total Votes'],4))*100\n",
    "al_pres['PCT_REP'] = (round(al_pres['R#']/al_pres['Total Votes'],4))*100\n",
    "al_pres['RD_DIFF'] = al_pres['PCT_REP'] - al_pres['PCT_DEM']\n",
    "al_pres_pct = al_pres[['State', 'Year', 'County', 'RD_DIFF']]\n",
    "al_counties = ['Sumter', 'Greene', 'Tuscaloosa', 'Bibb', 'Jefferson', 'Saint Clair', 'Etowah', 'DeKalb']"
   ]
  },
  {
   "cell_type": "code",
   "execution_count": 22,
   "metadata": {},
   "outputs": [],
   "source": [
    "#Repeat for Georgia\n",
    "ga_votes = pd.read_csv('../ElectionData/Georgia.csv', low_memory=False)\n",
    "ga_votes = ga_votes.fillna(0)\n",
    "ga_votes['Year'] = pd.to_numeric(ga_votes['Year'])\n",
    "ga_votes.loc[:,'Total Votes'] = (ga_votes.sum(axis=1)) - ga_votes['Year']\n",
    "ga_pres = ga_votes[ga_votes['Office'] == 'President']\n",
    "ga_pres = ga_pres.drop('Office', axis = 1)\n",
    "ga_pres['Year'] = pd.to_numeric(ga_pres['Year'])\n",
    "ga_pres['PCT_DEM'] = (round(ga_pres['D#']/ga_pres['Total Votes'],4))*100\n",
    "ga_pres['PCT_REP'] = (round(ga_pres['R#']/ga_pres['Total Votes'],4))*100\n",
    "ga_pres['RD_DIFF'] = ga_pres['PCT_REP'] - ga_pres['PCT_DEM']\n",
    "ga_pres_pct = ga_pres[['State', 'Year', 'County', 'RD_DIFF']]\n",
    "ga_pres_pct_2020 = ga_pres_pct[ga_pres_pct['Year'] == 2020]\n",
    "ga_counties = ['Dade']"
   ]
  },
  {
   "cell_type": "code",
   "execution_count": 23,
   "metadata": {},
   "outputs": [],
   "source": [
    "#Repeat for Tennessee\n",
    "tn_votes = pd.read_csv('../ElectionData/Tennessee.csv', low_memory=False)\n",
    "tn_votes = tn_votes.fillna(0)\n",
    "tn_votes['Year'] = pd.to_numeric(tn_votes['Year'])\n",
    "tn_votes.loc[:,'Total Votes'] = (tn_votes.sum(axis=1)) - tn_votes['Year']\n",
    "tn_pres = tn_votes[tn_votes['Office'] == 'President']\n",
    "tn_pres = tn_pres.drop('Office', axis = 1)\n",
    "tn_pres['Year'] = pd.to_numeric(tn_pres['Year'])\n",
    "tn_pres['PCT_DEM'] = (round(tn_pres['D#']/tn_pres['Total Votes'],4))*100\n",
    "tn_pres['PCT_REP'] = (round(tn_pres['R#']/tn_pres['Total Votes'],4))*100\n",
    "tn_pres['RD_DIFF'] = tn_pres['PCT_REP'] - tn_pres['PCT_DEM']\n",
    "tn_pres_pct = tn_pres[['State', 'Year', 'County', 'RD_DIFF']]\n",
    "tn_pres_pct_2020 = tn_pres_pct[tn_pres_pct['Year'] == 2020]\n",
    "tn_counties = ['Bradley', 'Grainger', 'Greene', 'Hamblen', 'Hamilton', 'Hawkins', 'Jefferson', 'Knox', 'Loudon', 'McMinn', \\\n",
    "               'Monroe', 'Sullivan', 'Washington']"
   ]
  },
  {
   "cell_type": "code",
   "execution_count": 24,
   "metadata": {},
   "outputs": [],
   "source": [
    "#Repeat for Virginia\n",
    "va_votes = pd.read_csv('../ElectionData/Virginia.csv', low_memory=False)\n",
    "va_votes = va_votes.fillna(0)\n",
    "va_votes['Year'] = pd.to_numeric(va_votes['Year'])\n",
    "va_votes.loc[:,'Total Votes'] = (va_votes.sum(axis=1)) - va_votes['Year']\n",
    "va_pres = va_votes[va_votes['Office'] == 'President']\n",
    "va_pres = va_pres.drop('Office', axis = 1)\n",
    "va_pres['Year'] = pd.to_numeric(va_pres['Year'])\n",
    "va_pres['PCT_DEM'] = (round(va_pres['D#']/va_pres['Total Votes'],4))*100\n",
    "va_pres['PCT_REP'] = (round(va_pres['R#']/va_pres['Total Votes'],4))*100\n",
    "va_pres['RD_DIFF'] = va_pres['PCT_REP'] - va_pres['PCT_DEM']\n",
    "va_pres_pct = va_pres[['State', 'Year', 'County/City', 'RD_DIFF']]\n",
    "va_pres_pct_2020 = va_pres_pct[va_pres_pct['Year'] == 2020]\n",
    "va_counties = ['Augusta', 'Botetourt', 'Bristol City', 'Harrisonburg City', 'Lexington City', 'Radford City', \\\n",
    "               'Roanoke City', 'Salem City', 'Staunton City', 'Winchester City', 'Frederick', 'Montgomery', 'Pulaski', \\\n",
    "               'Roanoke', 'Rockbridge', 'Rockingham', 'Shenandoah', 'Smyth', 'Warren', 'Washington', 'Wythe']"
   ]
  },
  {
   "cell_type": "code",
   "execution_count": 25,
   "metadata": {},
   "outputs": [],
   "source": [
    "#Repeat for West Virginia\n",
    "wv_votes = pd.read_csv('../ElectionData/West Virginia.csv', low_memory=False)\n",
    "wv_votes = wv_votes.fillna(0)\n",
    "wv_votes['Year'] = pd.to_numeric(wv_votes['Year'])\n",
    "wv_votes.loc[:,'Total Votes'] = (wv_votes.sum(axis=1)) - wv_votes['Year']\n",
    "wv_pres = wv_votes[wv_votes['Office'] == 'President']\n",
    "wv_pres = wv_pres.drop('Office', axis = 1)\n",
    "wv_pres['Year'] = pd.to_numeric(wv_pres['Year'])\n",
    "wv_pres['PCT_DEM'] = (round(wv_pres['D#']/wv_pres['Total Votes'],4))*100\n",
    "wv_pres['PCT_REP'] = (round(wv_pres['R#']/wv_pres['Total Votes'],4))*100\n",
    "wv_pres['RD_DIFF'] = wv_pres['PCT_REP'] - wv_pres['PCT_DEM']\n",
    "wv_pres_pct = wv_pres[['State', 'Year', 'County', 'RD_DIFF']]\n",
    "wv_pres_pct_2020 = wv_pres_pct[wv_pres_pct['Year'] == 2020]\n",
    "wv_counties = ['Berkeley']"
   ]
  },
  {
   "cell_type": "code",
   "execution_count": 26,
   "metadata": {},
   "outputs": [],
   "source": [
    "#Repeat for Maryland\n",
    "md_votes = pd.read_csv('../ElectionData/Maryland.csv', low_memory=False)\n",
    "md_votes = md_votes.fillna(0)\n",
    "md_votes['Year'] = pd.to_numeric(md_votes['Year'])\n",
    "md_votes.loc[:,'Total Votes'] = (md_votes.sum(axis=1)) - md_votes['Year']\n",
    "md_pres = md_votes[md_votes['Office'] == 'President']\n",
    "md_pres = md_pres.drop('Office', axis = 1)\n",
    "md_pres['Year'] = pd.to_numeric(md_pres['Year'])\n",
    "md_pres['PCT_DEM'] = (round(md_pres['D#']/md_pres['Total Votes'],4))*100\n",
    "md_pres['PCT_REP'] = (round(md_pres['R#']/md_pres['Total Votes'],4))*100\n",
    "md_pres['RD_DIFF'] = md_pres['PCT_REP'] - md_pres['PCT_DEM']\n",
    "md_pres_pct = md_pres[['State', 'Year', 'County', 'RD_DIFF']]\n",
    "md_pres_pct_2020 = md_pres_pct[md_pres_pct['Year'] == 2020]\n",
    "md_counties = ['Washington']"
   ]
  },
  {
   "cell_type": "code",
   "execution_count": 27,
   "metadata": {},
   "outputs": [],
   "source": [
    "#Repeat for Pennsylvania\n",
    "pa_votes = pd.read_csv('../ElectionData/Pennsylvania.csv', low_memory=False)\n",
    "pa_votes = pa_votes.fillna(0)\n",
    "pa_votes['Year'] = pd.to_numeric(pa_votes['Year'])\n",
    "pa_votes.loc[:,'Total Votes'] = (pa_votes.sum(axis=1)) - pa_votes['Year']\n",
    "pa_pres = pa_votes[pa_votes['Office'] == 'President']\n",
    "pa_pres = pa_pres.drop('Office', axis = 1)\n",
    "pa_pres['Year'] = pd.to_numeric(pa_pres['Year'])\n",
    "pa_pres['PCT_DEM'] = (round(pa_pres['D#']/pa_pres['Total Votes'],4))*100\n",
    "pa_pres['PCT_REP'] = (round(pa_pres['R#']/pa_pres['Total Votes'],4))*100\n",
    "pa_pres['RD_DIFF'] = pa_pres['PCT_REP'] - pa_pres['PCT_DEM']\n",
    "pa_pres_pct = pa_pres[['State', 'Year', 'County', 'RD_DIFF']]\n",
    "pa_pres_pct_2020 = pa_pres_pct[pa_pres_pct['Year'] == 2020]\n",
    "pa_counties = ['Columbia', 'Cumberland', 'Dauphin', 'Franklin', 'Juniata', 'Lackawanna', 'Luzerne', 'Montour', \\\n",
    "               'Northumberland', 'Perry', 'Snyder', 'Susquehanna', 'Union', 'Wyoming']"
   ]
  },
  {
   "cell_type": "code",
   "execution_count": 28,
   "metadata": {},
   "outputs": [],
   "source": [
    "#Repeat for New York\n",
    "ny_votes = pd.read_csv('../ElectionData/New York.csv', low_memory=False)\n",
    "ny_votes = ny_votes.fillna(0)\n",
    "ny_votes['Year'] = pd.to_numeric(ny_votes['Year'])\n",
    "ny_votes.loc[:,'Total Votes'] = (ny_votes.sum(axis=1)) - ny_votes['Year']\n",
    "ny_pres = ny_votes[ny_votes['Office'] == 'President']\n",
    "ny_pres = ny_pres.drop('Office', axis = 1)\n",
    "ny_pres['Year'] = pd.to_numeric(ny_pres['Year'])\n",
    "ny_pres['PCT_DEM'] = (round(ny_pres['D#']/ny_pres['Total Votes'],4))*100\n",
    "ny_pres['PCT_REP'] = (round(ny_pres['R#']/ny_pres['Total Votes'],4))*100\n",
    "ny_pres['RD_DIFF'] = ny_pres['PCT_REP'] - ny_pres['PCT_DEM']\n",
    "ny_pres_pct = ny_pres[['State', 'Year', 'County', 'RD_DIFF']]\n",
    "ny_pres_pct_2020 = ny_pres_pct[ny_pres_pct['Year'] == 2020]\n",
    "ny_counties = ['Broome', 'Cortland', 'Onondaga', 'Oswego', 'Jefferson', 'Saint Lawrence', 'Franklin', 'Clinton']"
   ]
  },
  {
   "cell_type": "markdown",
   "metadata": {},
   "source": [
    "Now find the margins from each parish/county."
   ]
  },
  {
   "cell_type": "code",
   "execution_count": 29,
   "metadata": {},
   "outputs": [
    {
     "name": "stdout",
     "output_type": "stream",
     "text": [
      "          State  Year   Parish  RD_DIFF\n",
      "4959  Louisiana  2020  Orleans   -68.15\n",
      "          State  Year         Parish  RD_DIFF\n",
      "4975  Louisiana  2020  Saint Tammany    44.19\n"
     ]
    }
   ],
   "source": [
    "for p in la_parishes:\n",
    "    print(la_pres_pct_2020[la_pres_pct_2020['Parish'] == p])"
   ]
  },
  {
   "cell_type": "code",
   "execution_count": 30,
   "metadata": {},
   "outputs": [
    {
     "name": "stdout",
     "output_type": "stream",
     "text": [
      "            State  Year       County  RD_DIFF\n",
      "7922  Mississippi  2020  Pearl River    64.27\n",
      "            State  Year County  RD_DIFF\n",
      "7904  Mississippi  2020  Lamar    46.84\n",
      "            State  Year   County  RD_DIFF\n",
      "7885  Mississippi  2020  Forrest    11.17\n",
      "            State  Year County  RD_DIFF\n",
      "7901  Mississippi  2020  Jones    42.24\n",
      "            State  Year  County  RD_DIFF\n",
      "7898  Mississippi  2020  Jasper    -0.45\n",
      "            State  Year  County  RD_DIFF\n",
      "7879  Mississippi  2020  Clarke    30.93\n",
      "            State  Year      County  RD_DIFF\n",
      "7905  Mississippi  2020  Lauderdale    16.02\n"
     ]
    }
   ],
   "source": [
    "for c in ms_counties:\n",
    "    print(ms_pres_pct[ms_pres_pct['County'] == c])"
   ]
  },
  {
   "cell_type": "code",
   "execution_count": 31,
   "metadata": {},
   "outputs": [
    {
     "name": "stdout",
     "output_type": "stream",
     "text": [
      "        State  Year  County  RD_DIFF\n",
      "8099  Alabama  2020  Sumter   -48.48\n",
      "        State  Year  County  RD_DIFF\n",
      "8071  Alabama  2020  Greene   -63.02\n",
      "        State  Year      County  RD_DIFF\n",
      "8102  Alabama  2020  Tuscaloosa    14.81\n",
      "        State  Year County  RD_DIFF\n",
      "8043  Alabama  2020   Bibb    57.73\n",
      "        State  Year     County  RD_DIFF\n",
      "8076  Alabama  2020  Jefferson   -13.15\n",
      "        State  Year       County  RD_DIFF\n",
      "8097  Alabama  2020  Saint Clair    63.95\n",
      "        State  Year  County  RD_DIFF\n",
      "8067  Alabama  2020  Etowah     50.2\n",
      "        State  Year  County  RD_DIFF\n",
      "8064  Alabama  2020  DeKalb    69.79\n"
     ]
    }
   ],
   "source": [
    "for c in al_counties:\n",
    "    print(al_pres_pct[al_pres_pct['County'] == c])"
   ]
  },
  {
   "cell_type": "code",
   "execution_count": 32,
   "metadata": {},
   "outputs": [
    {
     "name": "stdout",
     "output_type": "stream",
     "text": [
      "         State  Year County  RD_DIFF\n",
      "16395  Georgia  2020   Dade    64.53\n"
     ]
    }
   ],
   "source": [
    "for c in ga_counties:\n",
    "    print(ga_pres_pct_2020[ga_pres_pct_2020['County'] == c])"
   ]
  },
  {
   "cell_type": "code",
   "execution_count": 33,
   "metadata": {},
   "outputs": [
    {
     "name": "stdout",
     "output_type": "stream",
     "text": [
      "          State    Year   County  RD_DIFF\n",
      "7098  Tennessee  2020.0  Bradley    55.28\n",
      "          State    Year    County  RD_DIFF\n",
      "7121  Tennessee  2020.0  Grainger    70.04\n",
      "          State    Year  County  RD_DIFF\n",
      "7122  Tennessee  2020.0  Greene    60.74\n",
      "          State    Year   County  RD_DIFF\n",
      "7124  Tennessee  2020.0  Hamblen    54.04\n",
      "          State    Year    County  RD_DIFF\n",
      "7125  Tennessee  2020.0  Hamilton     9.69\n",
      "          State    Year   County  RD_DIFF\n",
      "7129  Tennessee  2020.0  Hawkins    65.75\n",
      "          State    Year     County  RD_DIFF\n",
      "7137  Tennessee  2020.0  Jefferson    59.27\n",
      "          State    Year County  RD_DIFF\n",
      "7139  Tennessee  2020.0   Knox    15.02\n",
      "          State    Year  County  RD_DIFF\n",
      "7145  Tennessee  2020.0  Loudon    50.31\n",
      "          State    Year  County  RD_DIFF\n",
      "7146  Tennessee  2020.0  McMinn    60.57\n",
      "          State    Year  County  RD_DIFF\n",
      "7154  Tennessee  2020.0  Monroe     62.6\n",
      "          State    Year    County  RD_DIFF\n",
      "7174  Tennessee  2020.0  Sullivan    51.89\n",
      "          State    Year      County  RD_DIFF\n",
      "7182  Tennessee  2020.0  Washington    36.22\n"
     ]
    }
   ],
   "source": [
    "for c in tn_counties:\n",
    "    print(tn_pres_pct_2020[tn_pres_pct_2020['County'] == c])"
   ]
  },
  {
   "cell_type": "code",
   "execution_count": 34,
   "metadata": {},
   "outputs": [
    {
     "name": "stdout",
     "output_type": "stream",
     "text": [
      "          State    Year County/City  RD_DIFF\n",
      "13901  Virginia  2020.0     Augusta    47.01\n",
      "          State    Year County/City  RD_DIFF\n",
      "13905  Virginia  2020.0   Botetourt     44.5\n",
      "          State    Year   County/City  RD_DIFF\n",
      "13990  Virginia  2020.0  Bristol City    38.87\n",
      "          State    Year        County/City  RD_DIFF\n",
      "14004  Virginia  2020.0  Harrisonburg City   -31.79\n",
      "          State    Year     County/City  RD_DIFF\n",
      "14006  Virginia  2020.0  Lexington City   -32.04\n",
      "          State    Year   County/City  RD_DIFF\n",
      "14017  Virginia  2020.0  Radford City    -9.05\n",
      "          State    Year   County/City  RD_DIFF\n",
      "14019  Virginia  2020.0  Roanoke City   -25.78\n",
      "          State    Year County/City  RD_DIFF\n",
      "14020  Virginia  2020.0  Salem City    19.42\n",
      "          State    Year    County/City  RD_DIFF\n",
      "14021  Virginia  2020.0  Staunton City     -9.9\n",
      "          State    Year      County/City  RD_DIFF\n",
      "14026  Virginia  2020.0  Winchester City   -11.47\n",
      "          State    Year County/City  RD_DIFF\n",
      "13927  Virginia  2020.0   Frederick    27.41\n",
      "          State    Year County/City  RD_DIFF\n",
      "13953  Virginia  2020.0  Montgomery    -5.75\n",
      "          State    Year County/City  RD_DIFF\n",
      "13967  Virginia  2020.0     Pulaski    41.45\n",
      "          State    Year County/City  RD_DIFF\n",
      "13970  Virginia  2020.0     Roanoke    21.81\n",
      "          State    Year County/City  RD_DIFF\n",
      "13971  Virginia  2020.0  Rockbridge    32.35\n",
      "          State    Year County/City  RD_DIFF\n",
      "13972  Virginia  2020.0  Rockingham    40.41\n",
      "          State    Year County/City  RD_DIFF\n",
      "13975  Virginia  2020.0  Shenandoah    40.65\n",
      "          State    Year County/City  RD_DIFF\n",
      "13976  Virginia  2020.0       Smyth    56.27\n",
      "          State    Year County/City  RD_DIFF\n",
      "13983  Virginia  2020.0      Warren    35.31\n",
      "          State    Year County/City  RD_DIFF\n",
      "13984  Virginia  2020.0  Washington    52.51\n",
      "          State    Year County/City  RD_DIFF\n",
      "13987  Virginia  2020.0       Wythe     57.0\n"
     ]
    }
   ],
   "source": [
    "for c in va_counties:\n",
    "    print(va_pres_pct_2020[va_pres_pct_2020['County/City'] == c])"
   ]
  },
  {
   "cell_type": "code",
   "execution_count": 35,
   "metadata": {},
   "outputs": [
    {
     "name": "stdout",
     "output_type": "stream",
     "text": [
      "              State    Year    County  RD_DIFF\n",
      "5886  West Virginia  2020.0  Berkeley    31.22\n"
     ]
    }
   ],
   "source": [
    "for c in wv_counties:\n",
    "    print(wv_pres_pct_2020[wv_pres_pct_2020['County'] == c])"
   ]
  },
  {
   "cell_type": "code",
   "execution_count": 36,
   "metadata": {},
   "outputs": [
    {
     "name": "stdout",
     "output_type": "stream",
     "text": [
      "         State  Year      County  RD_DIFF\n",
      "3669  Maryland  2020  Washington    20.93\n"
     ]
    }
   ],
   "source": [
    "for c in md_counties:\n",
    "    print(md_pres_pct_2020[md_pres_pct_2020['County'] == c])"
   ]
  },
  {
   "cell_type": "code",
   "execution_count": 37,
   "metadata": {},
   "outputs": [
    {
     "name": "stdout",
     "output_type": "stream",
     "text": [
      "             State    Year    County  RD_DIFF\n",
      "9264  Pennsylvania  2020.0  Columbia    30.58\n",
      "             State    Year      County  RD_DIFF\n",
      "9266  Pennsylvania  2020.0  Cumberland    10.52\n",
      "             State    Year   County  RD_DIFF\n",
      "9267  Pennsylvania  2020.0  Dauphin     -8.5\n",
      "             State    Year    County  RD_DIFF\n",
      "9273  Pennsylvania  2020.0  Franklin    42.98\n",
      "             State    Year   County  RD_DIFF\n",
      "9279  Pennsylvania  2020.0  Juniata    61.27\n",
      "             State    Year      County  RD_DIFF\n",
      "9280  Pennsylvania  2020.0  Lackawanna    -8.35\n",
      "             State    Year   County  RD_DIFF\n",
      "9285  Pennsylvania  2020.0  Luzerne    14.37\n",
      "             State    Year   County  RD_DIFF\n",
      "9292  Pennsylvania  2020.0  Montour    21.12\n",
      "             State    Year          County  RD_DIFF\n",
      "9294  Pennsylvania  2020.0  Northumberland    38.34\n",
      "             State    Year County  RD_DIFF\n",
      "9295  Pennsylvania  2020.0  Perry    49.92\n",
      "             State    Year  County  RD_DIFF\n",
      "9300  Pennsylvania  2020.0  Snyder     47.3\n",
      "             State    Year       County  RD_DIFF\n",
      "9303  Pennsylvania  2020.0  Susquehanna    41.13\n",
      "             State    Year County  RD_DIFF\n",
      "9305  Pennsylvania  2020.0  Union    24.17\n",
      "             State    Year   County  RD_DIFF\n",
      "9311  Pennsylvania  2020.0  Wyoming    35.11\n"
     ]
    }
   ],
   "source": [
    "for c in pa_counties:\n",
    "    print(pa_pres_pct_2020[pa_pres_pct_2020['County'] == c])"
   ]
  },
  {
   "cell_type": "code",
   "execution_count": 38,
   "metadata": {},
   "outputs": [
    {
     "name": "stdout",
     "output_type": "stream",
     "text": [
      "         State    Year  County  RD_DIFF\n",
      "5506  New York  2020.0  Broome    -3.45\n",
      "         State    Year    County  RD_DIFF\n",
      "5514  New York  2020.0  Cortland     1.94\n",
      "         State    Year    County  RD_DIFF\n",
      "5536  New York  2020.0  Onondaga   -20.03\n",
      "         State    Year  County  RD_DIFF\n",
      "5540  New York  2020.0  Oswego    20.18\n",
      "         State    Year     County  RD_DIFF\n",
      "5525  New York  2020.0  Jefferson    18.98\n",
      "         State    Year          County  RD_DIFF\n",
      "5547  New York  2020.0  Saint Lawrence    11.69\n",
      "         State    Year    County  RD_DIFF\n",
      "5519  New York  2020.0  Franklin     2.16\n",
      "         State    Year   County  RD_DIFF\n",
      "5512  New York  2020.0  Clinton    -5.22\n"
     ]
    }
   ],
   "source": [
    "for c in ny_counties:\n",
    "    print(ny_pres_pct_2020[ny_pres_pct_2020['County'] == c])"
   ]
  },
  {
   "cell_type": "code",
   "execution_count": null,
   "metadata": {},
   "outputs": [],
   "source": []
  }
 ],
 "metadata": {
  "kernelspec": {
   "display_name": "Python 3",
   "language": "python",
   "name": "python3"
  },
  "language_info": {
   "codemirror_mode": {
    "name": "ipython",
    "version": 3
   },
   "file_extension": ".py",
   "mimetype": "text/x-python",
   "name": "python",
   "nbconvert_exporter": "python",
   "pygments_lexer": "ipython3",
   "version": "3.8.5"
  }
 },
 "nbformat": 4,
 "nbformat_minor": 4
}
