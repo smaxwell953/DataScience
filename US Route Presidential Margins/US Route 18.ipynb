{
 "cells": [
  {
   "cell_type": "markdown",
   "metadata": {},
   "source": [
    "#### <h2>Calculating 2020 Presidential Margins Along U.S. Route 18</h2>"
   ]
  },
  {
   "cell_type": "code",
   "execution_count": 1,
   "metadata": {},
   "outputs": [],
   "source": [
    "#Import relevant libraries\n",
    "import numpy as np\n",
    "import pandas as pd\n",
    "import warnings\n",
    "warnings.filterwarnings(\"ignore\")"
   ]
  },
  {
   "cell_type": "code",
   "execution_count": 2,
   "metadata": {},
   "outputs": [
    {
     "data": {
      "text/html": [
       "<div>\n",
       "<style scoped>\n",
       "    .dataframe tbody tr th:only-of-type {\n",
       "        vertical-align: middle;\n",
       "    }\n",
       "\n",
       "    .dataframe tbody tr th {\n",
       "        vertical-align: top;\n",
       "    }\n",
       "\n",
       "    .dataframe thead th {\n",
       "        text-align: right;\n",
       "    }\n",
       "</style>\n",
       "<table border=\"1\" class=\"dataframe\">\n",
       "  <thead>\n",
       "    <tr style=\"text-align: right;\">\n",
       "      <th></th>\n",
       "      <th>State</th>\n",
       "      <th>Year</th>\n",
       "      <th>Office</th>\n",
       "      <th>County</th>\n",
       "      <th>D#</th>\n",
       "      <th>R#</th>\n",
       "      <th>IND#</th>\n",
       "      <th>Proh.#</th>\n",
       "      <th>S#</th>\n",
       "      <th>SL#</th>\n",
       "      <th>...</th>\n",
       "      <th>NA#</th>\n",
       "      <th>W/I1#</th>\n",
       "      <th>W/I2#</th>\n",
       "      <th>W/I3#</th>\n",
       "      <th>W/I4#</th>\n",
       "      <th>W/I5#</th>\n",
       "      <th>Country#</th>\n",
       "      <th>I#</th>\n",
       "      <th>W/I#</th>\n",
       "      <th>Year / Office</th>\n",
       "    </tr>\n",
       "  </thead>\n",
       "  <tbody>\n",
       "    <tr>\n",
       "      <th>0</th>\n",
       "      <td>Wyoming</td>\n",
       "      <td>1892.0</td>\n",
       "      <td>President</td>\n",
       "      <td>Albany</td>\n",
       "      <td>1041.0</td>\n",
       "      <td>1100</td>\n",
       "      <td>NaN</td>\n",
       "      <td>82.0</td>\n",
       "      <td>NaN</td>\n",
       "      <td>NaN</td>\n",
       "      <td>...</td>\n",
       "      <td>NaN</td>\n",
       "      <td>0.0</td>\n",
       "      <td>NaN</td>\n",
       "      <td>NaN</td>\n",
       "      <td>NaN</td>\n",
       "      <td>NaN</td>\n",
       "      <td>NaN</td>\n",
       "      <td>NaN</td>\n",
       "      <td>NaN</td>\n",
       "      <td>NaN</td>\n",
       "    </tr>\n",
       "    <tr>\n",
       "      <th>1</th>\n",
       "      <td>Wyoming</td>\n",
       "      <td>1892.0</td>\n",
       "      <td>President</td>\n",
       "      <td>Big Horn</td>\n",
       "      <td>0.0</td>\n",
       "      <td>0</td>\n",
       "      <td>NaN</td>\n",
       "      <td>0.0</td>\n",
       "      <td>NaN</td>\n",
       "      <td>NaN</td>\n",
       "      <td>...</td>\n",
       "      <td>NaN</td>\n",
       "      <td>0.0</td>\n",
       "      <td>NaN</td>\n",
       "      <td>NaN</td>\n",
       "      <td>NaN</td>\n",
       "      <td>NaN</td>\n",
       "      <td>NaN</td>\n",
       "      <td>NaN</td>\n",
       "      <td>NaN</td>\n",
       "      <td>NaN</td>\n",
       "    </tr>\n",
       "    <tr>\n",
       "      <th>2</th>\n",
       "      <td>Wyoming</td>\n",
       "      <td>1892.0</td>\n",
       "      <td>President</td>\n",
       "      <td>Carbon</td>\n",
       "      <td>853.0</td>\n",
       "      <td>978</td>\n",
       "      <td>NaN</td>\n",
       "      <td>40.0</td>\n",
       "      <td>NaN</td>\n",
       "      <td>NaN</td>\n",
       "      <td>...</td>\n",
       "      <td>NaN</td>\n",
       "      <td>0.0</td>\n",
       "      <td>NaN</td>\n",
       "      <td>NaN</td>\n",
       "      <td>NaN</td>\n",
       "      <td>NaN</td>\n",
       "      <td>NaN</td>\n",
       "      <td>NaN</td>\n",
       "      <td>NaN</td>\n",
       "      <td>NaN</td>\n",
       "    </tr>\n",
       "    <tr>\n",
       "      <th>3</th>\n",
       "      <td>Wyoming</td>\n",
       "      <td>1892.0</td>\n",
       "      <td>President</td>\n",
       "      <td>Converse</td>\n",
       "      <td>360.0</td>\n",
       "      <td>494</td>\n",
       "      <td>NaN</td>\n",
       "      <td>57.0</td>\n",
       "      <td>NaN</td>\n",
       "      <td>NaN</td>\n",
       "      <td>...</td>\n",
       "      <td>NaN</td>\n",
       "      <td>0.0</td>\n",
       "      <td>NaN</td>\n",
       "      <td>NaN</td>\n",
       "      <td>NaN</td>\n",
       "      <td>NaN</td>\n",
       "      <td>NaN</td>\n",
       "      <td>NaN</td>\n",
       "      <td>NaN</td>\n",
       "      <td>NaN</td>\n",
       "    </tr>\n",
       "    <tr>\n",
       "      <th>4</th>\n",
       "      <td>Wyoming</td>\n",
       "      <td>1892.0</td>\n",
       "      <td>President</td>\n",
       "      <td>Crook</td>\n",
       "      <td>516.0</td>\n",
       "      <td>399</td>\n",
       "      <td>NaN</td>\n",
       "      <td>19.0</td>\n",
       "      <td>NaN</td>\n",
       "      <td>NaN</td>\n",
       "      <td>...</td>\n",
       "      <td>NaN</td>\n",
       "      <td>0.0</td>\n",
       "      <td>NaN</td>\n",
       "      <td>NaN</td>\n",
       "      <td>NaN</td>\n",
       "      <td>NaN</td>\n",
       "      <td>NaN</td>\n",
       "      <td>NaN</td>\n",
       "      <td>NaN</td>\n",
       "      <td>NaN</td>\n",
       "    </tr>\n",
       "  </tbody>\n",
       "</table>\n",
       "<p>5 rows × 32 columns</p>\n",
       "</div>"
      ],
      "text/plain": [
       "     State    Year     Office    County      D#    R#  IND#  Proh.#  S#  SL#  \\\n",
       "0  Wyoming  1892.0  President    Albany  1041.0  1100   NaN    82.0 NaN  NaN   \n",
       "1  Wyoming  1892.0  President  Big Horn     0.0     0   NaN     0.0 NaN  NaN   \n",
       "2  Wyoming  1892.0  President    Carbon   853.0   978   NaN    40.0 NaN  NaN   \n",
       "3  Wyoming  1892.0  President  Converse   360.0   494   NaN    57.0 NaN  NaN   \n",
       "4  Wyoming  1892.0  President     Crook   516.0   399   NaN    19.0 NaN  NaN   \n",
       "\n",
       "   ...  NA#  W/I1#  W/I2#  W/I3#  W/I4#  W/I5#  Country#  I#  W/I#  \\\n",
       "0  ...  NaN    0.0    NaN    NaN    NaN    NaN       NaN NaN   NaN   \n",
       "1  ...  NaN    0.0    NaN    NaN    NaN    NaN       NaN NaN   NaN   \n",
       "2  ...  NaN    0.0    NaN    NaN    NaN    NaN       NaN NaN   NaN   \n",
       "3  ...  NaN    0.0    NaN    NaN    NaN    NaN       NaN NaN   NaN   \n",
       "4  ...  NaN    0.0    NaN    NaN    NaN    NaN       NaN NaN   NaN   \n",
       "\n",
       "   Year / Office  \n",
       "0            NaN  \n",
       "1            NaN  \n",
       "2            NaN  \n",
       "3            NaN  \n",
       "4            NaN  \n",
       "\n",
       "[5 rows x 32 columns]"
      ]
     },
     "execution_count": 2,
     "metadata": {},
     "output_type": "execute_result"
    }
   ],
   "source": [
    "#Read in Wyoming election data\n",
    "wy_votes = pd.read_csv('../ElectionData/Wyoming.csv', low_memory=False)\n",
    "wy_votes.head()"
   ]
  },
  {
   "cell_type": "code",
   "execution_count": 3,
   "metadata": {},
   "outputs": [
    {
     "name": "stdout",
     "output_type": "stream",
     "text": [
      "<class 'pandas.core.frame.DataFrame'>\n",
      "RangeIndex: 1989 entries, 0 to 1988\n",
      "Data columns (total 32 columns):\n",
      " #   Column         Non-Null Count  Dtype  \n",
      "---  ------         --------------  -----  \n",
      " 0   State          1989 non-null   object \n",
      " 1   Year           1299 non-null   float64\n",
      " 2   Office         1299 non-null   object \n",
      " 3   County         1989 non-null   object \n",
      " 4   D#             1920 non-null   float64\n",
      " 5   R#             1989 non-null   int64  \n",
      " 6   IND#           13 non-null     float64\n",
      " 7   Proh.#         163 non-null    float64\n",
      " 8   S#             219 non-null    float64\n",
      " 9   SL#            23 non-null     float64\n",
      " 10  Pop.#          13 non-null     float64\n",
      " 11  Prog.#         67 non-null     float64\n",
      " 12  U#             23 non-null     float64\n",
      " 13  Labor#         44 non-null     float64\n",
      " 14  Comm.#         46 non-null     float64\n",
      " 15  I1#            207 non-null    float64\n",
      " 16  I2#            92 non-null     float64\n",
      " 17  C#             69 non-null     float64\n",
      " 18  L#             598 non-null    float64\n",
      " 19  NL#            69 non-null     float64\n",
      " 20  Ref.#          46 non-null     float64\n",
      " 21  G#             46 non-null     float64\n",
      " 22  NA#            23 non-null     float64\n",
      " 23  W/I1#          197 non-null    float64\n",
      " 24  W/I2#          46 non-null     float64\n",
      " 25  W/I3#          46 non-null     float64\n",
      " 26  W/I4#          46 non-null     float64\n",
      " 27  W/I5#          23 non-null     float64\n",
      " 28  Country#       23 non-null     float64\n",
      " 29  I#             69 non-null     float64\n",
      " 30  W/I#           368 non-null    float64\n",
      " 31  Year / Office  690 non-null    object \n",
      "dtypes: float64(27), int64(1), object(4)\n",
      "memory usage: 497.4+ KB\n"
     ]
    }
   ],
   "source": [
    "#Louisiana column info\n",
    "wy_votes.info()"
   ]
  },
  {
   "cell_type": "code",
   "execution_count": 4,
   "metadata": {},
   "outputs": [],
   "source": [
    "#Fill NaN votes with zeroes\n",
    "wy_votes = wy_votes.fillna(0)"
   ]
  },
  {
   "cell_type": "code",
   "execution_count": 5,
   "metadata": {},
   "outputs": [],
   "source": [
    "#Convert year to numeric\n",
    "wy_votes['Year'] = pd.to_numeric(wy_votes['Year'])"
   ]
  },
  {
   "cell_type": "code",
   "execution_count": 6,
   "metadata": {},
   "outputs": [],
   "source": [
    "#Make Total Votes column\n",
    "wy_votes.loc[:,'Total Votes'] = (wy_votes.sum(axis=1)) - wy_votes['Year']"
   ]
  },
  {
   "cell_type": "code",
   "execution_count": 7,
   "metadata": {},
   "outputs": [],
   "source": [
    "#Filter rows with election results for president\n",
    "wy_pres = wy_votes[wy_votes['Office'] == 'President']"
   ]
  },
  {
   "cell_type": "code",
   "execution_count": 8,
   "metadata": {},
   "outputs": [],
   "source": [
    "#Drop office column\n",
    "wy_pres = wy_pres.drop('Office', axis = 1)"
   ]
  },
  {
   "cell_type": "code",
   "execution_count": 9,
   "metadata": {},
   "outputs": [],
   "source": [
    "#Convert year to numeric\n",
    "wy_pres['Year'] = pd.to_numeric(wy_pres['Year'])"
   ]
  },
  {
   "cell_type": "code",
   "execution_count": 10,
   "metadata": {},
   "outputs": [],
   "source": [
    "#Percentage of Democratic votes\n",
    "wy_pres['PCT_DEM'] = (round(wy_pres['D#']/wy_pres['Total Votes'],4))*100"
   ]
  },
  {
   "cell_type": "code",
   "execution_count": 11,
   "metadata": {},
   "outputs": [],
   "source": [
    "#Percentage of Republican votes\n",
    "wy_pres['PCT_REP'] = (round(wy_pres['R#']/wy_pres['Total Votes'],4))*100"
   ]
  },
  {
   "cell_type": "code",
   "execution_count": 12,
   "metadata": {},
   "outputs": [],
   "source": [
    "#Difference between Democratic and Republican votes\n",
    "wy_pres['RD_DIFF'] = wy_pres['PCT_REP'] - wy_pres['PCT_DEM']"
   ]
  },
  {
   "cell_type": "code",
   "execution_count": 13,
   "metadata": {},
   "outputs": [],
   "source": [
    "#Isolate state, year, county, and D/R difference\n",
    "wy_pres_pct = wy_pres[['State', 'Year', 'County', 'RD_DIFF']]"
   ]
  },
  {
   "cell_type": "code",
   "execution_count": 14,
   "metadata": {},
   "outputs": [],
   "source": [
    "#Filter the presidential results from 2020\n",
    "wy_pres_pct_2020 = wy_pres_pct[wy_pres_pct['Year'] == 2020]"
   ]
  },
  {
   "cell_type": "code",
   "execution_count": 15,
   "metadata": {},
   "outputs": [],
   "source": [
    "#Counties on US Route 14\n",
    "wy_counties = ['Niobrara']"
   ]
  },
  {
   "cell_type": "code",
   "execution_count": 16,
   "metadata": {},
   "outputs": [],
   "source": [
    "#Repeat for South Dakota\n",
    "sd_vote = pd.read_csv('../ElectionData/South Dakota.csv', low_memory=False)\n",
    "sd_votes = pd.DataFrame(sd_vote[sd_vote.Year == 2020])\n",
    "sd_votes = sd_votes.fillna(0)\n",
    "sd_votes['Year'] = pd.to_numeric(sd_votes['Year'])\n",
    "sd_votes.loc[:,'Total Votes'] = (sd_votes.sum(axis=1)) - sd_votes['Year']\n",
    "sd_pres = sd_votes[sd_votes['Office'] == 'President']\n",
    "sd_pres = sd_pres.drop('Office', axis = 1)\n",
    "sd_pres['Year'] = pd.to_numeric(sd_pres['Year'])\n",
    "sd_pres['PCT_DEM'] = (round(sd_pres['D#']/sd_pres['Total Votes'],4))*100\n",
    "sd_pres['PCT_REP'] = (round(sd_pres['R#']/sd_pres['Total Votes'],4))*100\n",
    "sd_pres['RD_DIFF'] = sd_pres['PCT_REP'] - sd_pres['PCT_DEM']\n",
    "sd_pres_pct = sd_pres[['State', 'Year', 'County', 'RD_DIFF']]\n",
    "sd_counties = ['Fall River', 'Shannon', 'Bennett', 'Todd', 'Tripp', 'Gregory', 'Charles Mix', 'Douglas', \\\n",
    "               'Hutchinson', 'Turner', 'Lincoln']"
   ]
  },
  {
   "cell_type": "code",
   "execution_count": 17,
   "metadata": {},
   "outputs": [],
   "source": [
    "#Repeat for Iowa\n",
    "ia_vote = pd.read_csv('../ElectionData/Iowa.csv', low_memory=False)\n",
    "ia_votes = pd.DataFrame(ia_vote[ia_vote.Year == 2020])\n",
    "ia_votes = ia_votes.fillna(0)\n",
    "ia_votes['Year'] = pd.to_numeric(ia_votes['Year'])\n",
    "ia_votes.loc[:,'Total Votes'] = (ia_votes.sum(axis=1)) - ia_votes['Year']\n",
    "ia_pres = ia_votes[ia_votes['Office'] == 'President']\n",
    "ia_pres = ia_pres.drop('Office', axis = 1)\n",
    "ia_pres['Year'] = pd.to_numeric(ia_pres['Year'])\n",
    "ia_pres['PCT_DEM'] = (round(ia_pres['D#']/ia_pres['Total Votes'],4))*100\n",
    "ia_pres['PCT_REP'] = (round(ia_pres['R#']/ia_pres['Total Votes'],4))*100\n",
    "ia_pres['RD_DIFF'] = ia_pres['PCT_REP'] - ia_pres['PCT_DEM']\n",
    "ia_pres_pct = ia_pres[['State', 'Year', 'County', 'RD_DIFF']]\n",
    "ia_counties = ['Lyon', 'Sioux', 'O\\'Brien', 'Clay', 'Palo Alto', 'Kossuth', 'Hancock', 'Cerro Gordo', 'Floyd', 'Chickasaw',\\\n",
    "               'Fayette', 'Allamakee', 'Clayton']"
   ]
  },
  {
   "cell_type": "code",
   "execution_count": 18,
   "metadata": {},
   "outputs": [],
   "source": [
    "#Repeat for Wisconsin\n",
    "wi_votes = pd.read_csv('../ElectionData/Wisconsin.csv', low_memory=False)\n",
    "wi_votes = wi_votes.fillna(0)\n",
    "wi_votes['Year'] = pd.to_numeric(wi_votes['Year'])\n",
    "wi_votes.loc[:,'Total Votes'] = (wi_votes.sum(axis=1)) - wi_votes['Year']\n",
    "wi_pres = wi_votes[wi_votes['Office'] == 'President']\n",
    "wi_pres = wi_pres.drop('Office', axis = 1)\n",
    "wi_pres['Year'] = pd.to_numeric(wi_pres['Year'])\n",
    "wi_pres['PCT_DEM'] = (round(wi_pres['D#']/wi_pres['Total Votes'],4))*100\n",
    "wi_pres['PCT_REP'] = (round(wi_pres['R#']/wi_pres['Total Votes'],4))*100\n",
    "wi_pres['RD_DIFF'] = wi_pres['PCT_REP'] - wi_pres['PCT_DEM']\n",
    "wi_pres_pct = wi_pres[['State', 'Year', 'County', 'RD_DIFF']]\n",
    "wi_pres_pct_2020 = wi_pres_pct[wi_pres_pct['Year'] == 2020]\n",
    "wi_counties = ['Crawford', 'Grant', 'Iowa', 'Dane', 'Jefferson', 'Waukesha', 'Milwaukee']"
   ]
  },
  {
   "cell_type": "markdown",
   "metadata": {},
   "source": [
    "Now find the margins from each county."
   ]
  },
  {
   "cell_type": "code",
   "execution_count": 19,
   "metadata": {},
   "outputs": [
    {
     "name": "stdout",
     "output_type": "stream",
     "text": [
      "        State    Year    County  RD_DIFF\n",
      "1956  Wyoming  2020.0  Niobrara    73.62\n"
     ]
    }
   ],
   "source": [
    "for c in wy_counties:\n",
    "    print(wy_pres_pct_2020[wy_pres_pct_2020['County'] == c])"
   ]
  },
  {
   "cell_type": "code",
   "execution_count": 20,
   "metadata": {},
   "outputs": [
    {
     "name": "stdout",
     "output_type": "stream",
     "text": [
      "             State    Year      County  RD_DIFF\n",
      "6852  South Dakota  2020.0  Fall River    45.15\n",
      "             State    Year   County  RD_DIFF\n",
      "6885  South Dakota  2020.0  Shannon   -79.13\n",
      "             State    Year   County  RD_DIFF\n",
      "6832  South Dakota  2020.0  Bennett    19.27\n",
      "             State    Year County  RD_DIFF\n",
      "6889  South Dakota  2020.0   Todd   -56.36\n",
      "             State    Year County  RD_DIFF\n",
      "6890  South Dakota  2020.0  Tripp     61.8\n",
      "             State    Year   County  RD_DIFF\n",
      "6855  South Dakota  2020.0  Gregory    58.28\n",
      "             State    Year       County  RD_DIFF\n",
      "6840  South Dakota  2020.0  Charles Mix    36.35\n",
      "             State    Year   County  RD_DIFF\n",
      "6850  South Dakota  2020.0  Douglas    73.35\n",
      "             State    Year      County  RD_DIFF\n",
      "6862  South Dakota  2020.0  Hutchinson    57.92\n",
      "             State    Year  County  RD_DIFF\n",
      "6891  South Dakota  2020.0  Turner     47.3\n",
      "             State    Year   County  RD_DIFF\n",
      "6870  South Dakota  2020.0  Lincoln    23.57\n"
     ]
    }
   ],
   "source": [
    "for c in sd_counties:\n",
    "    print(sd_pres_pct[sd_pres_pct['County'] == c])"
   ]
  },
  {
   "cell_type": "code",
   "execution_count": 21,
   "metadata": {},
   "outputs": [
    {
     "name": "stdout",
     "output_type": "stream",
     "text": [
      "      State  Year County  RD_DIFF\n",
      "16493  Iowa  2020   Lyon    67.61\n",
      "      State  Year County  RD_DIFF\n",
      "16517  Iowa  2020  Sioux    66.46\n",
      "      State  Year   County  RD_DIFF\n",
      "16504  Iowa  2020  O'Brien    56.84\n",
      "      State  Year County  RD_DIFF\n",
      "16454  Iowa  2020   Clay    38.74\n",
      "      State  Year     County  RD_DIFF\n",
      "16507  Iowa  2020  Palo Alto    37.33\n",
      "      State  Year   County  RD_DIFF\n",
      "16488  Iowa  2020  Kossuth    39.37\n",
      "      State  Year   County  RD_DIFF\n",
      "16474  Iowa  2020  Hancock    43.86\n",
      "      State  Year       County  RD_DIFF\n",
      "16450  Iowa  2020  Cerro Gordo     6.31\n",
      "      State  Year County  RD_DIFF\n",
      "16467  Iowa  2020  Floyd    19.42\n",
      "      State  Year     County  RD_DIFF\n",
      "16452  Iowa  2020  Chickasaw    31.29\n",
      "      State  Year   County  RD_DIFF\n",
      "16466  Iowa  2020  Fayette    22.68\n",
      "      State  Year     County  RD_DIFF\n",
      "16436  Iowa  2020  Allamakee    29.09\n",
      "      State  Year   County  RD_DIFF\n",
      "16455  Iowa  2020  Clayton    28.83\n"
     ]
    }
   ],
   "source": [
    "for c in ia_counties:\n",
    "    print(ia_pres_pct[ia_pres_pct['County'] == c])"
   ]
  },
  {
   "cell_type": "code",
   "execution_count": 22,
   "metadata": {},
   "outputs": [
    {
     "name": "stdout",
     "output_type": "stream",
     "text": [
      "           State    Year    County  RD_DIFF\n",
      "11534  Wisconsin  2020.0  Crawford     7.67\n",
      "           State    Year County  RD_DIFF\n",
      "11544  Wisconsin  2020.0  Grant    12.27\n",
      "           State    Year County  RD_DIFF\n",
      "11547  Wisconsin  2020.0   Iowa   -13.72\n",
      "           State    Year County  RD_DIFF\n",
      "11535  Wisconsin  2020.0   Dane    -52.6\n",
      "           State    Year     County  RD_DIFF\n",
      "11550  Wisconsin  2020.0  Jefferson    15.23\n",
      "           State    Year    County  RD_DIFF\n",
      "11590  Wisconsin  2020.0  Waukesha     20.8\n",
      "           State    Year     County  RD_DIFF\n",
      "11563  Wisconsin  2020.0  Milwaukee   -39.82\n"
     ]
    }
   ],
   "source": [
    "for c in wi_counties:\n",
    "    print(wi_pres_pct_2020[wi_pres_pct_2020['County'] == c])"
   ]
  }
 ],
 "metadata": {
  "kernelspec": {
   "display_name": "Python 3",
   "language": "python",
   "name": "python3"
  },
  "language_info": {
   "codemirror_mode": {
    "name": "ipython",
    "version": 3
   },
   "file_extension": ".py",
   "mimetype": "text/x-python",
   "name": "python",
   "nbconvert_exporter": "python",
   "pygments_lexer": "ipython3",
   "version": "3.8.5"
  }
 },
 "nbformat": 4,
 "nbformat_minor": 4
}
