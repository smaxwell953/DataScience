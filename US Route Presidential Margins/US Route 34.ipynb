{
 "cells": [
  {
   "cell_type": "markdown",
   "metadata": {},
   "source": [
    "### <h2>Calculating 2020 Presidential Margins Along U.S. Route 34</h2>"
   ]
  },
  {
   "cell_type": "code",
   "execution_count": 1,
   "metadata": {},
   "outputs": [],
   "source": [
    "#Import relevant libraries\n",
    "import numpy as np\n",
    "import pandas as pd\n",
    "import warnings\n",
    "warnings.filterwarnings(\"ignore\")"
   ]
  },
  {
   "cell_type": "code",
   "execution_count": 2,
   "metadata": {},
   "outputs": [],
   "source": [
    "#Colorado\n",
    "co_vote = pd.read_csv('../ElectionData/Colorado.csv', low_memory=False)\n",
    "co_votes = pd.DataFrame(co_vote[co_vote.Year == '2020'])\n",
    "co_votes = co_votes.fillna(0)\n",
    "co_votes['Year'] = pd.to_numeric(co_votes['Year'])\n",
    "co_votes.loc[:,'Total Votes'] = (co_votes.sum(axis=1)) - co_votes['Year']\n",
    "co_pres = co_votes[co_votes['Office'] == 'President']\n",
    "co_pres = co_pres.drop('Office', axis = 1)\n",
    "co_pres['Year'] = pd.to_numeric(co_pres['Year'])\n",
    "co_pres['PCT_DEM'] = (round(co_pres['D#']/co_pres['Total Votes'],4))*100\n",
    "co_pres['PCT_REP'] = (round(co_pres['R#']/co_pres['Total Votes'],4))*100\n",
    "co_pres['RD_DIFF'] = co_pres['PCT_REP'] - co_pres['PCT_DEM']\n",
    "co_pres_pct = co_pres[['State', 'Year', 'County', 'RD_DIFF']]\n",
    "co_pres_pct_2020 = co_pres_pct[co_pres_pct['Year'] == 2020]\n",
    "co_counties = ['Grand', 'Larimer', 'Weld', 'Morgan', 'Washington', 'Yuma']"
   ]
  },
  {
   "cell_type": "code",
   "execution_count": 3,
   "metadata": {},
   "outputs": [],
   "source": [
    "#Nebraska\n",
    "ne_votes = pd.read_csv('../ElectionData/Nebraska.csv', low_memory=False)\n",
    "ne_votes = ne_votes.fillna(0)\n",
    "ne_votes['Year'] = pd.to_numeric(ne_votes['Year'])\n",
    "ne_votes.loc[:,'Total Votes'] = (ne_votes.sum(axis=1)) - ne_votes['Year']\n",
    "ne_pres = ne_votes[ne_votes['Office'] == 'President']\n",
    "ne_pres = ne_pres.drop('Office', axis = 1)\n",
    "ne_pres['Year'] = pd.to_numeric(ne_pres['Year'])\n",
    "ne_pres['PCT_DEM'] = (round(ne_pres['D#']/ne_pres['Total Votes'],4))*100\n",
    "ne_pres['PCT_REP'] = (round(ne_pres['R#']/ne_pres['Total Votes'],4))*100\n",
    "ne_pres['RD_DIFF'] = ne_pres['PCT_REP'] - ne_pres['PCT_DEM']\n",
    "ne_pres_pct = ne_pres[['State', 'Year', 'County', 'RD_DIFF']]\n",
    "ne_pres_pct_2020 = ne_pres_pct[ne_pres_pct['Year'] == 2020]\n",
    "ne_counties = ['Dundy', 'Hitchcock', 'Red Willow', 'Furnas', 'Harlan', 'Phelps', 'Kearney', 'Adams', 'Hall', 'Merrick',\\\n",
    "               'Hamilton', 'York', 'Seward', 'Lancaster', 'Cass', 'Sarpy']"
   ]
  },
  {
   "cell_type": "code",
   "execution_count": 4,
   "metadata": {},
   "outputs": [],
   "source": [
    "#Iowa\n",
    "ia_votes = pd.read_csv('../ElectionData/Iowa.csv', low_memory=False)\n",
    "ia_votes = ia_votes.fillna(0)\n",
    "ia_votes['Year'] = pd.to_numeric(ia_votes['Year'])\n",
    "ia_votes.loc[:,'Total Votes'] = (ia_votes.sum(axis=1)) - ia_votes['Year']\n",
    "ia_pres = ia_votes[ia_votes['Office'] == 'President']\n",
    "ia_pres = ia_pres.drop('Office', axis = 1)\n",
    "ia_pres['Year'] = pd.to_numeric(ia_pres['Year'])\n",
    "ia_pres['PCT_DEM'] = (round(ia_pres['D#']/ia_pres['Total Votes'],4))*100\n",
    "ia_pres['PCT_REP'] = (round(ia_pres['R#']/ia_pres['Total Votes'],4))*100\n",
    "ia_pres['RD_DIFF'] = ia_pres['PCT_REP'] - ia_pres['PCT_DEM']\n",
    "ia_pres_pct = ia_pres[['State', 'Year', 'County', 'RD_DIFF']]\n",
    "ia_pres_pct_2020 = ia_pres_pct[ia_pres_pct['Year'] == 2020]\n",
    "ia_counties = ['Mills', 'Montgomery', 'Adams', 'Union', 'Clarke', 'Lucas', 'Monroe', 'Wapello', 'Jefferson', 'Henry',\\\n",
    "               'Des Moines']"
   ]
  },
  {
   "cell_type": "code",
   "execution_count": 5,
   "metadata": {},
   "outputs": [],
   "source": [
    "#Illinois\n",
    "il_votes = pd.read_csv('../ElectionData/Illinois.csv', low_memory=False)\n",
    "il_votes = il_votes.fillna(0)\n",
    "il_votes['Year'] = pd.to_numeric(il_votes['Year'])\n",
    "il_votes.loc[:,'Total Votes'] = (il_votes.sum(axis=1)) - il_votes['Year']\n",
    "il_pres = il_votes[il_votes['Office'] == 'President']\n",
    "il_pres = il_pres.drop('Office', axis = 1)\n",
    "il_pres['Year'] = pd.to_numeric(il_pres['Year'])\n",
    "il_pres['PCT_DEM'] = (round(il_pres['D#']/il_pres['Total Votes'],4))*100\n",
    "il_pres['PCT_REP'] = (round(il_pres['R#']/il_pres['Total Votes'],4))*100\n",
    "il_pres['RD_DIFF'] = il_pres['PCT_REP'] - il_pres['PCT_DEM']\n",
    "il_pres_pct = il_pres[['State', 'Year', 'County', 'RD_DIFF']]\n",
    "il_pres_pct_2020 = il_pres_pct[il_pres_pct['Year'] == 2020]\n",
    "il_counties = ['Henderson', 'Warren', 'Knox', 'Henry', 'Bureau', 'LaSalle', 'DeKalb', 'Kendall', 'Kane', 'DuPage', 'Cook']"
   ]
  },
  {
   "cell_type": "code",
   "execution_count": 6,
   "metadata": {},
   "outputs": [
    {
     "name": "stdout",
     "output_type": "stream",
     "text": [
      "          State  Year County  RD_DIFF\n",
      "19263  Colorado  2020  Grand     1.75\n",
      "          State  Year   County  RD_DIFF\n",
      "19273  Colorado  2020  Larimer   -15.44\n",
      "          State  Year County  RD_DIFF\n",
      "19300  Colorado  2020   Weld    18.02\n",
      "          State  Year  County  RD_DIFF\n",
      "19282  Colorado  2020  Morgan     41.6\n",
      "          State  Year      County  RD_DIFF\n",
      "19299  Colorado  2020  Washington     74.0\n",
      "          State  Year County  RD_DIFF\n",
      "19301  Colorado  2020   Yuma    66.69\n"
     ]
    }
   ],
   "source": [
    "for c in co_counties:\n",
    "    print(co_pres_pct[co_pres_pct['County'] == c])"
   ]
  },
  {
   "cell_type": "code",
   "execution_count": 7,
   "metadata": {},
   "outputs": [
    {
     "name": "stdout",
     "output_type": "stream",
     "text": [
      "          State    Year County  RD_DIFF\n",
      "11648  Nebraska  2020.0  Dundy    77.57\n",
      "          State    Year     County  RD_DIFF\n",
      "11663  Nebraska  2020.0  Hitchcock    74.09\n",
      "          State    Year      County  RD_DIFF\n",
      "11692  Nebraska  2020.0  Red Willow    67.89\n",
      "          State    Year  County  RD_DIFF\n",
      "11652  Nebraska  2020.0  Furnas     67.8\n",
      "          State    Year  County  RD_DIFF\n",
      "11661  Nebraska  2020.0  Harlan    68.93\n",
      "          State    Year  County  RD_DIFF\n",
      "11688  Nebraska  2020.0  Phelps    67.81\n",
      "          State    Year   County  RD_DIFF\n",
      "11669  Nebraska  2020.0  Kearney    58.64\n",
      "          State    Year County  RD_DIFF\n",
      "11620  Nebraska  2020.0  Adams    40.08\n",
      "          State    Year County  RD_DIFF\n",
      "11659  Nebraska  2020.0   Hall    34.79\n",
      "          State    Year   County  RD_DIFF\n",
      "11680  Nebraska  2020.0  Merrick     62.5\n",
      "          State    Year    County  RD_DIFF\n",
      "11660  Nebraska  2020.0  Hamilton    57.33\n",
      "          State    Year County  RD_DIFF\n",
      "11712  Nebraska  2020.0   York    51.77\n",
      "          State    Year  County  RD_DIFF\n",
      "11699  Nebraska  2020.0  Seward    44.05\n",
      "          State    Year     County  RD_DIFF\n",
      "11674  Nebraska  2020.0  Lancaster    -7.76\n",
      "          State    Year County  RD_DIFF\n",
      "11632  Nebraska  2020.0   Cass    35.13\n",
      "          State    Year County  RD_DIFF\n",
      "11696  Nebraska  2020.0  Sarpy     11.2\n"
     ]
    }
   ],
   "source": [
    "for c in ne_counties:\n",
    "    print(ne_pres_pct_2020[ne_pres_pct_2020['County'] == c])"
   ]
  },
  {
   "cell_type": "code",
   "execution_count": 8,
   "metadata": {},
   "outputs": [
    {
     "name": "stdout",
     "output_type": "stream",
     "text": [
      "      State  Year County  RD_DIFF\n",
      "16498  Iowa  2020  Mills    37.22\n",
      "      State  Year      County  RD_DIFF\n",
      "16502  Iowa  2020  Montgomery    38.97\n",
      "      State  Year County  RD_DIFF\n",
      "16435  Iowa  2020  Adams    43.52\n",
      "      State  Year County  RD_DIFF\n",
      "16521  Iowa  2020  Union    31.51\n",
      "      State  Year  County  RD_DIFF\n",
      "16453  Iowa  2020  Clarke    35.93\n",
      "      State  Year County  RD_DIFF\n",
      "16492  Iowa  2020  Lucas    43.26\n",
      "      State  Year  County  RD_DIFF\n",
      "16501  Iowa  2020  Monroe     46.4\n",
      "      State  Year   County  RD_DIFF\n",
      "16523  Iowa  2020  Wapello    23.63\n",
      "      State  Year     County  RD_DIFF\n",
      "16484  Iowa  2020  Jefferson     1.38\n",
      "      State  Year County  RD_DIFF\n",
      "16477  Iowa  2020  Henry    32.38\n",
      "      State  Year      County  RD_DIFF\n",
      "16462  Iowa  2020  Des Moines     8.52\n"
     ]
    }
   ],
   "source": [
    "for c in ia_counties:\n",
    "    print(ia_pres_pct_2020[ia_pres_pct_2020['County'] == c])"
   ]
  },
  {
   "cell_type": "code",
   "execution_count": 9,
   "metadata": {},
   "outputs": [
    {
     "name": "stdout",
     "output_type": "stream",
     "text": [
      "          State  Year     County  RD_DIFF\n",
      "19925  Illinois  2020  Henderson    33.09\n",
      "          State  Year  County  RD_DIFF\n",
      "19983  Illinois  2020  Warren    20.01\n",
      "          State  Year County  RD_DIFF\n",
      "19937  Illinois  2020   Knox     5.63\n",
      "          State  Year County  RD_DIFF\n",
      "19926  Illinois  2020  Henry    21.41\n",
      "          State  Year  County  RD_DIFF\n",
      "19895  Illinois  2020  Bureau    21.39\n",
      "          State  Year   County  RD_DIFF\n",
      "19939  Illinois  2020  LaSalle    14.29\n",
      "          State  Year  County  RD_DIFF\n",
      "19908  Illinois  2020  DeKalb     -5.7\n",
      "          State  Year   County  RD_DIFF\n",
      "19936  Illinois  2020  Kendall    -5.73\n",
      "          State  Year County  RD_DIFF\n",
      "19934  Illinois  2020   Kane    -14.4\n",
      "          State  Year  County  RD_DIFF\n",
      "19911  Illinois  2020  DuPage   -17.96\n",
      "          State  Year County  RD_DIFF\n",
      "19905  Illinois  2020   Cook   -50.21\n"
     ]
    }
   ],
   "source": [
    "for c in il_counties:\n",
    "    print(il_pres_pct_2020[il_pres_pct_2020['County'] == c])"
   ]
  }
 ],
 "metadata": {
  "kernelspec": {
   "display_name": "Python 3",
   "language": "python",
   "name": "python3"
  },
  "language_info": {
   "codemirror_mode": {
    "name": "ipython",
    "version": 3
   },
   "file_extension": ".py",
   "mimetype": "text/x-python",
   "name": "python",
   "nbconvert_exporter": "python",
   "pygments_lexer": "ipython3",
   "version": "3.8.5"
  }
 },
 "nbformat": 4,
 "nbformat_minor": 4
}
