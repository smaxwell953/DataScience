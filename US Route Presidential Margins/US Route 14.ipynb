{
 "cells": [
  {
   "cell_type": "markdown",
   "metadata": {},
   "source": [
    "#### <h2>Calculating 2020 Presidential Margins Along U.S. Route 14</h2>"
   ]
  },
  {
   "cell_type": "code",
   "execution_count": 1,
   "metadata": {},
   "outputs": [],
   "source": [
    "#Import relevant libraries\n",
    "import numpy as np\n",
    "import pandas as pd\n",
    "import warnings\n",
    "warnings.filterwarnings(\"ignore\")"
   ]
  },
  {
   "cell_type": "code",
   "execution_count": 2,
   "metadata": {},
   "outputs": [
    {
     "data": {
      "text/html": [
       "<div>\n",
       "<style scoped>\n",
       "    .dataframe tbody tr th:only-of-type {\n",
       "        vertical-align: middle;\n",
       "    }\n",
       "\n",
       "    .dataframe tbody tr th {\n",
       "        vertical-align: top;\n",
       "    }\n",
       "\n",
       "    .dataframe thead th {\n",
       "        text-align: right;\n",
       "    }\n",
       "</style>\n",
       "<table border=\"1\" class=\"dataframe\">\n",
       "  <thead>\n",
       "    <tr style=\"text-align: right;\">\n",
       "      <th></th>\n",
       "      <th>State</th>\n",
       "      <th>Year</th>\n",
       "      <th>Office</th>\n",
       "      <th>County</th>\n",
       "      <th>D#</th>\n",
       "      <th>R#</th>\n",
       "      <th>IND#</th>\n",
       "      <th>Proh.#</th>\n",
       "      <th>S#</th>\n",
       "      <th>SL#</th>\n",
       "      <th>...</th>\n",
       "      <th>NA#</th>\n",
       "      <th>W/I1#</th>\n",
       "      <th>W/I2#</th>\n",
       "      <th>W/I3#</th>\n",
       "      <th>W/I4#</th>\n",
       "      <th>W/I5#</th>\n",
       "      <th>Country#</th>\n",
       "      <th>I#</th>\n",
       "      <th>W/I#</th>\n",
       "      <th>Year / Office</th>\n",
       "    </tr>\n",
       "  </thead>\n",
       "  <tbody>\n",
       "    <tr>\n",
       "      <th>0</th>\n",
       "      <td>Wyoming</td>\n",
       "      <td>1892.0</td>\n",
       "      <td>President</td>\n",
       "      <td>Albany</td>\n",
       "      <td>1041.0</td>\n",
       "      <td>1100</td>\n",
       "      <td>NaN</td>\n",
       "      <td>82.0</td>\n",
       "      <td>NaN</td>\n",
       "      <td>NaN</td>\n",
       "      <td>...</td>\n",
       "      <td>NaN</td>\n",
       "      <td>0.0</td>\n",
       "      <td>NaN</td>\n",
       "      <td>NaN</td>\n",
       "      <td>NaN</td>\n",
       "      <td>NaN</td>\n",
       "      <td>NaN</td>\n",
       "      <td>NaN</td>\n",
       "      <td>NaN</td>\n",
       "      <td>NaN</td>\n",
       "    </tr>\n",
       "    <tr>\n",
       "      <th>1</th>\n",
       "      <td>Wyoming</td>\n",
       "      <td>1892.0</td>\n",
       "      <td>President</td>\n",
       "      <td>Big Horn</td>\n",
       "      <td>0.0</td>\n",
       "      <td>0</td>\n",
       "      <td>NaN</td>\n",
       "      <td>0.0</td>\n",
       "      <td>NaN</td>\n",
       "      <td>NaN</td>\n",
       "      <td>...</td>\n",
       "      <td>NaN</td>\n",
       "      <td>0.0</td>\n",
       "      <td>NaN</td>\n",
       "      <td>NaN</td>\n",
       "      <td>NaN</td>\n",
       "      <td>NaN</td>\n",
       "      <td>NaN</td>\n",
       "      <td>NaN</td>\n",
       "      <td>NaN</td>\n",
       "      <td>NaN</td>\n",
       "    </tr>\n",
       "    <tr>\n",
       "      <th>2</th>\n",
       "      <td>Wyoming</td>\n",
       "      <td>1892.0</td>\n",
       "      <td>President</td>\n",
       "      <td>Carbon</td>\n",
       "      <td>853.0</td>\n",
       "      <td>978</td>\n",
       "      <td>NaN</td>\n",
       "      <td>40.0</td>\n",
       "      <td>NaN</td>\n",
       "      <td>NaN</td>\n",
       "      <td>...</td>\n",
       "      <td>NaN</td>\n",
       "      <td>0.0</td>\n",
       "      <td>NaN</td>\n",
       "      <td>NaN</td>\n",
       "      <td>NaN</td>\n",
       "      <td>NaN</td>\n",
       "      <td>NaN</td>\n",
       "      <td>NaN</td>\n",
       "      <td>NaN</td>\n",
       "      <td>NaN</td>\n",
       "    </tr>\n",
       "    <tr>\n",
       "      <th>3</th>\n",
       "      <td>Wyoming</td>\n",
       "      <td>1892.0</td>\n",
       "      <td>President</td>\n",
       "      <td>Converse</td>\n",
       "      <td>360.0</td>\n",
       "      <td>494</td>\n",
       "      <td>NaN</td>\n",
       "      <td>57.0</td>\n",
       "      <td>NaN</td>\n",
       "      <td>NaN</td>\n",
       "      <td>...</td>\n",
       "      <td>NaN</td>\n",
       "      <td>0.0</td>\n",
       "      <td>NaN</td>\n",
       "      <td>NaN</td>\n",
       "      <td>NaN</td>\n",
       "      <td>NaN</td>\n",
       "      <td>NaN</td>\n",
       "      <td>NaN</td>\n",
       "      <td>NaN</td>\n",
       "      <td>NaN</td>\n",
       "    </tr>\n",
       "    <tr>\n",
       "      <th>4</th>\n",
       "      <td>Wyoming</td>\n",
       "      <td>1892.0</td>\n",
       "      <td>President</td>\n",
       "      <td>Crook</td>\n",
       "      <td>516.0</td>\n",
       "      <td>399</td>\n",
       "      <td>NaN</td>\n",
       "      <td>19.0</td>\n",
       "      <td>NaN</td>\n",
       "      <td>NaN</td>\n",
       "      <td>...</td>\n",
       "      <td>NaN</td>\n",
       "      <td>0.0</td>\n",
       "      <td>NaN</td>\n",
       "      <td>NaN</td>\n",
       "      <td>NaN</td>\n",
       "      <td>NaN</td>\n",
       "      <td>NaN</td>\n",
       "      <td>NaN</td>\n",
       "      <td>NaN</td>\n",
       "      <td>NaN</td>\n",
       "    </tr>\n",
       "  </tbody>\n",
       "</table>\n",
       "<p>5 rows × 32 columns</p>\n",
       "</div>"
      ],
      "text/plain": [
       "     State    Year     Office    County      D#    R#  IND#  Proh.#  S#  SL#  \\\n",
       "0  Wyoming  1892.0  President    Albany  1041.0  1100   NaN    82.0 NaN  NaN   \n",
       "1  Wyoming  1892.0  President  Big Horn     0.0     0   NaN     0.0 NaN  NaN   \n",
       "2  Wyoming  1892.0  President    Carbon   853.0   978   NaN    40.0 NaN  NaN   \n",
       "3  Wyoming  1892.0  President  Converse   360.0   494   NaN    57.0 NaN  NaN   \n",
       "4  Wyoming  1892.0  President     Crook   516.0   399   NaN    19.0 NaN  NaN   \n",
       "\n",
       "   ...  NA#  W/I1#  W/I2#  W/I3#  W/I4#  W/I5#  Country#  I#  W/I#  \\\n",
       "0  ...  NaN    0.0    NaN    NaN    NaN    NaN       NaN NaN   NaN   \n",
       "1  ...  NaN    0.0    NaN    NaN    NaN    NaN       NaN NaN   NaN   \n",
       "2  ...  NaN    0.0    NaN    NaN    NaN    NaN       NaN NaN   NaN   \n",
       "3  ...  NaN    0.0    NaN    NaN    NaN    NaN       NaN NaN   NaN   \n",
       "4  ...  NaN    0.0    NaN    NaN    NaN    NaN       NaN NaN   NaN   \n",
       "\n",
       "   Year / Office  \n",
       "0            NaN  \n",
       "1            NaN  \n",
       "2            NaN  \n",
       "3            NaN  \n",
       "4            NaN  \n",
       "\n",
       "[5 rows x 32 columns]"
      ]
     },
     "execution_count": 2,
     "metadata": {},
     "output_type": "execute_result"
    }
   ],
   "source": [
    "#Read in Wyoming election data\n",
    "wy_votes = pd.read_csv('../ElectionData/Wyoming.csv', low_memory=False)\n",
    "wy_votes.head()"
   ]
  },
  {
   "cell_type": "code",
   "execution_count": 3,
   "metadata": {},
   "outputs": [
    {
     "name": "stdout",
     "output_type": "stream",
     "text": [
      "<class 'pandas.core.frame.DataFrame'>\n",
      "RangeIndex: 1989 entries, 0 to 1988\n",
      "Data columns (total 32 columns):\n",
      " #   Column         Non-Null Count  Dtype  \n",
      "---  ------         --------------  -----  \n",
      " 0   State          1989 non-null   object \n",
      " 1   Year           1299 non-null   float64\n",
      " 2   Office         1299 non-null   object \n",
      " 3   County         1989 non-null   object \n",
      " 4   D#             1920 non-null   float64\n",
      " 5   R#             1989 non-null   int64  \n",
      " 6   IND#           13 non-null     float64\n",
      " 7   Proh.#         163 non-null    float64\n",
      " 8   S#             219 non-null    float64\n",
      " 9   SL#            23 non-null     float64\n",
      " 10  Pop.#          13 non-null     float64\n",
      " 11  Prog.#         67 non-null     float64\n",
      " 12  U#             23 non-null     float64\n",
      " 13  Labor#         44 non-null     float64\n",
      " 14  Comm.#         46 non-null     float64\n",
      " 15  I1#            207 non-null    float64\n",
      " 16  I2#            92 non-null     float64\n",
      " 17  C#             69 non-null     float64\n",
      " 18  L#             598 non-null    float64\n",
      " 19  NL#            69 non-null     float64\n",
      " 20  Ref.#          46 non-null     float64\n",
      " 21  G#             46 non-null     float64\n",
      " 22  NA#            23 non-null     float64\n",
      " 23  W/I1#          197 non-null    float64\n",
      " 24  W/I2#          46 non-null     float64\n",
      " 25  W/I3#          46 non-null     float64\n",
      " 26  W/I4#          46 non-null     float64\n",
      " 27  W/I5#          23 non-null     float64\n",
      " 28  Country#       23 non-null     float64\n",
      " 29  I#             69 non-null     float64\n",
      " 30  W/I#           368 non-null    float64\n",
      " 31  Year / Office  690 non-null    object \n",
      "dtypes: float64(27), int64(1), object(4)\n",
      "memory usage: 497.4+ KB\n"
     ]
    }
   ],
   "source": [
    "#Louisiana column info\n",
    "wy_votes.info()"
   ]
  },
  {
   "cell_type": "code",
   "execution_count": 4,
   "metadata": {},
   "outputs": [],
   "source": [
    "#Fill NaN votes with zeroes\n",
    "wy_votes = wy_votes.fillna(0)"
   ]
  },
  {
   "cell_type": "code",
   "execution_count": 5,
   "metadata": {},
   "outputs": [],
   "source": [
    "#Convert year to numeric\n",
    "wy_votes['Year'] = pd.to_numeric(wy_votes['Year'])"
   ]
  },
  {
   "cell_type": "code",
   "execution_count": 6,
   "metadata": {},
   "outputs": [],
   "source": [
    "#Make Total Votes column\n",
    "wy_votes.loc[:,'Total Votes'] = (wy_votes.sum(axis=1)) - wy_votes['Year']"
   ]
  },
  {
   "cell_type": "code",
   "execution_count": 7,
   "metadata": {},
   "outputs": [],
   "source": [
    "#Filter rows with election results for president\n",
    "wy_pres = wy_votes[wy_votes['Office'] == 'President']"
   ]
  },
  {
   "cell_type": "code",
   "execution_count": 8,
   "metadata": {},
   "outputs": [],
   "source": [
    "#Drop office column\n",
    "wy_pres = wy_pres.drop('Office', axis = 1)"
   ]
  },
  {
   "cell_type": "code",
   "execution_count": 9,
   "metadata": {},
   "outputs": [],
   "source": [
    "#Convert year to numeric\n",
    "wy_pres['Year'] = pd.to_numeric(wy_pres['Year'])"
   ]
  },
  {
   "cell_type": "code",
   "execution_count": 10,
   "metadata": {},
   "outputs": [],
   "source": [
    "#Percentage of Democratic votes\n",
    "wy_pres['PCT_DEM'] = (round(wy_pres['D#']/wy_pres['Total Votes'],4))*100"
   ]
  },
  {
   "cell_type": "code",
   "execution_count": 11,
   "metadata": {},
   "outputs": [],
   "source": [
    "#Percentage of Republican votes\n",
    "wy_pres['PCT_REP'] = (round(wy_pres['R#']/wy_pres['Total Votes'],4))*100"
   ]
  },
  {
   "cell_type": "code",
   "execution_count": 12,
   "metadata": {},
   "outputs": [],
   "source": [
    "#Difference between Democratic and Republican votes\n",
    "wy_pres['RD_DIFF'] = wy_pres['PCT_REP'] - wy_pres['PCT_DEM']"
   ]
  },
  {
   "cell_type": "code",
   "execution_count": 13,
   "metadata": {},
   "outputs": [],
   "source": [
    "#Isolate state, year, county, and D/R difference\n",
    "wy_pres_pct = wy_pres[['State', 'Year', 'County', 'RD_DIFF']]"
   ]
  },
  {
   "cell_type": "code",
   "execution_count": 14,
   "metadata": {},
   "outputs": [],
   "source": [
    "#Filter the presidential results from 2020\n",
    "wy_pres_pct_2020 = wy_pres_pct[wy_pres_pct['Year'] == 2020]"
   ]
  },
  {
   "cell_type": "code",
   "execution_count": 15,
   "metadata": {},
   "outputs": [],
   "source": [
    "#Counties on US Route 14\n",
    "wy_counties = ['Park', 'Big Horn', 'Sheridan', 'Campbell', 'Crook']"
   ]
  },
  {
   "cell_type": "code",
   "execution_count": 16,
   "metadata": {},
   "outputs": [],
   "source": [
    "#Repeat for South Dakota\n",
    "sd_vote = pd.read_csv('../ElectionData/South Dakota.csv', low_memory=False)\n",
    "sd_votes = pd.DataFrame(sd_vote[sd_vote.Year == 2020])\n",
    "sd_votes = sd_votes.fillna(0)\n",
    "sd_votes['Year'] = pd.to_numeric(sd_votes['Year'])\n",
    "sd_votes.loc[:,'Total Votes'] = (sd_votes.sum(axis=1)) - sd_votes['Year']\n",
    "sd_pres = sd_votes[sd_votes['Office'] == 'President']\n",
    "sd_pres = sd_pres.drop('Office', axis = 1)\n",
    "sd_pres['Year'] = pd.to_numeric(sd_pres['Year'])\n",
    "sd_pres['PCT_DEM'] = (round(sd_pres['D#']/sd_pres['Total Votes'],4))*100\n",
    "sd_pres['PCT_REP'] = (round(sd_pres['R#']/sd_pres['Total Votes'],4))*100\n",
    "sd_pres['RD_DIFF'] = sd_pres['PCT_REP'] - sd_pres['PCT_DEM']\n",
    "sd_pres_pct = sd_pres[['State', 'Year', 'County', 'RD_DIFF']]\n",
    "sd_counties = ['Lawrence', 'Pennington', 'Haakon', 'Stanley', 'Hughes', 'Hyde', 'Hand', 'Beadle', 'Brookings', 'Kingsbury']"
   ]
  },
  {
   "cell_type": "code",
   "execution_count": 17,
   "metadata": {},
   "outputs": [],
   "source": [
    "#Repeat for Minnesota\n",
    "mn_vote = pd.read_csv('../ElectionData/Minnesota.csv', low_memory=False)\n",
    "mn_votes = pd.DataFrame(mn_vote[mn_vote.Year == '2020'])\n",
    "mn_votes = mn_votes.fillna(0)\n",
    "mn_votes['Year'] = pd.to_numeric(mn_votes['Year'])\n",
    "mn_votes.loc[:,'Total Votes'] = (mn_votes.sum(axis=1)) - mn_votes['Year']\n",
    "mn_pres = mn_votes[mn_votes['Office'] == 'President']\n",
    "mn_pres = mn_pres.drop('Office', axis = 1)\n",
    "mn_pres['Year'] = pd.to_numeric(mn_pres['Year'])\n",
    "mn_pres['PCT_DEM'] = (round(mn_pres['D#']/mn_pres['Total Votes'],4))*100\n",
    "mn_pres['PCT_REP'] = (round(mn_pres['R#']/mn_pres['Total Votes'],4))*100\n",
    "mn_pres['RD_DIFF'] = mn_pres['PCT_REP'] - mn_pres['PCT_DEM']\n",
    "mn_pres_pct = mn_pres[['State', 'Year', 'County', 'RD_DIFF']]\n",
    "mn_counties = ['Lincoln', 'Lyon', 'Redwood', 'Brown', 'Blue Earth', 'Nicollet', 'Le Sueur', 'Waseca', 'Steele', 'Dodge', \\\n",
    "               'Olmsted', 'Winona', 'Houston']"
   ]
  },
  {
   "cell_type": "code",
   "execution_count": 18,
   "metadata": {},
   "outputs": [],
   "source": [
    "#Repeat for Wisconsin\n",
    "wi_votes = pd.read_csv('../ElectionData/Wisconsin.csv', low_memory=False)\n",
    "wi_votes = wi_votes.fillna(0)\n",
    "wi_votes['Year'] = pd.to_numeric(wi_votes['Year'])\n",
    "wi_votes.loc[:,'Total Votes'] = (wi_votes.sum(axis=1)) - wi_votes['Year']\n",
    "wi_pres = wi_votes[wi_votes['Office'] == 'President']\n",
    "wi_pres = wi_pres.drop('Office', axis = 1)\n",
    "wi_pres['Year'] = pd.to_numeric(wi_pres['Year'])\n",
    "wi_pres['PCT_DEM'] = (round(wi_pres['D#']/wi_pres['Total Votes'],4))*100\n",
    "wi_pres['PCT_REP'] = (round(wi_pres['R#']/wi_pres['Total Votes'],4))*100\n",
    "wi_pres['RD_DIFF'] = wi_pres['PCT_REP'] - wi_pres['PCT_DEM']\n",
    "wi_pres_pct = wi_pres[['State', 'Year', 'County', 'RD_DIFF']]\n",
    "wi_pres_pct_2020 = wi_pres_pct[wi_pres_pct['Year'] == 2020]\n",
    "wi_counties = ['La Crosse', 'Vernon', 'Richland', 'Sauk', 'Iowa', 'Dane', 'Rock', 'Walworth']"
   ]
  },
  {
   "cell_type": "code",
   "execution_count": 19,
   "metadata": {},
   "outputs": [],
   "source": [
    "#Repeat for Illinois\n",
    "il_votes = pd.read_csv('../ElectionData/Illinois.csv', low_memory=False)\n",
    "il_votes = il_votes.fillna(0)\n",
    "il_votes['Year'] = pd.to_numeric(il_votes['Year'])\n",
    "il_votes.loc[:,'Total Votes'] = (il_votes.sum(axis=1)) - il_votes['Year']\n",
    "il_pres = il_votes[il_votes['Office'] == 'President']\n",
    "il_pres = il_pres.drop('Office', axis = 1)\n",
    "il_pres['Year'] = pd.to_numeric(il_pres['Year'])\n",
    "il_pres['PCT_DEM'] = (round(il_pres['D#']/il_pres['Total Votes'],4))*100\n",
    "il_pres['PCT_REP'] = (round(il_pres['R#']/il_pres['Total Votes'],4))*100\n",
    "il_pres['RD_DIFF'] = il_pres['PCT_REP'] - il_pres['PCT_DEM']\n",
    "il_pres_pct = il_pres[['State', 'Year', 'County', 'RD_DIFF']]\n",
    "il_pres_pct_2020 = il_pres_pct[il_pres_pct['Year'] == 2020]\n",
    "il_counties = ['McHenry', 'Lake', 'Cook']"
   ]
  },
  {
   "cell_type": "markdown",
   "metadata": {},
   "source": [
    "Now find the margins from each parish/county."
   ]
  },
  {
   "cell_type": "code",
   "execution_count": 20,
   "metadata": {},
   "outputs": [
    {
     "name": "stdout",
     "output_type": "stream",
     "text": [
      "        State    Year County  RD_DIFF\n",
      "1957  Wyoming  2020.0   Park    56.25\n",
      "        State    Year    County  RD_DIFF\n",
      "1944  Wyoming  2020.0  Big Horn    69.85\n",
      "        State    Year    County  RD_DIFF\n",
      "1959  Wyoming  2020.0  Sheridan    47.48\n",
      "        State    Year    County  RD_DIFF\n",
      "1945  Wyoming  2020.0  Campbell    76.87\n",
      "        State    Year County  RD_DIFF\n",
      "1948  Wyoming  2020.0  Crook    79.46\n"
     ]
    }
   ],
   "source": [
    "for c in wy_counties:\n",
    "    print(wy_pres_pct_2020[wy_pres_pct_2020['County'] == c])"
   ]
  },
  {
   "cell_type": "code",
   "execution_count": 21,
   "metadata": {},
   "outputs": [
    {
     "name": "stdout",
     "output_type": "stream",
     "text": [
      "             State    Year    County  RD_DIFF\n",
      "6869  South Dakota  2020.0  Lawrence    30.49\n",
      "             State    Year      County  RD_DIFF\n",
      "6880  South Dakota  2020.0  Pennington    25.13\n",
      "             State    Year  County  RD_DIFF\n",
      "6856  South Dakota  2020.0  Haakon    81.01\n",
      "             State    Year   County  RD_DIFF\n",
      "6887  South Dakota  2020.0  Stanley    47.34\n",
      "             State    Year  County  RD_DIFF\n",
      "6861  South Dakota  2020.0  Hughes    29.45\n",
      "             State    Year County  RD_DIFF\n",
      "6863  South Dakota  2020.0   Hyde    60.29\n",
      "             State    Year County  RD_DIFF\n",
      "6858  South Dakota  2020.0   Hand    57.73\n",
      "             State    Year  County  RD_DIFF\n",
      "6831  South Dakota  2020.0  Beadle    38.14\n",
      "             State    Year     County  RD_DIFF\n",
      "6834  South Dakota  2020.0  Brookings    12.98\n",
      "             State    Year     County  RD_DIFF\n",
      "6867  South Dakota  2020.0  Kingsbury    39.04\n"
     ]
    }
   ],
   "source": [
    "for c in sd_counties:\n",
    "    print(sd_pres_pct[sd_pres_pct['County'] == c])"
   ]
  },
  {
   "cell_type": "code",
   "execution_count": 22,
   "metadata": {},
   "outputs": [
    {
     "name": "stdout",
     "output_type": "stream",
     "text": [
      "           State  Year   County  RD_DIFF\n",
      "16869  Minnesota  2020  Lincoln    38.01\n",
      "           State  Year County  RD_DIFF\n",
      "16870  Minnesota  2020   Lyon    25.95\n",
      "           State  Year   County  RD_DIFF\n",
      "16892  Minnesota  2020  Redwood    41.23\n",
      "           State  Year County  RD_DIFF\n",
      "16836  Minnesota  2020  Brown    32.79\n",
      "           State  Year      County  RD_DIFF\n",
      "16835  Minnesota  2020  Blue Earth    -4.43\n",
      "           State  Year    County  RD_DIFF\n",
      "16880  Minnesota  2020  Nicollet    -3.16\n",
      "           State  Year    County  RD_DIFF\n",
      "16868  Minnesota  2020  Le Sueur    30.34\n",
      "           State  Year  County  RD_DIFF\n",
      "16909  Minnesota  2020  Waseca    30.11\n",
      "           State  Year  County  RD_DIFF\n",
      "16902  Minnesota  2020  Steele    22.43\n",
      "           State  Year County  RD_DIFF\n",
      "16848  Minnesota  2020  Dodge    30.39\n",
      "           State  Year   County  RD_DIFF\n",
      "16883  Minnesota  2020  Olmsted   -10.73\n",
      "           State  Year  County  RD_DIFF\n",
      "16913  Minnesota  2020  Winona    -0.39\n",
      "           State  Year   County  RD_DIFF\n",
      "16856  Minnesota  2020  Houston    12.95\n"
     ]
    }
   ],
   "source": [
    "for c in mn_counties:\n",
    "    print(mn_pres_pct[mn_pres_pct['County'] == c])"
   ]
  },
  {
   "cell_type": "code",
   "execution_count": 23,
   "metadata": {},
   "outputs": [
    {
     "name": "stdout",
     "output_type": "stream",
     "text": [
      "           State    Year     County  RD_DIFF\n",
      "11554  Wisconsin  2020.0  La Crosse    -13.5\n",
      "           State    Year  County  RD_DIFF\n",
      "11585  Wisconsin  2020.0  Vernon     4.78\n",
      "           State    Year    County  RD_DIFF\n",
      "11575  Wisconsin  2020.0  Richland     9.72\n",
      "           State    Year County  RD_DIFF\n",
      "11579  Wisconsin  2020.0   Sauk     -1.7\n",
      "           State    Year County  RD_DIFF\n",
      "11547  Wisconsin  2020.0   Iowa   -13.72\n",
      "           State    Year County  RD_DIFF\n",
      "11535  Wisconsin  2020.0   Dane    -52.6\n",
      "           State    Year County  RD_DIFF\n",
      "11576  Wisconsin  2020.0   Rock   -11.15\n",
      "           State    Year    County  RD_DIFF\n",
      "11587  Wisconsin  2020.0  Walworth    19.21\n"
     ]
    }
   ],
   "source": [
    "for c in wi_counties:\n",
    "    print(wi_pres_pct_2020[wi_pres_pct_2020['County'] == c])"
   ]
  },
  {
   "cell_type": "code",
   "execution_count": 24,
   "metadata": {},
   "outputs": [
    {
     "name": "stdout",
     "output_type": "stream",
     "text": [
      "          State  Year   County  RD_DIFF\n",
      "19945  Illinois  2020  McHenry     2.49\n",
      "          State  Year County  RD_DIFF\n",
      "19938  Illinois  2020   Lake   -23.96\n",
      "          State  Year County  RD_DIFF\n",
      "19905  Illinois  2020   Cook   -50.21\n"
     ]
    }
   ],
   "source": [
    "for c in il_counties:\n",
    "    print(il_pres_pct_2020[il_pres_pct_2020['County'] == c])"
   ]
  }
 ],
 "metadata": {
  "kernelspec": {
   "display_name": "Python 3",
   "language": "python",
   "name": "python3"
  },
  "language_info": {
   "codemirror_mode": {
    "name": "ipython",
    "version": 3
   },
   "file_extension": ".py",
   "mimetype": "text/x-python",
   "name": "python",
   "nbconvert_exporter": "python",
   "pygments_lexer": "ipython3",
   "version": "3.8.5"
  }
 },
 "nbformat": 4,
 "nbformat_minor": 4
}
