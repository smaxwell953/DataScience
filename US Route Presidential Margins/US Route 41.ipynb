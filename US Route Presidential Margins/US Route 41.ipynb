{
 "cells": [
  {
   "cell_type": "markdown",
   "metadata": {},
   "source": [
    "<h2>Calculating 2020 Presidential Margins Along U.S. Route 41</h2>"
   ]
  },
  {
   "cell_type": "code",
   "execution_count": 1,
   "metadata": {},
   "outputs": [],
   "source": [
    "#Import relevant libraries\n",
    "import numpy as np\n",
    "import pandas as pd\n",
    "import warnings\n",
    "warnings.filterwarnings(\"ignore\")"
   ]
  },
  {
   "cell_type": "code",
   "execution_count": 2,
   "metadata": {},
   "outputs": [],
   "source": [
    "#Florida\n",
    "fl_vote = pd.read_csv('../ElectionData/Florida.csv', low_memory=False)\n",
    "fl_votes = pd.DataFrame(fl_vote[fl_vote.Year == 2020])\n",
    "fl_votes = fl_votes.fillna(0)\n",
    "fl_votes['Year'] = pd.to_numeric(fl_votes['Year'])\n",
    "fl_votes.loc[:,'Total Votes'] = (fl_votes.sum(axis=1)) - fl_votes['Year']\n",
    "fl_pres = fl_votes[fl_votes['Office'] == 'President']\n",
    "fl_pres = fl_pres.drop('Office', axis = 1)\n",
    "fl_pres['Year'] = pd.to_numeric(fl_pres['Year'])\n",
    "fl_pres['PCT_DEM'] = (round(fl_pres['D#']/fl_pres['Total Votes'],4))*100\n",
    "fl_pres['PCT_REP'] = (round(fl_pres['R#']/fl_pres['Total Votes'],4))*100\n",
    "fl_pres['RD_DIFF'] = fl_pres['PCT_REP'] - fl_pres['PCT_DEM']\n",
    "fl_pres_pct = fl_pres[['State', 'Year', 'County', 'RD_DIFF']]\n",
    "fl_counties = ['Miami-Dade', 'Collier', 'Lee', 'Charlotte', 'Sarasota', 'Manatee', 'Hillsborough', 'Pasco', 'Hernando', \\\n",
    "               'Citrus', 'Marion', 'Levy', 'Alachua', 'Columbia', 'Hamilton']"
   ]
  },
  {
   "cell_type": "code",
   "execution_count": 3,
   "metadata": {},
   "outputs": [],
   "source": [
    "#Repeat for Georgia\n",
    "ga_votes = pd.read_csv('../ElectionData/Georgia.csv', low_memory=False)\n",
    "ga_votes = ga_votes.fillna(0)\n",
    "ga_votes['Year'] = pd.to_numeric(ga_votes['Year'])\n",
    "ga_votes.loc[:,'Total Votes'] = (ga_votes.sum(axis=1)) - ga_votes['Year']\n",
    "ga_pres = ga_votes[ga_votes['Office'] == 'President']\n",
    "ga_pres = ga_pres.drop('Office', axis = 1)\n",
    "ga_pres['Year'] = pd.to_numeric(ga_pres['Year'])\n",
    "ga_pres['PCT_DEM'] = (round(ga_pres['D#']/ga_pres['Total Votes'],4))*100\n",
    "ga_pres['PCT_REP'] = (round(ga_pres['R#']/ga_pres['Total Votes'],4))*100\n",
    "ga_pres['RD_DIFF'] = ga_pres['PCT_REP'] - ga_pres['PCT_DEM']\n",
    "ga_pres_pct = ga_pres[['State', 'Year', 'County', 'RD_DIFF']]\n",
    "ga_pres_pct_2020 = ga_pres_pct[ga_pres_pct['Year'] == 2020]\n",
    "ga_counties = ['Echols', 'Lowndes', 'Cook', 'Tift', 'Turner', 'Crisp', 'Dooly', 'Houston', 'Peach', 'Bibb', 'Monroe', \\\n",
    "               'Lamar', 'Pike', 'Spalding', 'Henry', 'Clayton', 'Fulton', 'Cobb', 'Bartow', 'Gordon', 'Whitfield', 'Catoosa']"
   ]
  },
  {
   "cell_type": "code",
   "execution_count": 4,
   "metadata": {},
   "outputs": [],
   "source": [
    "#Repeat for Tennessee\n",
    "tn_votes = pd.read_csv('../ElectionData/Tennessee.csv', low_memory=False)\n",
    "tn_votes = tn_votes.fillna(0)\n",
    "tn_votes['Year'] = pd.to_numeric(tn_votes['Year'])\n",
    "tn_votes.loc[:,'Total Votes'] = (tn_votes.sum(axis=1)) - tn_votes['Year']\n",
    "tn_pres = tn_votes[tn_votes['Office'] == 'President']\n",
    "tn_pres = tn_pres.drop('Office', axis = 1)\n",
    "tn_pres['Year'] = pd.to_numeric(tn_pres['Year'])\n",
    "tn_pres['PCT_DEM'] = (round(tn_pres['D#']/tn_pres['Total Votes'],4))*100\n",
    "tn_pres['PCT_REP'] = (round(tn_pres['R#']/tn_pres['Total Votes'],4))*100\n",
    "tn_pres['RD_DIFF'] = tn_pres['PCT_REP'] - tn_pres['PCT_DEM']\n",
    "tn_pres_pct = tn_pres[['State', 'Year', 'County', 'RD_DIFF']]\n",
    "tn_pres_pct_2020 = tn_pres_pct[tn_pres_pct['Year'] == 2020]\n",
    "tn_counties = ['Hamilton', 'Marion', 'Grundy', 'Coffee', 'Rutherford', 'Davidson', 'Sumner', 'Robertson', 'Montgomery']"
   ]
  },
  {
   "cell_type": "code",
   "execution_count": 5,
   "metadata": {},
   "outputs": [],
   "source": [
    "#Repeat for Kentucky\n",
    "ky_votes = pd.read_csv('../ElectionData/Kentucky.csv', low_memory=False)\n",
    "ky_votes = ky_votes.fillna(0)\n",
    "ky_votes['Year'] = pd.to_numeric(ky_votes['Year'])\n",
    "ky_votes.loc[:,'Total Votes'] = (ky_votes.sum(axis=1)) - ky_votes['Year']\n",
    "ky_pres = ky_votes[ky_votes['Office'] == 'President']\n",
    "ky_pres = ky_pres.drop('Office', axis = 1)\n",
    "ky_pres['Year'] = pd.to_numeric(ky_pres['Year'])\n",
    "ky_pres['PCT_DEM'] = (round(ky_pres['D#']/ky_pres['Total Votes'],4))*100\n",
    "ky_pres['PCT_REP'] = (round(ky_pres['R#']/ky_pres['Total Votes'],4))*100\n",
    "ky_pres['RD_DIFF'] = ky_pres['PCT_REP'] - ky_pres['PCT_DEM']\n",
    "ky_pres_pct = ky_pres[['State', 'Year', 'County', 'RD_DIFF']]\n",
    "ky_pres_pct_2020 = ky_pres_pct[ky_pres_pct['Year'] == 2020]\n",
    "ky_counties = ['Todd', 'Christian', 'Hopkins', 'Webster', 'Henderson']"
   ]
  },
  {
   "cell_type": "code",
   "execution_count": 6,
   "metadata": {},
   "outputs": [],
   "source": [
    "#Repeat for Indiana\n",
    "in_votes = pd.read_csv('../ElectionData/Indiana.csv', low_memory=False)\n",
    "in_votes = in_votes.fillna(0)\n",
    "in_votes['Year'] = pd.to_numeric(in_votes['Year'])\n",
    "in_votes.loc[:,'Total Votes'] = (in_votes.sum(axis=1)) - in_votes['Year']\n",
    "in_pres = in_votes[in_votes['Office'] == 'President']\n",
    "in_pres = in_pres.drop('Office', axis = 1)\n",
    "in_pres['Year'] = pd.to_numeric(in_pres['Year'])\n",
    "in_pres['PCT_DEM'] = (round(in_pres['D#']/in_pres['Total Votes'],4))*100\n",
    "in_pres['PCT_REP'] = (round(in_pres['R#']/in_pres['Total Votes'],4))*100\n",
    "in_pres['RD_DIFF'] = in_pres['PCT_REP'] - in_pres['PCT_DEM']\n",
    "in_pres_pct = in_pres[['State', 'Year', 'County', 'RD_DIFF']]\n",
    "in_pres_pct_2020 = in_pres_pct[in_pres_pct['Year'] == 2020]\n",
    "in_counties = ['Vanderburgh', 'Gibson', 'Knox', 'Sullivan', 'Vigo', 'Parke', 'Fountain', 'Warren', 'Benton', 'Newton', 'Lake']"
   ]
  },
  {
   "cell_type": "code",
   "execution_count": 7,
   "metadata": {},
   "outputs": [],
   "source": [
    "#Repeat for Illinois\n",
    "il_votes = pd.read_csv('../ElectionData/Illinois.csv', low_memory=False)\n",
    "il_votes = il_votes.fillna(0)\n",
    "il_votes['Year'] = pd.to_numeric(il_votes['Year'])\n",
    "il_votes.loc[:,'Total Votes'] = (il_votes.sum(axis=1)) - il_votes['Year']\n",
    "il_pres = il_votes[il_votes['Office'] == 'President']\n",
    "il_pres = il_pres.drop('Office', axis = 1)\n",
    "il_pres['Year'] = pd.to_numeric(il_pres['Year'])\n",
    "il_pres['PCT_DEM'] = (round(il_pres['D#']/il_pres['Total Votes'],4))*100\n",
    "il_pres['PCT_REP'] = (round(il_pres['R#']/il_pres['Total Votes'],4))*100\n",
    "il_pres['RD_DIFF'] = il_pres['PCT_REP'] - il_pres['PCT_DEM']\n",
    "il_pres_pct = il_pres[['State', 'Year', 'County', 'RD_DIFF']]\n",
    "il_pres_pct_2020 = il_pres_pct[il_pres_pct['Year'] == 2020]\n",
    "il_counties = ['Cook', 'Lake']"
   ]
  },
  {
   "cell_type": "code",
   "execution_count": 8,
   "metadata": {},
   "outputs": [],
   "source": [
    "#Repeat for Wisconsin\n",
    "wi_votes = pd.read_csv('../ElectionData/Wisconsin.csv', low_memory=False)\n",
    "wi_votes = wi_votes.fillna(0)\n",
    "wi_votes['Year'] = pd.to_numeric(wi_votes['Year'])\n",
    "wi_votes.loc[:,'Total Votes'] = (wi_votes.sum(axis=1)) - wi_votes['Year']\n",
    "wi_pres = wi_votes[wi_votes['Office'] == 'President']\n",
    "wi_pres = wi_pres.drop('Office', axis = 1)\n",
    "wi_pres['Year'] = pd.to_numeric(wi_pres['Year'])\n",
    "wi_pres['PCT_DEM'] = (round(wi_pres['D#']/wi_pres['Total Votes'],4))*100\n",
    "wi_pres['PCT_REP'] = (round(wi_pres['R#']/wi_pres['Total Votes'],4))*100\n",
    "wi_pres['RD_DIFF'] = wi_pres['PCT_REP'] - wi_pres['PCT_DEM']\n",
    "wi_pres_pct = wi_pres[['State', 'Year', 'County', 'RD_DIFF']]\n",
    "wi_pres_pct_2020 = wi_pres_pct[wi_pres_pct['Year'] == 2020]\n",
    "wi_counties = ['Kenosha', 'Racine', 'Milwaukee', 'Waukesha', 'Washington', 'Dodge', 'Fond du Lac', 'Winnebago', \\\n",
    "               'Outagamie', 'Brown', 'Oconto', 'Marinette']"
   ]
  },
  {
   "cell_type": "code",
   "execution_count": 9,
   "metadata": {},
   "outputs": [],
   "source": [
    "#Repeat for Michigan\n",
    "mi_votes = pd.read_csv('../ElectionData/Michigan.csv', low_memory=False)\n",
    "mi_votes = mi_votes.fillna(0)\n",
    "mi_votes['Year'] = pd.to_numeric(mi_votes['Year'])\n",
    "mi_votes.loc[:,'Total Votes'] = (mi_votes.sum(axis=1)) - mi_votes['Year']\n",
    "mi_pres = mi_votes[mi_votes['Office'] == 'President']\n",
    "mi_pres = mi_pres.drop('Office', axis = 1)\n",
    "mi_pres['Year'] = pd.to_numeric(mi_pres['Year'])\n",
    "mi_pres['PCT_DEM'] = (round(mi_pres['D#']/mi_pres['Total Votes'],4))*100\n",
    "mi_pres['PCT_REP'] = (round(mi_pres['R#']/mi_pres['Total Votes'],4))*100\n",
    "mi_pres['RD_DIFF'] = mi_pres['PCT_REP'] - mi_pres['PCT_DEM']\n",
    "mi_pres_pct = mi_pres[['State', 'Year', 'County', 'RD_DIFF']]\n",
    "mi_pres_pct_2020 = mi_pres_pct[mi_pres_pct['Year'] == 2020]\n",
    "mi_counties = ['Menominee', 'Delta', 'Alger', 'Marquette', 'Baraga', 'Houghton', 'Keweenaw']"
   ]
  },
  {
   "cell_type": "markdown",
   "metadata": {},
   "source": [
    "Now find the margins from each county."
   ]
  },
  {
   "cell_type": "code",
   "execution_count": 10,
   "metadata": {},
   "outputs": [
    {
     "name": "stdout",
     "output_type": "stream",
     "text": [
      "        State  Year      County  RD_DIFF\n",
      "7395  Florida  2020  Miami-Dade    -7.33\n",
      "        State  Year   County  RD_DIFF\n",
      "7363  Florida  2020  Collier    24.64\n",
      "        State  Year County  RD_DIFF\n",
      "7387  Florida  2020    Lee    19.14\n",
      "        State  Year     County  RD_DIFF\n",
      "7360  Florida  2020  Charlotte    26.57\n",
      "        State  Year    County  RD_DIFF\n",
      "7410  Florida  2020  Sarasota    10.42\n",
      "        State  Year   County  RD_DIFF\n",
      "7392  Florida  2020  Manatee    16.01\n",
      "        State  Year        County  RD_DIFF\n",
      "7380  Florida  2020  Hillsborough    -6.86\n",
      "        State  Year County  RD_DIFF\n",
      "7403  Florida  2020  Pasco    20.01\n",
      "        State  Year    County  RD_DIFF\n",
      "7378  Florida  2020  Hernando    30.14\n",
      "        State  Year  County  RD_DIFF\n",
      "7361  Florida  2020  Citrus    40.97\n",
      "        State  Year  County  RD_DIFF\n",
      "7393  Florida  2020  Marion    25.87\n",
      "        State  Year County  RD_DIFF\n",
      "7389  Florida  2020   Levy    45.48\n",
      "        State  Year   County  RD_DIFF\n",
      "7353  Florida  2020  Alachua   -27.08\n",
      "        State  Year    County  RD_DIFF\n",
      "7364  Florida  2020  Columbia    45.09\n",
      "        State  Year    County  RD_DIFF\n",
      "7375  Florida  2020  Hamilton    31.72\n"
     ]
    }
   ],
   "source": [
    "for c in fl_counties:\n",
    "    print(fl_pres_pct[fl_pres_pct['County'] == c])"
   ]
  },
  {
   "cell_type": "code",
   "execution_count": 11,
   "metadata": {},
   "outputs": [
    {
     "name": "stdout",
     "output_type": "stream",
     "text": [
      "         State  Year  County  RD_DIFF\n",
      "16404  Georgia  2020  Echols    75.52\n",
      "         State  Year   County  RD_DIFF\n",
      "16446  Georgia  2020  Lowndes    12.02\n",
      "         State  Year County  RD_DIFF\n",
      "16391  Georgia  2020   Cook    40.37\n",
      "         State  Year County  RD_DIFF\n",
      "16491  Georgia  2020   Tift    33.57\n",
      "         State  Year  County  RD_DIFF\n",
      "16496  Georgia  2020  Turner    24.79\n",
      "         State  Year County  RD_DIFF\n",
      "16394  Georgia  2020  Crisp    24.92\n",
      "         State  Year County  RD_DIFF\n",
      "16400  Georgia  2020  Dooly     6.04\n",
      "         State  Year   County  RD_DIFF\n",
      "16430  Georgia  2020  Houston    12.42\n",
      "         State  Year County  RD_DIFF\n",
      "16465  Georgia  2020  Peach     4.65\n",
      "         State  Year County  RD_DIFF\n",
      "16365  Georgia  2020   Bibb   -23.81\n",
      "         State  Year  County  RD_DIFF\n",
      "16456  Georgia  2020  Monroe    42.79\n",
      "         State  Year County  RD_DIFF\n",
      "16439  Georgia  2020  Lamar    41.02\n",
      "         State  Year County  RD_DIFF\n",
      "16468  Georgia  2020   Pike    71.09\n",
      "         State  Year    County  RD_DIFF\n",
      "16480  Georgia  2020  Spalding    20.77\n",
      "         State  Year County  RD_DIFF\n",
      "16429  Georgia  2020  Henry   -20.47\n",
      "         State  Year   County  RD_DIFF\n",
      "16385  Georgia  2020  Clayton   -70.87\n",
      "         State  Year  County  RD_DIFF\n",
      "16414  Georgia  2020  Fulton   -46.37\n",
      "         State  Year County  RD_DIFF\n",
      "16387  Georgia  2020   Cobb   -14.31\n",
      "         State  Year  County  RD_DIFF\n",
      "16362  Georgia  2020  Bartow    50.67\n",
      "         State  Year  County  RD_DIFF\n",
      "16418  Georgia  2020  Gordon    62.48\n",
      "         State  Year     County  RD_DIFF\n",
      "16509  Georgia  2020  Whitfield     40.7\n",
      "         State  Year   County  RD_DIFF\n",
      "16377  Georgia  2020  Catoosa    55.89\n"
     ]
    }
   ],
   "source": [
    "for c in ga_counties:\n",
    "    print(ga_pres_pct_2020[ga_pres_pct_2020['County'] == c])"
   ]
  },
  {
   "cell_type": "code",
   "execution_count": 12,
   "metadata": {},
   "outputs": [
    {
     "name": "stdout",
     "output_type": "stream",
     "text": [
      "          State    Year    County  RD_DIFF\n",
      "7125  Tennessee  2020.0  Hamilton     9.69\n",
      "          State    Year  County  RD_DIFF\n",
      "7150  Tennessee  2020.0  Marion     50.8\n",
      "          State    Year  County  RD_DIFF\n",
      "7123  Tennessee  2020.0  Grundy    65.15\n",
      "          State    Year  County  RD_DIFF\n",
      "7108  Tennessee  2020.0  Coffee    50.16\n",
      "          State    Year      County  RD_DIFF\n",
      "7167  Tennessee  2020.0  Rutherford    15.39\n",
      "          State    Year    County  RD_DIFF\n",
      "7111  Tennessee  2020.0  Davidson   -32.13\n",
      "          State    Year  County  RD_DIFF\n",
      "7175  Tennessee  2020.0  Sumner    38.62\n",
      "          State    Year     County  RD_DIFF\n",
      "7166  Tennessee  2020.0  Robertson    46.99\n",
      "          State    Year      County  RD_DIFF\n",
      "7155  Tennessee  2020.0  Montgomery    12.66\n"
     ]
    }
   ],
   "source": [
    "for c in tn_counties:\n",
    "    print(tn_pres_pct_2020[tn_pres_pct_2020['County'] == c])"
   ]
  },
  {
   "cell_type": "code",
   "execution_count": 13,
   "metadata": {},
   "outputs": [
    {
     "name": "stdout",
     "output_type": "stream",
     "text": [
      "          State  Year County  RD_DIFF\n",
      "13909  Kentucky  2020   Todd    53.27\n",
      "          State  Year     County  RD_DIFF\n",
      "13823  Kentucky  2020  Christian    28.42\n",
      "          State  Year   County  RD_DIFF\n",
      "13853  Kentucky  2020  Hopkins    47.97\n",
      "          State  Year   County  RD_DIFF\n",
      "13916  Kentucky  2020  Webster    51.63\n",
      "          State  Year     County  RD_DIFF\n",
      "13850  Kentucky  2020  Henderson     24.6\n"
     ]
    }
   ],
   "source": [
    "for c in ky_counties:\n",
    "    print(ky_pres_pct_2020[ky_pres_pct_2020['County'] == c])"
   ]
  },
  {
   "cell_type": "code",
   "execution_count": 14,
   "metadata": {},
   "outputs": [
    {
     "name": "stdout",
     "output_type": "stream",
     "text": [
      "         State  Year       County  RD_DIFF\n",
      "12225  Indiana  2020  Vanderburgh     9.57\n",
      "         State  Year  County  RD_DIFF\n",
      "12169  Indiana  2020  Gibson    48.23\n",
      "         State  Year County  RD_DIFF\n",
      "12185  Indiana  2020   Knox    47.35\n",
      "         State  Year    County  RD_DIFF\n",
      "12220  Indiana  2020  Sullivan    50.45\n",
      "         State  Year County  RD_DIFF\n",
      "12227  Indiana  2020   Vigo     14.7\n",
      "         State  Year County  RD_DIFF\n",
      "12204  Indiana  2020  Parke    55.57\n",
      "         State  Year    County  RD_DIFF\n",
      "12166  Indiana  2020  Fountain    56.61\n",
      "         State  Year  County  RD_DIFF\n",
      "12229  Indiana  2020  Warren    54.25\n",
      "         State  Year  County  RD_DIFF\n",
      "12147  Indiana  2020  Benton    48.55\n",
      "         State  Year  County  RD_DIFF\n",
      "12199  Indiana  2020  Newton    51.95\n",
      "         State  Year County  RD_DIFF\n",
      "12188  Indiana  2020   Lake   -15.02\n"
     ]
    }
   ],
   "source": [
    "for c in in_counties:\n",
    "    print(in_pres_pct_2020[in_pres_pct_2020['County'] == c])"
   ]
  },
  {
   "cell_type": "code",
   "execution_count": 15,
   "metadata": {},
   "outputs": [
    {
     "name": "stdout",
     "output_type": "stream",
     "text": [
      "          State  Year County  RD_DIFF\n",
      "19905  Illinois  2020   Cook   -50.21\n",
      "          State  Year County  RD_DIFF\n",
      "19938  Illinois  2020   Lake   -23.96\n"
     ]
    }
   ],
   "source": [
    "for c in il_counties:\n",
    "    print(il_pres_pct_2020[il_pres_pct_2020['County'] == c])"
   ]
  },
  {
   "cell_type": "code",
   "execution_count": 16,
   "metadata": {},
   "outputs": [
    {
     "name": "stdout",
     "output_type": "stream",
     "text": [
      "           State    Year   County  RD_DIFF\n",
      "11552  Wisconsin  2020.0  Kenosha     3.13\n",
      "           State    Year  County  RD_DIFF\n",
      "11574  Wisconsin  2020.0  Racine     4.06\n",
      "           State    Year     County  RD_DIFF\n",
      "11563  Wisconsin  2020.0  Milwaukee   -39.82\n",
      "           State    Year    County  RD_DIFF\n",
      "11590  Wisconsin  2020.0  Waukesha     20.8\n",
      "           State    Year      County  RD_DIFF\n",
      "11589  Wisconsin  2020.0  Washington    38.14\n",
      "           State    Year County  RD_DIFF\n",
      "11536  Wisconsin  2020.0  Dodge    30.96\n",
      "           State    Year       County  RD_DIFF\n",
      "11542  Wisconsin  2020.0  Fond du Lac    26.49\n",
      "           State    Year     County  RD_DIFF\n",
      "11593  Wisconsin  2020.0  Winnebago     3.97\n",
      "           State    Year     County  RD_DIFF\n",
      "11567  Wisconsin  2020.0  Outagamie     9.92\n",
      "           State    Year County  RD_DIFF\n",
      "11527  Wisconsin  2020.0  Brown     7.19\n",
      "           State    Year  County  RD_DIFF\n",
      "11565  Wisconsin  2020.0  Oconto    40.96\n",
      "           State    Year     County  RD_DIFF\n",
      "11560  Wisconsin  2020.0  Marinette    34.54\n"
     ]
    }
   ],
   "source": [
    "for c in wi_counties:\n",
    "    print(wi_pres_pct_2020[wi_pres_pct_2020['County'] == c])"
   ]
  },
  {
   "cell_type": "code",
   "execution_count": 17,
   "metadata": {},
   "outputs": [
    {
     "name": "stdout",
     "output_type": "stream",
     "text": [
      "          State  Year     County  RD_DIFF\n",
      "10411  Michigan  2020  Menominee    64.31\n",
      "          State  Year County  RD_DIFF\n",
      "10377  Michigan  2020  Delta    62.39\n",
      "          State  Year County  RD_DIFF\n",
      "10358  Michigan  2020  Alger     58.7\n",
      "          State  Year     County  RD_DIFF\n",
      "10408  Michigan  2020  Marquette    43.37\n",
      "          State  Year  County  RD_DIFF\n",
      "10363  Michigan  2020  Baraga    62.07\n",
      "          State  Year    County  RD_DIFF\n",
      "10387  Michigan  2020  Houghton     56.0\n",
      "          State  Year    County  RD_DIFF\n",
      "10398  Michigan  2020  Keweenaw    55.36\n"
     ]
    }
   ],
   "source": [
    "for c in mi_counties:\n",
    "    print(mi_pres_pct_2020[mi_pres_pct_2020['County'] == c])"
   ]
  }
 ],
 "metadata": {
  "kernelspec": {
   "display_name": "Python 3",
   "language": "python",
   "name": "python3"
  },
  "language_info": {
   "codemirror_mode": {
    "name": "ipython",
    "version": 3
   },
   "file_extension": ".py",
   "mimetype": "text/x-python",
   "name": "python",
   "nbconvert_exporter": "python",
   "pygments_lexer": "ipython3",
   "version": "3.8.5"
  }
 },
 "nbformat": 4,
 "nbformat_minor": 4
}
