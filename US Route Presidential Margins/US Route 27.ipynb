{
 "cells": [
  {
   "cell_type": "markdown",
   "metadata": {},
   "source": [
    "<h2>Calculating 2020 Presidential Margins Along U.S. Route 27</h2>"
   ]
  },
  {
   "cell_type": "code",
   "execution_count": 1,
   "metadata": {},
   "outputs": [],
   "source": [
    "#Import relevant libraries\n",
    "import numpy as np\n",
    "import pandas as pd\n",
    "import warnings\n",
    "warnings.filterwarnings(\"ignore\")"
   ]
  },
  {
   "cell_type": "code",
   "execution_count": 2,
   "metadata": {},
   "outputs": [],
   "source": [
    "#Repeat for Florida\n",
    "fl_votes = pd.read_csv('../ElectionData/Florida.csv', low_memory=False)\n",
    "fl_votes = fl_votes.fillna(0)\n",
    "fl_votes['Year'] = pd.to_numeric(fl_votes['Year'])\n",
    "fl_votes.loc[:,'Total Votes'] = (fl_votes.sum(axis=1)) - fl_votes['Year']\n",
    "fl_pres = fl_votes[fl_votes['Office'] == 'President']\n",
    "fl_pres = fl_pres.drop('Office', axis = 1)\n",
    "fl_pres['Year'] = pd.to_numeric(fl_pres['Year'])\n",
    "fl_pres['PCT_DEM'] = (round(fl_pres['D#']/fl_pres['Total Votes'],4))*100\n",
    "fl_pres['PCT_REP'] = (round(fl_pres['R#']/fl_pres['Total Votes'],4))*100\n",
    "fl_pres['RD_DIFF'] = fl_pres['PCT_REP'] - fl_pres['PCT_DEM']\n",
    "fl_pres_pct = fl_pres[['State', 'Year', 'County', 'RD_DIFF']]\n",
    "fl_pres_pct_2020 = fl_pres_pct[fl_pres_pct['Year'] == 2020]\n",
    "fl_counties = ['Miami-Dade', 'Broward', 'Palm Beach', 'Hendry', 'Glades', 'Highlands', 'Polk', 'Lake', 'Sumter', 'Marion', \\\n",
    "               'Levy', 'Alachua', 'Columbia', 'Suwannee', 'Lafayette', 'Taylor', 'Madison', 'Jefferson', 'Leon', 'Gadsden']"
   ]
  },
  {
   "cell_type": "code",
   "execution_count": 3,
   "metadata": {},
   "outputs": [],
   "source": [
    "#Repeat for Georgia\n",
    "ga_votes = pd.read_csv('../ElectionData/Georgia.csv', low_memory=False)\n",
    "ga_votes = ga_votes.fillna(0)\n",
    "ga_votes['Year'] = pd.to_numeric(ga_votes['Year'])\n",
    "ga_votes.loc[:,'Total Votes'] = (ga_votes.sum(axis=1)) - ga_votes['Year']\n",
    "ga_pres = ga_votes[ga_votes['Office'] == 'President']\n",
    "ga_pres = ga_pres.drop('Office', axis = 1)\n",
    "ga_pres['Year'] = pd.to_numeric(ga_pres['Year'])\n",
    "ga_pres['PCT_DEM'] = (round(ga_pres['D#']/ga_pres['Total Votes'],4))*100\n",
    "ga_pres['PCT_REP'] = (round(ga_pres['R#']/ga_pres['Total Votes'],4))*100\n",
    "ga_pres['RD_DIFF'] = ga_pres['PCT_REP'] - ga_pres['PCT_DEM']\n",
    "ga_pres_pct = ga_pres[['State', 'Year', 'County', 'RD_DIFF']]\n",
    "ga_pres_pct_2020 = ga_pres_pct[ga_pres_pct['Year'] == 2020]\n",
    "ga_counties = ['Decatur', 'Miller', 'Early', 'Clay', 'Randolph', 'Stewart', 'Chattahoochee', 'Muscogee', 'Harris', 'Troup',\\\n",
    "               'Heard', 'Carroll', 'Haralson', 'Polk', 'Floyd', 'Chattooga', 'Walker', 'Catoosa']"
   ]
  },
  {
   "cell_type": "code",
   "execution_count": 4,
   "metadata": {},
   "outputs": [],
   "source": [
    "#Repeat for Tennessee\n",
    "tn_votes = pd.read_csv('../ElectionData/Tennessee.csv', low_memory=False)\n",
    "tn_votes = tn_votes.fillna(0)\n",
    "tn_votes['Year'] = pd.to_numeric(tn_votes['Year'])\n",
    "tn_votes.loc[:,'Total Votes'] = (tn_votes.sum(axis=1)) - tn_votes['Year']\n",
    "tn_pres = tn_votes[tn_votes['Office'] == 'President']\n",
    "tn_pres = tn_pres.drop('Office', axis = 1)\n",
    "tn_pres['Year'] = pd.to_numeric(tn_pres['Year'])\n",
    "tn_pres['PCT_DEM'] = (round(tn_pres['D#']/tn_pres['Total Votes'],4))*100\n",
    "tn_pres['PCT_REP'] = (round(tn_pres['R#']/tn_pres['Total Votes'],4))*100\n",
    "tn_pres['RD_DIFF'] = tn_pres['PCT_REP'] - tn_pres['PCT_DEM']\n",
    "tn_pres_pct = tn_pres[['State', 'Year', 'County', 'RD_DIFF']]\n",
    "tn_pres_pct_2020 = tn_pres_pct[tn_pres_pct['Year'] == 2020]\n",
    "tn_counties = ['Hamilton', 'Rhea', 'Roane', 'Morgan', 'Scott']"
   ]
  },
  {
   "cell_type": "code",
   "execution_count": 5,
   "metadata": {},
   "outputs": [],
   "source": [
    "#Repeat for Kentucky\n",
    "ky_votes = pd.read_csv('../ElectionData/Kentucky.csv', low_memory=False)\n",
    "ky_votes = ky_votes.fillna(0)\n",
    "ky_votes['Year'] = pd.to_numeric(ky_votes['Year'])\n",
    "ky_votes.loc[:,'Total Votes'] = (ky_votes.sum(axis=1)) - ky_votes['Year']\n",
    "ky_pres = ky_votes[ky_votes['Office'] == 'President']\n",
    "ky_pres = ky_pres.drop('Office', axis = 1)\n",
    "ky_pres['Year'] = pd.to_numeric(ky_pres['Year'])\n",
    "ky_pres['PCT_DEM'] = (round(ky_pres['D#']/ky_pres['Total Votes'],4))*100\n",
    "ky_pres['PCT_REP'] = (round(ky_pres['R#']/ky_pres['Total Votes'],4))*100\n",
    "ky_pres['RD_DIFF'] = ky_pres['PCT_REP'] - ky_pres['PCT_DEM']\n",
    "ky_pres_pct = ky_pres[['State', 'Year', 'County', 'RD_DIFF']]\n",
    "ky_pres_pct_2020 = ky_pres_pct[ky_pres_pct['Year'] == 2020]\n",
    "ky_counties = ['McCreary', 'Pulaski', 'Lincoln', 'Garrard', 'Jessamine', 'Fayette', 'Bourbon', 'Harrison', 'Pendleton',\\\n",
    "               'Campbell']"
   ]
  },
  {
   "cell_type": "code",
   "execution_count": 6,
   "metadata": {},
   "outputs": [],
   "source": [
    "#Repeat for Ohio\n",
    "oh_votes = pd.read_csv('../ElectionData/Ohio.csv', low_memory=False)\n",
    "oh_votes = oh_votes.fillna(0)\n",
    "oh_votes['Year'] = pd.to_numeric(oh_votes['Year'])\n",
    "oh_votes.loc[:,'Total Votes'] = (oh_votes.sum(axis=1)) - oh_votes['Year']\n",
    "oh_pres = oh_votes[oh_votes['Office'] == 'President']\n",
    "oh_pres = oh_pres.drop('Office', axis = 1)\n",
    "oh_pres['Year'] = pd.to_numeric(oh_pres['Year'])\n",
    "oh_pres['PCT_DEM'] = (round(oh_pres['D#']/oh_pres['Total Votes'],4))*100\n",
    "oh_pres['PCT_REP'] = (round(oh_pres['R#']/oh_pres['Total Votes'],4))*100\n",
    "oh_pres['RD_DIFF'] = oh_pres['PCT_REP'] - oh_pres['PCT_DEM']\n",
    "oh_pres_pct = oh_pres[['State', 'Year', 'County', 'RD_DIFF']]\n",
    "oh_pres_pct_2020 = oh_pres_pct[oh_pres_pct['Year'] == 2020]\n",
    "oh_counties = ['Hamilton', 'Butler']"
   ]
  },
  {
   "cell_type": "code",
   "execution_count": 7,
   "metadata": {},
   "outputs": [],
   "source": [
    "#Repeat for Indiana\n",
    "in_votes = pd.read_csv('../ElectionData/Indiana.csv', low_memory=False)\n",
    "in_votes = in_votes.fillna(0)\n",
    "in_votes['Year'] = pd.to_numeric(in_votes['Year'])\n",
    "in_votes.loc[:,'Total Votes'] = (in_votes.sum(axis=1)) - in_votes['Year']\n",
    "in_pres = in_votes[in_votes['Office'] == 'President']\n",
    "in_pres = in_pres.drop('Office', axis = 1)\n",
    "in_pres['Year'] = pd.to_numeric(in_pres['Year'])\n",
    "in_pres['PCT_DEM'] = (round(in_pres['D#']/in_pres['Total Votes'],4))*100\n",
    "in_pres['PCT_REP'] = (round(in_pres['R#']/in_pres['Total Votes'],4))*100\n",
    "in_pres['RD_DIFF'] = in_pres['PCT_REP'] - in_pres['PCT_DEM']\n",
    "in_pres_pct = in_pres[['State', 'Year', 'County', 'RD_DIFF']]\n",
    "in_pres_pct_2020 = in_pres_pct[in_pres_pct['Year'] == 2020]\n",
    "in_counties = ['Union', 'Wayne', 'Randolph', 'Jay', 'Adams', 'Allen']"
   ]
  },
  {
   "cell_type": "markdown",
   "metadata": {},
   "source": [
    "Now find the margins from each county."
   ]
  },
  {
   "cell_type": "code",
   "execution_count": 8,
   "metadata": {},
   "outputs": [
    {
     "name": "stdout",
     "output_type": "stream",
     "text": [
      "        State  Year      County  RD_DIFF\n",
      "7395  Florida  2020  Miami-Dade    -7.33\n",
      "        State  Year   County  RD_DIFF\n",
      "7358  Florida  2020  Broward   -29.74\n",
      "        State  Year      County  RD_DIFF\n",
      "7402  Florida  2020  Palm Beach   -12.76\n",
      "        State  Year  County  RD_DIFF\n",
      "7377  Florida  2020  Hendry    22.98\n",
      "        State  Year  County  RD_DIFF\n",
      "7373  Florida  2020  Glades    46.07\n",
      "        State  Year     County  RD_DIFF\n",
      "7379  Florida  2020  Highlands    34.33\n",
      "        State  Year County  RD_DIFF\n",
      "7405  Florida  2020   Polk     14.4\n",
      "        State  Year County  RD_DIFF\n",
      "7386  Florida  2020   Lake    20.04\n",
      "        State  Year  County  RD_DIFF\n",
      "7412  Florida  2020  Sumter    36.08\n",
      "        State  Year  County  RD_DIFF\n",
      "7393  Florida  2020  Marion    25.87\n",
      "        State  Year County  RD_DIFF\n",
      "7389  Florida  2020   Levy    45.48\n",
      "        State  Year   County  RD_DIFF\n",
      "7353  Florida  2020  Alachua   -27.08\n",
      "        State  Year    County  RD_DIFF\n",
      "7364  Florida  2020  Columbia    45.09\n",
      "        State  Year    County  RD_DIFF\n",
      "7413  Florida  2020  Suwannee    56.57\n",
      "        State  Year     County  RD_DIFF\n",
      "7385  Florida  2020  Lafayette    71.49\n",
      "        State  Year  County  RD_DIFF\n",
      "7414  Florida  2020  Taylor    53.77\n",
      "        State  Year   County  RD_DIFF\n",
      "7391  Florida  2020  Madison    19.47\n",
      "        State  Year     County  RD_DIFF\n",
      "7384  Florida  2020  Jefferson     6.87\n",
      "        State  Year County  RD_DIFF\n",
      "7388  Florida  2020   Leon   -28.18\n",
      "        State  Year   County  RD_DIFF\n",
      "7371  Florida  2020  Gadsden   -36.56\n"
     ]
    }
   ],
   "source": [
    "for c in fl_counties:\n",
    "    print(fl_pres_pct_2020[fl_pres_pct_2020['County'] == c])"
   ]
  },
  {
   "cell_type": "code",
   "execution_count": 9,
   "metadata": {},
   "outputs": [
    {
     "name": "stdout",
     "output_type": "stream",
     "text": [
      "         State  Year   County  RD_DIFF\n",
      "16397  Georgia  2020  Decatur    16.97\n",
      "         State  Year  County  RD_DIFF\n",
      "16454  Georgia  2020  Miller    46.51\n",
      "         State  Year County  RD_DIFF\n",
      "16403  Georgia  2020  Early     5.02\n",
      "         State  Year County  RD_DIFF\n",
      "16384  Georgia  2020   Clay   -10.72\n",
      "         State  Year    County  RD_DIFF\n",
      "16474  Georgia  2020  Randolph    -9.15\n",
      "         State  Year   County  RD_DIFF\n",
      "16482  Georgia  2020  Stewart   -19.15\n",
      "         State  Year         County  RD_DIFF\n",
      "16380  Georgia  2020  Chattahoochee    13.47\n",
      "         State  Year    County  RD_DIFF\n",
      "16460  Georgia  2020  Muscogee   -24.01\n",
      "         State  Year  County  RD_DIFF\n",
      "16426  Georgia  2020  Harris    44.31\n",
      "         State  Year County  RD_DIFF\n",
      "16495  Georgia  2020  Troup    21.84\n",
      "         State  Year County  RD_DIFF\n",
      "16428  Georgia  2020  Heard     68.5\n",
      "         State  Year   County  RD_DIFF\n",
      "16376  Georgia  2020  Carroll    38.97\n",
      "         State  Year    County  RD_DIFF\n",
      "16425  Georgia  2020  Haralson    73.97\n",
      "         State  Year County  RD_DIFF\n",
      "16469  Georgia  2020   Polk    57.07\n",
      "         State  Year County  RD_DIFF\n",
      "16411  Georgia  2020  Floyd    41.07\n",
      "         State  Year     County  RD_DIFF\n",
      "16381  Georgia  2020  Chattooga    61.77\n",
      "         State  Year  County  RD_DIFF\n",
      "16500  Georgia  2020  Walker    59.25\n",
      "         State  Year   County  RD_DIFF\n",
      "16377  Georgia  2020  Catoosa    55.89\n"
     ]
    }
   ],
   "source": [
    "for c in ga_counties:\n",
    "    print(ga_pres_pct_2020[ga_pres_pct_2020['County'] == c])"
   ]
  },
  {
   "cell_type": "code",
   "execution_count": 10,
   "metadata": {},
   "outputs": [
    {
     "name": "stdout",
     "output_type": "stream",
     "text": [
      "          State    Year    County  RD_DIFF\n",
      "7125  Tennessee  2020.0  Hamilton     9.69\n",
      "          State    Year County  RD_DIFF\n",
      "7164  Tennessee  2020.0   Rhea    63.66\n",
      "          State    Year County  RD_DIFF\n",
      "7165  Tennessee  2020.0  Roane    50.88\n",
      "          State    Year  County  RD_DIFF\n",
      "7157  Tennessee  2020.0  Morgan    70.04\n",
      "          State    Year County  RD_DIFF\n",
      "7168  Tennessee  2020.0  Scott    77.53\n"
     ]
    }
   ],
   "source": [
    "for c in tn_counties:\n",
    "    print(tn_pres_pct_2020[tn_pres_pct_2020['County'] == c])"
   ]
  },
  {
   "cell_type": "code",
   "execution_count": 11,
   "metadata": {},
   "outputs": [
    {
     "name": "stdout",
     "output_type": "stream",
     "text": [
      "          State  Year    County  RD_DIFF\n",
      "13873  Kentucky  2020  McCreary    76.72\n",
      "          State  Year   County  RD_DIFF\n",
      "13899  Kentucky  2020  Pulaski    62.67\n",
      "          State  Year   County  RD_DIFF\n",
      "13868  Kentucky  2020  Lincoln    57.13\n",
      "          State  Year   County  RD_DIFF\n",
      "13839  Kentucky  2020  Garrard    56.56\n",
      "          State  Year     County  RD_DIFF\n",
      "13856  Kentucky  2020  Jessamine    32.45\n",
      "          State  Year   County  RD_DIFF\n",
      "13833  Kentucky  2020  Fayette   -20.76\n",
      "          State  Year   County  RD_DIFF\n",
      "13808  Kentucky  2020  Bourbon     30.0\n",
      "          State  Year    County  RD_DIFF\n",
      "13848  Kentucky  2020  Harrison    44.41\n",
      "          State  Year     County  RD_DIFF\n",
      "13895  Kentucky  2020  Pendleton    60.55\n",
      "          State  Year    County  RD_DIFF\n",
      "13818  Kentucky  2020  Campbell    18.63\n"
     ]
    }
   ],
   "source": [
    "for c in ky_counties:\n",
    "    print(ky_pres_pct_2020[ky_pres_pct_2020['County'] == c])"
   ]
  },
  {
   "cell_type": "code",
   "execution_count": 12,
   "metadata": {},
   "outputs": [
    {
     "name": "stdout",
     "output_type": "stream",
     "text": [
      "      State    Year    County  RD_DIFF\n",
      "12614  Ohio  2020.0  Hamilton   -15.87\n",
      "      State    Year  County  RD_DIFF\n",
      "12592  Ohio  2020.0  Butler    23.98\n"
     ]
    }
   ],
   "source": [
    "for c in oh_counties:\n",
    "    print(oh_pres_pct_2020[oh_pres_pct_2020['County'] == c])"
   ]
  },
  {
   "cell_type": "code",
   "execution_count": 13,
   "metadata": {},
   "outputs": [
    {
     "name": "stdout",
     "output_type": "stream",
     "text": [
      "         State  Year County  RD_DIFF\n",
      "12224  Indiana  2020  Union    56.04\n",
      "         State  Year County  RD_DIFF\n",
      "12232  Indiana  2020  Wayne    29.06\n",
      "         State  Year    County  RD_DIFF\n",
      "12211  Indiana  2020  Randolph    52.34\n",
      "         State  Year County  RD_DIFF\n",
      "12181  Indiana  2020    Jay    52.42\n",
      "         State  Year County  RD_DIFF\n",
      "12144  Indiana  2020  Adams    52.32\n",
      "         State  Year County  RD_DIFF\n",
      "12145  Indiana  2020  Allen    11.15\n"
     ]
    }
   ],
   "source": [
    "for c in in_counties:\n",
    "    print(in_pres_pct_2020[in_pres_pct_2020['County'] == c])"
   ]
  }
 ],
 "metadata": {
  "kernelspec": {
   "display_name": "Python 3",
   "language": "python",
   "name": "python3"
  },
  "language_info": {
   "codemirror_mode": {
    "name": "ipython",
    "version": 3
   },
   "file_extension": ".py",
   "mimetype": "text/x-python",
   "name": "python",
   "nbconvert_exporter": "python",
   "pygments_lexer": "ipython3",
   "version": "3.8.5"
  }
 },
 "nbformat": 4,
 "nbformat_minor": 4
}
