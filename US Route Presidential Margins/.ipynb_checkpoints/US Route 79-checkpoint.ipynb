{
 "cells": [
  {
   "cell_type": "markdown",
   "metadata": {},
   "source": [
    "<h2>Calculating 2020 Presidential Margins Along U.S. Route 79</h2>"
   ]
  },
  {
   "cell_type": "code",
   "execution_count": 1,
   "metadata": {},
   "outputs": [],
   "source": [
    "#Import relevant libraries\n",
    "import numpy as np\n",
    "import pandas as pd\n",
    "import warnings\n",
    "warnings.filterwarnings(\"ignore\")"
   ]
  },
  {
   "cell_type": "code",
   "execution_count": 2,
   "metadata": {},
   "outputs": [
    {
     "data": {
      "text/plain": [
       "Index(['State', 'Year', 'Office', 'County', 'D#', 'R#', 'Prog.#', 'S#',\n",
       "       'Proh.#', 'SL#', 'SW#', 'Am.#', 'B&T#', 'TX Reg.#', 'I#', 'Ref.#',\n",
       "       'NL#', 'G#', 'L#', 'NA#', 'W/I1#', 'W/I2#', 'W/I3#', 'W/I4#', 'W/I5#',\n",
       "       'W/I6#', 'W/I7#', 'W/I8#', 'C#', 'W/I#', 'LRU#', 'I1#', 'I2#',\n",
       "       'Year / Office'],\n",
       "      dtype='object')"
      ]
     },
     "execution_count": 2,
     "metadata": {},
     "output_type": "execute_result"
    }
   ],
   "source": [
    "#Start with Texas\n",
    "tx_vote = pd.read_csv('../ElectionData/Texas.csv', low_memory=False)\n",
    "tx_vote.columns"
   ]
  },
  {
   "cell_type": "code",
   "execution_count": 3,
   "metadata": {},
   "outputs": [
    {
     "data": {
      "text/plain": [
       "array([1912., 1916., 1920., 1924., 1928., 1932., 1936., 1940., 1944.,\n",
       "       1948., 1952., 1956., 1960., 1964., 1968., 1972., 1976., 1980.,\n",
       "       1984., 1988., 1992., 1996., 2000., 2004., 2008., 2012., 2016.,\n",
       "       1966., 1990., 1993., 1994., 2002., 2006., 2014., 2018., 1978.,\n",
       "       1998., 2010.,   nan, 2020.])"
      ]
     },
     "execution_count": 3,
     "metadata": {},
     "output_type": "execute_result"
    }
   ],
   "source": [
    "tx_vote['Year'].unique()"
   ]
  },
  {
   "cell_type": "code",
   "execution_count": 4,
   "metadata": {},
   "outputs": [],
   "source": [
    "tx_votes = pd.DataFrame(tx_vote[tx_vote.Year == 2020])\n",
    "tx_votes = tx_votes.fillna(0)\n",
    "tx_votes['Year'] = pd.to_numeric(tx_votes['Year'])\n",
    "tx_votes.loc[:,'Total Votes'] = (tx_votes.sum(axis=1)) - tx_votes['Year']\n",
    "tx_pres = tx_votes[tx_votes['Office'] == 'President']\n",
    "tx_pres = tx_pres.drop('Office', axis = 1)\n",
    "tx_pres['Year'] = pd.to_numeric(tx_pres['Year'])\n",
    "tx_pres['PCT_DEM'] = (round(tx_pres['D#']/tx_pres['Total Votes'],4))*100\n",
    "tx_pres['PCT_REP'] = (round(tx_pres['R#']/tx_pres['Total Votes'],4))*100\n",
    "tx_pres['RD_DIFF'] = tx_pres['PCT_REP'] - tx_pres['PCT_DEM']\n",
    "tx_pres_pct = tx_pres[['State', 'Year', 'County', 'RD_DIFF']]\n",
    "tx_counties = ['Williamson', 'Milam', 'Robertson', 'Leon', 'Freestone', 'Anderson', 'Cherokee', 'Rusk', 'Panola']"
   ]
  },
  {
   "cell_type": "code",
   "execution_count": 5,
   "metadata": {},
   "outputs": [],
   "source": [
    "#Repeat for Louisiana\n",
    "la_vote = pd.read_csv('../ElectionData/Louisiana.csv', low_memory=False)\n",
    "la_votes = pd.DataFrame(la_vote[la_vote.Year == 2020])\n",
    "la_votes = la_votes.fillna(0)\n",
    "la_votes['Year'] = pd.to_numeric(la_votes['Year'])\n",
    "la_votes.loc[:,'Total Votes'] = (la_votes.sum(axis=1)) - la_votes['Year']\n",
    "la_pres = la_votes[la_votes['Office'] == 'President']\n",
    "la_pres = la_pres.drop('Office', axis = 1)\n",
    "la_pres['Year'] = pd.to_numeric(la_pres['Year'])\n",
    "la_pres['PCT_DEM'] = (round(la_pres['D#']/la_pres['Total Votes'],4))*100\n",
    "la_pres['PCT_REP'] = (round(la_pres['R#']/la_pres['Total Votes'],4))*100\n",
    "la_pres['RD_DIFF'] = la_pres['PCT_REP'] - la_pres['PCT_DEM']\n",
    "la_pres_pct = la_pres[['State', 'Year', 'Parish', 'RD_DIFF']]\n",
    "la_parishes = ['Caddo', 'Bossier', 'Webster']"
   ]
  },
  {
   "cell_type": "code",
   "execution_count": 6,
   "metadata": {},
   "outputs": [],
   "source": [
    "#Repeat for Arkansas\n",
    "ar_votes = pd.read_csv('../ElectionData/Arkansas.csv', low_memory=False)\n",
    "ar_votes = ar_votes.fillna(0)\n",
    "ar_votes['Year'] = pd.to_numeric(ar_votes['Year'])\n",
    "ar_votes.loc[:,'Total Votes'] = (ar_votes.sum(axis=1)) - ar_votes['Year']\n",
    "ar_pres = ar_votes[ar_votes['Office'] == 'President']\n",
    "ar_pres = ar_pres.drop('Office', axis = 1)\n",
    "ar_pres['Year'] = pd.to_numeric(ar_pres['Year'])\n",
    "ar_pres['PCT_DEM'] = (round(ar_pres['D#']/ar_pres['Total Votes'],4))*100\n",
    "ar_pres['PCT_REP'] = (round(ar_pres['R#']/ar_pres['Total Votes'],4))*100\n",
    "ar_pres['RD_DIFF'] = ar_pres['PCT_REP'] - ar_pres['PCT_DEM']\n",
    "ar_pres_pct = ar_pres[['State', 'Year', 'County', 'RD_DIFF']]\n",
    "ar_pres_pct_2020 = ar_pres_pct[ar_pres_pct['Year'] == 2020]\n",
    "ar_counties = ['Columbia', 'Ouachita', 'Calhoun', 'Dallas', 'Cleveland', 'Jefferson', 'Arkansas', 'Monroe', 'Lee', \\\n",
    "               'Crittenden', 'Saint Francis']"
   ]
  },
  {
   "cell_type": "code",
   "execution_count": 7,
   "metadata": {},
   "outputs": [],
   "source": [
    "#Repeat for Tennessee\n",
    "tn_votes = pd.read_csv('../ElectionData/Tennessee.csv', low_memory=False)\n",
    "tn_votes = tn_votes.fillna(0)\n",
    "tn_votes['Year'] = pd.to_numeric(tn_votes['Year'])\n",
    "tn_votes.loc[:,'Total Votes'] = (tn_votes.sum(axis=1)) - tn_votes['Year']\n",
    "tn_pres = tn_votes[tn_votes['Office'] == 'President']\n",
    "tn_pres = tn_pres.drop('Office', axis = 1)\n",
    "tn_pres['Year'] = pd.to_numeric(tn_pres['Year'])\n",
    "tn_pres['PCT_DEM'] = (round(tn_pres['D#']/tn_pres['Total Votes'],4))*100\n",
    "tn_pres['PCT_REP'] = (round(tn_pres['R#']/tn_pres['Total Votes'],4))*100\n",
    "tn_pres['RD_DIFF'] = tn_pres['PCT_REP'] - tn_pres['PCT_DEM']\n",
    "tn_pres_pct = tn_pres[['State', 'Year', 'County', 'RD_DIFF']]\n",
    "tn_pres_pct_2020 = tn_pres_pct[tn_pres_pct['Year'] == 2020]\n",
    "tn_counties = ['Shelby', 'Fayette', 'Tipton', 'Haywood', 'Crockett', 'Gibson', 'Carroll', 'Henry', 'Stewart', 'Montgomery']"
   ]
  },
  {
   "cell_type": "code",
   "execution_count": 8,
   "metadata": {},
   "outputs": [],
   "source": [
    "#Repeat for Kentucky\n",
    "ky_votes = pd.read_csv('../ElectionData/Kentucky.csv', low_memory=False)\n",
    "ky_votes = ky_votes.fillna(0)\n",
    "ky_votes['Year'] = pd.to_numeric(ky_votes['Year'])\n",
    "ky_votes.loc[:,'Total Votes'] = (ky_votes.sum(axis=1)) - ky_votes['Year']\n",
    "ky_pres = ky_votes[ky_votes['Office'] == 'President']\n",
    "ky_pres = ky_pres.drop('Office', axis = 1)\n",
    "ky_pres['Year'] = pd.to_numeric(ky_pres['Year'])\n",
    "ky_pres['PCT_DEM'] = (round(ky_pres['D#']/ky_pres['Total Votes'],4))*100\n",
    "ky_pres['PCT_REP'] = (round(ky_pres['R#']/ky_pres['Total Votes'],4))*100\n",
    "ky_pres['RD_DIFF'] = ky_pres['PCT_REP'] - ky_pres['PCT_DEM']\n",
    "ky_pres_pct = ky_pres[['State', 'Year', 'County', 'RD_DIFF']]\n",
    "ky_pres_pct_2020 = ky_pres_pct[ky_pres_pct['Year'] == 2020]\n",
    "ky_counties = ['Todd', 'Logan']"
   ]
  },
  {
   "cell_type": "code",
   "execution_count": 9,
   "metadata": {},
   "outputs": [
    {
     "name": "stdout",
     "output_type": "stream",
     "text": [
      "       State    Year      County  RD_DIFF\n",
      "21822  Texas  2020.0  Williamson    -1.41\n",
      "       State    Year County  RD_DIFF\n",
      "21742  Texas  2020.0  Milam    51.88\n",
      "       State    Year     County  RD_DIFF\n",
      "21774  Texas  2020.0  Robertson     40.4\n",
      "       State    Year County  RD_DIFF\n",
      "21721  Texas  2020.0   Leon    74.28\n",
      "       State    Year     County  RD_DIFF\n",
      "21657  Texas  2020.0  Freestone    61.48\n",
      "       State    Year    County  RD_DIFF\n",
      "21577  Texas  2020.0  Anderson    58.02\n",
      "       State    Year    County  RD_DIFF\n",
      "21613  Texas  2020.0  Cherokee    55.83\n",
      "       State    Year County  RD_DIFF\n",
      "21777  Texas  2020.0   Rusk    55.69\n",
      "       State    Year  County  RD_DIFF\n",
      "21759  Texas  2020.0  Panola    63.48\n"
     ]
    }
   ],
   "source": [
    "#Show percentages in Texas\n",
    "for c in tx_counties:\n",
    "    print(tx_pres_pct[tx_pres_pct['County'] == c])"
   ]
  },
  {
   "cell_type": "code",
   "execution_count": 10,
   "metadata": {},
   "outputs": [
    {
     "name": "stdout",
     "output_type": "stream",
     "text": [
      "          State  Year Parish  RD_DIFF\n",
      "4932  Louisiana  2020  Caddo    -6.76\n",
      "          State  Year   Parish  RD_DIFF\n",
      "4931  Louisiana  2020  Bossier     41.0\n",
      "          State  Year   Parish  RD_DIFF\n",
      "4983  Louisiana  2020  Webster    31.06\n"
     ]
    }
   ],
   "source": [
    "#Show percentages in Louisiana\n",
    "for p in la_parishes:\n",
    "    print(la_pres_pct[la_pres_pct['Parish'] == p])"
   ]
  },
  {
   "cell_type": "code",
   "execution_count": 11,
   "metadata": {},
   "outputs": [
    {
     "name": "stdout",
     "output_type": "stream",
     "text": [
      "         State  Year    County  RD_DIFF\n",
      "7363  Arkansas  2020  Columbia    31.17\n",
      "         State  Year    County  RD_DIFF\n",
      "7401  Arkansas  2020  Ouachita    13.49\n",
      "         State  Year   County  RD_DIFF\n",
      "7356  Arkansas  2020  Calhoun    53.03\n",
      "         State  Year  County  RD_DIFF\n",
      "7369  Arkansas  2020  Dallas    23.03\n",
      "         State  Year     County  RD_DIFF\n",
      "7362  Arkansas  2020  Cleveland    61.56\n",
      "         State  Year     County  RD_DIFF\n",
      "7384  Arkansas  2020  Jefferson   -21.71\n",
      "         State  Year    County  RD_DIFF\n",
      "7350  Arkansas  2020  Arkansas    39.51\n",
      "         State  Year  County  RD_DIFF\n",
      "7397  Arkansas  2020  Monroe    14.14\n",
      "         State  Year County  RD_DIFF\n",
      "7388  Arkansas  2020    Lee    -4.81\n",
      "         State  Year      County  RD_DIFF\n",
      "7367  Arkansas  2020  Crittenden    -7.22\n",
      "         State  Year         County  RD_DIFF\n",
      "7411  Arkansas  2020  Saint Francis    -5.09\n"
     ]
    }
   ],
   "source": [
    "#Show percentages in Arkansas\n",
    "for c in ar_counties:\n",
    "    print(ar_pres_pct_2020[ar_pres_pct_2020['County'] == c])"
   ]
  },
  {
   "cell_type": "code",
   "execution_count": 12,
   "metadata": {},
   "outputs": [
    {
     "name": "stdout",
     "output_type": "stream",
     "text": [
      "          State    Year  County  RD_DIFF\n",
      "7171  Tennessee  2020.0  Shelby   -30.44\n",
      "          State    Year   County  RD_DIFF\n",
      "7116  Tennessee  2020.0  Fayette    37.69\n",
      "          State    Year  County  RD_DIFF\n",
      "7176  Tennessee  2020.0  Tipton    48.45\n",
      "          State    Year   County  RD_DIFF\n",
      "7130  Tennessee  2020.0  Haywood    -8.99\n",
      "          State    Year    County  RD_DIFF\n",
      "7109  Tennessee  2020.0  Crockett    53.83\n",
      "          State    Year  County  RD_DIFF\n",
      "7119  Tennessee  2020.0  Gibson    46.96\n",
      "          State    Year   County  RD_DIFF\n",
      "7101  Tennessee  2020.0  Carroll    55.82\n",
      "          State    Year County  RD_DIFF\n",
      "7132  Tennessee  2020.0  Henry    51.11\n",
      "          State    Year   County  RD_DIFF\n",
      "7173  Tennessee  2020.0  Stewart    59.05\n",
      "          State    Year      County  RD_DIFF\n",
      "7155  Tennessee  2020.0  Montgomery    12.66\n"
     ]
    }
   ],
   "source": [
    "#Show percentages in Tennessee\n",
    "for c in tn_counties:\n",
    "    print(tn_pres_pct_2020[tn_pres_pct_2020['County'] == c])"
   ]
  },
  {
   "cell_type": "code",
   "execution_count": 13,
   "metadata": {},
   "outputs": [
    {
     "name": "stdout",
     "output_type": "stream",
     "text": [
      "          State  Year County  RD_DIFF\n",
      "13909  Kentucky  2020   Todd    53.27\n",
      "          State  Year County  RD_DIFF\n",
      "13870  Kentucky  2020  Logan    48.37\n"
     ]
    }
   ],
   "source": [
    "#Show percentages in Kentucky\n",
    "for c in ky_counties:\n",
    "    print(ky_pres_pct_2020[ky_pres_pct_2020['County'] == c])"
   ]
  }
 ],
 "metadata": {
  "kernelspec": {
   "display_name": "Python 3",
   "language": "python",
   "name": "python3"
  },
  "language_info": {
   "codemirror_mode": {
    "name": "ipython",
    "version": 3
   },
   "file_extension": ".py",
   "mimetype": "text/x-python",
   "name": "python",
   "nbconvert_exporter": "python",
   "pygments_lexer": "ipython3",
   "version": "3.8.5"
  }
 },
 "nbformat": 4,
 "nbformat_minor": 4
}
