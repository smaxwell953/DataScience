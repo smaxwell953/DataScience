{
 "cells": [
  {
   "cell_type": "markdown",
   "metadata": {},
   "source": [
    "<h2>Calculating 2020 Presidential Margins Along U.S. Route 17</h2>"
   ]
  },
  {
   "cell_type": "code",
   "execution_count": 1,
   "metadata": {},
   "outputs": [],
   "source": [
    "#Import relevant libraries\n",
    "import numpy as np\n",
    "import pandas as pd\n",
    "import warnings\n",
    "warnings.filterwarnings(\"ignore\")"
   ]
  },
  {
   "cell_type": "code",
   "execution_count": 2,
   "metadata": {},
   "outputs": [
    {
     "data": {
      "text/plain": [
       "Index(['State', 'Year', 'Office', 'County', 'D#', 'R#', 'Prog.#', 'S#', 'AI#',\n",
       "       'L#', 'G#', 'I1#', 'I2#', 'I3#', 'I4#', 'I5#', 'NL#', 'Ref.#', 'W/I1#',\n",
       "       'W/2#', 'W/3#', 'D1#', 'D2#', 'D3#', 'D4#', 'D5#', 'I#', 'Ind.#', 'C#',\n",
       "       'O#', 'Solid.#', 'Others'],\n",
       "      dtype='object')"
      ]
     },
     "execution_count": 2,
     "metadata": {},
     "output_type": "execute_result"
    }
   ],
   "source": [
    "#Repeat for Mississippi, with some modifications\n",
    "\n",
    "ms_vote = pd.read_csv('../ElectionData/Mississippi.csv', low_memory=False)\n",
    "\n",
    "ms_vote.columns"
   ]
  },
  {
   "cell_type": "code",
   "execution_count": 3,
   "metadata": {},
   "outputs": [
    {
     "data": {
      "text/plain": [
       "array(['1912', '1916', '1920', '1924', '1928', '1932', '1936', '1940',\n",
       "       '1944', '1948', '1952', '1956', '1960', '1964', '1968', '1972',\n",
       "       '1976', '1980', '1984', '1988', '1992', '1996', '2000', '2004',\n",
       "       '2008', '2012', '2016', '1942', '1947', '1978', '1990', '1994',\n",
       "       '2002', '2006', '2008S', '2014', '2018', '2018S', '1979', '1983',\n",
       "       '1987', '1991', '1995', '1999', '2003', '2007', '2011', '2015',\n",
       "       '2019', '2020'], dtype=object)"
      ]
     },
     "execution_count": 3,
     "metadata": {},
     "output_type": "execute_result"
    }
   ],
   "source": [
    "ms_vote['Year'].unique()"
   ]
  },
  {
   "cell_type": "code",
   "execution_count": 4,
   "metadata": {},
   "outputs": [],
   "source": [
    "#Filter the 2020 results here rather than near the end, as an error results when trying to parse '2008S'\n",
    "\n",
    "ms_votes = pd.DataFrame(ms_vote[ms_vote.Year == '2020'])\n",
    "ms_votes = ms_votes.fillna(0)\n",
    "ms_votes['Year'] = pd.to_numeric(ms_votes['Year'])\n",
    "ms_votes.loc[:,'Total Votes'] = (ms_votes.sum(axis=1)) - ms_votes['Year']\n",
    "ms_pres = ms_votes[ms_votes['Office'] == 'President']\n",
    "ms_pres = ms_pres.drop('Office', axis = 1)\n",
    "ms_pres['Year'] = pd.to_numeric(ms_pres['Year'])\n",
    "ms_pres['PCT_DEM'] = (round(ms_pres['D#']/ms_pres['Total Votes'],4))*100\n",
    "ms_pres['PCT_REP'] = (round(ms_pres['R#']/ms_pres['Total Votes'],4))*100\n",
    "ms_pres['RD_DIFF'] = ms_pres['PCT_REP'] - ms_pres['PCT_DEM']\n",
    "ms_pres_pct = ms_pres[['State', 'Year', 'County', 'RD_DIFF']]\n",
    "ms_counties = ['Pearl River', 'Lamar', 'Forrest', 'Jones', 'Jasper', 'Clarke', 'Lauderdale']"
   ]
  },
  {
   "cell_type": "code",
   "execution_count": 5,
   "metadata": {},
   "outputs": [],
   "source": [
    "#Florida\n",
    "fl_vote = pd.read_csv('../ElectionData/Florida.csv', low_memory=False)\n",
    "fl_votes = pd.DataFrame(fl_vote[fl_vote.Year == 2020])\n",
    "fl_votes = fl_votes.fillna(0)\n",
    "fl_votes['Year'] = pd.to_numeric(fl_votes['Year'])\n",
    "fl_votes.loc[:,'Total Votes'] = (fl_votes.sum(axis=1)) - fl_votes['Year']\n",
    "fl_pres = fl_votes[fl_votes['Office'] == 'President']\n",
    "fl_pres = fl_pres.drop('Office', axis = 1)\n",
    "fl_pres['Year'] = pd.to_numeric(fl_pres['Year'])\n",
    "fl_pres['PCT_DEM'] = (round(fl_pres['D#']/fl_pres['Total Votes'],4))*100\n",
    "fl_pres['PCT_REP'] = (round(fl_pres['R#']/fl_pres['Total Votes'],4))*100\n",
    "fl_pres['RD_DIFF'] = fl_pres['PCT_REP'] - fl_pres['PCT_DEM']\n",
    "fl_pres_pct = fl_pres[['State', 'Year', 'County', 'RD_DIFF']]\n",
    "fl_counties = ['Charlotte', 'DeSoto', 'Hardee', 'Polk', 'Osceola', 'Orange', 'Seminole', 'Volusia', 'Putnam', 'Clay', \\\n",
    "               'Duval', 'Nassau']"
   ]
  },
  {
   "cell_type": "code",
   "execution_count": 6,
   "metadata": {},
   "outputs": [],
   "source": [
    "#Repeat for Georgia\n",
    "ga_votes = pd.read_csv('../ElectionData/Georgia.csv', low_memory=False)\n",
    "ga_votes = ga_votes.fillna(0)\n",
    "ga_votes['Year'] = pd.to_numeric(ga_votes['Year'])\n",
    "ga_votes.loc[:,'Total Votes'] = (ga_votes.sum(axis=1)) - ga_votes['Year']\n",
    "ga_pres = ga_votes[ga_votes['Office'] == 'President']\n",
    "ga_pres = ga_pres.drop('Office', axis = 1)\n",
    "ga_pres['Year'] = pd.to_numeric(ga_pres['Year'])\n",
    "ga_pres['PCT_DEM'] = (round(ga_pres['D#']/ga_pres['Total Votes'],4))*100\n",
    "ga_pres['PCT_REP'] = (round(ga_pres['R#']/ga_pres['Total Votes'],4))*100\n",
    "ga_pres['RD_DIFF'] = ga_pres['PCT_REP'] - ga_pres['PCT_DEM']\n",
    "ga_pres_pct = ga_pres[['State', 'Year', 'County', 'RD_DIFF']]\n",
    "ga_pres_pct_2020 = ga_pres_pct[ga_pres_pct['Year'] == 2020]\n",
    "ga_counties = ['Camden', 'Glynn', 'McIntosh', 'Liberty', 'Bryan', 'Chatham']"
   ]
  },
  {
   "cell_type": "code",
   "execution_count": 7,
   "metadata": {},
   "outputs": [],
   "source": [
    "#Repeat for South Carolina\n",
    "sc_votes = pd.read_csv('../ElectionData/South Carolina.csv', low_memory=False)\n",
    "sc_votes = sc_votes.fillna(0)\n",
    "sc_votes['Year'] = pd.to_numeric(sc_votes['Year'])\n",
    "sc_votes.loc[:,'Total Votes'] = (sc_votes.sum(axis=1)) - sc_votes['Year']\n",
    "sc_pres = sc_votes[sc_votes['Office'] == 'President']\n",
    "sc_pres = sc_pres.drop('Office', axis = 1)\n",
    "sc_pres['Year'] = pd.to_numeric(sc_pres['Year'])\n",
    "sc_pres['PCT_DEM'] = (round(sc_pres['D#']/sc_pres['Total Votes'],4))*100\n",
    "sc_pres['PCT_REP'] = (round(sc_pres['R#']/sc_pres['Total Votes'],4))*100\n",
    "sc_pres['RD_DIFF'] = sc_pres['PCT_REP'] - sc_pres['PCT_DEM']\n",
    "sc_pres_pct = sc_pres[['State', 'Year', 'County', 'RD_DIFF']]\n",
    "sc_pres_pct_2020 = sc_pres_pct[sc_pres_pct['Year'] == 2020]\n",
    "sc_counties = ['Jasper', 'Beaufort', 'Colleton', 'Charleston', 'Georgetown', 'Horry']"
   ]
  },
  {
   "cell_type": "code",
   "execution_count": 8,
   "metadata": {},
   "outputs": [],
   "source": [
    "#Repeat for North Carolina\n",
    "nc_votes = pd.read_csv('../ElectionData/North Carolina.csv', low_memory=False)\n",
    "nc_votes = nc_votes.fillna(0)\n",
    "nc_votes['Year'] = pd.to_numeric(nc_votes['Year'])\n",
    "nc_votes.loc[:,'Total Votes'] = (nc_votes.sum(axis=1)) - nc_votes['Year']\n",
    "nc_pres = nc_votes[nc_votes['Office'] == 'President']\n",
    "nc_pres = nc_pres.drop('Office', axis = 1)\n",
    "nc_pres['Year'] = pd.to_numeric(nc_pres['Year'])\n",
    "nc_pres['PCT_DEM'] = (round(nc_pres['D#']/nc_pres['Total Votes'],4))*100\n",
    "nc_pres['PCT_REP'] = (round(nc_pres['R#']/nc_pres['Total Votes'],4))*100\n",
    "nc_pres['RD_DIFF'] = nc_pres['PCT_REP'] - nc_pres['PCT_DEM']\n",
    "nc_pres_pct = nc_pres[['State', 'Year', 'County', 'RD_DIFF']]\n",
    "nc_pres_pct_2020 = nc_pres_pct[nc_pres_pct['Year'] == 2020]\n",
    "nc_counties = ['Brunswick', 'New Hanover', 'Pender', 'Onslow', 'Jones', 'Craven', 'Beaufort', 'Martin', 'Bertie', 'Chowan',\\\n",
    "               'Perquimans', 'Pasquotank', 'Camden']"
   ]
  },
  {
   "cell_type": "code",
   "execution_count": 9,
   "metadata": {},
   "outputs": [],
   "source": [
    "#Repeat for Virginia\n",
    "va_votes = pd.read_csv('../ElectionData/Virginia.csv', low_memory=False)\n",
    "va_votes = va_votes.fillna(0)\n",
    "va_votes['Year'] = pd.to_numeric(va_votes['Year'])\n",
    "va_votes.loc[:,'Total Votes'] = (va_votes.sum(axis=1)) - va_votes['Year']\n",
    "va_pres = va_votes[va_votes['Office'] == 'President']\n",
    "va_pres = va_pres.drop('Office', axis = 1)\n",
    "va_pres['Year'] = pd.to_numeric(va_pres['Year'])\n",
    "va_pres['PCT_DEM'] = (round(va_pres['D#']/va_pres['Total Votes'],4))*100\n",
    "va_pres['PCT_REP'] = (round(va_pres['R#']/va_pres['Total Votes'],4))*100\n",
    "va_pres['RD_DIFF'] = va_pres['PCT_REP'] - va_pres['PCT_DEM']\n",
    "va_pres_pct = va_pres[['State', 'Year', 'County/City', 'RD_DIFF']]\n",
    "va_pres_pct_2020 = va_pres_pct[va_pres_pct['Year'] == 2020]\n",
    "va_counties = ['Chesapeake City', 'Portsmouth City', 'Suffolk City', 'Isle of Wight', 'Newport News City', 'York', \\\n",
    "               'Gloucester', 'Middlesex', 'Essex', 'Caroline', 'Spotsylvania', 'Fredericksburg City', 'Stafford', \\\n",
    "               'Fauquier', 'Clarke', 'Frederick', 'Winchester City']"
   ]
  },
  {
   "cell_type": "markdown",
   "metadata": {},
   "source": [
    "Now find the margins from each county."
   ]
  },
  {
   "cell_type": "code",
   "execution_count": 10,
   "metadata": {},
   "outputs": [
    {
     "name": "stdout",
     "output_type": "stream",
     "text": [
      "        State  Year     County  RD_DIFF\n",
      "7360  Florida  2020  Charlotte    26.57\n",
      "        State  Year  County  RD_DIFF\n",
      "7365  Florida  2020  DeSoto    31.98\n",
      "        State  Year  County  RD_DIFF\n",
      "7376  Florida  2020  Hardee    44.98\n",
      "        State  Year County  RD_DIFF\n",
      "7405  Florida  2020   Polk     14.4\n",
      "        State  Year   County  RD_DIFF\n",
      "7401  Florida  2020  Osceola   -13.78\n",
      "        State  Year  County  RD_DIFF\n",
      "7400  Florida  2020  Orange   -23.05\n",
      "        State  Year    County  RD_DIFF\n",
      "7411  Florida  2020  Seminole    -2.78\n",
      "        State  Year   County  RD_DIFF\n",
      "7416  Florida  2020  Volusia    14.04\n",
      "        State  Year  County  RD_DIFF\n",
      "7406  Florida  2020  Putnam    41.15\n",
      "        State  Year County  RD_DIFF\n",
      "7362  Florida  2020   Clay    37.03\n",
      "        State  Year County  RD_DIFF\n",
      "7367  Florida  2020  Duval    -3.81\n",
      "        State  Year  County  RD_DIFF\n",
      "7397  Florida  2020  Nassau    45.83\n"
     ]
    }
   ],
   "source": [
    "for c in fl_counties:\n",
    "    print(fl_pres_pct[fl_pres_pct['County'] == c])"
   ]
  },
  {
   "cell_type": "code",
   "execution_count": 11,
   "metadata": {},
   "outputs": [
    {
     "name": "stdout",
     "output_type": "stream",
     "text": [
      "         State  Year  County  RD_DIFF\n",
      "16374  Georgia  2020  Camden    30.73\n",
      "         State  Year County  RD_DIFF\n",
      "16417  Georgia  2020  Glynn    23.18\n",
      "         State  Year    County  RD_DIFF\n",
      "16449  Georgia  2020  McIntosh    20.97\n",
      "         State  Year   County  RD_DIFF\n",
      "16443  Georgia  2020  Liberty   -24.05\n",
      "         State  Year County  RD_DIFF\n",
      "16369  Georgia  2020  Bryan    35.14\n",
      "         State  Year   County  RD_DIFF\n",
      "16379  Georgia  2020  Chatham   -18.74\n"
     ]
    }
   ],
   "source": [
    "for c in ga_counties:\n",
    "    print(ga_pres_pct_2020[ga_pres_pct_2020['County'] == c])"
   ]
  },
  {
   "cell_type": "code",
   "execution_count": 12,
   "metadata": {},
   "outputs": [
    {
     "name": "stdout",
     "output_type": "stream",
     "text": [
      "               State    Year  County  RD_DIFF\n",
      "5348  South Carolina  2020.0  Jasper    -0.75\n",
      "               State    Year    County  RD_DIFF\n",
      "5328  South Carolina  2020.0  Beaufort     9.99\n",
      "               State    Year    County  RD_DIFF\n",
      "5336  South Carolina  2020.0  Colleton     9.53\n",
      "               State    Year      County  RD_DIFF\n",
      "5331  South Carolina  2020.0  Charleston   -12.88\n",
      "               State    Year      County  RD_DIFF\n",
      "5343  South Carolina  2020.0  Georgetown    12.72\n",
      "               State    Year County  RD_DIFF\n",
      "5347  South Carolina  2020.0  Horry    33.19\n"
     ]
    }
   ],
   "source": [
    "for c in sc_counties:\n",
    "    print(sc_pres_pct_2020[sc_pres_pct_2020['County'] == c])"
   ]
  },
  {
   "cell_type": "code",
   "execution_count": 13,
   "metadata": {},
   "outputs": [
    {
     "name": "stdout",
     "output_type": "stream",
     "text": [
      "                State    Year     County  RD_DIFF\n",
      "11705  North Carolina  2020.0  Brunswick     25.0\n",
      "                State    Year       County  RD_DIFF\n",
      "11760  North Carolina  2020.0  New Hanover    -2.13\n",
      "                State    Year  County  RD_DIFF\n",
      "11766  North Carolina  2020.0  Pender    29.95\n",
      "                State    Year  County  RD_DIFF\n",
      "11762  North Carolina  2020.0  Onslow     30.2\n",
      "                State    Year County  RD_DIFF\n",
      "11747  North Carolina  2020.0  Jones    19.61\n",
      "                State    Year  County  RD_DIFF\n",
      "11720  North Carolina  2020.0  Craven    18.63\n",
      "                State    Year    County  RD_DIFF\n",
      "11702  North Carolina  2020.0  Beaufort    25.85\n",
      "                State    Year  County  RD_DIFF\n",
      "11754  North Carolina  2020.0  Martin     4.95\n",
      "                State    Year  County  RD_DIFF\n",
      "11703  North Carolina  2020.0  Bertie   -21.62\n",
      "                State    Year  County  RD_DIFF\n",
      "11716  North Carolina  2020.0  Chowan    15.73\n",
      "                State    Year      County  RD_DIFF\n",
      "11767  North Carolina  2020.0  Perquimans    32.21\n",
      "                State    Year      County  RD_DIFF\n",
      "11765  North Carolina  2020.0  Pasquotank    -0.31\n",
      "                State    Year  County  RD_DIFF\n",
      "11710  North Carolina  2020.0  Camden    46.61\n"
     ]
    }
   ],
   "source": [
    "for c in nc_counties:\n",
    "    print(nc_pres_pct_2020[nc_pres_pct_2020['County'] == c])"
   ]
  },
  {
   "cell_type": "code",
   "execution_count": 14,
   "metadata": {},
   "outputs": [
    {
     "name": "stdout",
     "output_type": "stream",
     "text": [
      "          State    Year      County/City  RD_DIFF\n",
      "13993  Virginia  2020.0  Chesapeake City    -6.45\n",
      "          State    Year      County/City  RD_DIFF\n",
      "14016  Virginia  2020.0  Portsmouth City   -40.81\n",
      "          State    Year   County/City  RD_DIFF\n",
      "14022  Virginia  2020.0  Suffolk City   -17.32\n",
      "          State    Year    County/City  RD_DIFF\n",
      "13939  Virginia  2020.0  Isle of Wight    18.37\n",
      "          State    Year        County/City  RD_DIFF\n",
      "14011  Virginia  2020.0  Newport News City   -32.91\n",
      "          State    Year County/City  RD_DIFF\n",
      "13988  Virginia  2020.0        York      6.6\n",
      "          State    Year County/City  RD_DIFF\n",
      "13929  Virginia  2020.0  Gloucester    35.51\n",
      "          State    Year County/City  RD_DIFF\n",
      "13952  Virginia  2020.0   Middlesex    25.13\n",
      "          State    Year County/City  RD_DIFF\n",
      "13921  Virginia  2020.0       Essex      0.6\n",
      "          State    Year County/City  RD_DIFF\n",
      "13910  Virginia  2020.0    Caroline     4.17\n",
      "          State    Year   County/City  RD_DIFF\n",
      "13978  Virginia  2020.0  Spotsylvania     6.78\n",
      "          State    Year          County/City  RD_DIFF\n",
      "14001  Virginia  2020.0  Fredericksburg City   -34.83\n",
      "          State    Year County/City  RD_DIFF\n",
      "13979  Virginia  2020.0    Stafford    -3.27\n",
      "          State    Year County/City  RD_DIFF\n",
      "13923  Virginia  2020.0    Fauquier    17.27\n",
      "          State    Year County/City  RD_DIFF\n",
      "13915  Virginia  2020.0      Clarke    13.63\n",
      "          State    Year County/City  RD_DIFF\n",
      "13927  Virginia  2020.0   Frederick    27.41\n",
      "          State    Year      County/City  RD_DIFF\n",
      "14026  Virginia  2020.0  Winchester City   -11.47\n"
     ]
    }
   ],
   "source": [
    "for c in va_counties:\n",
    "    print(va_pres_pct_2020[va_pres_pct_2020['County/City'] == c])"
   ]
  }
 ],
 "metadata": {
  "kernelspec": {
   "display_name": "Python 3",
   "language": "python",
   "name": "python3"
  },
  "language_info": {
   "codemirror_mode": {
    "name": "ipython",
    "version": 3
   },
   "file_extension": ".py",
   "mimetype": "text/x-python",
   "name": "python",
   "nbconvert_exporter": "python",
   "pygments_lexer": "ipython3",
   "version": "3.8.5"
  }
 },
 "nbformat": 4,
 "nbformat_minor": 4
}
