{
 "cells": [
  {
   "cell_type": "markdown",
   "metadata": {},
   "source": [
    "<h2>Calculating 2020 Presidential Margins Along U.S. Route 19</h2>"
   ]
  },
  {
   "cell_type": "code",
   "execution_count": null,
   "metadata": {},
   "outputs": [],
   "source": [
    "#Import relevant libraries\n",
    "import numpy as np\n",
    "import pandas as pd\n",
    "import warnings\n",
    "warnings.filterwarnings(\"ignore\")"
   ]
  },
  {
   "cell_type": "code",
   "execution_count": null,
   "metadata": {},
   "outputs": [],
   "source": [
    "#Florida\n",
    "fl_votes = pd.read_csv('../ElectionData/Florida.csv', low_memory=False)\n",
    "fl_votes = fl_votes.fillna(0)\n",
    "fl_votes['Year'] = pd.to_numeric(fl_votes['Year'])\n",
    "fl_votes.loc[:,'Total Votes'] = (fl_votes.sum(axis=1)) - fl_votes['Year']\n",
    "fl_pres = fl_votes[fl_votes['Office'] == 'President']\n",
    "fl_pres = fl_pres.drop('Office', axis = 1)\n",
    "fl_pres['Year'] = pd.to_numeric(fl_pres['Year'])\n",
    "fl_pres['PCT_DEM'] = (round(fl_pres['D#']/fl_pres['Total Votes'],4))*100\n",
    "fl_pres['PCT_REP'] = (round(fl_pres['R#']/fl_pres['Total Votes'],4))*100\n",
    "fl_pres['RD_DIFF'] = fl_pres['PCT_REP'] - fl_pres['PCT_DEM']\n",
    "fl_pres_pct = fl_pres[['State', 'Year', 'County', 'RD_DIFF']]\n",
    "fl_pres_pct_2020 = fl_pres_pct[fl_pres_pct['Year'] == 2020]\n",
    "fl_counties = ['Manatee', 'Hillsborough', 'Pinellas', 'Pasco', 'Hernando', 'Citrus', 'Levy', 'Gilchrist', 'Dixie', \\\n",
    "               'Taylor', 'Madison', 'Jefferson']"
   ]
  },
  {
   "cell_type": "code",
   "execution_count": null,
   "metadata": {},
   "outputs": [],
   "source": [
    "#Repeat for Georgia\n",
    "ga_votes = pd.read_csv('../ElectionData/Georgia.csv', low_memory=False)\n",
    "ga_votes = ga_votes.fillna(0)\n",
    "ga_votes['Year'] = pd.to_numeric(ga_votes['Year'])\n",
    "ga_votes.loc[:,'Total Votes'] = (ga_votes.sum(axis=1)) - ga_votes['Year']\n",
    "ga_pres = ga_votes[ga_votes['Office'] == 'President']\n",
    "ga_pres = ga_pres.drop('Office', axis = 1)\n",
    "ga_pres['Year'] = pd.to_numeric(ga_pres['Year'])\n",
    "ga_pres['PCT_DEM'] = (round(ga_pres['D#']/ga_pres['Total Votes'],4))*100\n",
    "ga_pres['PCT_REP'] = (round(ga_pres['R#']/ga_pres['Total Votes'],4))*100\n",
    "ga_pres['RD_DIFF'] = ga_pres['PCT_REP'] - ga_pres['PCT_DEM']\n",
    "ga_pres_pct = ga_pres[['State', 'Year', 'County', 'RD_DIFF']]\n",
    "ga_pres_pct_2020 = ga_pres_pct[ga_pres_pct['Year'] == 2020]\n",
    "ga_counties = ['Thomas', 'Mitchell', 'Dougherty', 'Lee', 'Sumter', 'Schley', 'Taylor', 'Upson', 'Pike', 'Spalding', \\\n",
    "               'Henry', 'Clayton', 'Fulton', 'Forsyth', 'Dawson', 'Lumpkin', 'Union']"
   ]
  },
  {
   "cell_type": "code",
   "execution_count": null,
   "metadata": {},
   "outputs": [],
   "source": [
    "#Repeat for North Carolina\n",
    "nc_votes = pd.read_csv('../ElectionData/North Carolina.csv', low_memory=False)\n",
    "nc_votes = nc_votes.fillna(0)\n",
    "nc_votes['Year'] = pd.to_numeric(nc_votes['Year'])\n",
    "nc_votes.loc[:,'Total Votes'] = (nc_votes.sum(axis=1)) - nc_votes['Year']\n",
    "nc_pres = nc_votes[nc_votes['Office'] == 'President']\n",
    "nc_pres = nc_pres.drop('Office', axis = 1)\n",
    "nc_pres['Year'] = pd.to_numeric(nc_pres['Year'])\n",
    "nc_pres['PCT_DEM'] = (round(nc_pres['D#']/nc_pres['Total Votes'],4))*100\n",
    "nc_pres['PCT_REP'] = (round(nc_pres['R#']/nc_pres['Total Votes'],4))*100\n",
    "nc_pres['RD_DIFF'] = nc_pres['PCT_REP'] - nc_pres['PCT_DEM']\n",
    "nc_pres_pct = nc_pres[['State', 'Year', 'County', 'RD_DIFF']]\n",
    "nc_pres_pct_2020 = nc_pres_pct[nc_pres_pct['Year'] == 2020]\n",
    "nc_counties = ['Cherokee', 'Graham', 'Swain', 'Jackson', 'Haywood', 'Buncombe', 'Madison', 'Yancey', 'Mitchell', 'Avery']"
   ]
  },
  {
   "cell_type": "code",
   "execution_count": null,
   "metadata": {},
   "outputs": [],
   "source": [
    "#Repeat for Tennessee\n",
    "tn_votes = pd.read_csv('../ElectionData/Tennessee.csv', low_memory=False)\n",
    "tn_votes = tn_votes.fillna(0)\n",
    "tn_votes['Year'] = pd.to_numeric(tn_votes['Year'])\n",
    "tn_votes.loc[:,'Total Votes'] = (tn_votes.sum(axis=1)) - tn_votes['Year']\n",
    "tn_pres = tn_votes[tn_votes['Office'] == 'President']\n",
    "tn_pres = tn_pres.drop('Office', axis = 1)\n",
    "tn_pres['Year'] = pd.to_numeric(tn_pres['Year'])\n",
    "tn_pres['PCT_DEM'] = (round(tn_pres['D#']/tn_pres['Total Votes'],4))*100\n",
    "tn_pres['PCT_REP'] = (round(tn_pres['R#']/tn_pres['Total Votes'],4))*100\n",
    "tn_pres['RD_DIFF'] = tn_pres['PCT_REP'] - tn_pres['PCT_DEM']\n",
    "tn_pres_pct = tn_pres[['State', 'Year', 'County', 'RD_DIFF']]\n",
    "tn_pres_pct_2020 = tn_pres_pct[tn_pres_pct['Year'] == 2020]\n",
    "tn_counties = ['Unicoi', 'Carter', 'Washington', 'Sullivan']"
   ]
  },
  {
   "cell_type": "code",
   "execution_count": null,
   "metadata": {},
   "outputs": [],
   "source": [
    "#Repeat for Virginia\n",
    "va_votes = pd.read_csv('../ElectionData/Virginia.csv', low_memory=False)\n",
    "va_votes = va_votes.fillna(0)\n",
    "va_votes['Year'] = pd.to_numeric(va_votes['Year'])\n",
    "va_votes.loc[:,'Total Votes'] = (va_votes.sum(axis=1)) - va_votes['Year']\n",
    "va_pres = va_votes[va_votes['Office'] == 'President']\n",
    "va_pres = va_pres.drop('Office', axis = 1)\n",
    "va_pres['Year'] = pd.to_numeric(va_pres['Year'])\n",
    "va_pres['PCT_DEM'] = (round(va_pres['D#']/va_pres['Total Votes'],4))*100\n",
    "va_pres['PCT_REP'] = (round(va_pres['R#']/va_pres['Total Votes'],4))*100\n",
    "va_pres['RD_DIFF'] = va_pres['PCT_REP'] - va_pres['PCT_DEM']\n",
    "va_pres_pct = va_pres[['State', 'Year', 'County/City', 'RD_DIFF']]\n",
    "va_pres_pct_2020 = va_pres_pct[va_pres_pct['Year'] == 2020]\n",
    "va_counties = ['Bristol City', 'Washington', 'Russell', 'Tazewell']"
   ]
  },
  {
   "cell_type": "code",
   "execution_count": null,
   "metadata": {},
   "outputs": [],
   "source": [
    "#Repeat for West Virginia\n",
    "wv_votes = pd.read_csv('../ElectionData/West Virginia.csv', low_memory=False)\n",
    "wv_votes = wv_votes.fillna(0)\n",
    "wv_votes['Year'] = pd.to_numeric(wv_votes['Year'])\n",
    "wv_votes.loc[:,'Total Votes'] = (wv_votes.sum(axis=1)) - wv_votes['Year']\n",
    "wv_pres = wv_votes[wv_votes['Office'] == 'President']\n",
    "wv_pres = wv_pres.drop('Office', axis = 1)\n",
    "wv_pres['Year'] = pd.to_numeric(wv_pres['Year'])\n",
    "wv_pres['PCT_DEM'] = (round(wv_pres['D#']/wv_pres['Total Votes'],4))*100\n",
    "wv_pres['PCT_REP'] = (round(wv_pres['R#']/wv_pres['Total Votes'],4))*100\n",
    "wv_pres['RD_DIFF'] = wv_pres['PCT_REP'] - wv_pres['PCT_DEM']\n",
    "wv_pres_pct = wv_pres[['State', 'Year', 'County', 'RD_DIFF']]\n",
    "wv_pres_pct_2020 = wv_pres_pct[wv_pres_pct['Year'] == 2020]\n",
    "wv_counties = ['Mercer', 'Raleigh', 'Fayette', 'Nicholas', 'Braxton', 'Lewis', 'Harrison', 'Marion', 'Monongalia']"
   ]
  },
  {
   "cell_type": "code",
   "execution_count": null,
   "metadata": {},
   "outputs": [],
   "source": [
    "#Repeat for Pennsylvania\n",
    "pa_votes = pd.read_csv('../ElectionData/Pennsylvania.csv', low_memory=False)\n",
    "pa_votes = pa_votes.fillna(0)\n",
    "pa_votes['Year'] = pd.to_numeric(pa_votes['Year'])\n",
    "pa_votes.loc[:,'Total Votes'] = (pa_votes.sum(axis=1)) - pa_votes['Year']\n",
    "pa_pres = pa_votes[pa_votes['Office'] == 'President']\n",
    "pa_pres = pa_pres.drop('Office', axis = 1)\n",
    "pa_pres['Year'] = pd.to_numeric(pa_pres['Year'])\n",
    "pa_pres['PCT_DEM'] = (round(pa_pres['D#']/pa_pres['Total Votes'],4))*100\n",
    "pa_pres['PCT_REP'] = (round(pa_pres['R#']/pa_pres['Total Votes'],4))*100\n",
    "pa_pres['RD_DIFF'] = pa_pres['PCT_REP'] - pa_pres['PCT_DEM']\n",
    "pa_pres_pct = pa_pres[['State', 'Year', 'County', 'RD_DIFF']]\n",
    "pa_pres_pct_2020 = pa_pres_pct[pa_pres_pct['Year'] == 2020]\n",
    "pa_counties = ['Greene', 'Washington', 'Allegheny', 'Butler', 'Lawrence', 'Mercer', 'Crawford', 'Erie']"
   ]
  },
  {
   "cell_type": "markdown",
   "metadata": {},
   "source": [
    "Now find the margins from each county."
   ]
  },
  {
   "cell_type": "code",
   "execution_count": null,
   "metadata": {},
   "outputs": [],
   "source": [
    "for c in fl_counties:\n",
    "    print(fl_pres_pct_2020[fl_pres_pct_2020['County'] == c])"
   ]
  },
  {
   "cell_type": "code",
   "execution_count": null,
   "metadata": {},
   "outputs": [],
   "source": [
    "for c in ga_counties:\n",
    "    print(ga_pres_pct_2020[ga_pres_pct_2020['County'] == c])"
   ]
  },
  {
   "cell_type": "code",
   "execution_count": null,
   "metadata": {},
   "outputs": [],
   "source": [
    "for c in nc_counties:\n",
    "    print(nc_pres_pct_2020[nc_pres_pct_2020['County'] == c])"
   ]
  },
  {
   "cell_type": "code",
   "execution_count": null,
   "metadata": {},
   "outputs": [],
   "source": [
    "for c in tn_counties:\n",
    "    print(tn_pres_pct_2020[tn_pres_pct_2020['County'] == c])"
   ]
  },
  {
   "cell_type": "code",
   "execution_count": null,
   "metadata": {},
   "outputs": [],
   "source": [
    "for c in va_counties:\n",
    "    print(va_pres_pct_2020[va_pres_pct_2020['County/City'] == c])"
   ]
  },
  {
   "cell_type": "code",
   "execution_count": null,
   "metadata": {},
   "outputs": [],
   "source": [
    "for c in wv_counties:\n",
    "    print(wv_pres_pct_2020[wv_pres_pct_2020['County'] == c])"
   ]
  },
  {
   "cell_type": "code",
   "execution_count": null,
   "metadata": {},
   "outputs": [],
   "source": [
    "for c in pa_counties:\n",
    "    print(pa_pres_pct_2020[pa_pres_pct_2020['County'] == c])"
   ]
  }
 ],
 "metadata": {
  "kernelspec": {
   "display_name": "Python 3",
   "language": "python",
   "name": "python3"
  },
  "language_info": {
   "codemirror_mode": {
    "name": "ipython",
    "version": 3
   },
   "file_extension": ".py",
   "mimetype": "text/x-python",
   "name": "python",
   "nbconvert_exporter": "python",
   "pygments_lexer": "ipython3",
   "version": "3.8.5"
  }
 },
 "nbformat": 4,
 "nbformat_minor": 4
}
