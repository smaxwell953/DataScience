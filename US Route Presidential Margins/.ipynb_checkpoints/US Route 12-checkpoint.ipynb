{
 "cells": [
  {
   "cell_type": "markdown",
   "metadata": {},
   "source": [
    "<h2>Calculating 2020 Presidential Margins Along U.S. Route 12</h2>"
   ]
  },
  {
   "cell_type": "code",
   "execution_count": 1,
   "metadata": {},
   "outputs": [],
   "source": [
    "#Import relevant libraries\n",
    "import numpy as np\n",
    "import pandas as pd\n",
    "import warnings\n",
    "warnings.filterwarnings(\"ignore\")"
   ]
  },
  {
   "cell_type": "code",
   "execution_count": 2,
   "metadata": {},
   "outputs": [
    {
     "data": {
      "text/html": [
       "<div>\n",
       "<style scoped>\n",
       "    .dataframe tbody tr th:only-of-type {\n",
       "        vertical-align: middle;\n",
       "    }\n",
       "\n",
       "    .dataframe tbody tr th {\n",
       "        vertical-align: top;\n",
       "    }\n",
       "\n",
       "    .dataframe thead th {\n",
       "        text-align: right;\n",
       "    }\n",
       "</style>\n",
       "<table border=\"1\" class=\"dataframe\">\n",
       "  <thead>\n",
       "    <tr style=\"text-align: right;\">\n",
       "      <th></th>\n",
       "      <th>State</th>\n",
       "      <th>Year</th>\n",
       "      <th>Office</th>\n",
       "      <th>County</th>\n",
       "      <th>D#</th>\n",
       "      <th>R#</th>\n",
       "      <th>Pop.#</th>\n",
       "      <th>PF#</th>\n",
       "      <th>Proh.#</th>\n",
       "      <th>BR#</th>\n",
       "      <th>...</th>\n",
       "      <th>W/I#</th>\n",
       "      <th>State#</th>\n",
       "      <th>OWL#</th>\n",
       "      <th>T#</th>\n",
       "      <th>I#</th>\n",
       "      <th>Year / Office</th>\n",
       "      <th>Prog.#.1</th>\n",
       "      <th>Christian#</th>\n",
       "      <th>CON#</th>\n",
       "      <th>NM#</th>\n",
       "    </tr>\n",
       "  </thead>\n",
       "  <tbody>\n",
       "    <tr>\n",
       "      <th>0</th>\n",
       "      <td>Washington</td>\n",
       "      <td>1892.0</td>\n",
       "      <td>President</td>\n",
       "      <td>Adams</td>\n",
       "      <td>139.0</td>\n",
       "      <td>244.0</td>\n",
       "      <td>181.0</td>\n",
       "      <td>NaN</td>\n",
       "      <td>6.0</td>\n",
       "      <td>NaN</td>\n",
       "      <td>...</td>\n",
       "      <td>NaN</td>\n",
       "      <td>NaN</td>\n",
       "      <td>NaN</td>\n",
       "      <td>NaN</td>\n",
       "      <td>NaN</td>\n",
       "      <td>NaN</td>\n",
       "      <td>NaN</td>\n",
       "      <td>NaN</td>\n",
       "      <td>NaN</td>\n",
       "      <td>NaN</td>\n",
       "    </tr>\n",
       "    <tr>\n",
       "      <th>1</th>\n",
       "      <td>Washington</td>\n",
       "      <td>1892.0</td>\n",
       "      <td>President</td>\n",
       "      <td>Asotin</td>\n",
       "      <td>143.0</td>\n",
       "      <td>194.0</td>\n",
       "      <td>16.0</td>\n",
       "      <td>NaN</td>\n",
       "      <td>16.0</td>\n",
       "      <td>NaN</td>\n",
       "      <td>...</td>\n",
       "      <td>NaN</td>\n",
       "      <td>NaN</td>\n",
       "      <td>NaN</td>\n",
       "      <td>NaN</td>\n",
       "      <td>NaN</td>\n",
       "      <td>NaN</td>\n",
       "      <td>NaN</td>\n",
       "      <td>NaN</td>\n",
       "      <td>NaN</td>\n",
       "      <td>NaN</td>\n",
       "    </tr>\n",
       "    <tr>\n",
       "      <th>2</th>\n",
       "      <td>Washington</td>\n",
       "      <td>1892.0</td>\n",
       "      <td>President</td>\n",
       "      <td>Clallam</td>\n",
       "      <td>448.0</td>\n",
       "      <td>518.0</td>\n",
       "      <td>383.0</td>\n",
       "      <td>NaN</td>\n",
       "      <td>7.0</td>\n",
       "      <td>NaN</td>\n",
       "      <td>...</td>\n",
       "      <td>NaN</td>\n",
       "      <td>NaN</td>\n",
       "      <td>NaN</td>\n",
       "      <td>NaN</td>\n",
       "      <td>NaN</td>\n",
       "      <td>NaN</td>\n",
       "      <td>NaN</td>\n",
       "      <td>NaN</td>\n",
       "      <td>NaN</td>\n",
       "      <td>NaN</td>\n",
       "    </tr>\n",
       "    <tr>\n",
       "      <th>3</th>\n",
       "      <td>Washington</td>\n",
       "      <td>1892.0</td>\n",
       "      <td>President</td>\n",
       "      <td>Clark</td>\n",
       "      <td>966.0</td>\n",
       "      <td>1089.0</td>\n",
       "      <td>449.0</td>\n",
       "      <td>NaN</td>\n",
       "      <td>92.0</td>\n",
       "      <td>NaN</td>\n",
       "      <td>...</td>\n",
       "      <td>NaN</td>\n",
       "      <td>NaN</td>\n",
       "      <td>NaN</td>\n",
       "      <td>NaN</td>\n",
       "      <td>NaN</td>\n",
       "      <td>NaN</td>\n",
       "      <td>NaN</td>\n",
       "      <td>NaN</td>\n",
       "      <td>NaN</td>\n",
       "      <td>NaN</td>\n",
       "    </tr>\n",
       "    <tr>\n",
       "      <th>4</th>\n",
       "      <td>Washington</td>\n",
       "      <td>1892.0</td>\n",
       "      <td>President</td>\n",
       "      <td>Columbia</td>\n",
       "      <td>672.0</td>\n",
       "      <td>615.0</td>\n",
       "      <td>185.0</td>\n",
       "      <td>NaN</td>\n",
       "      <td>93.0</td>\n",
       "      <td>NaN</td>\n",
       "      <td>...</td>\n",
       "      <td>NaN</td>\n",
       "      <td>NaN</td>\n",
       "      <td>NaN</td>\n",
       "      <td>NaN</td>\n",
       "      <td>NaN</td>\n",
       "      <td>NaN</td>\n",
       "      <td>NaN</td>\n",
       "      <td>NaN</td>\n",
       "      <td>NaN</td>\n",
       "      <td>NaN</td>\n",
       "    </tr>\n",
       "  </tbody>\n",
       "</table>\n",
       "<p>5 rows × 69 columns</p>\n",
       "</div>"
      ],
      "text/plain": [
       "        State    Year     Office    County     D#      R#  Pop.#  PF#  Proh.#  \\\n",
       "0  Washington  1892.0  President     Adams  139.0   244.0  181.0  NaN     6.0   \n",
       "1  Washington  1892.0  President    Asotin  143.0   194.0   16.0  NaN    16.0   \n",
       "2  Washington  1892.0  President   Clallam  448.0   518.0  383.0  NaN     7.0   \n",
       "3  Washington  1892.0  President     Clark  966.0  1089.0  449.0  NaN    92.0   \n",
       "4  Washington  1892.0  President  Columbia  672.0   615.0  185.0  NaN    93.0   \n",
       "\n",
       "   BR#  ...  W/I#  State#  OWL#  T#  I#  Year / Office  Prog.#.1  Christian#  \\\n",
       "0  NaN  ...   NaN     NaN   NaN NaN NaN            NaN       NaN         NaN   \n",
       "1  NaN  ...   NaN     NaN   NaN NaN NaN            NaN       NaN         NaN   \n",
       "2  NaN  ...   NaN     NaN   NaN NaN NaN            NaN       NaN         NaN   \n",
       "3  NaN  ...   NaN     NaN   NaN NaN NaN            NaN       NaN         NaN   \n",
       "4  NaN  ...   NaN     NaN   NaN NaN NaN            NaN       NaN         NaN   \n",
       "\n",
       "   CON#  NM#  \n",
       "0   NaN  NaN  \n",
       "1   NaN  NaN  \n",
       "2   NaN  NaN  \n",
       "3   NaN  NaN  \n",
       "4   NaN  NaN  \n",
       "\n",
       "[5 rows x 69 columns]"
      ]
     },
     "execution_count": 2,
     "metadata": {},
     "output_type": "execute_result"
    }
   ],
   "source": [
    "#Read in Washington election data\n",
    "wa_votes = pd.read_csv('../ElectionData/Washington.csv', low_memory=False)\n",
    "wa_votes.head()"
   ]
  },
  {
   "cell_type": "code",
   "execution_count": 3,
   "metadata": {},
   "outputs": [
    {
     "name": "stdout",
     "output_type": "stream",
     "text": [
      "<class 'pandas.core.frame.DataFrame'>\n",
      "RangeIndex: 10021 entries, 0 to 10020\n",
      "Data columns (total 69 columns):\n",
      " #   Column         Non-Null Count  Dtype  \n",
      "---  ------         --------------  -----  \n",
      " 0   State          10021 non-null  object \n",
      " 1   Year           4015 non-null   float64\n",
      " 2   Office         4015 non-null   object \n",
      " 3   County         10021 non-null  object \n",
      " 4   D#             8344 non-null   float64\n",
      " 5   R#             2572 non-null   float64\n",
      " 6   Pop.#          260 non-null    float64\n",
      " 7   PF#            78 non-null     float64\n",
      " 8   Proh.#         1056 non-null   float64\n",
      " 9   BR#            39 non-null     float64\n",
      " 10  Right.#        39 non-null     float64\n",
      " 11  FB#            39 non-null     float64\n",
      " 12  Labor#         234 non-null    float64\n",
      " 13  Wor.#          351 non-null    float64\n",
      " 14  Nat.#          34 non-null     float64\n",
      " 15  Cit.#          78 non-null     float64\n",
      " 16  Free.#         39 non-null     float64\n",
      " 17  Comm.#         507 non-null    float64\n",
      " 18  S#             1667 non-null   float64\n",
      " 19  Ind.#          37 non-null     float64\n",
      " 20  Prog.#         585 non-null    float64\n",
      " 21  SD#            72 non-null     float64\n",
      " 22  SL#            1743 non-null   float64\n",
      " 23  FS#            39 non-null     float64\n",
      " 24  S&L#           156 non-null    float64\n",
      " 25  SW#            1209 non-null   float64\n",
      " 26  SE#            39 non-null     float64\n",
      " 27  FL#            507 non-null    float64\n",
      " 28  Chr.#          117 non-null    float64\n",
      " 29  Liberty#       351 non-null    float64\n",
      " 30  Justice#       39 non-null     float64\n",
      " 31  U#             117 non-null    float64\n",
      " 32  Am.#           468 non-null    float64\n",
      " 33  I1#            624 non-null    float64\n",
      " 34  I2#            234 non-null    float64\n",
      " 35  I3#            39 non-null     float64\n",
      " 36  Ref.#          117 non-null    float64\n",
      " 37  NL#            273 non-null    float64\n",
      " 38  G#             390 non-null    float64\n",
      " 39  L#             1638 non-null   float64\n",
      " 40  NA#            117 non-null    float64\n",
      " 41  W/I1#          385 non-null    float64\n",
      " 42  W/I2#          156 non-null    float64\n",
      " 43  W/I3#          78 non-null     float64\n",
      " 44  W/I4#          78 non-null     float64\n",
      " 45  W/I5#          78 non-null     float64\n",
      " 46  W/I6#          78 non-null     float64\n",
      " 47  D1#            1443 non-null   float64\n",
      " 48  D2#            39 non-null     float64\n",
      " 49  R1#            7410 non-null   float64\n",
      " 50  R2#            78 non-null     float64\n",
      " 51  ULS#           39 non-null     float64\n",
      " 52  WSAL#          39 non-null     float64\n",
      " 53  CNPM#          39 non-null     float64\n",
      " 54  CNP#           39 non-null     float64\n",
      " 55  IP#            39 non-null     float64\n",
      " 56  New#           39 non-null     float64\n",
      " 57  Buffalo#       39 non-null     float64\n",
      " 58  C#             117 non-null    float64\n",
      " 59  W/I#           468 non-null    float64\n",
      " 60  State#         39 non-null     float64\n",
      " 61  OWL#           273 non-null    float64\n",
      " 62  T#             117 non-null    float64\n",
      " 63  I#             39 non-null     float64\n",
      " 64  Year / Office  6006 non-null   object \n",
      " 65  Prog.#.1       39 non-null     float64\n",
      " 66  Christian#     234 non-null    float64\n",
      " 67  CON#           117 non-null    float64\n",
      " 68  NM#            39 non-null     float64\n",
      "dtypes: float64(65), object(4)\n",
      "memory usage: 5.3+ MB\n"
     ]
    }
   ],
   "source": [
    "#Louisiana column info\n",
    "wa_votes.info()"
   ]
  },
  {
   "cell_type": "code",
   "execution_count": 4,
   "metadata": {},
   "outputs": [],
   "source": [
    "#Fill NaN votes with zeroes\n",
    "wa_votes = wa_votes.fillna(0)"
   ]
  },
  {
   "cell_type": "code",
   "execution_count": 5,
   "metadata": {},
   "outputs": [],
   "source": [
    "#Convert year to numeric\n",
    "wa_votes['Year'] = pd.to_numeric(wa_votes['Year'])"
   ]
  },
  {
   "cell_type": "code",
   "execution_count": 6,
   "metadata": {},
   "outputs": [],
   "source": [
    "#Make Total Votes column\n",
    "wa_votes.loc[:,'Total Votes'] = (wa_votes.sum(axis=1)) - wa_votes['Year']"
   ]
  },
  {
   "cell_type": "code",
   "execution_count": 7,
   "metadata": {},
   "outputs": [],
   "source": [
    "#Filter rows with election results for president\n",
    "wa_pres = wa_votes[wa_votes['Office'] == 'President']"
   ]
  },
  {
   "cell_type": "code",
   "execution_count": 8,
   "metadata": {},
   "outputs": [],
   "source": [
    "#Drop office column\n",
    "wa_pres = wa_pres.drop('Office', axis = 1)"
   ]
  },
  {
   "cell_type": "code",
   "execution_count": 9,
   "metadata": {},
   "outputs": [],
   "source": [
    "#Convert year to numeric\n",
    "wa_pres['Year'] = pd.to_numeric(wa_pres['Year'])"
   ]
  },
  {
   "cell_type": "code",
   "execution_count": 10,
   "metadata": {},
   "outputs": [],
   "source": [
    "#Percentage of Democratic votes\n",
    "wa_pres['PCT_DEM'] = (round(wa_pres['D#']/wa_pres['Total Votes'],4))*100"
   ]
  },
  {
   "cell_type": "code",
   "execution_count": 11,
   "metadata": {},
   "outputs": [],
   "source": [
    "#Percentage of Republican votes\n",
    "wa_pres['PCT_REP'] = (round(wa_pres['R#']/wa_pres['Total Votes'],4))*100"
   ]
  },
  {
   "cell_type": "code",
   "execution_count": 12,
   "metadata": {},
   "outputs": [],
   "source": [
    "#Difference between Democratic and Republican votes\n",
    "wa_pres['RD_DIFF'] = wa_pres['PCT_REP'] - wa_pres['PCT_DEM']"
   ]
  },
  {
   "cell_type": "code",
   "execution_count": 13,
   "metadata": {},
   "outputs": [],
   "source": [
    "#Isolate state, year, county, and D/R difference\n",
    "wa_pres_pct = wa_pres[['State', 'Year', 'County', 'RD_DIFF']]"
   ]
  },
  {
   "cell_type": "code",
   "execution_count": 14,
   "metadata": {},
   "outputs": [],
   "source": [
    "#Filter the presidential results from 2020\n",
    "wa_pres_pct_2020 = wa_pres_pct[wa_pres_pct['Year'] == 2020]"
   ]
  },
  {
   "cell_type": "code",
   "execution_count": 15,
   "metadata": {},
   "outputs": [],
   "source": [
    "#Parishes on US Route 11\n",
    "wa_counties = ['Grays Harbor', 'Thurston', 'Lewis', 'Yakima', 'Benton', 'Franklin', 'Walla Walla', 'Columbia', 'Garfield', \\\n",
    "               'Asotin']"
   ]
  },
  {
   "cell_type": "code",
   "execution_count": 16,
   "metadata": {},
   "outputs": [],
   "source": [
    "#Repeat for Idaho\n",
    "id_vote = pd.read_csv('../ElectionData/Idaho.csv', low_memory=False)\n",
    "id_votes = pd.DataFrame(id_vote[id_vote.Year == 2020])\n",
    "id_votes = id_votes.fillna(0)\n",
    "id_votes['Year'] = pd.to_numeric(id_votes['Year'])\n",
    "id_votes.loc[:,'Total Votes'] = (id_votes.sum(axis=1)) - id_votes['Year']\n",
    "id_pres = id_votes[id_votes['Office'] == 'President']\n",
    "id_pres = id_pres.drop('Office', axis = 1)\n",
    "id_pres['Year'] = pd.to_numeric(id_pres['Year'])\n",
    "id_pres['PCT_DEM'] = (round(id_pres['D#']/id_pres['Total Votes'],4))*100\n",
    "id_pres['PCT_REP'] = (round(id_pres['R#']/id_pres['Total Votes'],4))*100\n",
    "id_pres['RD_DIFF'] = id_pres['PCT_REP'] - id_pres['PCT_DEM']\n",
    "id_pres_pct = id_pres[['State', 'Year', 'County', 'RD_DIFF']]\n",
    "id_counties = ['Nez Perce', 'Clearwater', 'Lewis', 'Idaho']"
   ]
  },
  {
   "cell_type": "code",
   "execution_count": 17,
   "metadata": {},
   "outputs": [
    {
     "data": {
      "text/plain": [
       "Index(['State', 'Year', 'Office', 'County', 'D#', 'R#', 'S#', 'Comm.#',\n",
       "       'Liberty#', 'SW#', 'People's#', 'Proh.#', 'IND#', 'Labor#', 'Prog.#',\n",
       "       'Wor.#', 'FL#', 'U#', 'NRef#', 'Am.#', 'I1#', 'I2#', 'L#', 'Ref.#',\n",
       "       'NL#', 'G#', 'NA#', 'Delta#', 'W/I1#', 'W/I2#', 'W/I3#', 'W/I4#',\n",
       "       'W/I5#', 'W/I7#', 'W/I8#', 'W/I9#', 'New Ref.#', 'W/I#',\n",
       "       'Year / Office', 'C#', 'NPL#'],\n",
       "      dtype='object')"
      ]
     },
     "execution_count": 17,
     "metadata": {},
     "output_type": "execute_result"
    }
   ],
   "source": [
    "mt_vote = pd.read_csv('../ElectionData/Montana.csv', low_memory=False)\n",
    "mt_vote.columns"
   ]
  },
  {
   "cell_type": "code",
   "execution_count": 18,
   "metadata": {},
   "outputs": [
    {
     "data": {
      "text/plain": [
       "array([1904., 1908., 1912., 1916., 1920., 1924., 1928., 1932., 1936.,\n",
       "       1940., 1944., 1948., 1952., 1956., 1960., 1964., 1968., 1972.,\n",
       "       1976., 1980., 1984., 1988., 1992., 1996., 2000., 2004., 2008.,\n",
       "       2012., 2016., 1930., 1966., 1970., 1978., 1982., 1990., 1994.,\n",
       "       2002., 2006., 2014., 2018.,   nan, 2020.])"
      ]
     },
     "execution_count": 18,
     "metadata": {},
     "output_type": "execute_result"
    }
   ],
   "source": [
    "mt_vote['Year'].unique()"
   ]
  },
  {
   "cell_type": "code",
   "execution_count": 19,
   "metadata": {},
   "outputs": [],
   "source": [
    "mt_votes = pd.DataFrame(mt_vote[mt_vote.Year == 2020])\n",
    "mt_votes = mt_votes.fillna(0)\n",
    "mt_votes['Year'] = pd.to_numeric(mt_votes['Year'])\n",
    "mt_votes.loc[:,'Total Votes'] = (mt_votes.sum(axis=1)) - mt_votes['Year']\n",
    "mt_pres = mt_votes[mt_votes['Office'] == 'President']\n",
    "mt_pres = mt_pres.drop('Office', axis = 1)\n",
    "mt_pres['Year'] = pd.to_numeric(mt_pres['Year'])\n",
    "mt_pres['PCT_DEM'] = (round(mt_pres['D#']/mt_pres['Total Votes'],4))*100\n",
    "mt_pres['PCT_REP'] = (round(mt_pres['R#']/mt_pres['Total Votes'],4))*100\n",
    "mt_pres['RD_DIFF'] = mt_pres['PCT_REP'] - mt_pres['PCT_DEM']\n",
    "mt_pres_pct = mt_pres[['State', 'Year', 'County', 'RD_DIFF']]\n",
    "mt_counties = ['Missoula', 'Granite', 'Powell', 'Lewis and Clark', 'Broadwater', 'Meagher', 'Wheatland', 'Golden Valley', \\\n",
    "               'Musselshell', 'Rosebud', 'Custer', 'Fallon']"
   ]
  },
  {
   "cell_type": "code",
   "execution_count": 20,
   "metadata": {},
   "outputs": [],
   "source": [
    "#Repeat for North Dakota\n",
    "nd_votes = pd.read_csv('../ElectionData/North Dakota.csv', low_memory=False)\n",
    "nd_votes = nd_votes.fillna(0)\n",
    "nd_votes['Year'] = pd.to_numeric(nd_votes['Year'])\n",
    "nd_votes.loc[:,'Total Votes'] = (nd_votes.sum(axis=1)) - nd_votes['Year']\n",
    "nd_pres = nd_votes[nd_votes['Office'] == 'President']\n",
    "nd_pres = nd_pres.drop('Office', axis = 1)\n",
    "nd_pres['Year'] = pd.to_numeric(nd_pres['Year'])\n",
    "nd_pres['PCT_DEM'] = (round(nd_pres['D#']/nd_pres['Total Votes'],4))*100\n",
    "nd_pres['PCT_REP'] = (round(nd_pres['R#']/nd_pres['Total Votes'],4))*100\n",
    "nd_pres['RD_DIFF'] = nd_pres['PCT_REP'] - nd_pres['PCT_DEM']\n",
    "nd_pres_pct = nd_pres[['State', 'Year', 'County', 'RD_DIFF']]\n",
    "nd_pres_pct_2020 = nd_pres_pct[nd_pres_pct['Year'] == 2020]\n",
    "nd_counties = ['Slope', 'Bowman', 'Adams']"
   ]
  },
  {
   "cell_type": "code",
   "execution_count": 21,
   "metadata": {},
   "outputs": [],
   "source": [
    "#Repeat for South Dakota\n",
    "sd_votes = pd.read_csv('../ElectionData/South Dakota.csv', low_memory=False)\n",
    "sd_votes = sd_votes.fillna(0)\n",
    "sd_votes['Year'] = pd.to_numeric(sd_votes['Year'])\n",
    "sd_votes.loc[:,'Total Votes'] = (sd_votes.sum(axis=1)) - sd_votes['Year']\n",
    "sd_pres = sd_votes[sd_votes['Office'] == 'President']\n",
    "sd_pres = sd_pres.drop('Office', axis = 1)\n",
    "sd_pres['Year'] = pd.to_numeric(sd_pres['Year'])\n",
    "sd_pres['PCT_DEM'] = (round(sd_pres['D#']/sd_pres['Total Votes'],4))*100\n",
    "sd_pres['PCT_REP'] = (round(sd_pres['R#']/sd_pres['Total Votes'],4))*100\n",
    "sd_pres['RD_DIFF'] = sd_pres['PCT_REP'] - sd_pres['PCT_DEM']\n",
    "sd_pres_pct = sd_pres[['State', 'Year', 'County', 'RD_DIFF']]\n",
    "sd_pres_pct_2020 = sd_pres_pct[sd_pres_pct['Year'] == 2020]\n",
    "sd_counties = ['Perkins', 'Corson', 'Walworth', 'Campbell', 'Edmunds', 'Brown', 'Day', 'Roberts', 'Grant']"
   ]
  },
  {
   "cell_type": "code",
   "execution_count": 22,
   "metadata": {},
   "outputs": [],
   "source": [
    "#Repeat for Minnesota\n",
    "mn_vote = pd.read_csv('../ElectionData/Minnesota.csv', low_memory=False)\n",
    "mn_votes = pd.DataFrame(mn_vote[mn_vote.Year == '2020'])\n",
    "mn_votes = mn_votes.fillna(0)\n",
    "mn_votes['Year'] = pd.to_numeric(mn_votes['Year'])\n",
    "mn_votes.loc[:,'Total Votes'] = (mn_votes.sum(axis=1)) - mn_votes['Year']\n",
    "mn_pres = mn_votes[mn_votes['Office'] == 'President']\n",
    "mn_pres = mn_pres.drop('Office', axis = 1)\n",
    "mn_pres['Year'] = pd.to_numeric(mn_pres['Year'])\n",
    "mn_pres['PCT_DEM'] = (round(mn_pres['D#']/mn_pres['Total Votes'],4))*100\n",
    "mn_pres['PCT_REP'] = (round(mn_pres['R#']/mn_pres['Total Votes'],4))*100\n",
    "mn_pres['RD_DIFF'] = mn_pres['PCT_REP'] - mn_pres['PCT_DEM']\n",
    "mn_pres_pct = mn_pres[['State', 'Year', 'County', 'RD_DIFF']]\n",
    "mn_counties = ['Big Stone', 'Swift', 'Kandiyohi', 'Meeker', 'Wright', 'Hennepin', 'Ramsey', 'Washington']"
   ]
  },
  {
   "cell_type": "code",
   "execution_count": 23,
   "metadata": {},
   "outputs": [],
   "source": [
    "#Repeat for Wisconsin\n",
    "wi_votes = pd.read_csv('../ElectionData/Wisconsin.csv', low_memory=False)\n",
    "wi_votes = wi_votes.fillna(0)\n",
    "wi_votes['Year'] = pd.to_numeric(wi_votes['Year'])\n",
    "wi_votes.loc[:,'Total Votes'] = (wi_votes.sum(axis=1)) - wi_votes['Year']\n",
    "wi_pres = wi_votes[wi_votes['Office'] == 'President']\n",
    "wi_pres = wi_pres.drop('Office', axis = 1)\n",
    "wi_pres['Year'] = pd.to_numeric(wi_pres['Year'])\n",
    "wi_pres['PCT_DEM'] = (round(wi_pres['D#']/wi_pres['Total Votes'],4))*100\n",
    "wi_pres['PCT_REP'] = (round(wi_pres['R#']/wi_pres['Total Votes'],4))*100\n",
    "wi_pres['RD_DIFF'] = wi_pres['PCT_REP'] - wi_pres['PCT_DEM']\n",
    "wi_pres_pct = wi_pres[['State', 'Year', 'County', 'RD_DIFF']]\n",
    "wi_pres_pct_2020 = wi_pres_pct[wi_pres_pct['Year'] == 2020]\n",
    "wi_counties = ['Saint Croix', 'Dunn', 'Chippewa', 'Eau Claire', 'Clark', 'Jackson', 'Monroe', 'Juneau', 'Sauk', 'Dane',\\\n",
    "               'Jefferson', 'Rock', 'Walworth']"
   ]
  },
  {
   "cell_type": "code",
   "execution_count": 24,
   "metadata": {},
   "outputs": [],
   "source": [
    "#Repeat for Illinois\n",
    "il_votes = pd.read_csv('../ElectionData/Illinois.csv', low_memory=False)\n",
    "il_votes = il_votes.fillna(0)\n",
    "il_votes['Year'] = pd.to_numeric(il_votes['Year'])\n",
    "il_votes.loc[:,'Total Votes'] = (il_votes.sum(axis=1)) - il_votes['Year']\n",
    "il_pres = il_votes[il_votes['Office'] == 'President']\n",
    "il_pres = il_pres.drop('Office', axis = 1)\n",
    "il_pres['Year'] = pd.to_numeric(il_pres['Year'])\n",
    "il_pres['PCT_DEM'] = (round(il_pres['D#']/il_pres['Total Votes'],4))*100\n",
    "il_pres['PCT_REP'] = (round(il_pres['R#']/il_pres['Total Votes'],4))*100\n",
    "il_pres['RD_DIFF'] = il_pres['PCT_REP'] - il_pres['PCT_DEM']\n",
    "il_pres_pct = il_pres[['State', 'Year', 'County', 'RD_DIFF']]\n",
    "il_pres_pct_2020 = il_pres_pct[il_pres_pct['Year'] == 2020]\n",
    "il_counties = ['McHenry', 'Lake', 'Cook']"
   ]
  },
  {
   "cell_type": "code",
   "execution_count": 25,
   "metadata": {},
   "outputs": [],
   "source": [
    "#Repeat for Indiana\n",
    "in_votes = pd.read_csv('../ElectionData/Indiana.csv', low_memory=False)\n",
    "in_votes = in_votes.fillna(0)\n",
    "in_votes['Year'] = pd.to_numeric(in_votes['Year'])\n",
    "in_votes.loc[:,'Total Votes'] = (in_votes.sum(axis=1)) - in_votes['Year']\n",
    "in_pres = in_votes[in_votes['Office'] == 'President']\n",
    "in_pres = in_pres.drop('Office', axis = 1)\n",
    "in_pres['Year'] = pd.to_numeric(in_pres['Year'])\n",
    "in_pres['PCT_DEM'] = (round(in_pres['D#']/in_pres['Total Votes'],4))*100\n",
    "in_pres['PCT_REP'] = (round(in_pres['R#']/in_pres['Total Votes'],4))*100\n",
    "in_pres['RD_DIFF'] = in_pres['PCT_REP'] - in_pres['PCT_DEM']\n",
    "in_pres_pct = in_pres[['State', 'Year', 'County', 'RD_DIFF']]\n",
    "in_pres_pct_2020 = in_pres_pct[in_pres_pct['Year'] == 2020]\n",
    "in_counties = ['Lake', 'Porter', 'LaPorte']"
   ]
  },
  {
   "cell_type": "code",
   "execution_count": 26,
   "metadata": {},
   "outputs": [],
   "source": [
    "#Repeat for Michigan\n",
    "mi_votes = pd.read_csv('../ElectionData/Michigan.csv', low_memory=False)\n",
    "mi_votes = mi_votes.fillna(0)\n",
    "mi_votes['Year'] = pd.to_numeric(mi_votes['Year'])\n",
    "mi_votes.loc[:,'Total Votes'] = (mi_votes.sum(axis=1)) - mi_votes['Year']\n",
    "mi_pres = mi_votes[mi_votes['Office'] == 'President']\n",
    "mi_pres = mi_pres.drop('Office', axis = 1)\n",
    "mi_pres['Year'] = pd.to_numeric(mi_pres['Year'])\n",
    "mi_pres['PCT_DEM'] = (round(mi_pres['D1#']/mi_pres['Total Votes'],4))*100\n",
    "mi_pres['PCT_REP'] = (round(mi_pres['R#']/mi_pres['Total Votes'],4))*100\n",
    "mi_pres['RD_DIFF'] = mi_pres['PCT_REP'] - mi_pres['PCT_DEM']\n",
    "mi_pres_pct = mi_pres[['State', 'Year', 'County', 'RD_DIFF']]\n",
    "mi_pres_pct_2020 = mi_pres_pct[mi_pres_pct['Year'] == 2020]\n",
    "mi_counties = ['Berrien', 'Cass', 'Saint Joseph', 'Branch', 'Hillsdale', 'Lenawee', 'Washtenaw', 'Wayne']"
   ]
  },
  {
   "cell_type": "markdown",
   "metadata": {},
   "source": [
    "Now find the margins from each parish/county."
   ]
  },
  {
   "cell_type": "code",
   "execution_count": 27,
   "metadata": {},
   "outputs": [
    {
     "name": "stdout",
     "output_type": "stream",
     "text": [
      "           State    Year        County  RD_DIFF\n",
      "9956  Washington  2020.0  Grays Harbor     6.57\n",
      "           State    Year    County  RD_DIFF\n",
      "9976  Washington  2020.0  Thurston   -18.64\n",
      "           State    Year County  RD_DIFF\n",
      "9963  Washington  2020.0  Lewis    32.82\n",
      "           State    Year  County  RD_DIFF\n",
      "9981  Washington  2020.0  Yakima     7.67\n",
      "           State    Year  County  RD_DIFF\n",
      "9945  Washington  2020.0  Benton    21.02\n",
      "           State    Year    County  RD_DIFF\n",
      "9953  Washington  2020.0  Franklin     14.5\n",
      "           State    Year       County  RD_DIFF\n",
      "9978  Washington  2020.0  Walla Walla     8.67\n",
      "           State    Year    County  RD_DIFF\n",
      "9949  Washington  2020.0  Columbia    43.53\n",
      "           State    Year    County  RD_DIFF\n",
      "9954  Washington  2020.0  Garfield    47.21\n",
      "           State    Year  County  RD_DIFF\n",
      "9944  Washington  2020.0  Asotin    25.68\n"
     ]
    }
   ],
   "source": [
    "for c in wa_counties:\n",
    "    print(wa_pres_pct_2020[wa_pres_pct_2020['County'] == c])"
   ]
  },
  {
   "cell_type": "code",
   "execution_count": 28,
   "metadata": {},
   "outputs": [
    {
     "name": "stdout",
     "output_type": "stream",
     "text": [
      "      State  Year     County  RD_DIFF\n",
      "6658  Idaho  2020  Nez Perce    33.61\n",
      "      State  Year      County  RD_DIFF\n",
      "6641  Idaho  2020  Clearwater    58.29\n",
      "      State  Year County  RD_DIFF\n",
      "6654  Idaho  2020  Lewis    60.97\n",
      "      State  Year County  RD_DIFF\n",
      "6648  Idaho  2020  Idaho     65.2\n"
     ]
    }
   ],
   "source": [
    "for c in id_counties:\n",
    "    print(id_pres_pct[id_pres_pct['County'] == c])"
   ]
  },
  {
   "cell_type": "code",
   "execution_count": 29,
   "metadata": {},
   "outputs": [
    {
     "name": "stdout",
     "output_type": "stream",
     "text": [
      "        State    Year    County  RD_DIFF\n",
      "5783  Montana  2020.0  Missoula   -23.79\n",
      "        State    Year   County  RD_DIFF\n",
      "5771  Montana  2020.0  Granite    37.16\n",
      "        State    Year  County  RD_DIFF\n",
      "5790  Montana  2020.0  Powell    50.42\n",
      "        State    Year           County  RD_DIFF\n",
      "5776  Montana  2020.0  Lewis and Clark     3.94\n",
      "        State    Year      County  RD_DIFF\n",
      "5755  Montana  2020.0  Broadwater    57.07\n",
      "        State    Year   County  RD_DIFF\n",
      "5781  Montana  2020.0  Meagher    51.81\n",
      "        State    Year     County  RD_DIFF\n",
      "5805  Montana  2020.0  Wheatland    55.99\n",
      "        State    Year         County  RD_DIFF\n",
      "5770  Montana  2020.0  Golden Valley     66.8\n",
      "        State    Year       County  RD_DIFF\n",
      "5784  Montana  2020.0  Musselshell    69.76\n",
      "        State    Year   County  RD_DIFF\n",
      "5795  Montana  2020.0  Rosebud    34.11\n",
      "        State    Year  County  RD_DIFF\n",
      "5760  Montana  2020.0  Custer    45.92\n",
      "        State    Year  County  RD_DIFF\n",
      "5764  Montana  2020.0  Fallon    76.38\n"
     ]
    }
   ],
   "source": [
    "for c in mt_counties:\n",
    "    print(mt_pres_pct[mt_pres_pct['County'] == c])"
   ]
  },
  {
   "cell_type": "code",
   "execution_count": 30,
   "metadata": {},
   "outputs": [
    {
     "name": "stdout",
     "output_type": "stream",
     "text": [
      "              State    Year County  RD_DIFF\n",
      "12326  North Dakota  2020.0  Slope    78.69\n",
      "              State    Year  County  RD_DIFF\n",
      "12288  North Dakota  2020.0  Bowman    70.43\n",
      "              State    Year County  RD_DIFF\n",
      "12283  North Dakota  2020.0  Adams    56.97\n"
     ]
    }
   ],
   "source": [
    "for c in nd_counties:\n",
    "    print(nd_pres_pct_2020[nd_pres_pct_2020['County'] == c])"
   ]
  },
  {
   "cell_type": "code",
   "execution_count": 31,
   "metadata": {},
   "outputs": [
    {
     "name": "stdout",
     "output_type": "stream",
     "text": [
      "             State    Year   County  RD_DIFF\n",
      "6881  South Dakota  2020.0  Perkins    69.62\n",
      "             State    Year  County  RD_DIFF\n",
      "6844  South Dakota  2020.0  Corson     1.95\n",
      "Empty DataFrame\n",
      "Columns: [State, Year, County, RD_DIFF]\n",
      "Index: []\n",
      "             State    Year    County  RD_DIFF\n",
      "6839  South Dakota  2020.0  Campbell    72.17\n",
      "             State    Year   County  RD_DIFF\n",
      "6851  South Dakota  2020.0  Edmunds    56.47\n",
      "             State    Year County  RD_DIFF\n",
      "6835  South Dakota  2020.0  Brown    23.04\n",
      "             State    Year County  RD_DIFF\n",
      "6847  South Dakota  2020.0    Day    27.57\n",
      "             State    Year   County  RD_DIFF\n",
      "6883  South Dakota  2020.0  Roberts    13.38\n",
      "             State    Year County  RD_DIFF\n",
      "6854  South Dakota  2020.0  Grant    41.71\n"
     ]
    }
   ],
   "source": [
    "for c in sd_counties:\n",
    "    print(sd_pres_pct_2020[sd_pres_pct_2020['County'] == c])"
   ]
  },
  {
   "cell_type": "code",
   "execution_count": 32,
   "metadata": {},
   "outputs": [
    {
     "name": "stdout",
     "output_type": "stream",
     "text": [
      "           State  Year     County  RD_DIFF\n",
      "16834  Minnesota  2020  Big Stone    27.23\n",
      "           State  Year County  RD_DIFF\n",
      "16904  Minnesota  2020  Swift    29.51\n",
      "           State  Year     County  RD_DIFF\n",
      "16862  Minnesota  2020  Kandiyohi    25.66\n",
      "           State  Year  County  RD_DIFF\n",
      "16875  Minnesota  2020  Meeker     40.6\n",
      "           State  Year  County  RD_DIFF\n",
      "16914  Minnesota  2020  Wright    28.56\n",
      "           State  Year    County  RD_DIFF\n",
      "16855  Minnesota  2020  Hennepin   -43.21\n",
      "           State  Year  County  RD_DIFF\n",
      "16890  Minnesota  2020  Ramsey   -45.36\n",
      "           State  Year      County  RD_DIFF\n",
      "16910  Minnesota  2020  Washington    -9.23\n"
     ]
    }
   ],
   "source": [
    "for c in mn_counties:\n",
    "    print(mn_pres_pct[mn_pres_pct['County'] == c])"
   ]
  },
  {
   "cell_type": "code",
   "execution_count": 33,
   "metadata": {},
   "outputs": [
    {
     "name": "stdout",
     "output_type": "stream",
     "text": [
      "           State    Year       County  RD_DIFF\n",
      "11578  Wisconsin  2020.0  Saint Croix    15.89\n",
      "           State    Year County  RD_DIFF\n",
      "11539  Wisconsin  2020.0   Dunn    13.93\n",
      "           State    Year    County  RD_DIFF\n",
      "11531  Wisconsin  2020.0  Chippewa    20.41\n",
      "           State    Year      County  RD_DIFF\n",
      "11540  Wisconsin  2020.0  Eau Claire   -10.77\n",
      "           State    Year County  RD_DIFF\n",
      "11532  Wisconsin  2020.0  Clark    36.77\n",
      "           State    Year   County  RD_DIFF\n",
      "11549  Wisconsin  2020.0  Jackson    15.07\n",
      "           State    Year  County  RD_DIFF\n",
      "11564  Wisconsin  2020.0  Monroe    23.62\n",
      "           State    Year  County  RD_DIFF\n",
      "11551  Wisconsin  2020.0  Juneau     29.2\n",
      "           State    Year County  RD_DIFF\n",
      "11579  Wisconsin  2020.0   Sauk     -1.7\n",
      "           State    Year County  RD_DIFF\n",
      "11535  Wisconsin  2020.0   Dane    -52.6\n",
      "           State    Year     County  RD_DIFF\n",
      "11550  Wisconsin  2020.0  Jefferson    15.23\n",
      "           State    Year County  RD_DIFF\n",
      "11576  Wisconsin  2020.0   Rock   -11.15\n",
      "           State    Year    County  RD_DIFF\n",
      "11587  Wisconsin  2020.0  Walworth    19.21\n"
     ]
    }
   ],
   "source": [
    "for c in wi_counties:\n",
    "    print(wi_pres_pct_2020[wi_pres_pct_2020['County'] == c])"
   ]
  },
  {
   "cell_type": "code",
   "execution_count": 34,
   "metadata": {},
   "outputs": [
    {
     "name": "stdout",
     "output_type": "stream",
     "text": [
      "          State  Year   County  RD_DIFF\n",
      "19945  Illinois  2020  McHenry     2.49\n",
      "          State  Year County  RD_DIFF\n",
      "19938  Illinois  2020   Lake   -23.96\n",
      "          State  Year County  RD_DIFF\n",
      "19905  Illinois  2020   Cook   -50.21\n"
     ]
    }
   ],
   "source": [
    "for c in il_counties:\n",
    "    print(il_pres_pct_2020[il_pres_pct_2020['County'] == c])"
   ]
  },
  {
   "cell_type": "code",
   "execution_count": 35,
   "metadata": {},
   "outputs": [
    {
     "name": "stdout",
     "output_type": "stream",
     "text": [
      "         State  Year County  RD_DIFF\n",
      "12188  Indiana  2020   Lake   -15.02\n",
      "         State  Year  County  RD_DIFF\n",
      "12207  Indiana  2020  Porter     6.06\n",
      "         State  Year   County  RD_DIFF\n",
      "12189  Indiana  2020  LaPorte     7.22\n"
     ]
    }
   ],
   "source": [
    "for c in in_counties:\n",
    "    print(in_pres_pct_2020[in_pres_pct_2020['County'] == c])"
   ]
  },
  {
   "cell_type": "code",
   "execution_count": 36,
   "metadata": {},
   "outputs": [
    {
     "name": "stdout",
     "output_type": "stream",
     "text": [
      "          State  Year   County  RD_DIFF\n",
      "10367  Michigan  2020  Berrien     7.37\n",
      "          State  Year County  RD_DIFF\n",
      "10370  Michigan  2020   Cass    28.84\n",
      "          State  Year        County  RD_DIFF\n",
      "10434  Michigan  2020  Saint Joseph    31.68\n",
      "          State  Year  County  RD_DIFF\n",
      "10368  Michigan  2020  Branch    38.42\n",
      "          State  Year     County  RD_DIFF\n",
      "10386  Michigan  2020  Hillsdale    47.86\n",
      "          State  Year   County  RD_DIFF\n",
      "10402  Michigan  2020  Lenawee    19.88\n",
      "          State  Year     County  RD_DIFF\n",
      "10437  Michigan  2020  Washtenaw   -46.51\n",
      "          State  Year County  RD_DIFF\n",
      "10438  Michigan  2020  Wayne   -38.05\n"
     ]
    }
   ],
   "source": [
    "for c in mi_counties:\n",
    "    print(mi_pres_pct_2020[mi_pres_pct_2020['County'] == c])"
   ]
  }
 ],
 "metadata": {
  "kernelspec": {
   "display_name": "Python 3",
   "language": "python",
   "name": "python3"
  },
  "language_info": {
   "codemirror_mode": {
    "name": "ipython",
    "version": 3
   },
   "file_extension": ".py",
   "mimetype": "text/x-python",
   "name": "python",
   "nbconvert_exporter": "python",
   "pygments_lexer": "ipython3",
   "version": "3.8.5"
  }
 },
 "nbformat": 4,
 "nbformat_minor": 4
}
