{
 "cells": [
  {
   "cell_type": "markdown",
   "metadata": {},
   "source": [
    "<h2>Calculating 2020 Presidential Margins Along U.S. Route 97</h2>"
   ]
  },
  {
   "cell_type": "code",
   "execution_count": 1,
   "metadata": {},
   "outputs": [],
   "source": [
    "#Import relevant libraries\n",
    "import numpy as np\n",
    "import pandas as pd\n",
    "import warnings\n",
    "warnings.filterwarnings(\"ignore\")"
   ]
  },
  {
   "cell_type": "code",
   "execution_count": 2,
   "metadata": {},
   "outputs": [
    {
     "data": {
      "text/plain": [
       "Index(['State', 'Year', 'Office', 'County', 'D1#', 'D2#', 'R#', 'L#', 'Ref.#',\n",
       "       'NL#',\n",
       "       ...\n",
       "       'Jon William Zellhoefer (R)', 'Reva Renee Renz (R)',\n",
       "       'Kevin Richter (R)', 'Stephen L. Knapp (R)',\n",
       "       'William James Tsangares (R)', 'D. (Logan Darrow) Clements (R)',\n",
       "       'Robert A. Dole (R)', 'David E. Kessinger (D)', 'Gene Forte (R)',\n",
       "       'Todd Richard Lewis (I)'],\n",
       "      dtype='object', length=182)"
      ]
     },
     "execution_count": 2,
     "metadata": {},
     "output_type": "execute_result"
    }
   ],
   "source": [
    "#California county\n",
    "ca_vote = pd.read_csv('../ElectionData/California.csv', low_memory=False)\n",
    "ca_vote.columns"
   ]
  },
  {
   "cell_type": "code",
   "execution_count": 3,
   "metadata": {},
   "outputs": [
    {
     "data": {
      "text/plain": [
       "array(['1892', '1896', '1900', '1904', '1908', '1912', '1916', '1920',\n",
       "       '1924', '1928', '1932', '1936', '1940', '1944', '1948', '1952',\n",
       "       '1956', '1960', '1964', '1968', '1972', '1976', '1980', '1984',\n",
       "       '1988', '1992', '1996', '2000', '2004', '2008', '2012', '2016',\n",
       "       '1922', '1926', '1950', '1954', '1958', '1962', '1970', '1974',\n",
       "       '1982', '1986', '1992S', '1994', '1998', '2006', '2010', '2018',\n",
       "       '1890', '1910', '1918', '1934', '1966', '1978', '1990', '2002',\n",
       "       '2014', nan, '2020', '2003'], dtype=object)"
      ]
     },
     "execution_count": 3,
     "metadata": {},
     "output_type": "execute_result"
    }
   ],
   "source": [
    "ca_vote['Year'].unique()"
   ]
  },
  {
   "cell_type": "code",
   "execution_count": 4,
   "metadata": {},
   "outputs": [],
   "source": [
    "ca_votes = pd.DataFrame(ca_vote[ca_vote.Year == '2020'])\n",
    "ca_votes = ca_votes.fillna(0)\n",
    "ca_votes['Year'] = pd.to_numeric(ca_votes['Year'])\n",
    "ca_votes.loc[:,'Total Votes'] = (ca_votes.sum(axis=1)) - ca_votes['Year']\n",
    "ca_pres = ca_votes[ca_votes['Office'] == 'President']\n",
    "ca_pres = ca_pres.drop('Office', axis = 1)\n",
    "ca_pres['Year'] = pd.to_numeric(ca_pres['Year'])\n",
    "ca_pres['PCT_DEM'] = (round(ca_pres['D1#']/ca_pres['Total Votes'],4))*100\n",
    "ca_pres['PCT_REP'] = (round(ca_pres['R#']/ca_pres['Total Votes'],4))*100\n",
    "ca_pres['RD_DIFF'] = ca_pres['PCT_REP'] - ca_pres['PCT_DEM']\n",
    "ca_pres_pct = ca_pres[['State', 'Year', 'County', 'RD_DIFF']]\n",
    "ca_counties = ['Siskiyou']"
   ]
  },
  {
   "cell_type": "code",
   "execution_count": 5,
   "metadata": {},
   "outputs": [
    {
     "data": {
      "text/plain": [
       "Index(['State', 'Year', 'Office', 'County', 'D#', 'R#', 'S#', 'Peace#',\n",
       "       'Proh.#', 'Ind. Labor#', 'Pop.#', 'IND#', 'Prog.#', 'SPI#', 'SL#',\n",
       "       'Comm.#', 'I1#', 'I2#', 'I3#', 'T#', 'L#', 'Ref.#', 'NL#', 'G#', 'NA#',\n",
       "       'W/I1#', 'W/I2#', 'W/I3#', 'W/I4#', 'Pop. Gov.#', 'AI#', 'WF#', 'I4#',\n",
       "       'Am.#', 'W/I#', 'Year / Office', 'I#', 'C#'],\n",
       "      dtype='object')"
      ]
     },
     "execution_count": 5,
     "metadata": {},
     "output_type": "execute_result"
    }
   ],
   "source": [
    "#Oregon counties\n",
    "or_vote = pd.read_csv('../ElectionData/Oregon.csv', low_memory=False)\n",
    "or_vote.columns"
   ]
  },
  {
   "cell_type": "code",
   "execution_count": 6,
   "metadata": {},
   "outputs": [],
   "source": [
    "or_votes = pd.DataFrame(or_vote[or_vote.Year == 2020])\n",
    "or_votes = or_votes.fillna(0)\n",
    "or_votes['Year'] = pd.to_numeric(or_votes['Year'])\n",
    "or_votes.loc[:,'Total Votes'] = (or_votes.sum(axis=1)) - or_votes['Year']\n",
    "or_pres = or_votes[or_votes['Office'] == 'President']\n",
    "or_pres = or_pres.drop('Office', axis = 1)\n",
    "or_pres['Year'] = pd.to_numeric(or_pres['Year'])\n",
    "or_pres['PCT_DEM'] = (round(or_pres['D#']/or_pres['Total Votes'],4))*100\n",
    "or_pres['PCT_REP'] = (round(or_pres['R#']/or_pres['Total Votes'],4))*100\n",
    "or_pres['RD_DIFF'] = or_pres['PCT_REP'] - or_pres['PCT_DEM']\n",
    "or_pres_pct = or_pres[['State', 'Year', 'County', 'RD_DIFF']]\n",
    "or_counties = ['Klamath', 'Deschutes', 'Jefferson', 'Wasco', 'Sherman']"
   ]
  },
  {
   "cell_type": "code",
   "execution_count": 7,
   "metadata": {},
   "outputs": [
    {
     "data": {
      "text/plain": [
       "Index(['State', 'Year', 'Office', 'County', 'D#', 'R#', 'Pop.#', 'PF#',\n",
       "       'Proh.#', 'BR#', 'Right.#', 'FB#', 'Labor#', 'Wor.#', 'Nat.#', 'Cit.#',\n",
       "       'Free.#', 'Comm.#', 'S#', 'Ind.#', 'Prog.#', 'SD#', 'SL#', 'FS#',\n",
       "       'S&L#', 'SW#', 'SE#', 'FL#', 'Chr.#', 'Liberty#', 'Justice#', 'U#',\n",
       "       'Am.#', 'I1#', 'I2#', 'I3#', 'Ref.#', 'NL#', 'G#', 'L#', 'NA#', 'W/I1#',\n",
       "       'W/I2#', 'W/I3#', 'W/I4#', 'W/I5#', 'W/I6#', 'D1#', 'D2#', 'R1#', 'R2#',\n",
       "       'ULS#', 'WSAL#', 'CNPM#', 'CNP#', 'IP#', 'New#', 'Buffalo#', 'C#',\n",
       "       'W/I#', 'State#', 'OWL#', 'T#', 'I#', 'Year / Office', 'Prog.#.1',\n",
       "       'Christian#', 'CON#', 'NM#'],\n",
       "      dtype='object')"
      ]
     },
     "execution_count": 7,
     "metadata": {},
     "output_type": "execute_result"
    }
   ],
   "source": [
    "#Washington counties\n",
    "wa_vote = pd.read_csv('../ElectionData/Washington.csv', low_memory=False)\n",
    "wa_vote.columns"
   ]
  },
  {
   "cell_type": "code",
   "execution_count": 8,
   "metadata": {},
   "outputs": [],
   "source": [
    "wa_votes = pd.DataFrame(wa_vote[wa_vote.Year == 2020])\n",
    "wa_votes = wa_votes.fillna(0)\n",
    "wa_votes['Year'] = pd.to_numeric(wa_votes['Year'])\n",
    "wa_votes.loc[:,'Total Votes'] = (wa_votes.sum(axis=1)) - wa_votes['Year']\n",
    "wa_pres = wa_votes[wa_votes['Office'] == 'President']\n",
    "wa_pres = wa_pres.drop('Office', axis = 1)\n",
    "wa_pres['Year'] = pd.to_numeric(wa_pres['Year'])\n",
    "wa_pres['PCT_DEM'] = (round(wa_pres['D#']/wa_pres['Total Votes'],4))*100\n",
    "wa_pres['PCT_REP'] = (round(wa_pres['R#']/wa_pres['Total Votes'],4))*100\n",
    "wa_pres['RD_DIFF'] = wa_pres['PCT_REP'] - wa_pres['PCT_DEM']\n",
    "wa_pres_pct = wa_pres[['State', 'Year', 'County', 'RD_DIFF']]\n",
    "wa_counties = ['Klickitat', 'Yakima', 'Kittitas', 'Chelan', 'Douglas', 'Okanogan']"
   ]
  },
  {
   "cell_type": "markdown",
   "metadata": {},
   "source": [
    "Now find the margins from each county."
   ]
  },
  {
   "cell_type": "code",
   "execution_count": 9,
   "metadata": {},
   "outputs": [
    {
     "name": "stdout",
     "output_type": "stream",
     "text": [
      "            State  Year    County  RD_DIFF\n",
      "11460  California  2020  Siskiyou    15.75\n"
     ]
    }
   ],
   "source": [
    "for c in ca_counties:\n",
    "    print(ca_pres_pct[ca_pres_pct['County'] == c])"
   ]
  },
  {
   "cell_type": "code",
   "execution_count": 10,
   "metadata": {},
   "outputs": [
    {
     "name": "stdout",
     "output_type": "stream",
     "text": [
      "       State    Year   County  RD_DIFF\n",
      "3545  Oregon  2020.0  Klamath    40.62\n",
      "       State    Year     County  RD_DIFF\n",
      "3536  Oregon  2020.0  Deschutes    -8.24\n",
      "       State    Year     County  RD_DIFF\n",
      "3543  Oregon  2020.0  Jefferson    23.47\n",
      "       State    Year County  RD_DIFF\n",
      "3560  Oregon  2020.0  Wasco     3.05\n",
      "       State    Year   County  RD_DIFF\n",
      "3555  Oregon  2020.0  Sherman    54.72\n"
     ]
    }
   ],
   "source": [
    "for c in or_counties:\n",
    "    print(or_pres_pct[or_pres_pct['County'] == c])"
   ]
  },
  {
   "cell_type": "code",
   "execution_count": 11,
   "metadata": {},
   "outputs": [
    {
     "name": "stdout",
     "output_type": "stream",
     "text": [
      "           State    Year     County  RD_DIFF\n",
      "9962  Washington  2020.0  Klickitat     9.42\n",
      "           State    Year  County  RD_DIFF\n",
      "9981  Washington  2020.0  Yakima     7.67\n",
      "           State    Year    County  RD_DIFF\n",
      "9961  Washington  2020.0  Kittitas    10.18\n",
      "           State    Year  County  RD_DIFF\n",
      "9946  Washington  2020.0  Chelan     7.84\n",
      "           State    Year   County  RD_DIFF\n",
      "9951  Washington  2020.0  Douglas    24.14\n",
      "           State    Year    County  RD_DIFF\n",
      "9966  Washington  2020.0  Okanogan    13.81\n"
     ]
    }
   ],
   "source": [
    "for c in wa_counties:\n",
    "    print(wa_pres_pct[wa_pres_pct['County'] == c])"
   ]
  }
 ],
 "metadata": {
  "kernelspec": {
   "display_name": "Python 3",
   "language": "python",
   "name": "python3"
  },
  "language_info": {
   "codemirror_mode": {
    "name": "ipython",
    "version": 3
   },
   "file_extension": ".py",
   "mimetype": "text/x-python",
   "name": "python",
   "nbconvert_exporter": "python",
   "pygments_lexer": "ipython3",
   "version": "3.8.5"
  }
 },
 "nbformat": 4,
 "nbformat_minor": 4
}
