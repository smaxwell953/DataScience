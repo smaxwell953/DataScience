{
 "cells": [
  {
   "cell_type": "markdown",
   "metadata": {},
   "source": [
    "<h2>Calculating 2020 Presidential Margins Along U.S. Route 62</h2>"
   ]
  },
  {
   "cell_type": "code",
   "execution_count": 1,
   "metadata": {},
   "outputs": [],
   "source": [
    "#Import relevant libraries\n",
    "import numpy as np\n",
    "import pandas as pd\n",
    "import warnings\n",
    "warnings.filterwarnings(\"ignore\")"
   ]
  },
  {
   "cell_type": "code",
   "execution_count": 4,
   "metadata": {},
   "outputs": [],
   "source": [
    "tx_vote = pd.read_csv('../ElectionData/Texas.csv', low_memory=False)\n",
    "tx_votes = pd.DataFrame(tx_vote[tx_vote.Year == 2020])\n",
    "tx_votes = tx_votes.fillna(0)\n",
    "tx_votes['Year'] = pd.to_numeric(tx_votes['Year'])\n",
    "tx_votes.loc[:,'Total Votes'] = (tx_votes.sum(axis=1)) - tx_votes['Year']\n",
    "tx_pres = tx_votes[tx_votes['Office'] == 'President']\n",
    "tx_pres = tx_pres.drop('Office', axis = 1)\n",
    "tx_pres['Year'] = pd.to_numeric(tx_pres['Year'])\n",
    "tx_pres['PCT_DEM'] = (round(tx_pres['D#']/tx_pres['Total Votes'],4))*100\n",
    "tx_pres['PCT_REP'] = (round(tx_pres['R#']/tx_pres['Total Votes'],4))*100\n",
    "tx_pres['RD_DIFF'] = tx_pres['PCT_REP'] - tx_pres['PCT_DEM']\n",
    "tx_pres_pct = tx_pres[['State', 'Year', 'County', 'RD_DIFF']]\n",
    "tx_counties = ['El Paso', 'Hudspeth', 'Culberson', 'Gaines', 'Terry', 'Hockley', 'Lubbock', 'Crosby', 'Floyd', 'Motley', \\\n",
    "               'Cottle', 'Childress']"
   ]
  },
  {
   "cell_type": "code",
   "execution_count": 5,
   "metadata": {},
   "outputs": [],
   "source": [
    "nm_vote = pd.read_csv('../ElectionData/New Mexico.csv', low_memory=False)\n",
    "nm_votes = pd.DataFrame(nm_vote[nm_vote.Year == 2020])\n",
    "nm_votes = nm_votes.fillna(0)\n",
    "nm_votes['Year'] = pd.to_numeric(nm_votes['Year'])\n",
    "nm_votes.loc[:,'Total Votes'] = (nm_votes.sum(axis=1)) - nm_votes['Year']\n",
    "nm_pres = nm_votes[nm_votes['Office'] == 'President']\n",
    "nm_pres = nm_pres.drop('Office', axis = 1)\n",
    "nm_pres['Year'] = pd.to_numeric(nm_pres['Year'])\n",
    "nm_pres['PCT_DEM'] = (round(nm_pres['D#']/nm_pres['Total Votes'],4))*100\n",
    "nm_pres['PCT_REP'] = (round(nm_pres['R#']/nm_pres['Total Votes'],4))*100\n",
    "nm_pres['RD_DIFF'] = nm_pres['PCT_REP'] - nm_pres['PCT_DEM']\n",
    "nm_pres_pct = nm_pres[['State', 'Year', 'County', 'RD_DIFF']]\n",
    "nm_counties = ['Eddy', 'Lea']"
   ]
  },
  {
   "cell_type": "code",
   "execution_count": 6,
   "metadata": {},
   "outputs": [],
   "source": [
    "ok_vote = pd.read_csv('../ElectionData/Oklahoma.csv', low_memory=False)\n",
    "ok_votes = pd.DataFrame(ok_vote[ok_vote.Year == 2020])\n",
    "ok_votes = ok_votes.fillna(0)\n",
    "ok_votes['Year'] = pd.to_numeric(ok_votes['Year'])\n",
    "ok_votes.loc[:,'Total Votes'] = (ok_votes.sum(axis=1)) - ok_votes['Year']\n",
    "ok_pres = ok_votes[ok_votes['Office'] == 'President']\n",
    "ok_pres = ok_pres.drop('Office', axis = 1)\n",
    "ok_pres['Year'] = pd.to_numeric(ok_pres['Year'])\n",
    "ok_pres['PCT_DEM'] = (round(ok_pres['D#']/ok_pres['Total Votes'],4))*100\n",
    "ok_pres['PCT_REP'] = (round(ok_pres['R#']/ok_pres['Total Votes'],4))*100\n",
    "ok_pres['RD_DIFF'] = ok_pres['PCT_REP'] - ok_pres['PCT_DEM']\n",
    "ok_pres_pct = ok_pres[['State', 'Year', 'County', 'RD_DIFF']]\n",
    "ok_counties = ['Harmon', 'Jackson', 'Kiowa', 'Comanche', 'Caddo', 'Grady', 'McClain', 'Cleveland', 'Oklahoma', 'Lincoln', \\\n",
    "               'Okfuskee', 'Okmulgee', 'Muskogee', 'Cherokee', 'Adair']"
   ]
  },
  {
   "cell_type": "code",
   "execution_count": 7,
   "metadata": {},
   "outputs": [],
   "source": [
    "ar_vote = pd.read_csv('../ElectionData/Arkansas.csv', low_memory=False)\n",
    "ar_votes = pd.DataFrame(ar_vote[ar_vote.Year == 2020])\n",
    "ar_votes = ar_votes.fillna(0)\n",
    "ar_votes['Year'] = pd.to_numeric(ar_votes['Year'])\n",
    "ar_votes.loc[:,'Total Votes'] = (ar_votes.sum(axis=1)) - ar_votes['Year']\n",
    "ar_pres = ar_votes[ar_votes['Office'] == 'President']\n",
    "ar_pres = ar_pres.drop('Office', axis = 1)\n",
    "ar_pres['Year'] = pd.to_numeric(ar_pres['Year'])\n",
    "ar_pres['PCT_DEM'] = (round(ar_pres['D#']/ar_pres['Total Votes'],4))*100\n",
    "ar_pres['PCT_REP'] = (round(ar_pres['R#']/ar_pres['Total Votes'],4))*100\n",
    "ar_pres['RD_DIFF'] = ar_pres['PCT_REP'] - ar_pres['PCT_DEM']\n",
    "ar_pres_pct = ar_pres[['State', 'Year', 'County', 'RD_DIFF']]\n",
    "ar_counties = ['Washington', 'Benton', 'Carroll', 'Boone', 'Marion', 'Baxter', 'Fulton', 'Sharp', 'Lawrence', 'Randolph',\\\n",
    "               'Clay']"
   ]
  },
  {
   "cell_type": "code",
   "execution_count": 8,
   "metadata": {},
   "outputs": [],
   "source": [
    "mo_vote = pd.read_csv('../ElectionData/Missouri.csv', low_memory=False)\n",
    "mo_votes = pd.DataFrame(mo_vote[mo_vote.Year == 2020])\n",
    "mo_votes = mo_votes.fillna(0)\n",
    "mo_votes['Year'] = pd.to_numeric(mo_votes['Year'])\n",
    "mo_votes.loc[:,'Total Votes'] = (mo_votes.sum(axis=1)) - mo_votes['Year']\n",
    "mo_pres = mo_votes[mo_votes['Office'] == 'President']\n",
    "mo_pres = mo_pres.drop('Office', axis = 1)\n",
    "mo_pres['Year'] = pd.to_numeric(mo_pres['Year'])\n",
    "mo_pres['PCT_DEM'] = (round(mo_pres['D#']/mo_pres['Total Votes'],4))*100\n",
    "mo_pres['PCT_REP'] = (round(mo_pres['R#']/mo_pres['Total Votes'],4))*100\n",
    "mo_pres['RD_DIFF'] = mo_pres['PCT_REP'] - mo_pres['PCT_DEM']\n",
    "mo_pres_pct = mo_pres[['State', 'Year', 'County', 'RD_DIFF']]\n",
    "mo_counties = ['Dunklin', 'New Madrid', 'Scott', 'Mississippi']"
   ]
  },
  {
   "cell_type": "code",
   "execution_count": 9,
   "metadata": {},
   "outputs": [],
   "source": [
    "il_vote = pd.read_csv('../ElectionData/Illinois.csv', low_memory=False)\n",
    "il_votes = pd.DataFrame(il_vote[il_vote.Year == 2020])\n",
    "il_votes = il_votes.fillna(0)\n",
    "il_votes['Year'] = pd.to_numeric(il_votes['Year'])\n",
    "il_votes.loc[:,'Total Votes'] = (il_votes.sum(axis=1)) - il_votes['Year']\n",
    "il_pres = il_votes[il_votes['Office'] == 'President']\n",
    "il_pres = il_pres.drop('Office', axis = 1)\n",
    "il_pres['Year'] = pd.to_numeric(il_pres['Year'])\n",
    "il_pres['PCT_DEM'] = (round(il_pres['D#']/il_pres['Total Votes'],4))*100\n",
    "il_pres['PCT_REP'] = (round(il_pres['R#']/il_pres['Total Votes'],4))*100\n",
    "il_pres['RD_DIFF'] = il_pres['PCT_REP'] - il_pres['PCT_DEM']\n",
    "il_pres_pct = il_pres[['State', 'Year', 'County', 'RD_DIFF']]\n",
    "il_counties = ['Alexander']"
   ]
  },
  {
   "cell_type": "code",
   "execution_count": 10,
   "metadata": {},
   "outputs": [],
   "source": [
    "ky_vote = pd.read_csv('../ElectionData/Kentucky.csv', low_memory=False)\n",
    "ky_votes = pd.DataFrame(ky_vote[ky_vote.Year == 2020])\n",
    "ky_votes = ky_votes.fillna(0)\n",
    "ky_votes['Year'] = pd.to_numeric(ky_votes['Year'])\n",
    "ky_votes.loc[:,'Total Votes'] = (ky_votes.sum(axis=1)) - ky_votes['Year']\n",
    "ky_pres = ky_votes[ky_votes['Office'] == 'President']\n",
    "ky_pres = ky_pres.drop('Office', axis = 1)\n",
    "ky_pres['Year'] = pd.to_numeric(ky_pres['Year'])\n",
    "ky_pres['PCT_DEM'] = (round(ky_pres['D#']/ky_pres['Total Votes'],4))*100\n",
    "ky_pres['PCT_REP'] = (round(ky_pres['R#']/ky_pres['Total Votes'],4))*100\n",
    "ky_pres['RD_DIFF'] = ky_pres['PCT_REP'] - ky_pres['PCT_DEM']\n",
    "ky_pres_pct = ky_pres[['State', 'Year', 'County', 'RD_DIFF']]\n",
    "ky_counties = ['Ballard', 'Carlisle', 'McCracken', 'Marshall', 'Livingston', 'Lyon', 'Caldwell', 'Hopkins', 'Muhlenberg', \\\n",
    "               'Ohio', 'Grayson', 'Hardin', 'Nelson', 'Anderson', 'Woodford', 'Scott', 'Bourbon', 'Harrison', 'Robertson', \\\n",
    "               'Mason']"
   ]
  },
  {
   "cell_type": "code",
   "execution_count": 11,
   "metadata": {},
   "outputs": [],
   "source": [
    "oh_vote = pd.read_csv('../ElectionData/Ohio.csv', low_memory=False)\n",
    "oh_votes = pd.DataFrame(oh_vote[oh_vote.Year == 2020])\n",
    "oh_votes = oh_votes.fillna(0)\n",
    "oh_votes['Year'] = pd.to_numeric(oh_votes['Year'])\n",
    "oh_votes.loc[:,'Total Votes'] = (oh_votes.sum(axis=1)) - oh_votes['Year']\n",
    "oh_pres = oh_votes[oh_votes['Office'] == 'President']\n",
    "oh_pres = oh_pres.drop('Office', axis = 1)\n",
    "oh_pres['Year'] = pd.to_numeric(oh_pres['Year'])\n",
    "oh_pres['PCT_DEM'] = (round(oh_pres['D#']/oh_pres['Total Votes'],4))*100\n",
    "oh_pres['PCT_REP'] = (round(oh_pres['R#']/oh_pres['Total Votes'],4))*100\n",
    "oh_pres['RD_DIFF'] = oh_pres['PCT_REP'] - oh_pres['PCT_DEM']\n",
    "oh_pres_pct = oh_pres[['State', 'Year', 'County', 'RD_DIFF']]\n",
    "oh_counties = ['Brown', 'Highland', 'Fayette', 'Madison', 'Pickaway', 'Franklin', 'Licking', 'Knox', 'Holmes', 'Stark', \\\n",
    "               'Columbiana', 'Mahoning', 'Trumbull']"
   ]
  },
  {
   "cell_type": "code",
   "execution_count": 12,
   "metadata": {},
   "outputs": [],
   "source": [
    "pa_vote = pd.read_csv('../ElectionData/Pennsylvania.csv', low_memory=False)\n",
    "pa_votes = pd.DataFrame(pa_vote[pa_vote.Year == 2020])\n",
    "pa_votes = pa_votes.fillna(0)\n",
    "pa_votes['Year'] = pd.to_numeric(pa_votes['Year'])\n",
    "pa_votes.loc[:,'Total Votes'] = (pa_votes.sum(axis=1)) - pa_votes['Year']\n",
    "pa_pres = pa_votes[pa_votes['Office'] == 'President']\n",
    "pa_pres = pa_pres.drop('Office', axis = 1)\n",
    "pa_pres['Year'] = pd.to_numeric(pa_pres['Year'])\n",
    "pa_pres['PCT_DEM'] = (round(pa_pres['D#']/pa_pres['Total Votes'],4))*100\n",
    "pa_pres['PCT_REP'] = (round(pa_pres['R#']/pa_pres['Total Votes'],4))*100\n",
    "pa_pres['RD_DIFF'] = pa_pres['PCT_REP'] - pa_pres['PCT_DEM']\n",
    "pa_pres_pct = pa_pres[['State', 'Year', 'County', 'RD_DIFF']]\n",
    "pa_counties = ['Mercer', 'Venango', 'Forest', 'Warren']"
   ]
  },
  {
   "cell_type": "code",
   "execution_count": 13,
   "metadata": {},
   "outputs": [],
   "source": [
    "ny_vote = pd.read_csv('../ElectionData/New York.csv', low_memory=False)\n",
    "ny_votes = pd.DataFrame(ny_vote[ny_vote.Year == 2020])\n",
    "ny_votes = ny_votes.fillna(0)\n",
    "ny_votes['Year'] = pd.to_numeric(ny_votes['Year'])\n",
    "ny_votes.loc[:,'Total Votes'] = (ny_votes.sum(axis=1)) - ny_votes['Year']\n",
    "ny_pres = ny_votes[ny_votes['Office'] == 'President']\n",
    "ny_pres = ny_pres.drop('Office', axis = 1)\n",
    "ny_pres['Year'] = pd.to_numeric(ny_pres['Year'])\n",
    "ny_pres['PCT_DEM'] = (round(ny_pres['D#']/ny_pres['Total Votes'],4))*100\n",
    "ny_pres['PCT_REP'] = (round(ny_pres['R#']/ny_pres['Total Votes'],4))*100\n",
    "ny_pres['RD_DIFF'] = ny_pres['PCT_REP'] - ny_pres['PCT_DEM']\n",
    "ny_pres_pct = ny_pres[['State', 'Year', 'County', 'RD_DIFF']]\n",
    "ny_counties = ['Chautauqua', 'Cattaraugus', 'Erie', 'Niagara']"
   ]
  },
  {
   "cell_type": "code",
   "execution_count": 14,
   "metadata": {},
   "outputs": [
    {
     "name": "stdout",
     "output_type": "stream",
     "text": [
      "       State    Year   County  RD_DIFF\n",
      "21647  Texas  2020.0  El Paso    -35.1\n",
      "       State    Year    County  RD_DIFF\n",
      "21691  Texas  2020.0  Hudspeth    35.02\n",
      "       State    Year     County  RD_DIFF\n",
      "21631  Texas  2020.0  Culberson    -2.66\n",
      "       State    Year  County  RD_DIFF\n",
      "21659  Texas  2020.0  Gaines     79.7\n",
      "       State    Year County  RD_DIFF\n",
      "21799  Texas  2020.0  Terry    56.89\n",
      "       State    Year   County  RD_DIFF\n",
      "21686  Texas  2020.0  Hockley    62.39\n",
      "       State    Year   County  RD_DIFF\n",
      "21728  Texas  2020.0  Lubbock    32.15\n",
      "       State    Year  County  RD_DIFF\n",
      "21630  Texas  2020.0  Crosby     44.5\n",
      "       State    Year County  RD_DIFF\n",
      "21653  Texas  2020.0  Floyd    56.21\n",
      "       State    Year  County  RD_DIFF\n",
      "21749  Texas  2020.0  Motley    85.58\n",
      "       State    Year  County  RD_DIFF\n",
      "21627  Texas  2020.0  Cottle     64.5\n",
      "       State    Year     County  RD_DIFF\n",
      "21614  Texas  2020.0  Childress    71.66\n"
     ]
    }
   ],
   "source": [
    "for c in tx_counties:\n",
    "    print(tx_pres_pct[tx_pres_pct['County'] == c])"
   ]
  },
  {
   "cell_type": "code",
   "execution_count": 15,
   "metadata": {},
   "outputs": [
    {
     "name": "stdout",
     "output_type": "stream",
     "text": [
      "           State    Year County  RD_DIFF\n",
      "4282  New Mexico  2020.0   Eddy     51.8\n",
      "           State    Year County  RD_DIFF\n",
      "4287  New Mexico  2020.0    Lea    59.62\n"
     ]
    }
   ],
   "source": [
    "for c in nm_counties:\n",
    "    print(nm_pres_pct[nm_pres_pct['County'] == c])"
   ]
  },
  {
   "cell_type": "code",
   "execution_count": 16,
   "metadata": {},
   "outputs": [
    {
     "name": "stdout",
     "output_type": "stream",
     "text": [
      "         State    Year  County  RD_DIFF\n",
      "7958  Oklahoma  2020.0  Harmon    61.09\n",
      "         State    Year   County  RD_DIFF\n",
      "7962  Oklahoma  2020.0  Jackson    57.73\n",
      "         State    Year County  RD_DIFF\n",
      "7967  Oklahoma  2020.0  Kiowa     57.6\n",
      "         State    Year    County  RD_DIFF\n",
      "7945  Oklahoma  2020.0  Comanche    20.09\n",
      "         State    Year County  RD_DIFF\n",
      "7937  Oklahoma  2020.0  Caddo    44.05\n",
      "         State    Year County  RD_DIFF\n",
      "7955  Oklahoma  2020.0  Grady    62.31\n",
      "         State    Year   County  RD_DIFF\n",
      "7973  Oklahoma  2020.0  McClain    60.89\n",
      "         State    Year     County  RD_DIFF\n",
      "7943  Oklahoma  2020.0  Cleveland    14.07\n",
      "         State    Year    County  RD_DIFF\n",
      "7984  Oklahoma  2020.0  Oklahoma     1.13\n",
      "         State    Year   County  RD_DIFF\n",
      "7970  Oklahoma  2020.0  Lincoln    63.17\n",
      "         State    Year    County  RD_DIFF\n",
      "7983  Oklahoma  2020.0  Okfuskee    53.54\n",
      "         State    Year    County  RD_DIFF\n",
      "7985  Oklahoma  2020.0  Okmulgee    37.11\n",
      "         State    Year    County  RD_DIFF\n",
      "7980  Oklahoma  2020.0  Muskogee    33.89\n",
      "         State    Year    County  RD_DIFF\n",
      "7940  Oklahoma  2020.0  Cherokee    29.34\n",
      "         State    Year County  RD_DIFF\n",
      "7930  Oklahoma  2020.0  Adair    59.06\n"
     ]
    }
   ],
   "source": [
    "for c in ok_counties:\n",
    "    print(ok_pres_pct[ok_pres_pct['County'] == c])"
   ]
  },
  {
   "cell_type": "code",
   "execution_count": 17,
   "metadata": {},
   "outputs": [
    {
     "name": "stdout",
     "output_type": "stream",
     "text": [
      "         State  Year      County  RD_DIFF\n",
      "7421  Arkansas  2020  Washington      3.9\n",
      "         State  Year  County  RD_DIFF\n",
      "7353  Arkansas  2020  Benton    26.45\n",
      "         State  Year   County  RD_DIFF\n",
      "7357  Arkansas  2020  Carroll    28.83\n",
      "         State  Year County  RD_DIFF\n",
      "7354  Arkansas  2020  Boone    61.87\n",
      "         State  Year  County  RD_DIFF\n",
      "7394  Arkansas  2020  Marion    56.67\n",
      "         State  Year  County  RD_DIFF\n",
      "7352  Arkansas  2020  Baxter    53.32\n",
      "         State  Year  County  RD_DIFF\n",
      "7374  Arkansas  2020  Fulton    57.16\n",
      "         State  Year County  RD_DIFF\n",
      "7417  Arkansas  2020  Sharp     60.0\n",
      "         State  Year    County  RD_DIFF\n",
      "7387  Arkansas  2020  Lawrence    59.57\n",
      "         State  Year    County  RD_DIFF\n",
      "7410  Arkansas  2020  Randolph    60.77\n",
      "         State  Year County  RD_DIFF\n",
      "7360  Arkansas  2020   Clay    60.27\n"
     ]
    }
   ],
   "source": [
    "for c in ar_counties:\n",
    "    print(ar_pres_pct[ar_pres_pct['County'] == c])"
   ]
  },
  {
   "cell_type": "code",
   "execution_count": 18,
   "metadata": {},
   "outputs": [
    {
     "name": "stdout",
     "output_type": "stream",
     "text": [
      "          State  Year   County  RD_DIFF\n",
      "18664  Missouri  2020  Dunklin    56.96\n",
      "          State  Year      County  RD_DIFF\n",
      "18701  Missouri  2020  New Madrid    51.02\n",
      "          State  Year County  RD_DIFF\n",
      "18729  Missouri  2020  Scott    56.43\n",
      "          State  Year       County  RD_DIFF\n",
      "18696  Missouri  2020  Mississippi     49.6\n"
     ]
    }
   ],
   "source": [
    "for c in mo_counties:\n",
    "    print(mo_pres_pct[mo_pres_pct['County'] == c])"
   ]
  },
  {
   "cell_type": "code",
   "execution_count": 19,
   "metadata": {},
   "outputs": [
    {
     "name": "stdout",
     "output_type": "stream",
     "text": [
      "          State  Year     County  RD_DIFF\n",
      "19891  Illinois  2020  Alexander    14.21\n"
     ]
    }
   ],
   "source": [
    "for c in il_counties:\n",
    "    print(il_pres_pct[il_pres_pct['County'] == c])"
   ]
  },
  {
   "cell_type": "code",
   "execution_count": 20,
   "metadata": {},
   "outputs": [
    {
     "name": "stdout",
     "output_type": "stream",
     "text": [
      "          State  Year   County  RD_DIFF\n",
      "13803  Kentucky  2020  Ballard     59.9\n",
      "          State  Year    County  RD_DIFF\n",
      "13819  Kentucky  2020  Carlisle    64.29\n",
      "          State  Year     County  RD_DIFF\n",
      "13872  Kentucky  2020  McCracken    31.67\n",
      "          State  Year    County  RD_DIFF\n",
      "13878  Kentucky  2020  Marshall    52.41\n",
      "          State  Year      County  RD_DIFF\n",
      "13869  Kentucky  2020  Livingston    61.38\n",
      "          State  Year County  RD_DIFF\n",
      "13871  Kentucky  2020   Lyon    47.49\n",
      "          State  Year    County  RD_DIFF\n",
      "13816  Kentucky  2020  Caldwell    53.98\n",
      "          State  Year   County  RD_DIFF\n",
      "13853  Kentucky  2020  Hopkins    47.97\n",
      "          State  Year      County  RD_DIFF\n",
      "13888  Kentucky  2020  Muhlenberg    48.84\n",
      "          State  Year County  RD_DIFF\n",
      "13891  Kentucky  2020   Ohio    55.51\n",
      "          State  Year   County  RD_DIFF\n",
      "13842  Kentucky  2020  Grayson    58.84\n",
      "          State  Year  County  RD_DIFF\n",
      "13846  Kentucky  2020  Hardin    23.97\n",
      "          State  Year  County  RD_DIFF\n",
      "13889  Kentucky  2020  Nelson    36.61\n",
      "          State  Year    County  RD_DIFF\n",
      "13802  Kentucky  2020  Anderson    47.63\n",
      "          State  Year    County  RD_DIFF\n",
      "13919  Kentucky  2020  Woodford    12.04\n",
      "          State  Year County  RD_DIFF\n",
      "13904  Kentucky  2020  Scott    24.85\n",
      "          State  Year   County  RD_DIFF\n",
      "13808  Kentucky  2020  Bourbon     30.0\n",
      "          State  Year    County  RD_DIFF\n",
      "13848  Kentucky  2020  Harrison    44.41\n",
      "          State  Year     County  RD_DIFF\n",
      "13900  Kentucky  2020  Robertson    55.06\n",
      "          State  Year County  RD_DIFF\n",
      "13880  Kentucky  2020  Mason    39.14\n"
     ]
    }
   ],
   "source": [
    "for c in ky_counties:\n",
    "    print(ky_pres_pct[ky_pres_pct['County'] == c])"
   ]
  },
  {
   "cell_type": "code",
   "execution_count": 21,
   "metadata": {},
   "outputs": [
    {
     "name": "stdout",
     "output_type": "stream",
     "text": [
      "      State    Year County  RD_DIFF\n",
      "12591  Ohio  2020.0  Brown    57.24\n",
      "      State    Year    County  RD_DIFF\n",
      "12619  Ohio  2020.0  Highland    60.37\n",
      "      State    Year   County  RD_DIFF\n",
      "12607  Ohio  2020.0  Fayette    51.47\n",
      "      State    Year   County  RD_DIFF\n",
      "12632  Ohio  2020.0  Madison    40.92\n",
      "      State    Year    County  RD_DIFF\n",
      "12648  Ohio  2020.0  Pickaway    46.93\n",
      "      State    Year    County  RD_DIFF\n",
      "12608  Ohio  2020.0  Franklin   -31.28\n",
      "      State    Year   County  RD_DIFF\n",
      "12628  Ohio  2020.0  Licking    28.03\n",
      "      State    Year County  RD_DIFF\n",
      "12625  Ohio  2020.0   Knox    43.71\n",
      "      State    Year  County  RD_DIFF\n",
      "12621  Ohio  2020.0  Holmes    67.83\n",
      "      State    Year County  RD_DIFF\n",
      "12659  Ohio  2020.0  Stark    18.51\n",
      "      State    Year      County  RD_DIFF\n",
      "12598  Ohio  2020.0  Columbiana    44.77\n",
      "      State    Year    County  RD_DIFF\n",
      "12633  Ohio  2020.0  Mahoning      1.9\n",
      "      State    Year    County  RD_DIFF\n",
      "12661  Ohio  2020.0  Trumbull    10.56\n"
     ]
    }
   ],
   "source": [
    "for c in oh_counties:\n",
    "    print(oh_pres_pct[oh_pres_pct['County'] == c])"
   ]
  },
  {
   "cell_type": "code",
   "execution_count": 22,
   "metadata": {},
   "outputs": [
    {
     "name": "stdout",
     "output_type": "stream",
     "text": [
      "             State    Year  County  RD_DIFF\n",
      "9288  Pennsylvania  2020.0  Mercer    25.94\n",
      "             State    Year   County  RD_DIFF\n",
      "9306  Pennsylvania  2020.0  Venango     41.3\n",
      "             State    Year  County  RD_DIFF\n",
      "9272  Pennsylvania  2020.0  Forest    43.48\n",
      "             State    Year  County  RD_DIFF\n",
      "9307  Pennsylvania  2020.0  Warren    39.55\n"
     ]
    }
   ],
   "source": [
    "for c in pa_counties:\n",
    "    print(pa_pres_pct[pa_pres_pct['County'] == c])"
   ]
  },
  {
   "cell_type": "code",
   "execution_count": 23,
   "metadata": {},
   "outputs": [
    {
     "name": "stdout",
     "output_type": "stream",
     "text": [
      "         State    Year      County  RD_DIFF\n",
      "5509  New York  2020.0  Chautauqua    19.84\n",
      "         State    Year       County  RD_DIFF\n",
      "5507  New York  2020.0  Cattaraugus    29.57\n",
      "         State    Year County  RD_DIFF\n",
      "5517  New York  2020.0   Erie   -14.73\n",
      "         State    Year   County  RD_DIFF\n",
      "5534  New York  2020.0  Niagara     9.64\n"
     ]
    }
   ],
   "source": [
    "for c in ny_counties:\n",
    "    print(ny_pres_pct[ny_pres_pct['County'] == c])"
   ]
  }
 ],
 "metadata": {
  "kernelspec": {
   "display_name": "Python 3",
   "language": "python",
   "name": "python3"
  },
  "language_info": {
   "codemirror_mode": {
    "name": "ipython",
    "version": 3
   },
   "file_extension": ".py",
   "mimetype": "text/x-python",
   "name": "python",
   "nbconvert_exporter": "python",
   "pygments_lexer": "ipython3",
   "version": "3.8.5"
  }
 },
 "nbformat": 4,
 "nbformat_minor": 4
}
