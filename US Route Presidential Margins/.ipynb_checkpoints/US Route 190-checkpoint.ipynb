{
 "cells": [
  {
   "cell_type": "markdown",
   "metadata": {},
   "source": [
    "<h2>Calculating 2020 Presidential Margins Along U.S. Route 190</h2>"
   ]
  },
  {
   "cell_type": "code",
   "execution_count": 1,
   "metadata": {},
   "outputs": [],
   "source": [
    "#Import relevant libraries\n",
    "import numpy as np\n",
    "import pandas as pd\n",
    "import warnings\n",
    "warnings.filterwarnings(\"ignore\")"
   ]
  },
  {
   "cell_type": "code",
   "execution_count": 2,
   "metadata": {},
   "outputs": [
    {
     "data": {
      "text/html": [
       "<div>\n",
       "<style scoped>\n",
       "    .dataframe tbody tr th:only-of-type {\n",
       "        vertical-align: middle;\n",
       "    }\n",
       "\n",
       "    .dataframe tbody tr th {\n",
       "        vertical-align: top;\n",
       "    }\n",
       "\n",
       "    .dataframe thead th {\n",
       "        text-align: right;\n",
       "    }\n",
       "</style>\n",
       "<table border=\"1\" class=\"dataframe\">\n",
       "  <thead>\n",
       "    <tr style=\"text-align: right;\">\n",
       "      <th></th>\n",
       "      <th>State</th>\n",
       "      <th>Year</th>\n",
       "      <th>Office</th>\n",
       "      <th>Parish</th>\n",
       "      <th>D#</th>\n",
       "      <th>R#</th>\n",
       "      <th>Proh.#</th>\n",
       "      <th>Prog.#</th>\n",
       "      <th>Pop.#</th>\n",
       "      <th>S#</th>\n",
       "      <th>...</th>\n",
       "      <th>BD#</th>\n",
       "      <th>Solid.#</th>\n",
       "      <th>BON#</th>\n",
       "      <th>CUP</th>\n",
       "      <th>S&amp;L#</th>\n",
       "      <th>C#</th>\n",
       "      <th>F&amp;P#</th>\n",
       "      <th>LLC#</th>\n",
       "      <th>Unity#</th>\n",
       "      <th>Gold#</th>\n",
       "    </tr>\n",
       "  </thead>\n",
       "  <tbody>\n",
       "    <tr>\n",
       "      <th>0</th>\n",
       "      <td>Louisiana</td>\n",
       "      <td>1912</td>\n",
       "      <td>President</td>\n",
       "      <td>Acadia</td>\n",
       "      <td>1147.0</td>\n",
       "      <td>51.0</td>\n",
       "      <td>NaN</td>\n",
       "      <td>164.0</td>\n",
       "      <td>NaN</td>\n",
       "      <td>166.0</td>\n",
       "      <td>...</td>\n",
       "      <td>NaN</td>\n",
       "      <td>NaN</td>\n",
       "      <td>NaN</td>\n",
       "      <td>NaN</td>\n",
       "      <td>NaN</td>\n",
       "      <td>NaN</td>\n",
       "      <td>NaN</td>\n",
       "      <td>NaN</td>\n",
       "      <td>NaN</td>\n",
       "      <td>NaN</td>\n",
       "    </tr>\n",
       "    <tr>\n",
       "      <th>1</th>\n",
       "      <td>Louisiana</td>\n",
       "      <td>1912</td>\n",
       "      <td>President</td>\n",
       "      <td>Ascension</td>\n",
       "      <td>413.0</td>\n",
       "      <td>64.0</td>\n",
       "      <td>NaN</td>\n",
       "      <td>135.0</td>\n",
       "      <td>NaN</td>\n",
       "      <td>12.0</td>\n",
       "      <td>...</td>\n",
       "      <td>NaN</td>\n",
       "      <td>NaN</td>\n",
       "      <td>NaN</td>\n",
       "      <td>NaN</td>\n",
       "      <td>NaN</td>\n",
       "      <td>NaN</td>\n",
       "      <td>NaN</td>\n",
       "      <td>NaN</td>\n",
       "      <td>NaN</td>\n",
       "      <td>NaN</td>\n",
       "    </tr>\n",
       "    <tr>\n",
       "      <th>2</th>\n",
       "      <td>Louisiana</td>\n",
       "      <td>1912</td>\n",
       "      <td>President</td>\n",
       "      <td>Assumption</td>\n",
       "      <td>423.0</td>\n",
       "      <td>149.0</td>\n",
       "      <td>NaN</td>\n",
       "      <td>171.0</td>\n",
       "      <td>NaN</td>\n",
       "      <td>1.0</td>\n",
       "      <td>...</td>\n",
       "      <td>NaN</td>\n",
       "      <td>NaN</td>\n",
       "      <td>NaN</td>\n",
       "      <td>NaN</td>\n",
       "      <td>NaN</td>\n",
       "      <td>NaN</td>\n",
       "      <td>NaN</td>\n",
       "      <td>NaN</td>\n",
       "      <td>NaN</td>\n",
       "      <td>NaN</td>\n",
       "    </tr>\n",
       "    <tr>\n",
       "      <th>3</th>\n",
       "      <td>Louisiana</td>\n",
       "      <td>1912</td>\n",
       "      <td>President</td>\n",
       "      <td>Avoyelles</td>\n",
       "      <td>949.0</td>\n",
       "      <td>38.0</td>\n",
       "      <td>NaN</td>\n",
       "      <td>36.0</td>\n",
       "      <td>NaN</td>\n",
       "      <td>116.0</td>\n",
       "      <td>...</td>\n",
       "      <td>NaN</td>\n",
       "      <td>NaN</td>\n",
       "      <td>NaN</td>\n",
       "      <td>NaN</td>\n",
       "      <td>NaN</td>\n",
       "      <td>NaN</td>\n",
       "      <td>NaN</td>\n",
       "      <td>NaN</td>\n",
       "      <td>NaN</td>\n",
       "      <td>NaN</td>\n",
       "    </tr>\n",
       "    <tr>\n",
       "      <th>4</th>\n",
       "      <td>Louisiana</td>\n",
       "      <td>1912</td>\n",
       "      <td>President</td>\n",
       "      <td>Bienville</td>\n",
       "      <td>822.0</td>\n",
       "      <td>8.0</td>\n",
       "      <td>NaN</td>\n",
       "      <td>34.0</td>\n",
       "      <td>NaN</td>\n",
       "      <td>141.0</td>\n",
       "      <td>...</td>\n",
       "      <td>NaN</td>\n",
       "      <td>NaN</td>\n",
       "      <td>NaN</td>\n",
       "      <td>NaN</td>\n",
       "      <td>NaN</td>\n",
       "      <td>NaN</td>\n",
       "      <td>NaN</td>\n",
       "      <td>NaN</td>\n",
       "      <td>NaN</td>\n",
       "      <td>NaN</td>\n",
       "    </tr>\n",
       "  </tbody>\n",
       "</table>\n",
       "<p>5 rows × 78 columns</p>\n",
       "</div>"
      ],
      "text/plain": [
       "       State  Year     Office      Parish      D#     R#  Proh.#  Prog.#  \\\n",
       "0  Louisiana  1912  President      Acadia  1147.0   51.0     NaN   164.0   \n",
       "1  Louisiana  1912  President   Ascension   413.0   64.0     NaN   135.0   \n",
       "2  Louisiana  1912  President  Assumption   423.0  149.0     NaN   171.0   \n",
       "3  Louisiana  1912  President   Avoyelles   949.0   38.0     NaN    36.0   \n",
       "4  Louisiana  1912  President   Bienville   822.0    8.0     NaN    34.0   \n",
       "\n",
       "   Pop.#     S#  ...  BD#  Solid.#  BON#  CUP  S&L#  C#  F&P#  LLC#  Unity#  \\\n",
       "0    NaN  166.0  ...  NaN      NaN   NaN  NaN   NaN NaN   NaN   NaN     NaN   \n",
       "1    NaN   12.0  ...  NaN      NaN   NaN  NaN   NaN NaN   NaN   NaN     NaN   \n",
       "2    NaN    1.0  ...  NaN      NaN   NaN  NaN   NaN NaN   NaN   NaN     NaN   \n",
       "3    NaN  116.0  ...  NaN      NaN   NaN  NaN   NaN NaN   NaN   NaN     NaN   \n",
       "4    NaN  141.0  ...  NaN      NaN   NaN  NaN   NaN NaN   NaN   NaN     NaN   \n",
       "\n",
       "   Gold#  \n",
       "0    NaN  \n",
       "1    NaN  \n",
       "2    NaN  \n",
       "3    NaN  \n",
       "4    NaN  \n",
       "\n",
       "[5 rows x 78 columns]"
      ]
     },
     "execution_count": 2,
     "metadata": {},
     "output_type": "execute_result"
    }
   ],
   "source": [
    "#Read in Louisiana election data\n",
    "la_votes = pd.read_csv('../ElectionData/Louisiana.csv', low_memory=False)\n",
    "la_votes.head()"
   ]
  },
  {
   "cell_type": "code",
   "execution_count": 3,
   "metadata": {},
   "outputs": [
    {
     "name": "stdout",
     "output_type": "stream",
     "text": [
      "<class 'pandas.core.frame.DataFrame'>\n",
      "RangeIndex: 5052 entries, 0 to 5051\n",
      "Data columns (total 78 columns):\n",
      " #   Column       Non-Null Count  Dtype  \n",
      "---  ------       --------------  -----  \n",
      " 0   State        5052 non-null   object \n",
      " 1   Year         5052 non-null   int64  \n",
      " 2   Office       5052 non-null   object \n",
      " 3   Parish       5052 non-null   object \n",
      " 4   D#           1788 non-null   float64\n",
      " 5   R#           1788 non-null   float64\n",
      " 6   Proh.#       128 non-null    float64\n",
      " 7   Prog.#       125 non-null    float64\n",
      " 8   Pop.#        128 non-null    float64\n",
      " 9   S#           124 non-null    float64\n",
      " 10  UP#          191 non-null    float64\n",
      " 11  T#           64 non-null     float64\n",
      " 12  AI#          704 non-null    float64\n",
      " 13  SW#          576 non-null    float64\n",
      " 14  Comm.#       64 non-null     float64\n",
      " 15  I1#          960 non-null    float64\n",
      " 16  I2#          576 non-null    float64\n",
      " 17  Ref.#        256 non-null    float64\n",
      " 18  NL#          192 non-null    float64\n",
      " 19  NA#          128 non-null    float64\n",
      " 20  L#           1024 non-null   float64\n",
      " 21  G#           320 non-null    float64\n",
      " 22  S&L          128 non-null    float64\n",
      " 23  PWF#         64 non-null     float64\n",
      " 24  BL#          64 non-null     float64\n",
      " 25  Cit.#        128 non-null    float64\n",
      " 26  Nom.#        64 non-null     float64\n",
      " 27  MPD#         0 non-null      float64\n",
      " 28  JIA#         64 non-null     float64\n",
      " 29  ER#          128 non-null    float64\n",
      " 30  AF#          64 non-null     float64\n",
      " 31  LEC#         64 non-null     float64\n",
      " 32  WW#          64 non-null     float64\n",
      " 33  EJO#         64 non-null     float64\n",
      " 34  W/I#         448 non-null    float64\n",
      " 35  CCS#         64 non-null     float64\n",
      " 36  Vet.#        64 non-null     float64\n",
      " 37  LFC#         64 non-null     float64\n",
      " 38  IOC#         64 non-null     float64\n",
      " 39  LTC#         64 non-null     float64\n",
      " 40  SE#          64 non-null     float64\n",
      " 41  O1#          384 non-null    float64\n",
      " 42  O2#          256 non-null    float64\n",
      " 43  O3#          192 non-null    float64\n",
      " 44  O4#          192 non-null    float64\n",
      " 45  O5#          64 non-null     float64\n",
      " 46  O6#          64 non-null     float64\n",
      " 47  O7#          64 non-null     float64\n",
      " 48  D1#          3008 non-null   float64\n",
      " 49  D2#          1018 non-null   float64\n",
      " 50  D3#          512 non-null    float64\n",
      " 51  D4#          384 non-null    float64\n",
      " 52  D5#          64 non-null     float64\n",
      " 53  R1#          2886 non-null   float64\n",
      " 54  R2#          896 non-null    float64\n",
      " 55  I3#          320 non-null    float64\n",
      " 56  I4#          192 non-null    float64\n",
      " 57  I5#          64 non-null     float64\n",
      " 58  I6#          0 non-null      float64\n",
      " 59  I7#          0 non-null      float64\n",
      " 60  I8#          0 non-null      float64\n",
      " 61  D5#.1        192 non-null    float64\n",
      " 62  D6#          128 non-null    float64\n",
      " 63  D7#          64 non-null     float64\n",
      " 64  R3#          186 non-null    float64\n",
      " 65  O#           70 non-null     float64\n",
      " 66  Unnamed: 13  58 non-null     float64\n",
      " 67  Unnamed: 14  15 non-null     float64\n",
      " 68  BD#          64 non-null     float64\n",
      " 69  Solid.#      64 non-null     float64\n",
      " 70  BON#         64 non-null     float64\n",
      " 71  CUP          64 non-null     float64\n",
      " 72  S&L#         64 non-null     float64\n",
      " 73  C#           64 non-null     float64\n",
      " 74  F&P#         64 non-null     float64\n",
      " 75  LLC#         64 non-null     float64\n",
      " 76  Unity#       64 non-null     float64\n",
      " 77  Gold#        64 non-null     float64\n",
      "dtypes: float64(74), int64(1), object(3)\n",
      "memory usage: 3.0+ MB\n"
     ]
    }
   ],
   "source": [
    "#Louisiana column info\n",
    "la_votes.info()"
   ]
  },
  {
   "cell_type": "code",
   "execution_count": 4,
   "metadata": {},
   "outputs": [],
   "source": [
    "#Fill NaN votes with zeroes\n",
    "la_votes = la_votes.fillna(0)"
   ]
  },
  {
   "cell_type": "code",
   "execution_count": 5,
   "metadata": {},
   "outputs": [],
   "source": [
    "#Convert year to numeric\n",
    "la_votes['Year'] = pd.to_numeric(la_votes['Year'])"
   ]
  },
  {
   "cell_type": "code",
   "execution_count": 6,
   "metadata": {},
   "outputs": [],
   "source": [
    "#Make Total Votes column\n",
    "la_votes.loc[:,'Total Votes'] = (la_votes.sum(axis=1)) - la_votes['Year']"
   ]
  },
  {
   "cell_type": "code",
   "execution_count": 7,
   "metadata": {},
   "outputs": [],
   "source": [
    "#Filter rows with election results for president\n",
    "la_pres = la_votes[la_votes['Office'] == 'President']"
   ]
  },
  {
   "cell_type": "code",
   "execution_count": 8,
   "metadata": {},
   "outputs": [],
   "source": [
    "#Drop office column\n",
    "la_pres = la_pres.drop('Office', axis = 1)"
   ]
  },
  {
   "cell_type": "code",
   "execution_count": 9,
   "metadata": {},
   "outputs": [],
   "source": [
    "#Convert year to numeric\n",
    "la_pres['Year'] = pd.to_numeric(la_pres['Year'])"
   ]
  },
  {
   "cell_type": "code",
   "execution_count": 10,
   "metadata": {},
   "outputs": [],
   "source": [
    "#Percentage of Democratic votes\n",
    "la_pres['PCT_DEM'] = (round(la_pres['D#']/la_pres['Total Votes'],4))*100"
   ]
  },
  {
   "cell_type": "code",
   "execution_count": 11,
   "metadata": {},
   "outputs": [],
   "source": [
    "#Percentage of Republican votes\n",
    "la_pres['PCT_REP'] = (round(la_pres['R#']/la_pres['Total Votes'],4))*100"
   ]
  },
  {
   "cell_type": "code",
   "execution_count": 12,
   "metadata": {},
   "outputs": [],
   "source": [
    "#Difference between Democratic and Republican votes\n",
    "la_pres['RD_DIFF'] = la_pres['PCT_REP'] - la_pres['PCT_DEM']"
   ]
  },
  {
   "cell_type": "code",
   "execution_count": 13,
   "metadata": {},
   "outputs": [],
   "source": [
    "#Isolate state, year, parish, and D/R difference\n",
    "la_pres_pct = la_pres[['State', 'Year', 'Parish', 'RD_DIFF']]"
   ]
  },
  {
   "cell_type": "code",
   "execution_count": 14,
   "metadata": {},
   "outputs": [],
   "source": [
    "#Filter the presidential results from 2020\n",
    "la_pres_pct_2020 = la_pres_pct[la_pres_pct['Year'] == 2020]"
   ]
  },
  {
   "cell_type": "code",
   "execution_count": 15,
   "metadata": {},
   "outputs": [],
   "source": [
    "#Parishes on US Route 190\n",
    "la_parishes = ['Beauregard', 'Allen', 'Jefferson Davis', 'Acadia', 'Evangeline', 'Saint Landry', 'Pointe Coupee', 'West Baton Rouge', 'East Baton Rouge', 'Livingston', 'Tangipahoa', 'Saint Tammany']"
   ]
  },
  {
   "cell_type": "code",
   "execution_count": 16,
   "metadata": {},
   "outputs": [
    {
     "data": {
      "text/plain": [
       "Index(['State', 'Year', 'Office', 'County', 'D#', 'R#', 'Prog.#', 'S#',\n",
       "       'Proh.#', 'SL#', 'SW#', 'Am.#', 'B&T#', 'TX Reg.#', 'I#', 'Ref.#',\n",
       "       'NL#', 'G#', 'L#', 'NA#', 'W/I1#', 'W/I2#', 'W/I3#', 'W/I4#', 'W/I5#',\n",
       "       'W/I6#', 'W/I7#', 'W/I8#', 'C#', 'W/I#', 'LRU#', 'I1#', 'I2#',\n",
       "       'Year / Office'],\n",
       "      dtype='object')"
      ]
     },
     "execution_count": 16,
     "metadata": {},
     "output_type": "execute_result"
    }
   ],
   "source": [
    "#Repeat for Texas\n",
    "\n",
    "tx_vote = pd.read_csv('../ElectionData/Texas.csv', low_memory=False)\n",
    "\n",
    "tx_vote.columns"
   ]
  },
  {
   "cell_type": "code",
   "execution_count": 17,
   "metadata": {},
   "outputs": [
    {
     "data": {
      "text/plain": [
       "array([1912., 1916., 1920., 1924., 1928., 1932., 1936., 1940., 1944.,\n",
       "       1948., 1952., 1956., 1960., 1964., 1968., 1972., 1976., 1980.,\n",
       "       1984., 1988., 1992., 1996., 2000., 2004., 2008., 2012., 2016.,\n",
       "       1966., 1990., 1993., 1994., 2002., 2006., 2014., 2018., 1978.,\n",
       "       1998., 2010.,   nan, 2020.])"
      ]
     },
     "execution_count": 17,
     "metadata": {},
     "output_type": "execute_result"
    }
   ],
   "source": [
    "tx_vote['Year'].unique()"
   ]
  },
  {
   "cell_type": "code",
   "execution_count": 18,
   "metadata": {},
   "outputs": [],
   "source": [
    "tx_votes = pd.DataFrame(tx_vote[tx_vote.Year == 2020])\n",
    "tx_votes = tx_votes.fillna(0)\n",
    "tx_votes['Year'] = pd.to_numeric(tx_votes['Year'])\n",
    "tx_votes.loc[:,'Total Votes'] = (tx_votes.sum(axis=1)) - tx_votes['Year']\n",
    "tx_pres = tx_votes[tx_votes['Office'] == 'President']\n",
    "tx_pres = tx_pres.drop('Office', axis = 1)\n",
    "tx_pres['Year'] = pd.to_numeric(tx_pres['Year'])\n",
    "tx_pres['PCT_DEM'] = (round(tx_pres['D#']/tx_pres['Total Votes'],4))*100\n",
    "tx_pres['PCT_REP'] = (round(tx_pres['R#']/tx_pres['Total Votes'],4))*100\n",
    "tx_pres['RD_DIFF'] = tx_pres['PCT_REP'] - tx_pres['PCT_DEM']\n",
    "tx_pres_pct = tx_pres[['State', 'Year', 'County', 'RD_DIFF']]\n",
    "tx_counties = ['Pecos', 'Crockett', 'Schleicher', 'Menard', 'McCulloch', 'San Saba', 'Lampasas', 'Coryell', 'Bell', 'Milam', 'Robertson', 'Brazos', 'Madison', 'Walker', 'San Jacinto', 'Polk', 'Tyler', 'Jasper', 'Newton']"
   ]
  },
  {
   "cell_type": "markdown",
   "metadata": {},
   "source": [
    "Now find the margins from each parish/county."
   ]
  },
  {
   "cell_type": "code",
   "execution_count": 19,
   "metadata": {},
   "outputs": [
    {
     "name": "stdout",
     "output_type": "stream",
     "text": [
      "          State  Year      Parish  RD_DIFF\n",
      "4929  Louisiana  2020  Beauregard    67.45\n",
      "          State  Year Parish  RD_DIFF\n",
      "4925  Louisiana  2020  Allen    55.72\n",
      "          State  Year           Parish  RD_DIFF\n",
      "4950  Louisiana  2020  Jefferson Davis    55.35\n",
      "          State  Year  Parish  RD_DIFF\n",
      "4924  Louisiana  2020  Acadia    60.34\n",
      "          State  Year      Parish  RD_DIFF\n",
      "4943  Louisiana  2020  Evangeline    44.74\n",
      "          State  Year        Parish  RD_DIFF\n",
      "4972  Louisiana  2020  Saint Landry    14.09\n",
      "          State  Year         Parish  RD_DIFF\n",
      "4962  Louisiana  2020  Pointe Coupee     22.8\n",
      "          State  Year            Parish  RD_DIFF\n",
      "4984  Louisiana  2020  West Baton Rouge    10.53\n",
      "          State  Year            Parish  RD_DIFF\n",
      "4940  Louisiana  2020  East Baton Rouge   -13.05\n",
      "          State  Year      Parish  RD_DIFF\n",
      "4955  Louisiana  2020  Livingston    69.95\n",
      "          State  Year      Parish  RD_DIFF\n",
      "4976  Louisiana  2020  Tangipahoa    32.81\n",
      "          State  Year         Parish  RD_DIFF\n",
      "4975  Louisiana  2020  Saint Tammany    44.19\n"
     ]
    }
   ],
   "source": [
    "for p in la_parishes:\n",
    "    print(la_pres_pct_2020[la_pres_pct_2020['Parish'] == p])"
   ]
  },
  {
   "cell_type": "code",
   "execution_count": 20,
   "metadata": {},
   "outputs": [
    {
     "name": "stdout",
     "output_type": "stream",
     "text": [
      "       State    Year County  RD_DIFF\n",
      "21762  Texas  2020.0  Pecos    39.26\n",
      "       State    Year    County  RD_DIFF\n",
      "21629  Texas  2020.0  Crockett    55.65\n",
      "       State    Year      County  RD_DIFF\n",
      "21783  Texas  2020.0  Schleicher    62.89\n",
      "       State    Year  County  RD_DIFF\n",
      "21740  Texas  2020.0  Menard     60.9\n",
      "       State    Year     County  RD_DIFF\n",
      "21730  Texas  2020.0  McCulloch    70.26\n",
      "       State    Year    County  RD_DIFF\n",
      "21782  Texas  2020.0  San Saba    77.67\n",
      "       State    Year    County  RD_DIFF\n",
      "21717  Texas  2020.0  Lampasas    57.14\n",
      "       State    Year   County  RD_DIFF\n",
      "21626  Texas  2020.0  Coryell    33.51\n",
      "       State    Year County  RD_DIFF\n",
      "21590  Texas  2020.0   Bell     8.52\n",
      "       State    Year County  RD_DIFF\n",
      "21742  Texas  2020.0  Milam    51.88\n",
      "       State    Year     County  RD_DIFF\n",
      "21774  Texas  2020.0  Robertson     40.4\n",
      "       State    Year  County  RD_DIFF\n",
      "21597  Texas  2020.0  Brazos    14.32\n",
      "       State    Year   County  RD_DIFF\n",
      "21733  Texas  2020.0  Madison    58.15\n",
      "       State    Year  County  RD_DIFF\n",
      "21812  Texas  2020.0  Walker    31.73\n",
      "       State    Year       County  RD_DIFF\n",
      "21780  Texas  2020.0  San Jacinto     61.9\n",
      "       State    Year County  RD_DIFF\n",
      "21763  Texas  2020.0   Polk    54.52\n",
      "       State    Year County  RD_DIFF\n",
      "21805  Texas  2020.0  Tyler     70.3\n",
      "       State    Year  County  RD_DIFF\n",
      "21697  Texas  2020.0  Jasper    61.42\n",
      "       State    Year  County  RD_DIFF\n",
      "21752  Texas  2020.0  Newton    60.86\n"
     ]
    }
   ],
   "source": [
    "for c in tx_counties:\n",
    "    print(tx_pres_pct[tx_pres_pct['County'] == c])"
   ]
  },
  {
   "cell_type": "code",
   "execution_count": null,
   "metadata": {},
   "outputs": [],
   "source": []
  }
 ],
 "metadata": {
  "kernelspec": {
   "display_name": "Python 3",
   "language": "python",
   "name": "python3"
  },
  "language_info": {
   "codemirror_mode": {
    "name": "ipython",
    "version": 3
   },
   "file_extension": ".py",
   "mimetype": "text/x-python",
   "name": "python",
   "nbconvert_exporter": "python",
   "pygments_lexer": "ipython3",
   "version": "3.8.5"
  }
 },
 "nbformat": 4,
 "nbformat_minor": 4
}
