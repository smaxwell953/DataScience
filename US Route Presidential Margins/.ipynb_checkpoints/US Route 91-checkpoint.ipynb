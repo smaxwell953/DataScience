{
 "cells": [
  {
   "cell_type": "markdown",
   "metadata": {},
   "source": [
    "<h2>Calculating 2020 Presidential Margins Along U.S. Route 91</h2>"
   ]
  },
  {
   "cell_type": "code",
   "execution_count": 1,
   "metadata": {},
   "outputs": [],
   "source": [
    "#Import relevant libraries\n",
    "import numpy as np\n",
    "import pandas as pd\n",
    "import warnings\n",
    "warnings.filterwarnings(\"ignore\")"
   ]
  },
  {
   "cell_type": "code",
   "execution_count": 22,
   "metadata": {},
   "outputs": [],
   "source": [
    "#Utah\n",
    "ut_votes = pd.read_csv('../ElectionData/Utah.csv', low_memory=False)\n",
    "ut_votes = ut_votes.fillna(0)\n",
    "ut_votes['Year'] = pd.to_numeric(ut_votes['Year'])\n",
    "ut_votes.loc[:,'Total Votes'] = (ut_votes.sum(axis=1)) - ut_votes['Year']\n",
    "ut_pres = ut_votes[ut_votes['Office'] == 'President']\n",
    "ut_pres = ut_pres.drop('Office', axis = 1)\n",
    "ut_pres['Year'] = pd.to_numeric(ut_pres['Year'])\n",
    "ut_pres['PCT_DEM'] = (round(ut_pres['D#']/ut_pres['Total Votes'],4))*100\n",
    "ut_pres['PCT_REP'] = (round(ut_pres['R#']/ut_pres['Total Votes'],4))*100\n",
    "ut_pres['RD_DIFF'] = ut_pres['PCT_REP'] - ut_pres['PCT_DEM']\n",
    "ut_pres_pct = ut_pres[['State', 'Year', 'County', 'RD_DIFF']]\n",
    "ut_pres_pct_2020 = ut_pres_pct[ut_pres_pct['Year'] == 2020]\n",
    "ut_counties = ['Box Elder', 'Cache']"
   ]
  },
  {
   "cell_type": "code",
   "execution_count": 23,
   "metadata": {},
   "outputs": [],
   "source": [
    "#Idaho\n",
    "id_votes = pd.read_csv('../ElectionData/Idaho.csv', low_memory=False)\n",
    "id_votes = id_votes.fillna(0)\n",
    "id_votes['Year'] = pd.to_numeric(id_votes['Year'])\n",
    "id_votes.loc[:,'Total Votes'] = (id_votes.sum(axis=1)) - id_votes['Year']\n",
    "id_pres = id_votes[id_votes['Office'] == 'President']\n",
    "id_pres = id_pres.drop('Office', axis = 1)\n",
    "id_pres['Year'] = pd.to_numeric(id_pres['Year'])\n",
    "id_pres['PCT_DEM'] = (round(id_pres['D#']/id_pres['Total Votes'],4))*100\n",
    "id_pres['PCT_REP'] = (round(id_pres['R#']/id_pres['Total Votes'],4))*100\n",
    "id_pres['RD_DIFF'] = id_pres['PCT_REP'] - id_pres['PCT_DEM']\n",
    "id_pres_pct = id_pres[['State', 'Year', 'County', 'RD_DIFF']]\n",
    "id_pres_pct_2020 = id_pres_pct[id_pres_pct['Year'] == 2020]\n",
    "id_counties = ['Bannock', 'Bingham', 'Bonneville', 'Franklin']"
   ]
  },
  {
   "cell_type": "markdown",
   "metadata": {},
   "source": [
    "Now find the margins from each parish/county."
   ]
  },
  {
   "cell_type": "code",
   "execution_count": 30,
   "metadata": {},
   "outputs": [
    {
     "name": "stdout",
     "output_type": "stream",
     "text": [
      "            State  Year       County  RD_DIFF\n",
      "7922  Mississippi  2020  Pearl River    64.27\n",
      "            State  Year County  RD_DIFF\n",
      "7904  Mississippi  2020  Lamar    46.84\n",
      "            State  Year   County  RD_DIFF\n",
      "7885  Mississippi  2020  Forrest    11.17\n",
      "            State  Year County  RD_DIFF\n",
      "7901  Mississippi  2020  Jones    42.24\n",
      "            State  Year  County  RD_DIFF\n",
      "7898  Mississippi  2020  Jasper    -0.45\n",
      "            State  Year  County  RD_DIFF\n",
      "7879  Mississippi  2020  Clarke    30.93\n",
      "            State  Year      County  RD_DIFF\n",
      "7905  Mississippi  2020  Lauderdale    16.02\n"
     ]
    }
   ],
   "source": [
    "for c in ut_counties:\n",
    "    print(ut_pres_pct_2020[ut_pres_pct_2020['County'] == c])"
   ]
  },
  {
   "cell_type": "code",
   "execution_count": 31,
   "metadata": {},
   "outputs": [
    {
     "name": "stdout",
     "output_type": "stream",
     "text": [
      "        State  Year  County  RD_DIFF\n",
      "8099  Alabama  2020  Sumter   -48.48\n",
      "        State  Year  County  RD_DIFF\n",
      "8071  Alabama  2020  Greene   -63.02\n",
      "        State  Year      County  RD_DIFF\n",
      "8102  Alabama  2020  Tuscaloosa    14.81\n",
      "        State  Year County  RD_DIFF\n",
      "8043  Alabama  2020   Bibb    57.73\n",
      "        State  Year     County  RD_DIFF\n",
      "8076  Alabama  2020  Jefferson   -13.15\n",
      "        State  Year       County  RD_DIFF\n",
      "8097  Alabama  2020  Saint Clair    63.95\n",
      "        State  Year  County  RD_DIFF\n",
      "8067  Alabama  2020  Etowah     50.2\n",
      "        State  Year  County  RD_DIFF\n",
      "8064  Alabama  2020  DeKalb    69.79\n"
     ]
    }
   ],
   "source": [
    "for c in id_counties:\n",
    "    print(id_pres_pct_2020[id_pres_pct_2020['County'] == c])"
   ]
  }
 ],
 "metadata": {
  "kernelspec": {
   "display_name": "Python 3",
   "language": "python",
   "name": "python3"
  },
  "language_info": {
   "codemirror_mode": {
    "name": "ipython",
    "version": 3
   },
   "file_extension": ".py",
   "mimetype": "text/x-python",
   "name": "python",
   "nbconvert_exporter": "python",
   "pygments_lexer": "ipython3",
   "version": "3.8.5"
  }
 },
 "nbformat": 4,
 "nbformat_minor": 4
}
