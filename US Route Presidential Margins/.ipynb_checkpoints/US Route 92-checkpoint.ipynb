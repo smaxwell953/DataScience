{
 "cells": [
  {
   "cell_type": "markdown",
   "metadata": {},
   "source": [
    "<h2>Calculating 2020 Presidential Margins Along U.S. Route 92</h2>"
   ]
  },
  {
   "cell_type": "code",
   "execution_count": 1,
   "metadata": {},
   "outputs": [],
   "source": [
    "#Import relevant libraries\n",
    "import numpy as np\n",
    "import pandas as pd\n",
    "import warnings\n",
    "warnings.filterwarnings(\"ignore\")"
   ]
  },
  {
   "cell_type": "code",
   "execution_count": 16,
   "metadata": {},
   "outputs": [
    {
     "data": {
      "text/plain": [
       "Index(['State', 'Year', 'Office', 'County', 'D#', 'R#', 'Prog.#', 'S#',\n",
       "       'Proh.#', 'SL#', 'SW#', 'Am.#', 'B&T#', 'TX Reg.#', 'I#', 'Ref.#',\n",
       "       'NL#', 'G#', 'L#', 'NA#', 'W/I1#', 'W/I2#', 'W/I3#', 'W/I4#', 'W/I5#',\n",
       "       'W/I6#', 'W/I7#', 'W/I8#', 'C#', 'W/I#', 'LRU#', 'I1#', 'I2#',\n",
       "       'Year / Office'],\n",
       "      dtype='object')"
      ]
     },
     "execution_count": 16,
     "metadata": {},
     "output_type": "execute_result"
    }
   ],
   "source": [
    "#Florida data\n",
    "fl_vote = pd.read_csv('../ElectionData/Florida.csv', low_memory=False)\n",
    "fl_vote.columns"
   ]
  },
  {
   "cell_type": "code",
   "execution_count": 17,
   "metadata": {},
   "outputs": [
    {
     "data": {
      "text/plain": [
       "array([1912., 1916., 1920., 1924., 1928., 1932., 1936., 1940., 1944.,\n",
       "       1948., 1952., 1956., 1960., 1964., 1968., 1972., 1976., 1980.,\n",
       "       1984., 1988., 1992., 1996., 2000., 2004., 2008., 2012., 2016.,\n",
       "       1966., 1990., 1993., 1994., 2002., 2006., 2014., 2018., 1978.,\n",
       "       1998., 2010.,   nan, 2020.])"
      ]
     },
     "execution_count": 17,
     "metadata": {},
     "output_type": "execute_result"
    }
   ],
   "source": [
    "fl_vote['Year'].unique()"
   ]
  },
  {
   "cell_type": "code",
   "execution_count": 18,
   "metadata": {},
   "outputs": [],
   "source": [
    "fl_votes = pd.DataFrame(fl_vote[fl_vote.Year == 2020])\n",
    "fl_votes = fl_votes.fillna(0)\n",
    "fl_votes['Year'] = pd.to_numeric(fl_votes['Year'])\n",
    "fl_votes.loc[:,'Total Votes'] = (fl_votes.sum(axis=1)) - fl_votes['Year']\n",
    "fl_pres = fl_votes[fl_votes['Office'] == 'President']\n",
    "fl_pres = fl_pres.drop('Office', axis = 1)\n",
    "fl_pres['Year'] = pd.to_numeric(fl_pres['Year'])\n",
    "fl_pres['PCT_DEM'] = (round(fl_pres['D#']/fl_pres['Total Votes'],4))*100\n",
    "fl_pres['PCT_REP'] = (round(fl_pres['R#']/fl_pres['Total Votes'],4))*100\n",
    "fl_pres['RD_DIFF'] = fl_pres['PCT_REP'] - fl_pres['PCT_DEM']\n",
    "fl_pres_pct = fl_pres[['State', 'Year', 'County', 'RD_DIFF']]\n",
    "fl_counties = ['Pinellas', 'Hillsborough', 'Polk', 'Osceola', 'Orange', 'Seminole', 'Volusia']"
   ]
  },
  {
   "cell_type": "markdown",
   "metadata": {},
   "source": [
    "Now find the margins from each parish/county."
   ]
  },
  {
   "cell_type": "code",
   "execution_count": 20,
   "metadata": {},
   "outputs": [
    {
     "name": "stdout",
     "output_type": "stream",
     "text": [
      "       State    Year County  RD_DIFF\n",
      "21762  Texas  2020.0  Pecos    39.26\n",
      "       State    Year    County  RD_DIFF\n",
      "21629  Texas  2020.0  Crockett    55.65\n",
      "       State    Year      County  RD_DIFF\n",
      "21783  Texas  2020.0  Schleicher    62.89\n",
      "       State    Year  County  RD_DIFF\n",
      "21740  Texas  2020.0  Menard     60.9\n",
      "       State    Year     County  RD_DIFF\n",
      "21730  Texas  2020.0  McCulloch    70.26\n",
      "       State    Year    County  RD_DIFF\n",
      "21782  Texas  2020.0  San Saba    77.67\n",
      "       State    Year    County  RD_DIFF\n",
      "21717  Texas  2020.0  Lampasas    57.14\n",
      "       State    Year   County  RD_DIFF\n",
      "21626  Texas  2020.0  Coryell    33.51\n",
      "       State    Year County  RD_DIFF\n",
      "21590  Texas  2020.0   Bell     8.52\n",
      "       State    Year County  RD_DIFF\n",
      "21742  Texas  2020.0  Milam    51.88\n",
      "       State    Year     County  RD_DIFF\n",
      "21774  Texas  2020.0  Robertson     40.4\n",
      "       State    Year  County  RD_DIFF\n",
      "21597  Texas  2020.0  Brazos    14.32\n",
      "       State    Year   County  RD_DIFF\n",
      "21733  Texas  2020.0  Madison    58.15\n",
      "       State    Year  County  RD_DIFF\n",
      "21812  Texas  2020.0  Walker    31.73\n",
      "       State    Year       County  RD_DIFF\n",
      "21780  Texas  2020.0  San Jacinto     61.9\n",
      "       State    Year County  RD_DIFF\n",
      "21763  Texas  2020.0   Polk    54.52\n",
      "       State    Year County  RD_DIFF\n",
      "21805  Texas  2020.0  Tyler     70.3\n",
      "       State    Year  County  RD_DIFF\n",
      "21697  Texas  2020.0  Jasper    61.42\n",
      "       State    Year  County  RD_DIFF\n",
      "21752  Texas  2020.0  Newton    60.86\n"
     ]
    }
   ],
   "source": [
    "for c in fl_counties:\n",
    "    print(fl_pres_pct[fl_pres_pct['County'] == c])"
   ]
  },
  {
   "cell_type": "code",
   "execution_count": null,
   "metadata": {},
   "outputs": [],
   "source": []
  }
 ],
 "metadata": {
  "kernelspec": {
   "display_name": "Python 3",
   "language": "python",
   "name": "python3"
  },
  "language_info": {
   "codemirror_mode": {
    "name": "ipython",
    "version": 3
   },
   "file_extension": ".py",
   "mimetype": "text/x-python",
   "name": "python",
   "nbconvert_exporter": "python",
   "pygments_lexer": "ipython3",
   "version": "3.8.5"
  }
 },
 "nbformat": 4,
 "nbformat_minor": 4
}
