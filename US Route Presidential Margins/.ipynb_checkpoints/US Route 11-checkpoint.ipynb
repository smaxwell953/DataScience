{
 "cells": [
  {
   "cell_type": "markdown",
   "metadata": {},
   "source": [
    "<h2>Calculating 2020 Presidential Margins Along U.S. Route 11</h2>"
   ]
  },
  {
   "cell_type": "code",
   "execution_count": null,
   "metadata": {},
   "outputs": [],
   "source": [
    "#Import relevant libraries\n",
    "import numpy as np\n",
    "import pandas as pd\n",
    "import warnings\n",
    "warnings.filterwarnings(\"ignore\")"
   ]
  },
  {
   "cell_type": "code",
   "execution_count": null,
   "metadata": {},
   "outputs": [],
   "source": [
    "#Read in Louisiana election data\n",
    "la_votes = pd.read_csv('../ElectionData/Louisiana.csv', low_memory=False)\n",
    "la_votes.head()"
   ]
  },
  {
   "cell_type": "code",
   "execution_count": null,
   "metadata": {},
   "outputs": [],
   "source": [
    "#Louisiana column info\n",
    "la_votes.info()"
   ]
  },
  {
   "cell_type": "code",
   "execution_count": null,
   "metadata": {},
   "outputs": [],
   "source": [
    "#Fill NaN votes with zeroes\n",
    "la_votes = la_votes.fillna(0)"
   ]
  },
  {
   "cell_type": "code",
   "execution_count": null,
   "metadata": {},
   "outputs": [],
   "source": [
    "#Convert year to numeric\n",
    "la_votes['Year'] = pd.to_numeric(la_votes['Year'])"
   ]
  },
  {
   "cell_type": "code",
   "execution_count": null,
   "metadata": {},
   "outputs": [],
   "source": [
    "#Make Total Votes column\n",
    "la_votes.loc[:,'Total Votes'] = (la_votes.sum(axis=1)) - la_votes['Year']"
   ]
  },
  {
   "cell_type": "code",
   "execution_count": null,
   "metadata": {},
   "outputs": [],
   "source": [
    "#Filter rows with election results for president\n",
    "la_pres = la_votes[la_votes['Office'] == 'President']"
   ]
  },
  {
   "cell_type": "code",
   "execution_count": null,
   "metadata": {},
   "outputs": [],
   "source": [
    "#Drop office column\n",
    "la_pres = la_pres.drop('Office', axis = 1)"
   ]
  },
  {
   "cell_type": "code",
   "execution_count": null,
   "metadata": {},
   "outputs": [],
   "source": [
    "#Convert year to numeric\n",
    "la_pres['Year'] = pd.to_numeric(la_pres['Year'])"
   ]
  },
  {
   "cell_type": "code",
   "execution_count": null,
   "metadata": {},
   "outputs": [],
   "source": [
    "#Percentage of Democratic votes\n",
    "la_pres['PCT_DEM'] = (round(la_pres['D#']/la_pres['Total Votes'],4))*100"
   ]
  },
  {
   "cell_type": "code",
   "execution_count": null,
   "metadata": {},
   "outputs": [],
   "source": [
    "#Percentage of Republican votes\n",
    "la_pres['PCT_REP'] = (round(la_pres['R#']/la_pres['Total Votes'],4))*100"
   ]
  },
  {
   "cell_type": "code",
   "execution_count": null,
   "metadata": {},
   "outputs": [],
   "source": [
    "#Difference between Democratic and Republican votes\n",
    "la_pres['RD_DIFF'] = la_pres['PCT_REP'] - la_pres['PCT_DEM']"
   ]
  },
  {
   "cell_type": "code",
   "execution_count": null,
   "metadata": {},
   "outputs": [],
   "source": [
    "#Isolate state, year, parish, and D/R difference\n",
    "la_pres_pct = la_pres[['State', 'Year', 'Parish', 'RD_DIFF']]"
   ]
  },
  {
   "cell_type": "code",
   "execution_count": null,
   "metadata": {},
   "outputs": [],
   "source": [
    "#Filter the presidential results from 2020\n",
    "la_pres_pct_2020 = la_pres_pct[la_pres_pct['Year'] == 2020]"
   ]
  },
  {
   "cell_type": "code",
   "execution_count": null,
   "metadata": {},
   "outputs": [],
   "source": [
    "#Parishes on US Route 11\n",
    "la_parishes = ['Orleans', 'Saint Tammany']"
   ]
  },
  {
   "cell_type": "code",
   "execution_count": null,
   "metadata": {},
   "outputs": [],
   "source": [
    "#Repeat for Mississippi, with some modifications\n",
    "\n",
    "ms_vote = pd.read_csv('../ElectionData/Mississippi.csv', low_memory=False)\n",
    "\n",
    "ms_vote.columns"
   ]
  },
  {
   "cell_type": "code",
   "execution_count": null,
   "metadata": {},
   "outputs": [],
   "source": [
    "ms_vote['Year'].unique()"
   ]
  },
  {
   "cell_type": "code",
   "execution_count": null,
   "metadata": {},
   "outputs": [],
   "source": [
    "#Filter the 2020 results here rather than near the end, as an error results when trying to parse '2008S'\n",
    "\n",
    "ms_votes = pd.DataFrame(ms_vote[ms_vote.Year == '2020'])\n",
    "ms_votes = ms_votes.fillna(0)\n",
    "ms_votes['Year'] = pd.to_numeric(ms_votes['Year'])\n",
    "ms_votes.loc[:,'Total Votes'] = (ms_votes.sum(axis=1)) - ms_votes['Year']\n",
    "ms_pres = ms_votes[ms_votes['Office'] == 'President']\n",
    "ms_pres = ms_pres.drop('Office', axis = 1)\n",
    "ms_pres['Year'] = pd.to_numeric(ms_pres['Year'])\n",
    "ms_pres['PCT_DEM'] = (round(ms_pres['D#']/ms_pres['Total Votes'],4))*100\n",
    "ms_pres['PCT_REP'] = (round(ms_pres['R#']/ms_pres['Total Votes'],4))*100\n",
    "ms_pres['RD_DIFF'] = ms_pres['PCT_REP'] - ms_pres['PCT_DEM']\n",
    "ms_pres_pct = ms_pres[['State', 'Year', 'County', 'RD_DIFF']]\n",
    "ms_counties = ['Pearl River', 'Lamar', 'Forrest', 'Jones', 'Jasper', 'Clarke', 'Lauderdale']"
   ]
  },
  {
   "cell_type": "code",
   "execution_count": null,
   "metadata": {},
   "outputs": [],
   "source": [
    "al_vote = pd.read_csv('../ElectionData/Alabama.csv', low_memory=False)\n",
    "al_vote.columns"
   ]
  },
  {
   "cell_type": "code",
   "execution_count": null,
   "metadata": {},
   "outputs": [],
   "source": [
    "al_vote['Year'].unique()"
   ]
  },
  {
   "cell_type": "code",
   "execution_count": null,
   "metadata": {},
   "outputs": [],
   "source": [
    "#Filter the 2020 results here rather than near the end, as an error results when trying to parse '2017S'\n",
    "\n",
    "al_votes = pd.DataFrame(al_vote[al_vote.Year == '2020'])\n",
    "al_votes = al_votes.fillna(0)\n",
    "al_votes['Year'] = pd.to_numeric(al_votes['Year'])\n",
    "al_votes.loc[:,'Total Votes'] = (al_votes.sum(axis=1)) - al_votes['Year']\n",
    "al_pres = al_votes[al_votes['Office'] == 'President']\n",
    "al_pres = al_pres.drop('Office', axis = 1)\n",
    "al_pres['Year'] = pd.to_numeric(al_pres['Year'])\n",
    "al_pres['PCT_DEM'] = (round(al_pres['D#']/al_pres['Total Votes'],4))*100\n",
    "al_pres['PCT_REP'] = (round(al_pres['R#']/al_pres['Total Votes'],4))*100\n",
    "al_pres['RD_DIFF'] = al_pres['PCT_REP'] - al_pres['PCT_DEM']\n",
    "al_pres_pct = al_pres[['State', 'Year', 'County', 'RD_DIFF']]\n",
    "al_counties = ['Sumter', 'Greene', 'Tuscaloosa', 'Bibb', 'Jefferson', 'Saint Clair', 'Etowah', 'DeKalb']"
   ]
  },
  {
   "cell_type": "code",
   "execution_count": null,
   "metadata": {},
   "outputs": [],
   "source": [
    "#Repeat for Georgia\n",
    "ga_votes = pd.read_csv('../ElectionData/Georgia.csv', low_memory=False)\n",
    "ga_votes = ga_votes.fillna(0)\n",
    "ga_votes['Year'] = pd.to_numeric(ga_votes['Year'])\n",
    "ga_votes.loc[:,'Total Votes'] = (ga_votes.sum(axis=1)) - ga_votes['Year']\n",
    "ga_pres = ga_votes[ga_votes['Office'] == 'President']\n",
    "ga_pres = ga_pres.drop('Office', axis = 1)\n",
    "ga_pres['Year'] = pd.to_numeric(ga_pres['Year'])\n",
    "ga_pres['PCT_DEM'] = (round(ga_pres['D#']/ga_pres['Total Votes'],4))*100\n",
    "ga_pres['PCT_REP'] = (round(ga_pres['R#']/ga_pres['Total Votes'],4))*100\n",
    "ga_pres['RD_DIFF'] = ga_pres['PCT_REP'] - ga_pres['PCT_DEM']\n",
    "ga_pres_pct = ga_pres[['State', 'Year', 'County', 'RD_DIFF']]\n",
    "ga_pres_pct_2020 = ga_pres_pct[ga_pres_pct['Year'] == 2020]\n",
    "ga_counties = ['Dade']"
   ]
  },
  {
   "cell_type": "code",
   "execution_count": null,
   "metadata": {},
   "outputs": [],
   "source": [
    "#Repeat for Tennessee\n",
    "tn_votes = pd.read_csv('../ElectionData/Tennessee.csv', low_memory=False)\n",
    "tn_votes = tn_votes.fillna(0)\n",
    "tn_votes['Year'] = pd.to_numeric(tn_votes['Year'])\n",
    "tn_votes.loc[:,'Total Votes'] = (tn_votes.sum(axis=1)) - tn_votes['Year']\n",
    "tn_pres = tn_votes[tn_votes['Office'] == 'President']\n",
    "tn_pres = tn_pres.drop('Office', axis = 1)\n",
    "tn_pres['Year'] = pd.to_numeric(tn_pres['Year'])\n",
    "tn_pres['PCT_DEM'] = (round(tn_pres['D#']/tn_pres['Total Votes'],4))*100\n",
    "tn_pres['PCT_REP'] = (round(tn_pres['R#']/tn_pres['Total Votes'],4))*100\n",
    "tn_pres['RD_DIFF'] = tn_pres['PCT_REP'] - tn_pres['PCT_DEM']\n",
    "tn_pres_pct = tn_pres[['State', 'Year', 'County', 'RD_DIFF']]\n",
    "tn_pres_pct_2020 = tn_pres_pct[tn_pres_pct['Year'] == 2020]\n",
    "tn_counties = ['Bradley', 'Grainger', 'Greene', 'Hamblen', 'Hamilton', 'Hawkins', 'Jefferson', 'Knox', 'Loudon', 'McMinn', \\\n",
    "               'Monroe', 'Sullivan', 'Washington']"
   ]
  },
  {
   "cell_type": "code",
   "execution_count": null,
   "metadata": {},
   "outputs": [],
   "source": [
    "#Repeat for Virginia\n",
    "va_votes = pd.read_csv('../ElectionData/Virginia.csv', low_memory=False)\n",
    "va_votes = va_votes.fillna(0)\n",
    "va_votes['Year'] = pd.to_numeric(va_votes['Year'])\n",
    "va_votes.loc[:,'Total Votes'] = (va_votes.sum(axis=1)) - va_votes['Year']\n",
    "va_pres = va_votes[va_votes['Office'] == 'President']\n",
    "va_pres = va_pres.drop('Office', axis = 1)\n",
    "va_pres['Year'] = pd.to_numeric(va_pres['Year'])\n",
    "va_pres['PCT_DEM'] = (round(va_pres['D#']/va_pres['Total Votes'],4))*100\n",
    "va_pres['PCT_REP'] = (round(va_pres['R#']/va_pres['Total Votes'],4))*100\n",
    "va_pres['RD_DIFF'] = va_pres['PCT_REP'] - va_pres['PCT_DEM']\n",
    "va_pres_pct = va_pres[['State', 'Year', 'County/City', 'RD_DIFF']]\n",
    "va_pres_pct_2020 = va_pres_pct[va_pres_pct['Year'] == 2020]\n",
    "va_counties = ['Augusta', 'Botetourt', 'Bristol City', 'Harrisonburg City', 'Lexington City', 'Radford City', \\\n",
    "               'Roanoke City', 'Salem City', 'Staunton City', 'Winchester City', 'Frederick', 'Montgomery', 'Pulaski', \\\n",
    "               'Roanoke', 'Rockbridge', 'Rockingham', 'Shenandoah', 'Smyth', 'Warren', 'Washington', 'Wythe']"
   ]
  },
  {
   "cell_type": "code",
   "execution_count": null,
   "metadata": {},
   "outputs": [],
   "source": [
    "#Repeat for West Virginia\n",
    "wv_votes = pd.read_csv('../ElectionData/West Virginia.csv', low_memory=False)\n",
    "wv_votes = wv_votes.fillna(0)\n",
    "wv_votes['Year'] = pd.to_numeric(wv_votes['Year'])\n",
    "wv_votes.loc[:,'Total Votes'] = (wv_votes.sum(axis=1)) - wv_votes['Year']\n",
    "wv_pres = wv_votes[wv_votes['Office'] == 'President']\n",
    "wv_pres = wv_pres.drop('Office', axis = 1)\n",
    "wv_pres['Year'] = pd.to_numeric(wv_pres['Year'])\n",
    "wv_pres['PCT_DEM'] = (round(wv_pres['D#']/wv_pres['Total Votes'],4))*100\n",
    "wv_pres['PCT_REP'] = (round(wv_pres['R#']/wv_pres['Total Votes'],4))*100\n",
    "wv_pres['RD_DIFF'] = wv_pres['PCT_REP'] - wv_pres['PCT_DEM']\n",
    "wv_pres_pct = wv_pres[['State', 'Year', 'County', 'RD_DIFF']]\n",
    "wv_pres_pct_2020 = wv_pres_pct[wv_pres_pct['Year'] == 2020]\n",
    "wv_counties = ['Berkeley']"
   ]
  },
  {
   "cell_type": "code",
   "execution_count": null,
   "metadata": {},
   "outputs": [],
   "source": [
    "#Repeat for Maryland\n",
    "md_votes = pd.read_csv('../ElectionData/Maryland.csv', low_memory=False)\n",
    "md_votes = md_votes.fillna(0)\n",
    "md_votes['Year'] = pd.to_numeric(md_votes['Year'])\n",
    "md_votes.loc[:,'Total Votes'] = (md_votes.sum(axis=1)) - md_votes['Year']\n",
    "md_pres = md_votes[md_votes['Office'] == 'President']\n",
    "md_pres = md_pres.drop('Office', axis = 1)\n",
    "md_pres['Year'] = pd.to_numeric(md_pres['Year'])\n",
    "md_pres['PCT_DEM'] = (round(md_pres['D#']/md_pres['Total Votes'],4))*100\n",
    "md_pres['PCT_REP'] = (round(md_pres['R#']/md_pres['Total Votes'],4))*100\n",
    "md_pres['RD_DIFF'] = md_pres['PCT_REP'] - md_pres['PCT_DEM']\n",
    "md_pres_pct = md_pres[['State', 'Year', 'County', 'RD_DIFF']]\n",
    "md_pres_pct_2020 = md_pres_pct[md_pres_pct['Year'] == 2020]\n",
    "md_counties = ['Washington']"
   ]
  },
  {
   "cell_type": "code",
   "execution_count": null,
   "metadata": {},
   "outputs": [],
   "source": [
    "#Repeat for Pennsylvania\n",
    "pa_votes = pd.read_csv('../ElectionData/Pennsylvania.csv', low_memory=False)\n",
    "pa_votes = pa_votes.fillna(0)\n",
    "pa_votes['Year'] = pd.to_numeric(pa_votes['Year'])\n",
    "pa_votes.loc[:,'Total Votes'] = (pa_votes.sum(axis=1)) - pa_votes['Year']\n",
    "pa_pres = pa_votes[pa_votes['Office'] == 'President']\n",
    "pa_pres = pa_pres.drop('Office', axis = 1)\n",
    "pa_pres['Year'] = pd.to_numeric(pa_pres['Year'])\n",
    "pa_pres['PCT_DEM'] = (round(pa_pres['D#']/pa_pres['Total Votes'],4))*100\n",
    "pa_pres['PCT_REP'] = (round(pa_pres['R#']/pa_pres['Total Votes'],4))*100\n",
    "pa_pres['RD_DIFF'] = pa_pres['PCT_REP'] - pa_pres['PCT_DEM']\n",
    "pa_pres_pct = pa_pres[['State', 'Year', 'County', 'RD_DIFF']]\n",
    "pa_pres_pct_2020 = pa_pres_pct[pa_pres_pct['Year'] == 2020]\n",
    "pa_counties = ['Columbia', 'Cumberland', 'Dauphin', 'Franklin', 'Juniata', 'Lackawanna', 'Luzerne', 'Montour', \\\n",
    "               'Northumberland', 'Perry', 'Snyder', 'Susquehanna', 'Union', 'Wyoming']"
   ]
  },
  {
   "cell_type": "code",
   "execution_count": null,
   "metadata": {},
   "outputs": [],
   "source": [
    "#Repeat for New York\n",
    "ny_votes = pd.read_csv('../ElectionData/New York.csv', low_memory=False)\n",
    "ny_votes = ny_votes.fillna(0)\n",
    "ny_votes['Year'] = pd.to_numeric(ny_votes['Year'])\n",
    "ny_votes.loc[:,'Total Votes'] = (ny_votes.sum(axis=1)) - ny_votes['Year']\n",
    "ny_pres = ny_votes[ny_votes['Office'] == 'President']\n",
    "ny_pres = ny_pres.drop('Office', axis = 1)\n",
    "ny_pres['Year'] = pd.to_numeric(ny_pres['Year'])\n",
    "ny_pres['PCT_DEM'] = (round(ny_pres['D#']/ny_pres['Total Votes'],4))*100\n",
    "ny_pres['PCT_REP'] = (round(ny_pres['R#']/ny_pres['Total Votes'],4))*100\n",
    "ny_pres['RD_DIFF'] = ny_pres['PCT_REP'] - ny_pres['PCT_DEM']\n",
    "ny_pres_pct = ny_pres[['State', 'Year', 'County', 'RD_DIFF']]\n",
    "ny_pres_pct_2020 = ny_pres_pct[ny_pres_pct['Year'] == 2020]\n",
    "ny_counties = ['Broome', 'Cortland', 'Onondaga', 'Oswego', 'Jefferson', 'Saint Lawrence', 'Franklin', 'Clinton']"
   ]
  },
  {
   "cell_type": "markdown",
   "metadata": {},
   "source": [
    "Now find the margins from each parish/county."
   ]
  },
  {
   "cell_type": "code",
   "execution_count": null,
   "metadata": {},
   "outputs": [],
   "source": [
    "for p in la_parishes:\n",
    "    print(la_pres_pct_2020[la_pres_pct_2020['Parish'] == p])"
   ]
  },
  {
   "cell_type": "code",
   "execution_count": null,
   "metadata": {},
   "outputs": [],
   "source": [
    "for c in ms_counties:\n",
    "    print(ms_pres_pct[ms_pres_pct['County'] == c])"
   ]
  },
  {
   "cell_type": "code",
   "execution_count": null,
   "metadata": {},
   "outputs": [],
   "source": [
    "for c in al_counties:\n",
    "    print(al_pres_pct[al_pres_pct['County'] == c])"
   ]
  },
  {
   "cell_type": "code",
   "execution_count": null,
   "metadata": {},
   "outputs": [],
   "source": [
    "for c in ga_counties:\n",
    "    print(ga_pres_pct_2020[ga_pres_pct_2020['County'] == c])"
   ]
  },
  {
   "cell_type": "code",
   "execution_count": null,
   "metadata": {},
   "outputs": [],
   "source": [
    "for c in tn_counties:\n",
    "    print(tn_pres_pct_2020[tn_pres_pct_2020['County'] == c])"
   ]
  },
  {
   "cell_type": "code",
   "execution_count": null,
   "metadata": {},
   "outputs": [],
   "source": [
    "for c in va_counties:\n",
    "    print(va_pres_pct_2020[va_pres_pct_2020['County/City'] == c])"
   ]
  },
  {
   "cell_type": "code",
   "execution_count": null,
   "metadata": {},
   "outputs": [],
   "source": [
    "for c in wv_counties:\n",
    "    print(wv_pres_pct_2020[wv_pres_pct_2020['County'] == c])"
   ]
  },
  {
   "cell_type": "code",
   "execution_count": null,
   "metadata": {},
   "outputs": [],
   "source": [
    "for c in md_counties:\n",
    "    print(md_pres_pct_2020[md_pres_pct_2020['County'] == c])"
   ]
  },
  {
   "cell_type": "code",
   "execution_count": null,
   "metadata": {},
   "outputs": [],
   "source": [
    "for c in pa_counties:\n",
    "    print(pa_pres_pct_2020[pa_pres_pct_2020['County'] == c])"
   ]
  },
  {
   "cell_type": "code",
   "execution_count": null,
   "metadata": {},
   "outputs": [],
   "source": [
    "for c in ny_counties:\n",
    "    print(ny_pres_pct_2020[ny_pres_pct_2020['County'] == c])"
   ]
  },
  {
   "cell_type": "code",
   "execution_count": null,
   "metadata": {},
   "outputs": [],
   "source": []
  }
 ],
 "metadata": {
  "kernelspec": {
   "display_name": "Python 3",
   "language": "python",
   "name": "python3"
  },
  "language_info": {
   "codemirror_mode": {
    "name": "ipython",
    "version": 3
   },
   "file_extension": ".py",
   "mimetype": "text/x-python",
   "name": "python",
   "nbconvert_exporter": "python",
   "pygments_lexer": "ipython3",
   "version": "3.8.5"
  }
 },
 "nbformat": 4,
 "nbformat_minor": 4
}
