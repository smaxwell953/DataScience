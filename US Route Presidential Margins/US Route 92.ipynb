{
 "cells": [
  {
   "cell_type": "markdown",
   "metadata": {},
   "source": [
    "<h2>Calculating 2020 Presidential Margins Along U.S. Route 92</h2>"
   ]
  },
  {
   "cell_type": "code",
   "execution_count": 1,
   "metadata": {},
   "outputs": [],
   "source": [
    "#Import relevant libraries\n",
    "import numpy as np\n",
    "import pandas as pd\n",
    "import warnings\n",
    "warnings.filterwarnings(\"ignore\")"
   ]
  },
  {
   "cell_type": "code",
   "execution_count": 2,
   "metadata": {},
   "outputs": [
    {
     "data": {
      "text/plain": [
       "Index(['State', 'Year', 'Office', 'County', 'D#', 'R#', 'Prog.#', 'S#', 'SW#',\n",
       "       'Soc.Lib#', 'Comm.#', 'Proh.#', 'A#', 'SR#', 'AI#', 'Ref.#', 'NL#',\n",
       "       'G#', 'L#', 'PF#', 'NA#', 'Wor.#', 'Eco.#', 'Tea#', 'Obj.#', 'Just.#',\n",
       "       'Am.#', 'W/I1#', 'W/I2#', 'W/I3#', 'W/I4#', 'W/I5#', 'I1#', 'I2#',\n",
       "       'I3#', 'I4#', 'I5#', 'I6#', 'V#', 'C#', 'Ind.#', 'TEA#'],\n",
       "      dtype='object')"
      ]
     },
     "execution_count": 2,
     "metadata": {},
     "output_type": "execute_result"
    }
   ],
   "source": [
    "#Florida data\n",
    "fl_vote = pd.read_csv('../ElectionData/Florida.csv', low_memory=False)\n",
    "fl_vote.columns"
   ]
  },
  {
   "cell_type": "code",
   "execution_count": 3,
   "metadata": {},
   "outputs": [
    {
     "data": {
      "text/plain": [
       "array([1912, 1916, 1920, 1924, 1928, 1932, 1936, 1940, 1944, 1948, 1952,\n",
       "       1956, 1960, 1964, 1968, 1972, 1976, 1980, 1984, 1988, 1992, 1996,\n",
       "       2000, 2004, 2008, 2012, 2016, 1958, 1962, 1970, 1982, 1986, 1994,\n",
       "       1998, 2006, 2010, 2018, 1954, 1966, 1974, 1978, 1990, 2002, 2014,\n",
       "       2020], dtype=int64)"
      ]
     },
     "execution_count": 3,
     "metadata": {},
     "output_type": "execute_result"
    }
   ],
   "source": [
    "fl_vote['Year'].unique()"
   ]
  },
  {
   "cell_type": "code",
   "execution_count": 4,
   "metadata": {},
   "outputs": [],
   "source": [
    "fl_votes = pd.DataFrame(fl_vote[fl_vote.Year == 2020])\n",
    "fl_votes = fl_votes.fillna(0)\n",
    "fl_votes['Year'] = pd.to_numeric(fl_votes['Year'])\n",
    "fl_votes.loc[:,'Total Votes'] = (fl_votes.sum(axis=1)) - fl_votes['Year']\n",
    "fl_pres = fl_votes[fl_votes['Office'] == 'President']\n",
    "fl_pres = fl_pres.drop('Office', axis = 1)\n",
    "fl_pres['Year'] = pd.to_numeric(fl_pres['Year'])\n",
    "fl_pres['PCT_DEM'] = (round(fl_pres['D#']/fl_pres['Total Votes'],4))*100\n",
    "fl_pres['PCT_REP'] = (round(fl_pres['R#']/fl_pres['Total Votes'],4))*100\n",
    "fl_pres['RD_DIFF'] = fl_pres['PCT_REP'] - fl_pres['PCT_DEM']\n",
    "fl_pres_pct = fl_pres[['State', 'Year', 'County', 'RD_DIFF']]\n",
    "fl_counties = ['Pinellas', 'Hillsborough', 'Polk', 'Osceola', 'Orange', 'Seminole', 'Volusia']"
   ]
  },
  {
   "cell_type": "markdown",
   "metadata": {},
   "source": [
    "Now find the margins from each parish/county."
   ]
  },
  {
   "cell_type": "code",
   "execution_count": 5,
   "metadata": {},
   "outputs": [
    {
     "name": "stdout",
     "output_type": "stream",
     "text": [
      "        State  Year    County  RD_DIFF\n",
      "7404  Florida  2020  Pinellas    -0.22\n",
      "        State  Year        County  RD_DIFF\n",
      "7380  Florida  2020  Hillsborough    -6.86\n",
      "        State  Year County  RD_DIFF\n",
      "7405  Florida  2020   Polk     14.4\n",
      "        State  Year   County  RD_DIFF\n",
      "7401  Florida  2020  Osceola   -13.78\n",
      "        State  Year  County  RD_DIFF\n",
      "7400  Florida  2020  Orange   -23.05\n",
      "        State  Year    County  RD_DIFF\n",
      "7411  Florida  2020  Seminole    -2.78\n",
      "        State  Year   County  RD_DIFF\n",
      "7416  Florida  2020  Volusia    14.04\n"
     ]
    }
   ],
   "source": [
    "for c in fl_counties:\n",
    "    print(fl_pres_pct[fl_pres_pct['County'] == c])"
   ]
  },
  {
   "cell_type": "code",
   "execution_count": null,
   "metadata": {},
   "outputs": [],
   "source": []
  }
 ],
 "metadata": {
  "kernelspec": {
   "display_name": "Python 3",
   "language": "python",
   "name": "python3"
  },
  "language_info": {
   "codemirror_mode": {
    "name": "ipython",
    "version": 3
   },
   "file_extension": ".py",
   "mimetype": "text/x-python",
   "name": "python",
   "nbconvert_exporter": "python",
   "pygments_lexer": "ipython3",
   "version": "3.8.5"
  }
 },
 "nbformat": 4,
 "nbformat_minor": 4
}
