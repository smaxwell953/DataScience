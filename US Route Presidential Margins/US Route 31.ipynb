{
 "cells": [
  {
   "cell_type": "markdown",
   "metadata": {},
   "source": [
    "<h2>Calculating 2020 Presidential Margins Along U.S. Route 31</h2>"
   ]
  },
  {
   "cell_type": "code",
   "execution_count": 1,
   "metadata": {},
   "outputs": [],
   "source": [
    "#Import relevant libraries\n",
    "import numpy as np\n",
    "import pandas as pd\n",
    "import warnings\n",
    "warnings.filterwarnings(\"ignore\")"
   ]
  },
  {
   "cell_type": "code",
   "execution_count": 2,
   "metadata": {},
   "outputs": [],
   "source": [
    "al_vote = pd.read_csv('../ElectionData/Alabama.csv', low_memory=False)\n",
    "al_votes = pd.DataFrame(al_vote[al_vote.Year == '2020'])\n",
    "al_votes = al_votes.fillna(0)\n",
    "al_votes['Year'] = pd.to_numeric(al_votes['Year'])\n",
    "al_votes.loc[:,'Total Votes'] = (al_votes.sum(axis=1)) - al_votes['Year']\n",
    "al_pres = al_votes[al_votes['Office'] == 'President']\n",
    "al_pres = al_pres.drop('Office', axis = 1)\n",
    "al_pres['Year'] = pd.to_numeric(al_pres['Year'])\n",
    "al_pres['PCT_DEM'] = (round(al_pres['D#']/al_pres['Total Votes'],4))*100\n",
    "al_pres['PCT_REP'] = (round(al_pres['R#']/al_pres['Total Votes'],4))*100\n",
    "al_pres['RD_DIFF'] = al_pres['PCT_REP'] - al_pres['PCT_DEM']\n",
    "al_pres_pct = al_pres[['State', 'Year', 'County', 'RD_DIFF']]\n",
    "al_counties = ['Baldwin', 'Escambia', 'Conecuh', 'Butler', 'Lowndes', 'Montgomery', 'Elmore', 'Autauga', 'Chilton',\\\n",
    "               'Shelby', 'Jefferson', 'Blount', 'Cullman', 'Morgan', 'Limestone']"
   ]
  },
  {
   "cell_type": "code",
   "execution_count": 3,
   "metadata": {},
   "outputs": [],
   "source": [
    "tn_votes = pd.read_csv('../ElectionData/Tennessee.csv', low_memory=False)\n",
    "tn_votes = tn_votes.fillna(0)\n",
    "tn_votes['Year'] = pd.to_numeric(tn_votes['Year'])\n",
    "tn_votes.loc[:,'Total Votes'] = (tn_votes.sum(axis=1)) - tn_votes['Year']\n",
    "tn_pres = tn_votes[tn_votes['Office'] == 'President']\n",
    "tn_pres = tn_pres.drop('Office', axis = 1)\n",
    "tn_pres['Year'] = pd.to_numeric(tn_pres['Year'])\n",
    "tn_pres['PCT_DEM'] = (round(tn_pres['D#']/tn_pres['Total Votes'],4))*100\n",
    "tn_pres['PCT_REP'] = (round(tn_pres['R#']/tn_pres['Total Votes'],4))*100\n",
    "tn_pres['RD_DIFF'] = tn_pres['PCT_REP'] - tn_pres['PCT_DEM']\n",
    "tn_pres_pct = tn_pres[['State', 'Year', 'County', 'RD_DIFF']]\n",
    "tn_pres_pct_2020 = tn_pres_pct[tn_pres_pct['Year'] == 2020]\n",
    "tn_counties = ['Giles', 'Maury', 'Williamson', 'Davidson', 'Sumner', 'Robertson']"
   ]
  },
  {
   "cell_type": "code",
   "execution_count": 4,
   "metadata": {},
   "outputs": [],
   "source": [
    "ky_votes = pd.read_csv('../ElectionData/Kentucky.csv', low_memory=False)\n",
    "ky_votes = ky_votes.fillna(0)\n",
    "ky_votes['Year'] = pd.to_numeric(ky_votes['Year'])\n",
    "ky_votes.loc[:,'Total Votes'] = (ky_votes.sum(axis=1)) - ky_votes['Year']\n",
    "ky_pres = ky_votes[ky_votes['Office'] == 'President']\n",
    "ky_pres = ky_pres.drop('Office', axis = 1)\n",
    "ky_pres['Year'] = pd.to_numeric(ky_pres['Year'])\n",
    "ky_pres['PCT_DEM'] = (round(ky_pres['D#']/ky_pres['Total Votes'],4))*100\n",
    "ky_pres['PCT_REP'] = (round(ky_pres['R#']/ky_pres['Total Votes'],4))*100\n",
    "ky_pres['RD_DIFF'] = ky_pres['PCT_REP'] - ky_pres['PCT_DEM']\n",
    "ky_pres_pct = ky_pres[['State', 'Year', 'County', 'RD_DIFF']]\n",
    "ky_pres_pct_2020 = ky_pres_pct[ky_pres_pct['Year'] == 2020]\n",
    "ky_counties = ['Simpson', 'Warren', 'Edmonson', 'Barren', 'Hart', 'Larue', 'Hardin', 'Meade', 'Jefferson', 'Allen',\\\n",
    "               'Nelson', 'Spencer', 'Bullitt']"
   ]
  },
  {
   "cell_type": "code",
   "execution_count": 5,
   "metadata": {},
   "outputs": [],
   "source": [
    "#Repeat for Indiana\n",
    "in_votes = pd.read_csv('../ElectionData/Indiana.csv', low_memory=False)\n",
    "in_votes = in_votes.fillna(0)\n",
    "in_votes['Year'] = pd.to_numeric(in_votes['Year'])\n",
    "in_votes.loc[:,'Total Votes'] = (in_votes.sum(axis=1)) - in_votes['Year']\n",
    "in_pres = in_votes[in_votes['Office'] == 'President']\n",
    "in_pres = in_pres.drop('Office', axis = 1)\n",
    "in_pres['Year'] = pd.to_numeric(in_pres['Year'])\n",
    "in_pres['PCT_DEM'] = (round(in_pres['D#']/in_pres['Total Votes'],4))*100\n",
    "in_pres['PCT_REP'] = (round(in_pres['R#']/in_pres['Total Votes'],4))*100\n",
    "in_pres['RD_DIFF'] = in_pres['PCT_REP'] - in_pres['PCT_DEM']\n",
    "in_pres_pct = in_pres[['State', 'Year', 'County', 'RD_DIFF']]\n",
    "in_pres_pct_2020 = in_pres_pct[in_pres_pct['Year'] == 2020]\n",
    "in_counties = ['Clark', 'Scott', 'Jackson', 'Bartholomew', 'Johnson', 'Marion', 'Hamilton', 'Tipton', 'Howard', 'Miami',\\\n",
    "               'Fulton', 'Marshall', 'Saint Joseph']"
   ]
  },
  {
   "cell_type": "code",
   "execution_count": 6,
   "metadata": {},
   "outputs": [],
   "source": [
    "#Repeat for Michigan\n",
    "mi_votes = pd.read_csv('../ElectionData/Michigan.csv', low_memory=False)\n",
    "mi_votes = mi_votes.fillna(0)\n",
    "mi_votes['Year'] = pd.to_numeric(mi_votes['Year'])\n",
    "mi_votes.loc[:,'Total Votes'] = (mi_votes.sum(axis=1)) - mi_votes['Year']\n",
    "mi_pres = mi_votes[mi_votes['Office'] == 'President']\n",
    "mi_pres = mi_pres.drop('Office', axis = 1)\n",
    "mi_pres['Year'] = pd.to_numeric(mi_pres['Year'])\n",
    "mi_pres['PCT_DEM'] = (round(mi_pres['D1#']/mi_pres['Total Votes'],4))*100\n",
    "mi_pres['PCT_REP'] = (round(mi_pres['R#']/mi_pres['Total Votes'],4))*100\n",
    "mi_pres['RD_DIFF'] = mi_pres['PCT_REP'] - mi_pres['PCT_DEM']\n",
    "mi_pres_pct = mi_pres[['State', 'Year', 'County', 'RD_DIFF']]\n",
    "mi_pres_pct_2020 = mi_pres_pct[mi_pres_pct['Year'] == 2020]\n",
    "mi_counties = ['Berrien', 'Van Buren', 'Allegan', 'Ottawa', 'Muskegon', 'Oceana', 'Mason', 'Manistee', 'Benzie',\\\n",
    "               'Grand Traverse', 'Antrim', 'Charlevoix', 'Emmet', 'Cheboygan']"
   ]
  },
  {
   "cell_type": "markdown",
   "metadata": {},
   "source": [
    "Now find the margins from each county."
   ]
  },
  {
   "cell_type": "code",
   "execution_count": 7,
   "metadata": {},
   "outputs": [
    {
     "name": "stdout",
     "output_type": "stream",
     "text": [
      "        State  Year   County  RD_DIFF\n",
      "8041  Alabama  2020  Baldwin    53.76\n",
      "        State  Year    County  RD_DIFF\n",
      "8066  Alabama  2020  Escambia    37.41\n",
      "        State  Year   County  RD_DIFF\n",
      "8057  Alabama  2020  Conecuh     7.39\n",
      "        State  Year  County  RD_DIFF\n",
      "8046  Alabama  2020  Butler    15.74\n",
      "        State  Year   County  RD_DIFF\n",
      "8082  Alabama  2020  Lowndes   -45.88\n",
      "        State  Year      County  RD_DIFF\n",
      "8090  Alabama  2020  Montgomery   -31.49\n",
      "        State  Year  County  RD_DIFF\n",
      "8065  Alabama  2020  Elmore    48.25\n",
      "        State  Year   County  RD_DIFF\n",
      "8040  Alabama  2020  Autauga    44.42\n",
      "        State  Year   County  RD_DIFF\n",
      "8050  Alabama  2020  Chilton    67.39\n",
      "        State  Year  County  RD_DIFF\n",
      "8098  Alabama  2020  Shelby    40.39\n",
      "        State  Year     County  RD_DIFF\n",
      "8076  Alabama  2020  Jefferson   -13.15\n",
      "        State  Year  County  RD_DIFF\n",
      "8044  Alabama  2020  Blount     80.0\n",
      "        State  Year   County  RD_DIFF\n",
      "8061  Alabama  2020  Cullman    77.42\n",
      "        State  Year  County  RD_DIFF\n",
      "8091  Alabama  2020  Morgan     49.2\n",
      "        State  Year     County  RD_DIFF\n",
      "8081  Alabama  2020  Limestone    42.59\n"
     ]
    }
   ],
   "source": [
    "for c in al_counties:\n",
    "    print(al_pres_pct[al_pres_pct['County'] == c])"
   ]
  },
  {
   "cell_type": "code",
   "execution_count": 8,
   "metadata": {},
   "outputs": [
    {
     "name": "stdout",
     "output_type": "stream",
     "text": [
      "          State    Year County  RD_DIFF\n",
      "7120  Tennessee  2020.0  Giles    49.12\n",
      "          State    Year County  RD_DIFF\n",
      "7152  Tennessee  2020.0  Maury    36.54\n",
      "          State    Year      County  RD_DIFF\n",
      "7186  Tennessee  2020.0  Williamson    26.12\n",
      "          State    Year    County  RD_DIFF\n",
      "7111  Tennessee  2020.0  Davidson   -32.13\n",
      "          State    Year  County  RD_DIFF\n",
      "7175  Tennessee  2020.0  Sumner    38.62\n",
      "          State    Year     County  RD_DIFF\n",
      "7166  Tennessee  2020.0  Robertson    46.99\n"
     ]
    }
   ],
   "source": [
    "for c in tn_counties:\n",
    "    print(tn_pres_pct_2020[tn_pres_pct_2020['County'] == c])"
   ]
  },
  {
   "cell_type": "code",
   "execution_count": 9,
   "metadata": {},
   "outputs": [
    {
     "name": "stdout",
     "output_type": "stream",
     "text": [
      "          State  Year   County  RD_DIFF\n",
      "13906  Kentucky  2020  Simpson    36.73\n",
      "          State  Year  County  RD_DIFF\n",
      "13913  Kentucky  2020  Warren     16.8\n",
      "          State  Year    County  RD_DIFF\n",
      "13830  Kentucky  2020  Edmonson    58.72\n",
      "          State  Year  County  RD_DIFF\n",
      "13804  Kentucky  2020  Barren    47.49\n",
      "          State  Year County  RD_DIFF\n",
      "13849  Kentucky  2020   Hart    53.01\n",
      "          State  Year County  RD_DIFF\n",
      "13861  Kentucky  2020  Larue    57.27\n",
      "          State  Year  County  RD_DIFF\n",
      "13846  Kentucky  2020  Hardin    23.97\n",
      "          State  Year County  RD_DIFF\n",
      "13881  Kentucky  2020  Meade    46.43\n",
      "          State  Year     County  RD_DIFF\n",
      "13855  Kentucky  2020  Jefferson    -20.1\n",
      "          State  Year County  RD_DIFF\n",
      "13801  Kentucky  2020  Allen    63.48\n",
      "          State  Year  County  RD_DIFF\n",
      "13889  Kentucky  2020  Nelson    36.61\n",
      "          State  Year   County  RD_DIFF\n",
      "13907  Kentucky  2020  Spencer    54.29\n",
      "          State  Year   County  RD_DIFF\n",
      "13814  Kentucky  2020  Bullitt    47.99\n"
     ]
    }
   ],
   "source": [
    "for c in ky_counties:\n",
    "    print(ky_pres_pct_2020[ky_pres_pct_2020['County'] == c])"
   ]
  },
  {
   "cell_type": "code",
   "execution_count": 10,
   "metadata": {},
   "outputs": [
    {
     "name": "stdout",
     "output_type": "stream",
     "text": [
      "         State  Year County  RD_DIFF\n",
      "12153  Indiana  2020  Clark    18.21\n",
      "         State  Year County  RD_DIFF\n",
      "12215  Indiana  2020  Scott    45.47\n",
      "         State  Year   County  RD_DIFF\n",
      "12179  Indiana  2020  Jackson     53.3\n",
      "         State  Year       County  RD_DIFF\n",
      "12146  Indiana  2020  Bartholomew    26.11\n",
      "         State  Year   County  RD_DIFF\n",
      "12184  Indiana  2020  Johnson    34.04\n",
      "         State  Year  County  RD_DIFF\n",
      "12192  Indiana  2020  Marion   -29.05\n",
      "         State  Year    County  RD_DIFF\n",
      "12172  Indiana  2020  Hamilton     6.78\n",
      "         State  Year  County  RD_DIFF\n",
      "12223  Indiana  2020  Tipton    52.63\n",
      "         State  Year  County  RD_DIFF\n",
      "12177  Indiana  2020  Howard    32.36\n",
      "         State  Year County  RD_DIFF\n",
      "12195  Indiana  2020  Miami    53.06\n",
      "         State  Year  County  RD_DIFF\n",
      "12168  Indiana  2020  Fulton    48.25\n",
      "         State  Year    County  RD_DIFF\n",
      "12193  Indiana  2020  Marshall    40.75\n",
      "         State  Year        County  RD_DIFF\n",
      "12214  Indiana  2020  Saint Joseph    -5.85\n"
     ]
    }
   ],
   "source": [
    "for c in in_counties:\n",
    "    print(in_pres_pct_2020[in_pres_pct_2020['County'] == c])"
   ]
  },
  {
   "cell_type": "code",
   "execution_count": 11,
   "metadata": {},
   "outputs": [
    {
     "name": "stdout",
     "output_type": "stream",
     "text": [
      "          State  Year   County  RD_DIFF\n",
      "10367  Michigan  2020  Berrien     7.37\n",
      "          State  Year     County  RD_DIFF\n",
      "10436  Michigan  2020  Van Buren    12.24\n",
      "          State  Year   County  RD_DIFF\n",
      "10359  Michigan  2020  Allegan    25.21\n",
      "          State  Year  County  RD_DIFF\n",
      "10426  Michigan  2020  Ottawa    21.46\n",
      "          State  Year    County  RD_DIFF\n",
      "10417  Michigan  2020  Muskegon    -0.55\n",
      "          State  Year  County  RD_DIFF\n",
      "10420  Michigan  2020  Oceana    28.04\n",
      "          State  Year County  RD_DIFF\n",
      "10409  Michigan  2020  Mason     19.7\n",
      "          State  Year    County  RD_DIFF\n",
      "10407  Michigan  2020  Manistee    15.09\n",
      "          State  Year  County  RD_DIFF\n",
      "10366  Michigan  2020  Benzie     9.14\n",
      "          State  Year          County  RD_DIFF\n",
      "10384  Michigan  2020  Grand Traverse     3.01\n",
      "          State  Year  County  RD_DIFF\n",
      "10361  Michigan  2020  Antrim    23.71\n",
      "          State  Year      County  RD_DIFF\n",
      "10371  Michigan  2020  Charlevoix    17.04\n",
      "          State  Year County  RD_DIFF\n",
      "10380  Michigan  2020  Emmet    11.14\n",
      "          State  Year     County  RD_DIFF\n",
      "10372  Michigan  2020  Cheboygan    29.88\n"
     ]
    }
   ],
   "source": [
    "for c in mi_counties:\n",
    "    print(mi_pres_pct_2020[mi_pres_pct_2020['County'] == c])"
   ]
  },
  {
   "cell_type": "code",
   "execution_count": null,
   "metadata": {},
   "outputs": [],
   "source": []
  }
 ],
 "metadata": {
  "kernelspec": {
   "display_name": "Python 3",
   "language": "python",
   "name": "python3"
  },
  "language_info": {
   "codemirror_mode": {
    "name": "ipython",
    "version": 3
   },
   "file_extension": ".py",
   "mimetype": "text/x-python",
   "name": "python",
   "nbconvert_exporter": "python",
   "pygments_lexer": "ipython3",
   "version": "3.8.5"
  }
 },
 "nbformat": 4,
 "nbformat_minor": 4
}
