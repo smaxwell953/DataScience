{
 "cells": [
  {
   "cell_type": "markdown",
   "metadata": {},
   "source": [
    "<h2>Calculating 2020 Presidential Margins Along U.S. Route 25</h2>"
   ]
  },
  {
   "cell_type": "code",
   "execution_count": 1,
   "metadata": {},
   "outputs": [],
   "source": [
    "#Import relevant libraries\n",
    "import numpy as np\n",
    "import pandas as pd\n",
    "import warnings\n",
    "warnings.filterwarnings(\"ignore\")"
   ]
  },
  {
   "cell_type": "code",
   "execution_count": 2,
   "metadata": {},
   "outputs": [],
   "source": [
    "#Repeat for Georgia\n",
    "ga_votes = pd.read_csv('../ElectionData/Georgia.csv', low_memory=False)\n",
    "ga_votes = ga_votes.fillna(0)\n",
    "ga_votes['Year'] = pd.to_numeric(ga_votes['Year'])\n",
    "ga_votes.loc[:,'Total Votes'] = (ga_votes.sum(axis=1)) - ga_votes['Year']\n",
    "ga_pres = ga_votes[ga_votes['Office'] == 'President']\n",
    "ga_pres = ga_pres.drop('Office', axis = 1)\n",
    "ga_pres['Year'] = pd.to_numeric(ga_pres['Year'])\n",
    "ga_pres['PCT_DEM'] = (round(ga_pres['D#']/ga_pres['Total Votes'],4))*100\n",
    "ga_pres['PCT_REP'] = (round(ga_pres['R#']/ga_pres['Total Votes'],4))*100\n",
    "ga_pres['RD_DIFF'] = ga_pres['PCT_REP'] - ga_pres['PCT_DEM']\n",
    "ga_pres_pct = ga_pres[['State', 'Year', 'County', 'RD_DIFF']]\n",
    "ga_pres_pct_2020 = ga_pres_pct[ga_pres_pct['Year'] == 2020]\n",
    "ga_counties = ['Glynn', 'Wayne', 'Long', 'Tattnall', 'Evans', 'Bulloch', 'Jenkins', 'Burke', 'Richmond']"
   ]
  },
  {
   "cell_type": "code",
   "execution_count": 3,
   "metadata": {},
   "outputs": [],
   "source": [
    "#South Carolina\n",
    "sc_votes = pd.read_csv('../ElectionData/South Carolina.csv', low_memory=False)\n",
    "sc_votes = sc_votes.fillna(0)\n",
    "sc_votes['Year'] = pd.to_numeric(sc_votes['Year'])\n",
    "sc_votes.loc[:,'Total Votes'] = (sc_votes.sum(axis=1)) - sc_votes['Year']\n",
    "sc_pres = sc_votes[sc_votes['Office'] == 'President']\n",
    "sc_pres = sc_pres.drop('Office', axis = 1)\n",
    "sc_pres['Year'] = pd.to_numeric(sc_pres['Year'])\n",
    "sc_pres['PCT_DEM'] = (round(sc_pres['D#']/sc_pres['Total Votes'],4))*100\n",
    "sc_pres['PCT_REP'] = (round(sc_pres['R#']/sc_pres['Total Votes'],4))*100\n",
    "sc_pres['RD_DIFF'] = sc_pres['PCT_REP'] - sc_pres['PCT_DEM']\n",
    "sc_pres_pct = sc_pres[['State', 'Year', 'County', 'RD_DIFF']]\n",
    "sc_pres_pct_2020 = sc_pres_pct[sc_pres_pct['Year'] == 2020]\n",
    "sc_counties = ['Aiken', 'Edgefield', 'Greenwood', 'Laurens', 'Greenville']"
   ]
  },
  {
   "cell_type": "code",
   "execution_count": 4,
   "metadata": {},
   "outputs": [],
   "source": [
    "#Repeat for North Carolina\n",
    "nc_votes = pd.read_csv('../ElectionData/North Carolina.csv', low_memory=False)\n",
    "nc_votes = nc_votes.fillna(0)\n",
    "nc_votes['Year'] = pd.to_numeric(nc_votes['Year'])\n",
    "nc_votes.loc[:,'Total Votes'] = (nc_votes.sum(axis=1)) - nc_votes['Year']\n",
    "nc_pres = nc_votes[nc_votes['Office'] == 'President']\n",
    "nc_pres = nc_pres.drop('Office', axis = 1)\n",
    "nc_pres['Year'] = pd.to_numeric(nc_pres['Year'])\n",
    "nc_pres['PCT_DEM'] = (round(nc_pres['D#']/nc_pres['Total Votes'],4))*100\n",
    "nc_pres['PCT_REP'] = (round(nc_pres['R#']/nc_pres['Total Votes'],4))*100\n",
    "nc_pres['RD_DIFF'] = nc_pres['PCT_REP'] - nc_pres['PCT_DEM']\n",
    "nc_pres_pct = nc_pres[['State', 'Year', 'County', 'RD_DIFF']]\n",
    "nc_pres_pct_2020 = nc_pres_pct[nc_pres_pct['Year'] == 2020]\n",
    "nc_counties = ['Henderson', 'Buncombe', 'Madison']"
   ]
  },
  {
   "cell_type": "code",
   "execution_count": 5,
   "metadata": {},
   "outputs": [],
   "source": [
    "#Repeat for Tennessee\n",
    "tn_votes = pd.read_csv('../ElectionData/Tennessee.csv', low_memory=False)\n",
    "tn_votes = tn_votes.fillna(0)\n",
    "tn_votes['Year'] = pd.to_numeric(tn_votes['Year'])\n",
    "tn_votes.loc[:,'Total Votes'] = (tn_votes.sum(axis=1)) - tn_votes['Year']\n",
    "tn_pres = tn_votes[tn_votes['Office'] == 'President']\n",
    "tn_pres = tn_pres.drop('Office', axis = 1)\n",
    "tn_pres['Year'] = pd.to_numeric(tn_pres['Year'])\n",
    "tn_pres['PCT_DEM'] = (round(tn_pres['D#']/tn_pres['Total Votes'],4))*100\n",
    "tn_pres['PCT_REP'] = (round(tn_pres['R#']/tn_pres['Total Votes'],4))*100\n",
    "tn_pres['RD_DIFF'] = tn_pres['PCT_REP'] - tn_pres['PCT_DEM']\n",
    "tn_pres_pct = tn_pres[['State', 'Year', 'County', 'RD_DIFF']]\n",
    "tn_pres_pct_2020 = tn_pres_pct[tn_pres_pct['Year'] == 2020]\n",
    "tn_counties = ['Cocke', 'Jefferson', 'Sevier', 'Knox', 'Anderson', 'Campbell', 'Hamblen', 'Grainger', 'Claiborne']"
   ]
  },
  {
   "cell_type": "code",
   "execution_count": 6,
   "metadata": {},
   "outputs": [],
   "source": [
    "#Repeat for Kentucky\n",
    "ky_votes = pd.read_csv('../ElectionData/Kentucky.csv', low_memory=False)\n",
    "ky_votes = ky_votes.fillna(0)\n",
    "ky_votes['Year'] = pd.to_numeric(ky_votes['Year'])\n",
    "ky_votes.loc[:,'Total Votes'] = (ky_votes.sum(axis=1)) - ky_votes['Year']\n",
    "ky_pres = ky_votes[ky_votes['Office'] == 'President']\n",
    "ky_pres = ky_pres.drop('Office', axis = 1)\n",
    "ky_pres['Year'] = pd.to_numeric(ky_pres['Year'])\n",
    "ky_pres['PCT_DEM'] = (round(ky_pres['D#']/ky_pres['Total Votes'],4))*100\n",
    "ky_pres['PCT_REP'] = (round(ky_pres['R#']/ky_pres['Total Votes'],4))*100\n",
    "ky_pres['RD_DIFF'] = ky_pres['PCT_REP'] - ky_pres['PCT_DEM']\n",
    "ky_pres_pct = ky_pres[['State', 'Year', 'County', 'RD_DIFF']]\n",
    "ky_pres_pct_2020 = ky_pres_pct[ky_pres_pct['Year'] == 2020]\n",
    "ky_counties = ['Bell', 'Knox', 'Whitley', 'Laurel', 'Rockcastle', 'Madison', 'Fayette', 'Scott', 'Grant', 'Boone', 'Kenton']"
   ]
  },
  {
   "cell_type": "markdown",
   "metadata": {},
   "source": [
    "Now find the margins from each county."
   ]
  },
  {
   "cell_type": "code",
   "execution_count": 7,
   "metadata": {},
   "outputs": [
    {
     "name": "stdout",
     "output_type": "stream",
     "text": [
      "         State  Year County  RD_DIFF\n",
      "16417  Georgia  2020  Glynn    23.18\n",
      "         State  Year County  RD_DIFF\n",
      "16505  Georgia  2020  Wayne     57.1\n",
      "         State  Year County  RD_DIFF\n",
      "16445  Georgia  2020   Long    26.36\n",
      "         State  Year    County  RD_DIFF\n",
      "16486  Georgia  2020  Tattnall    48.76\n",
      "         State  Year County  RD_DIFF\n",
      "16408  Georgia  2020  Evans    36.81\n",
      "         State  Year   County  RD_DIFF\n",
      "16370  Georgia  2020  Bulloch    23.71\n",
      "         State  Year   County  RD_DIFF\n",
      "16436  Georgia  2020  Jenkins    25.91\n",
      "         State  Year County  RD_DIFF\n",
      "16371  Georgia  2020  Burke      1.8\n",
      "         State  Year    County  RD_DIFF\n",
      "16475  Georgia  2020  Richmond   -37.14\n"
     ]
    }
   ],
   "source": [
    "for c in ga_counties:\n",
    "    print(ga_pres_pct_2020[ga_pres_pct_2020['County'] == c])"
   ]
  },
  {
   "cell_type": "code",
   "execution_count": 8,
   "metadata": {},
   "outputs": [
    {
     "name": "stdout",
     "output_type": "stream",
     "text": [
      "               State    Year County  RD_DIFF\n",
      "5323  South Carolina  2020.0  Aiken    22.67\n",
      "               State    Year     County  RD_DIFF\n",
      "5340  South Carolina  2020.0  Edgefield    24.29\n",
      "               State    Year     County  RD_DIFF\n",
      "5345  South Carolina  2020.0  Greenwood    22.76\n",
      "               State    Year   County  RD_DIFF\n",
      "5351  South Carolina  2020.0  Laurens    32.29\n",
      "               State    Year      County  RD_DIFF\n",
      "5344  South Carolina  2020.0  Greenville     18.2\n"
     ]
    }
   ],
   "source": [
    "for c in sc_counties:\n",
    "    print(sc_pres_pct_2020[sc_pres_pct_2020['County'] == c])"
   ]
  },
  {
   "cell_type": "code",
   "execution_count": 9,
   "metadata": {},
   "outputs": [
    {
     "name": "stdout",
     "output_type": "stream",
     "text": [
      "                State    Year     County  RD_DIFF\n",
      "11740  North Carolina  2020.0  Henderson    18.75\n",
      "                State    Year    County  RD_DIFF\n",
      "11706  North Carolina  2020.0  Buncombe   -21.11\n",
      "                State    Year   County  RD_DIFF\n",
      "11753  North Carolina  2020.0  Madison    23.54\n"
     ]
    }
   ],
   "source": [
    "for c in nc_counties:\n",
    "    print(nc_pres_pct_2020[nc_pres_pct_2020['County'] == c])"
   ]
  },
  {
   "cell_type": "code",
   "execution_count": 10,
   "metadata": {},
   "outputs": [
    {
     "name": "stdout",
     "output_type": "stream",
     "text": [
      "          State    Year County  RD_DIFF\n",
      "7107  Tennessee  2020.0  Cocke     64.8\n",
      "          State    Year     County  RD_DIFF\n",
      "7137  Tennessee  2020.0  Jefferson    59.27\n",
      "          State    Year  County  RD_DIFF\n",
      "7170  Tennessee  2020.0  Sevier    57.57\n",
      "          State    Year County  RD_DIFF\n",
      "7139  Tennessee  2020.0   Knox    15.02\n",
      "          State    Year    County  RD_DIFF\n",
      "7093  Tennessee  2020.0  Anderson    32.17\n",
      "          State    Year    County  RD_DIFF\n",
      "7099  Tennessee  2020.0  Campbell    66.23\n",
      "          State    Year   County  RD_DIFF\n",
      "7124  Tennessee  2020.0  Hamblen    54.04\n",
      "          State    Year    County  RD_DIFF\n",
      "7121  Tennessee  2020.0  Grainger    70.04\n",
      "          State    Year     County  RD_DIFF\n",
      "7105  Tennessee  2020.0  Claiborne    64.91\n"
     ]
    }
   ],
   "source": [
    "for c in tn_counties:\n",
    "    print(tn_pres_pct_2020[tn_pres_pct_2020['County'] == c])"
   ]
  },
  {
   "cell_type": "code",
   "execution_count": 11,
   "metadata": {},
   "outputs": [
    {
     "name": "stdout",
     "output_type": "stream",
     "text": [
      "          State  Year County  RD_DIFF\n",
      "13806  Kentucky  2020   Bell    63.23\n",
      "          State  Year County  RD_DIFF\n",
      "13860  Kentucky  2020   Knox    67.04\n",
      "          State  Year   County  RD_DIFF\n",
      "13917  Kentucky  2020  Whitley    65.22\n",
      "          State  Year  County  RD_DIFF\n",
      "13862  Kentucky  2020  Laurel    66.74\n",
      "          State  Year      County  RD_DIFF\n",
      "13901  Kentucky  2020  Rockcastle    69.92\n",
      "          State  Year   County  RD_DIFF\n",
      "13875  Kentucky  2020  Madison    26.78\n",
      "          State  Year   County  RD_DIFF\n",
      "13833  Kentucky  2020  Fayette   -20.76\n",
      "          State  Year County  RD_DIFF\n",
      "13904  Kentucky  2020  Scott    24.85\n",
      "          State  Year County  RD_DIFF\n",
      "13840  Kentucky  2020  Grant     58.7\n",
      "          State  Year County  RD_DIFF\n",
      "13807  Kentucky  2020  Boone    35.69\n",
      "          State  Year  County  RD_DIFF\n",
      "13858  Kentucky  2020  Kenton    19.29\n"
     ]
    }
   ],
   "source": [
    "for c in ky_counties:\n",
    "    print(ky_pres_pct_2020[ky_pres_pct_2020['County'] == c])"
   ]
  }
 ],
 "metadata": {
  "kernelspec": {
   "display_name": "Python 3",
   "language": "python",
   "name": "python3"
  },
  "language_info": {
   "codemirror_mode": {
    "name": "ipython",
    "version": 3
   },
   "file_extension": ".py",
   "mimetype": "text/x-python",
   "name": "python",
   "nbconvert_exporter": "python",
   "pygments_lexer": "ipython3",
   "version": "3.8.5"
  }
 },
 "nbformat": 4,
 "nbformat_minor": 4
}
