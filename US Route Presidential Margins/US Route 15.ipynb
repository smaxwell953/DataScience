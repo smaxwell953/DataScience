{
 "cells": [
  {
   "cell_type": "markdown",
   "metadata": {},
   "source": [
    "<h2>Calculating 2020 Presidential Margins Along U.S. Route 15</h2>"
   ]
  },
  {
   "cell_type": "code",
   "execution_count": 1,
   "metadata": {},
   "outputs": [],
   "source": [
    "#Import relevant libraries\n",
    "import numpy as np\n",
    "import pandas as pd\n",
    "import warnings\n",
    "warnings.filterwarnings(\"ignore\")"
   ]
  },
  {
   "cell_type": "code",
   "execution_count": 2,
   "metadata": {},
   "outputs": [
    {
     "data": {
      "text/html": [
       "<div>\n",
       "<style scoped>\n",
       "    .dataframe tbody tr th:only-of-type {\n",
       "        vertical-align: middle;\n",
       "    }\n",
       "\n",
       "    .dataframe tbody tr th {\n",
       "        vertical-align: top;\n",
       "    }\n",
       "\n",
       "    .dataframe thead th {\n",
       "        text-align: right;\n",
       "    }\n",
       "</style>\n",
       "<table border=\"1\" class=\"dataframe\">\n",
       "  <thead>\n",
       "    <tr style=\"text-align: right;\">\n",
       "      <th></th>\n",
       "      <th>State</th>\n",
       "      <th>Year</th>\n",
       "      <th>Office</th>\n",
       "      <th>County</th>\n",
       "      <th>D#</th>\n",
       "      <th>R#</th>\n",
       "      <th>Prog.#</th>\n",
       "      <th>S#</th>\n",
       "      <th>SD#</th>\n",
       "      <th>Proh.#</th>\n",
       "      <th>...</th>\n",
       "      <th>UC#</th>\n",
       "      <th>W/I#</th>\n",
       "      <th>D1#</th>\n",
       "      <th>D2#</th>\n",
       "      <th>I#</th>\n",
       "      <th>W/I1#</th>\n",
       "      <th>W/I2#</th>\n",
       "      <th>Year / Office</th>\n",
       "      <th>C#</th>\n",
       "      <th>All.#</th>\n",
       "    </tr>\n",
       "  </thead>\n",
       "  <tbody>\n",
       "    <tr>\n",
       "      <th>0</th>\n",
       "      <td>South Carolina</td>\n",
       "      <td>1900.0</td>\n",
       "      <td>President</td>\n",
       "      <td>Abbeville</td>\n",
       "      <td>1366.0</td>\n",
       "      <td>8.0</td>\n",
       "      <td>NaN</td>\n",
       "      <td>NaN</td>\n",
       "      <td>NaN</td>\n",
       "      <td>NaN</td>\n",
       "      <td>...</td>\n",
       "      <td>NaN</td>\n",
       "      <td>NaN</td>\n",
       "      <td>NaN</td>\n",
       "      <td>NaN</td>\n",
       "      <td>NaN</td>\n",
       "      <td>NaN</td>\n",
       "      <td>NaN</td>\n",
       "      <td>NaN</td>\n",
       "      <td>NaN</td>\n",
       "      <td>NaN</td>\n",
       "    </tr>\n",
       "    <tr>\n",
       "      <th>1</th>\n",
       "      <td>South Carolina</td>\n",
       "      <td>1900.0</td>\n",
       "      <td>President</td>\n",
       "      <td>Aiken</td>\n",
       "      <td>1470.0</td>\n",
       "      <td>53.0</td>\n",
       "      <td>NaN</td>\n",
       "      <td>NaN</td>\n",
       "      <td>NaN</td>\n",
       "      <td>NaN</td>\n",
       "      <td>...</td>\n",
       "      <td>NaN</td>\n",
       "      <td>NaN</td>\n",
       "      <td>NaN</td>\n",
       "      <td>NaN</td>\n",
       "      <td>NaN</td>\n",
       "      <td>NaN</td>\n",
       "      <td>NaN</td>\n",
       "      <td>NaN</td>\n",
       "      <td>NaN</td>\n",
       "      <td>NaN</td>\n",
       "    </tr>\n",
       "    <tr>\n",
       "      <th>2</th>\n",
       "      <td>South Carolina</td>\n",
       "      <td>1900.0</td>\n",
       "      <td>President</td>\n",
       "      <td>Anderson</td>\n",
       "      <td>1858.0</td>\n",
       "      <td>68.0</td>\n",
       "      <td>NaN</td>\n",
       "      <td>NaN</td>\n",
       "      <td>NaN</td>\n",
       "      <td>NaN</td>\n",
       "      <td>...</td>\n",
       "      <td>NaN</td>\n",
       "      <td>NaN</td>\n",
       "      <td>NaN</td>\n",
       "      <td>NaN</td>\n",
       "      <td>NaN</td>\n",
       "      <td>NaN</td>\n",
       "      <td>NaN</td>\n",
       "      <td>NaN</td>\n",
       "      <td>NaN</td>\n",
       "      <td>NaN</td>\n",
       "    </tr>\n",
       "    <tr>\n",
       "      <th>3</th>\n",
       "      <td>South Carolina</td>\n",
       "      <td>1900.0</td>\n",
       "      <td>President</td>\n",
       "      <td>Bamberg</td>\n",
       "      <td>793.0</td>\n",
       "      <td>36.0</td>\n",
       "      <td>NaN</td>\n",
       "      <td>NaN</td>\n",
       "      <td>NaN</td>\n",
       "      <td>NaN</td>\n",
       "      <td>...</td>\n",
       "      <td>NaN</td>\n",
       "      <td>NaN</td>\n",
       "      <td>NaN</td>\n",
       "      <td>NaN</td>\n",
       "      <td>NaN</td>\n",
       "      <td>NaN</td>\n",
       "      <td>NaN</td>\n",
       "      <td>NaN</td>\n",
       "      <td>NaN</td>\n",
       "      <td>NaN</td>\n",
       "    </tr>\n",
       "    <tr>\n",
       "      <th>4</th>\n",
       "      <td>South Carolina</td>\n",
       "      <td>1900.0</td>\n",
       "      <td>President</td>\n",
       "      <td>Barnwell</td>\n",
       "      <td>1356.0</td>\n",
       "      <td>57.0</td>\n",
       "      <td>NaN</td>\n",
       "      <td>NaN</td>\n",
       "      <td>NaN</td>\n",
       "      <td>NaN</td>\n",
       "      <td>...</td>\n",
       "      <td>NaN</td>\n",
       "      <td>NaN</td>\n",
       "      <td>NaN</td>\n",
       "      <td>NaN</td>\n",
       "      <td>NaN</td>\n",
       "      <td>NaN</td>\n",
       "      <td>NaN</td>\n",
       "      <td>NaN</td>\n",
       "      <td>NaN</td>\n",
       "      <td>NaN</td>\n",
       "    </tr>\n",
       "  </tbody>\n",
       "</table>\n",
       "<p>5 rows × 30 columns</p>\n",
       "</div>"
      ],
      "text/plain": [
       "            State    Year     Office     County      D#    R#  Prog.#  S#  \\\n",
       "0  South Carolina  1900.0  President  Abbeville  1366.0   8.0     NaN NaN   \n",
       "1  South Carolina  1900.0  President      Aiken  1470.0  53.0     NaN NaN   \n",
       "2  South Carolina  1900.0  President   Anderson  1858.0  68.0     NaN NaN   \n",
       "3  South Carolina  1900.0  President    Bamberg   793.0  36.0     NaN NaN   \n",
       "4  South Carolina  1900.0  President   Barnwell  1356.0  57.0     NaN NaN   \n",
       "\n",
       "   SD#  Proh.#  ...  UC#  W/I#  D1#  D2#  I#  W/I1#  W/I2#  Year / Office  C#  \\\n",
       "0  NaN     NaN  ...  NaN   NaN  NaN  NaN NaN    NaN    NaN            NaN NaN   \n",
       "1  NaN     NaN  ...  NaN   NaN  NaN  NaN NaN    NaN    NaN            NaN NaN   \n",
       "2  NaN     NaN  ...  NaN   NaN  NaN  NaN NaN    NaN    NaN            NaN NaN   \n",
       "3  NaN     NaN  ...  NaN   NaN  NaN  NaN NaN    NaN    NaN            NaN NaN   \n",
       "4  NaN     NaN  ...  NaN   NaN  NaN  NaN NaN    NaN    NaN            NaN NaN   \n",
       "\n",
       "   All.#  \n",
       "0    NaN  \n",
       "1    NaN  \n",
       "2    NaN  \n",
       "3    NaN  \n",
       "4    NaN  \n",
       "\n",
       "[5 rows x 30 columns]"
      ]
     },
     "execution_count": 2,
     "metadata": {},
     "output_type": "execute_result"
    }
   ],
   "source": [
    "#Read in Louisiana election data\n",
    "sc_votes = pd.read_csv('../ElectionData/South Carolina.csv', low_memory=False)\n",
    "sc_votes.head()"
   ]
  },
  {
   "cell_type": "code",
   "execution_count": 3,
   "metadata": {},
   "outputs": [
    {
     "name": "stdout",
     "output_type": "stream",
     "text": [
      "<class 'pandas.core.frame.DataFrame'>\n",
      "RangeIndex: 5414 entries, 0 to 5413\n",
      "Data columns (total 30 columns):\n",
      " #   Column         Non-Null Count  Dtype  \n",
      "---  ------         --------------  -----  \n",
      " 0   State          5414 non-null   object \n",
      " 1   Year           2884 non-null   float64\n",
      " 2   Office         2884 non-null   object \n",
      " 3   County         5414 non-null   object \n",
      " 4   D#             4264 non-null   float64\n",
      " 5   R#             5276 non-null   float64\n",
      " 6   Prog.#         181 non-null    float64\n",
      " 7   S#             181 non-null    float64\n",
      " 8   SD#            46 non-null     float64\n",
      " 9   Proh.#         46 non-null     float64\n",
      " 10  SR#            460 non-null    float64\n",
      " 11  Am.#           736 non-null    float64\n",
      " 12  IND#           92 non-null     float64\n",
      " 13  I1#            322 non-null    float64\n",
      " 14  I2#            46 non-null     float64\n",
      " 15  Ref.#          138 non-null    float64\n",
      " 16  NL#            138 non-null    float64\n",
      " 17  L#             1426 non-null   float64\n",
      " 18  G#             460 non-null    float64\n",
      " 19  NA#            92 non-null     float64\n",
      " 20  UC#            414 non-null    float64\n",
      " 21  W/I#           2844 non-null   float64\n",
      " 22  D1#            874 non-null    float64\n",
      " 23  D2#            46 non-null     float64\n",
      " 24  I#             552 non-null    float64\n",
      " 25  W/I1#          1288 non-null   float64\n",
      " 26  W/I2#          92 non-null     float64\n",
      " 27  Year / Office  2530 non-null   object \n",
      " 28  C#             46 non-null     float64\n",
      " 29  All.#          46 non-null     float64\n",
      "dtypes: float64(26), object(4)\n",
      "memory usage: 1.2+ MB\n"
     ]
    }
   ],
   "source": [
    "#Louisiana column info\n",
    "sc_votes.info()"
   ]
  },
  {
   "cell_type": "code",
   "execution_count": 4,
   "metadata": {},
   "outputs": [],
   "source": [
    "#Fill NaN votes with zeroes\n",
    "sc_votes = sc_votes.fillna(0)"
   ]
  },
  {
   "cell_type": "code",
   "execution_count": 5,
   "metadata": {},
   "outputs": [],
   "source": [
    "#Convert year to numeric\n",
    "sc_votes['Year'] = pd.to_numeric(sc_votes['Year'])"
   ]
  },
  {
   "cell_type": "code",
   "execution_count": 6,
   "metadata": {},
   "outputs": [],
   "source": [
    "#Make Total Votes column\n",
    "sc_votes.loc[:,'Total Votes'] = (sc_votes.sum(axis=1)) - sc_votes['Year']"
   ]
  },
  {
   "cell_type": "code",
   "execution_count": 7,
   "metadata": {},
   "outputs": [],
   "source": [
    "#Filter rows with election results for president\n",
    "sc_pres = sc_votes[sc_votes['Office'] == 'President']"
   ]
  },
  {
   "cell_type": "code",
   "execution_count": 8,
   "metadata": {},
   "outputs": [],
   "source": [
    "#Drop office column\n",
    "sc_pres = sc_pres.drop('Office', axis = 1)"
   ]
  },
  {
   "cell_type": "code",
   "execution_count": 9,
   "metadata": {},
   "outputs": [],
   "source": [
    "#Convert year to numeric\n",
    "sc_pres['Year'] = pd.to_numeric(sc_pres['Year'])"
   ]
  },
  {
   "cell_type": "code",
   "execution_count": 10,
   "metadata": {},
   "outputs": [],
   "source": [
    "#Percentage of Democratic votes\n",
    "sc_pres['PCT_DEM'] = (round(sc_pres['D#']/sc_pres['Total Votes'],4))*100"
   ]
  },
  {
   "cell_type": "code",
   "execution_count": 11,
   "metadata": {},
   "outputs": [],
   "source": [
    "#Percentage of Republican votes\n",
    "sc_pres['PCT_REP'] = (round(sc_pres['R#']/sc_pres['Total Votes'],4))*100"
   ]
  },
  {
   "cell_type": "code",
   "execution_count": 12,
   "metadata": {},
   "outputs": [],
   "source": [
    "#Difference between Democratic and Republican votes\n",
    "sc_pres['RD_DIFF'] = sc_pres['PCT_REP'] - sc_pres['PCT_DEM']"
   ]
  },
  {
   "cell_type": "code",
   "execution_count": 13,
   "metadata": {},
   "outputs": [],
   "source": [
    "#Isolate state, year, county, and D/R difference\n",
    "sc_pres_pct = sc_pres[['State', 'Year', 'County', 'RD_DIFF']]"
   ]
  },
  {
   "cell_type": "code",
   "execution_count": 14,
   "metadata": {},
   "outputs": [],
   "source": [
    "#Filter the presidential results from 2020\n",
    "sc_pres_pct_2020 = sc_pres_pct[sc_pres_pct['Year'] == 2020]"
   ]
  },
  {
   "cell_type": "code",
   "execution_count": 15,
   "metadata": {},
   "outputs": [],
   "source": [
    "#Counties on US Route 15\n",
    "sc_counties = ['Colleton', 'Dorchester', 'Orangeburg', 'Clarendon', 'Sumter', 'Lee', 'Darlington', 'Marlboro']"
   ]
  },
  {
   "cell_type": "code",
   "execution_count": 16,
   "metadata": {},
   "outputs": [],
   "source": [
    "#Repeat for North Carolina\n",
    "nc_votes = pd.read_csv('../ElectionData/North Carolina.csv', low_memory=False)\n",
    "nc_votes = nc_votes.fillna(0)\n",
    "nc_votes['Year'] = pd.to_numeric(nc_votes['Year'])\n",
    "nc_votes.loc[:,'Total Votes'] = (nc_votes.sum(axis=1)) - nc_votes['Year']\n",
    "nc_pres = nc_votes[nc_votes['Office'] == 'President']\n",
    "nc_pres = nc_pres.drop('Office', axis = 1)\n",
    "nc_pres['Year'] = pd.to_numeric(nc_pres['Year'])\n",
    "nc_pres['PCT_DEM'] = (round(nc_pres['D#']/nc_pres['Total Votes'],4))*100\n",
    "nc_pres['PCT_REP'] = (round(nc_pres['R#']/nc_pres['Total Votes'],4))*100\n",
    "nc_pres['RD_DIFF'] = nc_pres['PCT_REP'] - nc_pres['PCT_DEM']\n",
    "nc_pres_pct = nc_pres[['State', 'Year', 'County', 'RD_DIFF']]\n",
    "nc_pres_pct_2020 = nc_pres_pct[nc_pres_pct['Year'] == 2020]\n",
    "nc_counties = ['Scotland', 'Hoke', 'Moore', 'Lee', 'Chatham', 'Orange', 'Durham', 'Granville']"
   ]
  },
  {
   "cell_type": "code",
   "execution_count": 17,
   "metadata": {},
   "outputs": [],
   "source": [
    "#Repeat for Virginia\n",
    "va_votes = pd.read_csv('../ElectionData/Virginia.csv', low_memory=False)\n",
    "va_votes = va_votes.fillna(0)\n",
    "va_votes['Year'] = pd.to_numeric(va_votes['Year'])\n",
    "va_votes.loc[:,'Total Votes'] = (va_votes.sum(axis=1)) - va_votes['Year']\n",
    "va_pres = va_votes[va_votes['Office'] == 'President']\n",
    "va_pres = va_pres.drop('Office', axis = 1)\n",
    "va_pres['Year'] = pd.to_numeric(va_pres['Year'])\n",
    "va_pres['PCT_DEM'] = (round(va_pres['D#']/va_pres['Total Votes'],4))*100\n",
    "va_pres['PCT_REP'] = (round(va_pres['R#']/va_pres['Total Votes'],4))*100\n",
    "va_pres['RD_DIFF'] = va_pres['PCT_REP'] - va_pres['PCT_DEM']\n",
    "va_pres_pct = va_pres[['State', 'Year', 'County/City', 'RD_DIFF']]\n",
    "va_pres_pct_2020 = va_pres_pct[va_pres_pct['Year'] == 2020]\n",
    "va_counties = ['Mecklenburg', 'Charlotte', 'Prince Edward', 'Buckingham', 'Fluvanna', 'Louisa', 'Orange', 'Madison', \\\n",
    "               'Culpeper', 'Fauquier', 'Prince William', 'Loudoun']"
   ]
  },
  {
   "cell_type": "code",
   "execution_count": 18,
   "metadata": {},
   "outputs": [],
   "source": [
    "#Repeat for Maryland\n",
    "md_votes = pd.read_csv('../ElectionData/Maryland.csv', low_memory=False)\n",
    "md_votes = md_votes.fillna(0)\n",
    "md_votes['Year'] = pd.to_numeric(md_votes['Year'])\n",
    "md_votes.loc[:,'Total Votes'] = (md_votes.sum(axis=1)) - md_votes['Year']\n",
    "md_pres = md_votes[md_votes['Office'] == 'President']\n",
    "md_pres = md_pres.drop('Office', axis = 1)\n",
    "md_pres['Year'] = pd.to_numeric(md_pres['Year'])\n",
    "md_pres['PCT_DEM'] = (round(md_pres['D#']/md_pres['Total Votes'],4))*100\n",
    "md_pres['PCT_REP'] = (round(md_pres['R#']/md_pres['Total Votes'],4))*100\n",
    "md_pres['RD_DIFF'] = md_pres['PCT_REP'] - md_pres['PCT_DEM']\n",
    "md_pres_pct = md_pres[['State', 'Year', 'County', 'RD_DIFF']]\n",
    "md_pres_pct_2020 = md_pres_pct[md_pres_pct['Year'] == 2020]\n",
    "md_counties = ['Frederick']"
   ]
  },
  {
   "cell_type": "code",
   "execution_count": 19,
   "metadata": {},
   "outputs": [],
   "source": [
    "#Repeat for Pennsylvania\n",
    "pa_votes = pd.read_csv('../ElectionData/Pennsylvania.csv', low_memory=False)\n",
    "pa_votes = pa_votes.fillna(0)\n",
    "pa_votes['Year'] = pd.to_numeric(pa_votes['Year'])\n",
    "pa_votes.loc[:,'Total Votes'] = (pa_votes.sum(axis=1)) - pa_votes['Year']\n",
    "pa_pres = pa_votes[pa_votes['Office'] == 'President']\n",
    "pa_pres = pa_pres.drop('Office', axis = 1)\n",
    "pa_pres['Year'] = pd.to_numeric(pa_pres['Year'])\n",
    "pa_pres['PCT_DEM'] = (round(pa_pres['D#']/pa_pres['Total Votes'],4))*100\n",
    "pa_pres['PCT_REP'] = (round(pa_pres['R#']/pa_pres['Total Votes'],4))*100\n",
    "pa_pres['RD_DIFF'] = pa_pres['PCT_REP'] - pa_pres['PCT_DEM']\n",
    "pa_pres_pct = pa_pres[['State', 'Year', 'County', 'RD_DIFF']]\n",
    "pa_pres_pct_2020 = pa_pres_pct[pa_pres_pct['Year'] == 2020]\n",
    "pa_counties = ['Adams', 'York', 'Cumberland', 'Perry', 'Dauphin', 'Juniata', 'Snyder', 'Union', 'Lycoming', 'Tioga']"
   ]
  },
  {
   "cell_type": "code",
   "execution_count": 20,
   "metadata": {},
   "outputs": [],
   "source": [
    "#Repeat for New York\n",
    "ny_votes = pd.read_csv('../ElectionData/New York.csv', low_memory=False)\n",
    "ny_votes = ny_votes.fillna(0)\n",
    "ny_votes['Year'] = pd.to_numeric(ny_votes['Year'])\n",
    "ny_votes.loc[:,'Total Votes'] = (ny_votes.sum(axis=1)) - ny_votes['Year']\n",
    "ny_pres = ny_votes[ny_votes['Office'] == 'President']\n",
    "ny_pres = ny_pres.drop('Office', axis = 1)\n",
    "ny_pres['Year'] = pd.to_numeric(ny_pres['Year'])\n",
    "ny_pres['PCT_DEM'] = (round(ny_pres['D#']/ny_pres['Total Votes'],4))*100\n",
    "ny_pres['PCT_REP'] = (round(ny_pres['R#']/ny_pres['Total Votes'],4))*100\n",
    "ny_pres['RD_DIFF'] = ny_pres['PCT_REP'] - ny_pres['PCT_DEM']\n",
    "ny_pres_pct = ny_pres[['State', 'Year', 'County', 'RD_DIFF']]\n",
    "ny_pres_pct_2020 = ny_pres_pct[ny_pres_pct['Year'] == 2020]\n",
    "ny_counties = ['Steuben']"
   ]
  },
  {
   "cell_type": "markdown",
   "metadata": {},
   "source": [
    "Now find the margins from each county."
   ]
  },
  {
   "cell_type": "code",
   "execution_count": 21,
   "metadata": {},
   "outputs": [
    {
     "name": "stdout",
     "output_type": "stream",
     "text": [
      "               State    Year    County  RD_DIFF\n",
      "5336  South Carolina  2020.0  Colleton     9.53\n",
      "               State    Year      County  RD_DIFF\n",
      "5339  South Carolina  2020.0  Dorchester    10.47\n",
      "               State    Year      County  RD_DIFF\n",
      "5359  South Carolina  2020.0  Orangeburg   -33.23\n",
      "               State    Year     County  RD_DIFF\n",
      "5335  South Carolina  2020.0  Clarendon     0.67\n",
      "               State    Year  County  RD_DIFF\n",
      "5364  South Carolina  2020.0  Sumter   -13.04\n",
      "               State    Year County  RD_DIFF\n",
      "5352  South Carolina  2020.0    Lee   -27.53\n",
      "               State    Year      County  RD_DIFF\n",
      "5337  South Carolina  2020.0  Darlington     4.97\n",
      "               State    Year    County  RD_DIFF\n",
      "5356  South Carolina  2020.0  Marlboro   -10.88\n"
     ]
    }
   ],
   "source": [
    "for c in sc_counties:\n",
    "    print(sc_pres_pct_2020[sc_pres_pct_2020['County'] == c])"
   ]
  },
  {
   "cell_type": "code",
   "execution_count": 22,
   "metadata": {},
   "outputs": [
    {
     "name": "stdout",
     "output_type": "stream",
     "text": [
      "                State    Year    County  RD_DIFF\n",
      "11778  North Carolina  2020.0  Scotland     1.94\n",
      "                State    Year County  RD_DIFF\n",
      "11742  North Carolina  2020.0   Hoke   -10.86\n",
      "                State    Year County  RD_DIFF\n",
      "11758  North Carolina  2020.0  Moore     27.4\n",
      "                State    Year County  RD_DIFF\n",
      "11748  North Carolina  2020.0    Lee    14.91\n",
      "                State    Year   County  RD_DIFF\n",
      "11714  North Carolina  2020.0  Chatham   -11.53\n",
      "                State    Year  County  RD_DIFF\n",
      "11763  North Carolina  2020.0  Orange   -51.08\n",
      "                State    Year  County  RD_DIFF\n",
      "11727  North Carolina  2020.0  Durham   -62.38\n",
      "                State    Year     County  RD_DIFF\n",
      "11734  North Carolina  2020.0  Granville     6.59\n"
     ]
    }
   ],
   "source": [
    "for c in nc_counties:\n",
    "    print(nc_pres_pct_2020[nc_pres_pct_2020['County'] == c])"
   ]
  },
  {
   "cell_type": "code",
   "execution_count": 23,
   "metadata": {},
   "outputs": [
    {
     "name": "stdout",
     "output_type": "stream",
     "text": [
      "          State    Year  County/City  RD_DIFF\n",
      "13951  Virginia  2020.0  Mecklenburg     15.2\n",
      "          State    Year County/City  RD_DIFF\n",
      "13913  Virginia  2020.0   Charlotte    24.19\n",
      "          State    Year    County/City  RD_DIFF\n",
      "13964  Virginia  2020.0  Prince Edward    -5.63\n",
      "          State    Year County/City  RD_DIFF\n",
      "13908  Virginia  2020.0  Buckingham    13.21\n",
      "          State    Year County/City  RD_DIFF\n",
      "13925  Virginia  2020.0    Fluvanna     4.67\n",
      "          State    Year County/City  RD_DIFF\n",
      "13947  Virginia  2020.0      Louisa    22.93\n",
      "          State    Year County/City  RD_DIFF\n",
      "13959  Virginia  2020.0      Orange    21.37\n",
      "          State    Year County/City  RD_DIFF\n",
      "13949  Virginia  2020.0     Madison    32.01\n",
      "          State    Year County/City  RD_DIFF\n",
      "13917  Virginia  2020.0    Culpeper     19.9\n",
      "          State    Year County/City  RD_DIFF\n",
      "13923  Virginia  2020.0    Fauquier    17.27\n",
      "          State    Year     County/City  RD_DIFF\n",
      "13966  Virginia  2020.0  Prince William   -27.03\n",
      "          State    Year County/City  RD_DIFF\n",
      "13946  Virginia  2020.0     Loudoun   -25.03\n"
     ]
    }
   ],
   "source": [
    "for c in va_counties:\n",
    "    print(va_pres_pct_2020[va_pres_pct_2020['County/City'] == c])"
   ]
  },
  {
   "cell_type": "code",
   "execution_count": 24,
   "metadata": {},
   "outputs": [
    {
     "name": "stdout",
     "output_type": "stream",
     "text": [
      "         State  Year     County  RD_DIFF\n",
      "3658  Maryland  2020  Frederick    -9.61\n"
     ]
    }
   ],
   "source": [
    "for c in md_counties:\n",
    "    print(md_pres_pct_2020[md_pres_pct_2020['County'] == c])"
   ]
  },
  {
   "cell_type": "code",
   "execution_count": 25,
   "metadata": {},
   "outputs": [
    {
     "name": "stdout",
     "output_type": "stream",
     "text": [
      "             State    Year County  RD_DIFF\n",
      "9246  Pennsylvania  2020.0  Adams     34.0\n",
      "             State    Year County  RD_DIFF\n",
      "9312  Pennsylvania  2020.0   York    24.51\n",
      "             State    Year      County  RD_DIFF\n",
      "9266  Pennsylvania  2020.0  Cumberland    10.52\n",
      "             State    Year County  RD_DIFF\n",
      "9295  Pennsylvania  2020.0  Perry    49.92\n",
      "             State    Year   County  RD_DIFF\n",
      "9267  Pennsylvania  2020.0  Dauphin     -8.5\n",
      "             State    Year   County  RD_DIFF\n",
      "9279  Pennsylvania  2020.0  Juniata    61.27\n",
      "             State    Year  County  RD_DIFF\n",
      "9300  Pennsylvania  2020.0  Snyder     47.3\n",
      "             State    Year County  RD_DIFF\n",
      "9305  Pennsylvania  2020.0  Union    24.17\n",
      "             State    Year    County  RD_DIFF\n",
      "9286  Pennsylvania  2020.0  Lycoming    41.23\n",
      "             State    Year County  RD_DIFF\n",
      "9304  Pennsylvania  2020.0  Tioga    51.06\n"
     ]
    }
   ],
   "source": [
    "for c in pa_counties:\n",
    "    print(pa_pres_pct_2020[pa_pres_pct_2020['County'] == c])"
   ]
  },
  {
   "cell_type": "code",
   "execution_count": 26,
   "metadata": {},
   "outputs": [
    {
     "name": "stdout",
     "output_type": "stream",
     "text": [
      "         State    Year   County  RD_DIFF\n",
      "5553  New York  2020.0  Steuben    29.64\n"
     ]
    }
   ],
   "source": [
    "for c in ny_counties:\n",
    "    print(ny_pres_pct_2020[ny_pres_pct_2020['County'] == c])"
   ]
  }
 ],
 "metadata": {
  "kernelspec": {
   "display_name": "Python 3",
   "language": "python",
   "name": "python3"
  },
  "language_info": {
   "codemirror_mode": {
    "name": "ipython",
    "version": 3
   },
   "file_extension": ".py",
   "mimetype": "text/x-python",
   "name": "python",
   "nbconvert_exporter": "python",
   "pygments_lexer": "ipython3",
   "version": "3.8.5"
  }
 },
 "nbformat": 4,
 "nbformat_minor": 4
}
