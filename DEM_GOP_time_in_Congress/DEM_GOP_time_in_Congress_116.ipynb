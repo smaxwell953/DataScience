{
 "cells": [
  {
   "cell_type": "code",
   "execution_count": 1,
   "metadata": {},
   "outputs": [],
   "source": [
    "import numpy as np\n",
    "import pandas as pd\n",
    "from scipy import stats\n",
    "from sklearn import preprocessing\n",
    "from sklearn.preprocessing import normalize\n",
    "from datetime import datetime"
   ]
  },
  {
   "cell_type": "code",
   "execution_count": 2,
   "metadata": {},
   "outputs": [],
   "source": [
    "demgop = pd.read_csv('116th_congress.csv', parse_dates=True)"
   ]
  },
  {
   "cell_type": "code",
   "execution_count": 3,
   "metadata": {},
   "outputs": [
    {
     "name": "stdout",
     "output_type": "stream",
     "text": [
      "<class 'pandas.core.frame.DataFrame'>\n",
      "RangeIndex: 530 entries, 0 to 529\n",
      "Data columns (total 5 columns):\n",
      " #   Column        Non-Null Count  Dtype \n",
      "---  ------        --------------  ----- \n",
      " 0   Office        530 non-null    object\n",
      " 1   Name          530 non-null    object\n",
      " 2   Party         530 non-null    object\n",
      " 3   Birth Date    530 non-null    object\n",
      " 4   Date started  530 non-null    object\n",
      "dtypes: object(5)\n",
      "memory usage: 20.8+ KB\n"
     ]
    }
   ],
   "source": [
    "demgop.info()"
   ]
  },
  {
   "cell_type": "code",
   "execution_count": 4,
   "metadata": {},
   "outputs": [
    {
     "data": {
      "text/html": [
       "<div>\n",
       "<style scoped>\n",
       "    .dataframe tbody tr th:only-of-type {\n",
       "        vertical-align: middle;\n",
       "    }\n",
       "\n",
       "    .dataframe tbody tr th {\n",
       "        vertical-align: top;\n",
       "    }\n",
       "\n",
       "    .dataframe thead th {\n",
       "        text-align: right;\n",
       "    }\n",
       "</style>\n",
       "<table border=\"1\" class=\"dataframe\">\n",
       "  <thead>\n",
       "    <tr style=\"text-align: right;\">\n",
       "      <th></th>\n",
       "      <th>Office</th>\n",
       "      <th>Name</th>\n",
       "      <th>Party</th>\n",
       "      <th>Birth Date</th>\n",
       "      <th>Date started</th>\n",
       "    </tr>\n",
       "  </thead>\n",
       "  <tbody>\n",
       "    <tr>\n",
       "      <th>0</th>\n",
       "      <td>Senate</td>\n",
       "      <td>Richard Shelby</td>\n",
       "      <td>Republican</td>\n",
       "      <td>05-06-1934</td>\n",
       "      <td>01-03-1987</td>\n",
       "    </tr>\n",
       "    <tr>\n",
       "      <th>1</th>\n",
       "      <td>Senate</td>\n",
       "      <td>Doug Jones</td>\n",
       "      <td>Democratic</td>\n",
       "      <td>05-04-1954</td>\n",
       "      <td>01-03-2018</td>\n",
       "    </tr>\n",
       "    <tr>\n",
       "      <th>2</th>\n",
       "      <td>Senate</td>\n",
       "      <td>Lisa Murkowski</td>\n",
       "      <td>Republican</td>\n",
       "      <td>05-22-1957</td>\n",
       "      <td>12-20-2002</td>\n",
       "    </tr>\n",
       "    <tr>\n",
       "      <th>3</th>\n",
       "      <td>Senate</td>\n",
       "      <td>Dan Sullivan</td>\n",
       "      <td>Republican</td>\n",
       "      <td>11-13-1964</td>\n",
       "      <td>01-03-2015</td>\n",
       "    </tr>\n",
       "    <tr>\n",
       "      <th>4</th>\n",
       "      <td>Senate</td>\n",
       "      <td>Kyrsten Sinema</td>\n",
       "      <td>Democratic</td>\n",
       "      <td>07-12-1976</td>\n",
       "      <td>01-03-2019</td>\n",
       "    </tr>\n",
       "  </tbody>\n",
       "</table>\n",
       "</div>"
      ],
      "text/plain": [
       "   Office            Name       Party  Birth Date Date started\n",
       "0  Senate  Richard Shelby  Republican  05-06-1934   01-03-1987\n",
       "1  Senate      Doug Jones  Democratic  05-04-1954   01-03-2018\n",
       "2  Senate  Lisa Murkowski  Republican  05-22-1957   12-20-2002\n",
       "3  Senate    Dan Sullivan  Republican  11-13-1964   01-03-2015\n",
       "4  Senate  Kyrsten Sinema  Democratic  07-12-1976   01-03-2019"
      ]
     },
     "execution_count": 4,
     "metadata": {},
     "output_type": "execute_result"
    }
   ],
   "source": [
    "demgop.head()"
   ]
  },
  {
   "cell_type": "code",
   "execution_count": 5,
   "metadata": {},
   "outputs": [],
   "source": [
    "#Convert birth date and date started to datetime\n",
    "demgop['Birth Date'] = demgop['Birth Date'].apply(pd.to_datetime)\n",
    "demgop['Date started'] = demgop['Date started'].apply(pd.to_datetime)"
   ]
  },
  {
   "cell_type": "code",
   "execution_count": 6,
   "metadata": {},
   "outputs": [
    {
     "data": {
      "text/html": [
       "<div>\n",
       "<style scoped>\n",
       "    .dataframe tbody tr th:only-of-type {\n",
       "        vertical-align: middle;\n",
       "    }\n",
       "\n",
       "    .dataframe tbody tr th {\n",
       "        vertical-align: top;\n",
       "    }\n",
       "\n",
       "    .dataframe thead th {\n",
       "        text-align: right;\n",
       "    }\n",
       "</style>\n",
       "<table border=\"1\" class=\"dataframe\">\n",
       "  <thead>\n",
       "    <tr style=\"text-align: right;\">\n",
       "      <th></th>\n",
       "      <th>Office</th>\n",
       "      <th>Name</th>\n",
       "      <th>Party</th>\n",
       "      <th>Birth Date</th>\n",
       "      <th>Date started</th>\n",
       "      <th>Age</th>\n",
       "      <th>Time Served</th>\n",
       "    </tr>\n",
       "  </thead>\n",
       "  <tbody>\n",
       "    <tr>\n",
       "      <th>0</th>\n",
       "      <td>Senate</td>\n",
       "      <td>Richard Shelby</td>\n",
       "      <td>Republican</td>\n",
       "      <td>1934-05-06</td>\n",
       "      <td>1987-01-03</td>\n",
       "      <td>31629 days</td>\n",
       "      <td>12394 days</td>\n",
       "    </tr>\n",
       "    <tr>\n",
       "      <th>1</th>\n",
       "      <td>Senate</td>\n",
       "      <td>Doug Jones</td>\n",
       "      <td>Democratic</td>\n",
       "      <td>1954-05-04</td>\n",
       "      <td>2018-01-03</td>\n",
       "      <td>24326 days</td>\n",
       "      <td>1071 days</td>\n",
       "    </tr>\n",
       "    <tr>\n",
       "      <th>2</th>\n",
       "      <td>Senate</td>\n",
       "      <td>Lisa Murkowski</td>\n",
       "      <td>Republican</td>\n",
       "      <td>1957-05-22</td>\n",
       "      <td>2002-12-20</td>\n",
       "      <td>23212 days</td>\n",
       "      <td>6564 days</td>\n",
       "    </tr>\n",
       "    <tr>\n",
       "      <th>3</th>\n",
       "      <td>Senate</td>\n",
       "      <td>Dan Sullivan</td>\n",
       "      <td>Republican</td>\n",
       "      <td>1964-11-13</td>\n",
       "      <td>2015-01-03</td>\n",
       "      <td>20480 days</td>\n",
       "      <td>2167 days</td>\n",
       "    </tr>\n",
       "    <tr>\n",
       "      <th>4</th>\n",
       "      <td>Senate</td>\n",
       "      <td>Kyrsten Sinema</td>\n",
       "      <td>Democratic</td>\n",
       "      <td>1976-07-12</td>\n",
       "      <td>2019-01-03</td>\n",
       "      <td>16221 days</td>\n",
       "      <td>706 days</td>\n",
       "    </tr>\n",
       "  </tbody>\n",
       "</table>\n",
       "</div>"
      ],
      "text/plain": [
       "   Office            Name       Party Birth Date Date started        Age  \\\n",
       "0  Senate  Richard Shelby  Republican 1934-05-06   1987-01-03 31629 days   \n",
       "1  Senate      Doug Jones  Democratic 1954-05-04   2018-01-03 24326 days   \n",
       "2  Senate  Lisa Murkowski  Republican 1957-05-22   2002-12-20 23212 days   \n",
       "3  Senate    Dan Sullivan  Republican 1964-11-13   2015-01-03 20480 days   \n",
       "4  Senate  Kyrsten Sinema  Democratic 1976-07-12   2019-01-03 16221 days   \n",
       "\n",
       "  Time Served  \n",
       "0  12394 days  \n",
       "1   1071 days  \n",
       "2   6564 days  \n",
       "3   2167 days  \n",
       "4    706 days  "
      ]
     },
     "execution_count": 6,
     "metadata": {},
     "output_type": "execute_result"
    }
   ],
   "source": [
    "#Calculate the difference between birth date and today, and the difference between date started and today\n",
    "demgop['Age'] = pd.Timestamp.today().normalize() - demgop['Birth Date']\n",
    "demgop['Time Served'] = pd.Timestamp.today().normalize() - demgop['Date started']\n",
    "demgop.head()"
   ]
  },
  {
   "cell_type": "code",
   "execution_count": 7,
   "metadata": {},
   "outputs": [
    {
     "data": {
      "text/html": [
       "<div>\n",
       "<style scoped>\n",
       "    .dataframe tbody tr th:only-of-type {\n",
       "        vertical-align: middle;\n",
       "    }\n",
       "\n",
       "    .dataframe tbody tr th {\n",
       "        vertical-align: top;\n",
       "    }\n",
       "\n",
       "    .dataframe thead th {\n",
       "        text-align: right;\n",
       "    }\n",
       "</style>\n",
       "<table border=\"1\" class=\"dataframe\">\n",
       "  <thead>\n",
       "    <tr style=\"text-align: right;\">\n",
       "      <th></th>\n",
       "      <th>Party</th>\n",
       "      <th>Age</th>\n",
       "      <th>Time Served</th>\n",
       "    </tr>\n",
       "  </thead>\n",
       "  <tbody>\n",
       "    <tr>\n",
       "      <th>0</th>\n",
       "      <td>Republican</td>\n",
       "      <td>31629 days</td>\n",
       "      <td>12394 days</td>\n",
       "    </tr>\n",
       "    <tr>\n",
       "      <th>1</th>\n",
       "      <td>Democratic</td>\n",
       "      <td>24326 days</td>\n",
       "      <td>1071 days</td>\n",
       "    </tr>\n",
       "    <tr>\n",
       "      <th>2</th>\n",
       "      <td>Republican</td>\n",
       "      <td>23212 days</td>\n",
       "      <td>6564 days</td>\n",
       "    </tr>\n",
       "    <tr>\n",
       "      <th>3</th>\n",
       "      <td>Republican</td>\n",
       "      <td>20480 days</td>\n",
       "      <td>2167 days</td>\n",
       "    </tr>\n",
       "    <tr>\n",
       "      <th>4</th>\n",
       "      <td>Democratic</td>\n",
       "      <td>16221 days</td>\n",
       "      <td>706 days</td>\n",
       "    </tr>\n",
       "  </tbody>\n",
       "</table>\n",
       "</div>"
      ],
      "text/plain": [
       "        Party        Age Time Served\n",
       "0  Republican 31629 days  12394 days\n",
       "1  Democratic 24326 days   1071 days\n",
       "2  Republican 23212 days   6564 days\n",
       "3  Republican 20480 days   2167 days\n",
       "4  Democratic 16221 days    706 days"
      ]
     },
     "execution_count": 7,
     "metadata": {},
     "output_type": "execute_result"
    }
   ],
   "source": [
    "dem_gop_time = demgop[['Party', 'Age', 'Time Served']]\n",
    "dem_gop_time.head()"
   ]
  },
  {
   "cell_type": "code",
   "execution_count": 8,
   "metadata": {},
   "outputs": [
    {
     "data": {
      "text/html": [
       "<div>\n",
       "<style scoped>\n",
       "    .dataframe tbody tr th:only-of-type {\n",
       "        vertical-align: middle;\n",
       "    }\n",
       "\n",
       "    .dataframe tbody tr th {\n",
       "        vertical-align: top;\n",
       "    }\n",
       "\n",
       "    .dataframe thead th {\n",
       "        text-align: right;\n",
       "    }\n",
       "</style>\n",
       "<table border=\"1\" class=\"dataframe\">\n",
       "  <thead>\n",
       "    <tr style=\"text-align: right;\">\n",
       "      <th></th>\n",
       "      <th>Party</th>\n",
       "      <th>Age</th>\n",
       "      <th>Time Served</th>\n",
       "    </tr>\n",
       "  </thead>\n",
       "  <tbody>\n",
       "    <tr>\n",
       "      <th>0</th>\n",
       "      <td>Republican</td>\n",
       "      <td>31629 days</td>\n",
       "      <td>12394 days</td>\n",
       "    </tr>\n",
       "    <tr>\n",
       "      <th>2</th>\n",
       "      <td>Republican</td>\n",
       "      <td>23212 days</td>\n",
       "      <td>6564 days</td>\n",
       "    </tr>\n",
       "    <tr>\n",
       "      <th>3</th>\n",
       "      <td>Republican</td>\n",
       "      <td>20480 days</td>\n",
       "      <td>2167 days</td>\n",
       "    </tr>\n",
       "    <tr>\n",
       "      <th>5</th>\n",
       "      <td>Republican</td>\n",
       "      <td>19986 days</td>\n",
       "      <td>706 days</td>\n",
       "    </tr>\n",
       "    <tr>\n",
       "      <th>6</th>\n",
       "      <td>Republican</td>\n",
       "      <td>25567 days</td>\n",
       "      <td>3628 days</td>\n",
       "    </tr>\n",
       "  </tbody>\n",
       "</table>\n",
       "</div>"
      ],
      "text/plain": [
       "        Party        Age Time Served\n",
       "0  Republican 31629 days  12394 days\n",
       "2  Republican 23212 days   6564 days\n",
       "3  Republican 20480 days   2167 days\n",
       "5  Republican 19986 days    706 days\n",
       "6  Republican 25567 days   3628 days"
      ]
     },
     "execution_count": 8,
     "metadata": {},
     "output_type": "execute_result"
    }
   ],
   "source": [
    "#Subset Republicans and Democrats (counting the two Independents as Democrats)\n",
    "gop = dem_gop_time[(dem_gop_time[\"Party\"] == 'Republican')]\n",
    "gop.head()"
   ]
  },
  {
   "cell_type": "code",
   "execution_count": 10,
   "metadata": {},
   "outputs": [
    {
     "data": {
      "text/html": [
       "<div>\n",
       "<style scoped>\n",
       "    .dataframe tbody tr th:only-of-type {\n",
       "        vertical-align: middle;\n",
       "    }\n",
       "\n",
       "    .dataframe tbody tr th {\n",
       "        vertical-align: top;\n",
       "    }\n",
       "\n",
       "    .dataframe thead th {\n",
       "        text-align: right;\n",
       "    }\n",
       "</style>\n",
       "<table border=\"1\" class=\"dataframe\">\n",
       "  <thead>\n",
       "    <tr style=\"text-align: right;\">\n",
       "      <th></th>\n",
       "      <th>Party</th>\n",
       "      <th>Age</th>\n",
       "      <th>Time Served</th>\n",
       "    </tr>\n",
       "  </thead>\n",
       "  <tbody>\n",
       "    <tr>\n",
       "      <th>1</th>\n",
       "      <td>Democratic</td>\n",
       "      <td>24326 days</td>\n",
       "      <td>1071 days</td>\n",
       "    </tr>\n",
       "    <tr>\n",
       "      <th>4</th>\n",
       "      <td>Democratic</td>\n",
       "      <td>16221 days</td>\n",
       "      <td>706 days</td>\n",
       "    </tr>\n",
       "    <tr>\n",
       "      <th>8</th>\n",
       "      <td>Democratic</td>\n",
       "      <td>31947 days</td>\n",
       "      <td>10256 days</td>\n",
       "    </tr>\n",
       "    <tr>\n",
       "      <th>9</th>\n",
       "      <td>Democratic</td>\n",
       "      <td>20504 days</td>\n",
       "      <td>1436 days</td>\n",
       "    </tr>\n",
       "    <tr>\n",
       "      <th>10</th>\n",
       "      <td>Democratic</td>\n",
       "      <td>20465 days</td>\n",
       "      <td>4340 days</td>\n",
       "    </tr>\n",
       "  </tbody>\n",
       "</table>\n",
       "</div>"
      ],
      "text/plain": [
       "         Party        Age Time Served\n",
       "1   Democratic 24326 days   1071 days\n",
       "4   Democratic 16221 days    706 days\n",
       "8   Democratic 31947 days  10256 days\n",
       "9   Democratic 20504 days   1436 days\n",
       "10  Democratic 20465 days   4340 days"
      ]
     },
     "execution_count": 10,
     "metadata": {},
     "output_type": "execute_result"
    }
   ],
   "source": [
    "dem_ind = dem_gop_time[(dem_gop_time[\"Party\"] == 'Democratic') | (dem_gop_time[\"Party\"] == 'Independent')]\n",
    "dem_ind.head()"
   ]
  },
  {
   "cell_type": "code",
   "execution_count": 23,
   "metadata": {},
   "outputs": [
    {
     "data": {
      "text/html": [
       "<div>\n",
       "<style scoped>\n",
       "    .dataframe tbody tr th:only-of-type {\n",
       "        vertical-align: middle;\n",
       "    }\n",
       "\n",
       "    .dataframe tbody tr th {\n",
       "        vertical-align: top;\n",
       "    }\n",
       "\n",
       "    .dataframe thead th {\n",
       "        text-align: right;\n",
       "    }\n",
       "</style>\n",
       "<table border=\"1\" class=\"dataframe\">\n",
       "  <thead>\n",
       "    <tr style=\"text-align: right;\">\n",
       "      <th></th>\n",
       "      <th>Age (R)</th>\n",
       "      <th>Time Served (R)</th>\n",
       "    </tr>\n",
       "  </thead>\n",
       "  <tbody>\n",
       "    <tr>\n",
       "      <th>0</th>\n",
       "      <td>0.172233</td>\n",
       "      <td>0.040355</td>\n",
       "    </tr>\n",
       "    <tr>\n",
       "      <th>1</th>\n",
       "      <td>0.126396</td>\n",
       "      <td>0.021369</td>\n",
       "    </tr>\n",
       "    <tr>\n",
       "      <th>2</th>\n",
       "      <td>0.111518</td>\n",
       "      <td>0.007050</td>\n",
       "    </tr>\n",
       "    <tr>\n",
       "      <th>3</th>\n",
       "      <td>0.108828</td>\n",
       "      <td>0.002293</td>\n",
       "    </tr>\n",
       "    <tr>\n",
       "      <th>4</th>\n",
       "      <td>0.139220</td>\n",
       "      <td>0.011808</td>\n",
       "    </tr>\n",
       "  </tbody>\n",
       "</table>\n",
       "</div>"
      ],
      "text/plain": [
       "    Age (R)  Time Served (R)\n",
       "0  0.172233         0.040355\n",
       "1  0.126396         0.021369\n",
       "2  0.111518         0.007050\n",
       "3  0.108828         0.002293\n",
       "4  0.139220         0.011808"
      ]
     },
     "execution_count": 23,
     "metadata": {},
     "output_type": "execute_result"
    }
   ],
   "source": [
    "#Normalize age and time served for Republicans\n",
    "norm_gop = preprocessing.normalize(gop[['Age', 'Time Served']], axis=0)\n",
    "\n",
    "#Convert array to DataFrame\n",
    "norm_gop = pd.DataFrame(norm_gop)\n",
    "\n",
    "#Rename column heads\n",
    "norm_gop.rename(columns={0:'Age (R)', 1:'Time Served (R)'}, inplace=True)\n",
    "norm_gop.head()"
   ]
  },
  {
   "cell_type": "code",
   "execution_count": 24,
   "metadata": {},
   "outputs": [
    {
     "data": {
      "text/html": [
       "<div>\n",
       "<style scoped>\n",
       "    .dataframe tbody tr th:only-of-type {\n",
       "        vertical-align: middle;\n",
       "    }\n",
       "\n",
       "    .dataframe tbody tr th {\n",
       "        vertical-align: top;\n",
       "    }\n",
       "\n",
       "    .dataframe thead th {\n",
       "        text-align: right;\n",
       "    }\n",
       "</style>\n",
       "<table border=\"1\" class=\"dataframe\">\n",
       "  <thead>\n",
       "    <tr style=\"text-align: right;\">\n",
       "      <th></th>\n",
       "      <th>Age (D)</th>\n",
       "      <th>Time Served (D)</th>\n",
       "    </tr>\n",
       "  </thead>\n",
       "  <tbody>\n",
       "    <tr>\n",
       "      <th>0</th>\n",
       "      <td>0.132007</td>\n",
       "      <td>0.003102</td>\n",
       "    </tr>\n",
       "    <tr>\n",
       "      <th>1</th>\n",
       "      <td>0.088021</td>\n",
       "      <td>0.002043</td>\n",
       "    </tr>\n",
       "    <tr>\n",
       "      <th>2</th>\n",
       "      <td>0.173366</td>\n",
       "      <td>0.029750</td>\n",
       "    </tr>\n",
       "    <tr>\n",
       "      <th>3</th>\n",
       "      <td>0.111265</td>\n",
       "      <td>0.004160</td>\n",
       "    </tr>\n",
       "    <tr>\n",
       "      <th>4</th>\n",
       "      <td>0.111053</td>\n",
       "      <td>0.012586</td>\n",
       "    </tr>\n",
       "  </tbody>\n",
       "</table>\n",
       "</div>"
      ],
      "text/plain": [
       "    Age (D)  Time Served (D)\n",
       "0  0.132007         0.003102\n",
       "1  0.088021         0.002043\n",
       "2  0.173366         0.029750\n",
       "3  0.111265         0.004160\n",
       "4  0.111053         0.012586"
      ]
     },
     "execution_count": 24,
     "metadata": {},
     "output_type": "execute_result"
    }
   ],
   "source": [
    "#Normalize age and time served for Democrats\n",
    "norm_dem = preprocessing.normalize(dem_ind[['Age', 'Time Served']], axis=0)\n",
    "\n",
    "#Convert array to DataFrame\n",
    "norm_dem = pd.DataFrame(norm_dem)\n",
    "\n",
    "#Rename column heads\n",
    "norm_dem.rename(columns={0:'Age (D)', 1:'Time Served (D)'}, inplace=True)\n",
    "norm_dem.head()"
   ]
  },
  {
   "cell_type": "markdown",
   "metadata": {},
   "source": [
    "Null hypothesis: There is no statistically significant difference between the mean ages of Republicans and Democrats.<br><br>\n",
    "Alternate hypothesis: There is a statistically significant difference between the mean ages of Republicans and Democrats."
   ]
  },
  {
   "cell_type": "code",
   "execution_count": 26,
   "metadata": {},
   "outputs": [
    {
     "data": {
      "text/plain": [
       "Ttest_indResult(statistic=0.3206021804515866, pvalue=0.7486389703899009)"
      ]
     },
     "metadata": {},
     "output_type": "display_data"
    }
   ],
   "source": [
    "res_age = stats.ttest_ind(norm_gop['Age (R)'], norm_dem['Age (D)'])\n",
    "display(res_age)"
   ]
  },
  {
   "cell_type": "markdown",
   "metadata": {},
   "source": [
    "Null hypothesis: There is no statistically significant difference between the mean time served of Republicans and Democrats.<br><br>\n",
    "Alternate hypothesis: There is a statistically significant difference between the mean time served of Republicans and Democrats."
   ]
  },
  {
   "cell_type": "code",
   "execution_count": 27,
   "metadata": {},
   "outputs": [
    {
     "data": {
      "text/plain": [
       "Ttest_indResult(statistic=1.12037329707839, pvalue=0.26306502934505566)"
      ]
     },
     "metadata": {},
     "output_type": "display_data"
    }
   ],
   "source": [
    "res_term = stats.ttest_ind(norm_gop['Time Served (R)'], norm_dem['Time Served (D)'])\n",
    "display(res_term)"
   ]
  },
  {
   "cell_type": "markdown",
   "metadata": {},
   "source": [
    "The p-values from comparing the means between the parties of time served and age are high enough that the null hypotheses cannot be rejected. There is no statistically significant difference between the means of the ages and time served of the parties' members in the 116th Congress. The null hypothesis of time served is closer to being rejected than the null hypothesis of ages."
   ]
  }
 ],
 "metadata": {
  "kernelspec": {
   "display_name": "Python 3",
   "language": "python",
   "name": "python3"
  },
  "language_info": {
   "codemirror_mode": {
    "name": "ipython",
    "version": 3
   },
   "file_extension": ".py",
   "mimetype": "text/x-python",
   "name": "python",
   "nbconvert_exporter": "python",
   "pygments_lexer": "ipython3",
   "version": "3.6.10"
  }
 },
 "nbformat": 4,
 "nbformat_minor": 4
}
