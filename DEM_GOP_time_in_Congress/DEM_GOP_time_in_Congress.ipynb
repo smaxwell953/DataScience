{
 "cells": [
  {
   "cell_type": "code",
   "execution_count": 25,
   "metadata": {},
   "outputs": [],
   "source": [
    "import numpy as np\n",
    "import pandas as pd\n",
    "from datetime import datetime"
   ]
  },
  {
   "cell_type": "code",
   "execution_count": 26,
   "metadata": {},
   "outputs": [],
   "source": [
    "demgop = pd.read_csv('116th_congress.csv', parse_dates=True)"
   ]
  },
  {
   "cell_type": "code",
   "execution_count": 27,
   "metadata": {},
   "outputs": [
    {
     "name": "stdout",
     "output_type": "stream",
     "text": [
      "<class 'pandas.core.frame.DataFrame'>\n",
      "RangeIndex: 530 entries, 0 to 529\n",
      "Data columns (total 5 columns):\n",
      " #   Column        Non-Null Count  Dtype \n",
      "---  ------        --------------  ----- \n",
      " 0   Office        530 non-null    object\n",
      " 1   Name          530 non-null    object\n",
      " 2   Party         530 non-null    object\n",
      " 3   Birth Date    530 non-null    object\n",
      " 4   Date started  530 non-null    object\n",
      "dtypes: object(5)\n",
      "memory usage: 20.8+ KB\n"
     ]
    }
   ],
   "source": [
    "demgop.info()"
   ]
  },
  {
   "cell_type": "code",
   "execution_count": 28,
   "metadata": {},
   "outputs": [
    {
     "data": {
      "text/html": [
       "<div>\n",
       "<style scoped>\n",
       "    .dataframe tbody tr th:only-of-type {\n",
       "        vertical-align: middle;\n",
       "    }\n",
       "\n",
       "    .dataframe tbody tr th {\n",
       "        vertical-align: top;\n",
       "    }\n",
       "\n",
       "    .dataframe thead th {\n",
       "        text-align: right;\n",
       "    }\n",
       "</style>\n",
       "<table border=\"1\" class=\"dataframe\">\n",
       "  <thead>\n",
       "    <tr style=\"text-align: right;\">\n",
       "      <th></th>\n",
       "      <th>Office</th>\n",
       "      <th>Name</th>\n",
       "      <th>Party</th>\n",
       "      <th>Birth Date</th>\n",
       "      <th>Date started</th>\n",
       "    </tr>\n",
       "  </thead>\n",
       "  <tbody>\n",
       "    <tr>\n",
       "      <th>0</th>\n",
       "      <td>Senate</td>\n",
       "      <td>Richard Shelby</td>\n",
       "      <td>Republican</td>\n",
       "      <td>05-06-1934</td>\n",
       "      <td>01-03-1987</td>\n",
       "    </tr>\n",
       "    <tr>\n",
       "      <th>1</th>\n",
       "      <td>Senate</td>\n",
       "      <td>Doug Jones</td>\n",
       "      <td>Democratic</td>\n",
       "      <td>05-04-1954</td>\n",
       "      <td>01-03-2018</td>\n",
       "    </tr>\n",
       "    <tr>\n",
       "      <th>2</th>\n",
       "      <td>Senate</td>\n",
       "      <td>Lisa Murkowski</td>\n",
       "      <td>Republican</td>\n",
       "      <td>05-22-1957</td>\n",
       "      <td>12-20-2002</td>\n",
       "    </tr>\n",
       "    <tr>\n",
       "      <th>3</th>\n",
       "      <td>Senate</td>\n",
       "      <td>Dan Sullivan</td>\n",
       "      <td>Republican</td>\n",
       "      <td>11-13-1964</td>\n",
       "      <td>01-03-2015</td>\n",
       "    </tr>\n",
       "    <tr>\n",
       "      <th>4</th>\n",
       "      <td>Senate</td>\n",
       "      <td>Kyrsten Sinema</td>\n",
       "      <td>Democratic</td>\n",
       "      <td>07-12-1976</td>\n",
       "      <td>01-03-2019</td>\n",
       "    </tr>\n",
       "  </tbody>\n",
       "</table>\n",
       "</div>"
      ],
      "text/plain": [
       "   Office            Name       Party  Birth Date Date started\n",
       "0  Senate  Richard Shelby  Republican  05-06-1934   01-03-1987\n",
       "1  Senate      Doug Jones  Democratic  05-04-1954   01-03-2018\n",
       "2  Senate  Lisa Murkowski  Republican  05-22-1957   12-20-2002\n",
       "3  Senate    Dan Sullivan  Republican  11-13-1964   01-03-2015\n",
       "4  Senate  Kyrsten Sinema  Democratic  07-12-1976   01-03-2019"
      ]
     },
     "execution_count": 28,
     "metadata": {},
     "output_type": "execute_result"
    }
   ],
   "source": [
    "demgop.head()"
   ]
  },
  {
   "cell_type": "code",
   "execution_count": 39,
   "metadata": {},
   "outputs": [],
   "source": [
    "#Convert birth date and date started to datetime\n",
    "demgop['Birth Date'] = demgop['Birth Date'].apply(pd.to_datetime)\n",
    "demgop['Date started'] = demgop['Date started'].apply(pd.to_datetime)"
   ]
  },
  {
   "cell_type": "code",
   "execution_count": 40,
   "metadata": {},
   "outputs": [
    {
     "data": {
      "text/html": [
       "<div>\n",
       "<style scoped>\n",
       "    .dataframe tbody tr th:only-of-type {\n",
       "        vertical-align: middle;\n",
       "    }\n",
       "\n",
       "    .dataframe tbody tr th {\n",
       "        vertical-align: top;\n",
       "    }\n",
       "\n",
       "    .dataframe thead th {\n",
       "        text-align: right;\n",
       "    }\n",
       "</style>\n",
       "<table border=\"1\" class=\"dataframe\">\n",
       "  <thead>\n",
       "    <tr style=\"text-align: right;\">\n",
       "      <th></th>\n",
       "      <th>Office</th>\n",
       "      <th>Name</th>\n",
       "      <th>Party</th>\n",
       "      <th>Birth Date</th>\n",
       "      <th>Date started</th>\n",
       "      <th>Age</th>\n",
       "      <th>Time Served</th>\n",
       "    </tr>\n",
       "  </thead>\n",
       "  <tbody>\n",
       "    <tr>\n",
       "      <th>0</th>\n",
       "      <td>Senate</td>\n",
       "      <td>Richard Shelby</td>\n",
       "      <td>Republican</td>\n",
       "      <td>1934-05-06</td>\n",
       "      <td>1987-01-03</td>\n",
       "      <td>31613 days</td>\n",
       "      <td>12378 days</td>\n",
       "    </tr>\n",
       "    <tr>\n",
       "      <th>1</th>\n",
       "      <td>Senate</td>\n",
       "      <td>Doug Jones</td>\n",
       "      <td>Democratic</td>\n",
       "      <td>1954-05-04</td>\n",
       "      <td>2018-01-03</td>\n",
       "      <td>24310 days</td>\n",
       "      <td>1055 days</td>\n",
       "    </tr>\n",
       "    <tr>\n",
       "      <th>2</th>\n",
       "      <td>Senate</td>\n",
       "      <td>Lisa Murkowski</td>\n",
       "      <td>Republican</td>\n",
       "      <td>1957-05-22</td>\n",
       "      <td>2002-12-20</td>\n",
       "      <td>23196 days</td>\n",
       "      <td>6548 days</td>\n",
       "    </tr>\n",
       "    <tr>\n",
       "      <th>3</th>\n",
       "      <td>Senate</td>\n",
       "      <td>Dan Sullivan</td>\n",
       "      <td>Republican</td>\n",
       "      <td>1964-11-13</td>\n",
       "      <td>2015-01-03</td>\n",
       "      <td>20464 days</td>\n",
       "      <td>2151 days</td>\n",
       "    </tr>\n",
       "    <tr>\n",
       "      <th>4</th>\n",
       "      <td>Senate</td>\n",
       "      <td>Kyrsten Sinema</td>\n",
       "      <td>Democratic</td>\n",
       "      <td>1976-07-12</td>\n",
       "      <td>2019-01-03</td>\n",
       "      <td>16205 days</td>\n",
       "      <td>690 days</td>\n",
       "    </tr>\n",
       "  </tbody>\n",
       "</table>\n",
       "</div>"
      ],
      "text/plain": [
       "   Office            Name       Party Birth Date Date started        Age  \\\n",
       "0  Senate  Richard Shelby  Republican 1934-05-06   1987-01-03 31613 days   \n",
       "1  Senate      Doug Jones  Democratic 1954-05-04   2018-01-03 24310 days   \n",
       "2  Senate  Lisa Murkowski  Republican 1957-05-22   2002-12-20 23196 days   \n",
       "3  Senate    Dan Sullivan  Republican 1964-11-13   2015-01-03 20464 days   \n",
       "4  Senate  Kyrsten Sinema  Democratic 1976-07-12   2019-01-03 16205 days   \n",
       "\n",
       "  Time Served  \n",
       "0  12378 days  \n",
       "1   1055 days  \n",
       "2   6548 days  \n",
       "3   2151 days  \n",
       "4    690 days  "
      ]
     },
     "execution_count": 40,
     "metadata": {},
     "output_type": "execute_result"
    }
   ],
   "source": [
    "#Calculate the difference between birth date and today, and the difference between date started and today\n",
    "demgop['Age'] = pd.Timestamp.today().normalize() - demgop['Birth Date']\n",
    "demgop['Time Served'] = pd.Timestamp.today().normalize() - demgop['Date started']\n",
    "demgop.head()"
   ]
  },
  {
   "cell_type": "code",
   "execution_count": null,
   "metadata": {},
   "outputs": [],
   "source": [
    "#Convert columns to years/months/days"
   ]
  }
 ],
 "metadata": {
  "kernelspec": {
   "display_name": "Python 3",
   "language": "python",
   "name": "python3"
  },
  "language_info": {
   "codemirror_mode": {
    "name": "ipython",
    "version": 3
   },
   "file_extension": ".py",
   "mimetype": "text/x-python",
   "name": "python",
   "nbconvert_exporter": "python",
   "pygments_lexer": "ipython3",
   "version": "3.6.10"
  }
 },
 "nbformat": 4,
 "nbformat_minor": 4
}
