{
 "cells": [
  {
   "cell_type": "markdown",
   "metadata": {},
   "source": [
    "### <h2>Calculating 2020 Presidential Margins Along U.S. Route 33</h2>"
   ]
  },
  {
   "cell_type": "code",
   "execution_count": 1,
   "metadata": {},
   "outputs": [],
   "source": [
    "#Import relevant libraries\n",
    "import numpy as np\n",
    "import pandas as pd\n",
    "import warnings\n",
    "warnings.filterwarnings(\"ignore\")"
   ]
  },
  {
   "cell_type": "code",
   "execution_count": 2,
   "metadata": {},
   "outputs": [],
   "source": [
    "#Repeat for Virginia\n",
    "va_votes = pd.read_csv('../ElectionData/Virginia.csv', low_memory=False)\n",
    "va_votes = va_votes.fillna(0)\n",
    "va_votes['Year'] = pd.to_numeric(va_votes['Year'])\n",
    "va_votes.loc[:,'Total Votes'] = (va_votes.sum(axis=1)) - va_votes['Year']\n",
    "va_pres = va_votes[va_votes['Office'] == 'President']\n",
    "va_pres = va_pres.drop('Office', axis = 1)\n",
    "va_pres['Year'] = pd.to_numeric(va_pres['Year'])\n",
    "va_pres['PCT_DEM'] = (round(va_pres['D#']/va_pres['Total Votes'],4))*100\n",
    "va_pres['PCT_REP'] = (round(va_pres['R#']/va_pres['Total Votes'],4))*100\n",
    "va_pres['RD_DIFF'] = va_pres['PCT_REP'] - va_pres['PCT_DEM']\n",
    "va_pres_pct = va_pres[['State', 'Year', 'County/City', 'RD_DIFF']]\n",
    "va_pres_pct_2020 = va_pres_pct[va_pres_pct['Year'] == 2020]\n",
    "va_counties = ['Rockingham', 'Harrisonburg City', 'Greene', 'Orange', 'Louisa', 'Hanover', 'Henrico', 'Richmond City']"
   ]
  },
  {
   "cell_type": "code",
   "execution_count": 3,
   "metadata": {},
   "outputs": [],
   "source": [
    "#Repeat for West Virginia\n",
    "wv_votes = pd.read_csv('../ElectionData/West Virginia.csv', low_memory=False)\n",
    "wv_votes = wv_votes.fillna(0)\n",
    "wv_votes['Year'] = pd.to_numeric(wv_votes['Year'])\n",
    "wv_votes.loc[:,'Total Votes'] = (wv_votes.sum(axis=1)) - wv_votes['Year']\n",
    "wv_pres = wv_votes[wv_votes['Office'] == 'President']\n",
    "wv_pres = wv_pres.drop('Office', axis = 1)\n",
    "wv_pres['Year'] = pd.to_numeric(wv_pres['Year'])\n",
    "wv_pres['PCT_DEM'] = (round(wv_pres['D#']/wv_pres['Total Votes'],4))*100\n",
    "wv_pres['PCT_REP'] = (round(wv_pres['R#']/wv_pres['Total Votes'],4))*100\n",
    "wv_pres['RD_DIFF'] = wv_pres['PCT_REP'] - wv_pres['PCT_DEM']\n",
    "wv_pres_pct = wv_pres[['State', 'Year', 'County', 'RD_DIFF']]\n",
    "wv_pres_pct_2020 = wv_pres_pct[wv_pres_pct['Year'] == 2020]\n",
    "wv_counties = ['Jackson', 'Roane', 'Calhoun', 'Gilmer', 'Lewis', 'Upshur', 'Barbour', 'Randolph', 'Pendleton']"
   ]
  },
  {
   "cell_type": "code",
   "execution_count": 4,
   "metadata": {},
   "outputs": [],
   "source": [
    "#Ohio\n",
    "oh_votes = pd.read_csv('../ElectionData/Ohio.csv', low_memory=False)\n",
    "oh_votes = oh_votes.fillna(0)\n",
    "oh_votes['Year'] = pd.to_numeric(oh_votes['Year'])\n",
    "oh_votes.loc[:,'Total Votes'] = (oh_votes.sum(axis=1)) - oh_votes['Year']\n",
    "oh_pres = oh_votes[oh_votes['Office'] == 'President']\n",
    "oh_pres = oh_pres.drop('Office', axis = 1)\n",
    "oh_pres['Year'] = pd.to_numeric(oh_pres['Year'])\n",
    "oh_pres['PCT_DEM'] = (round(oh_pres['D#']/oh_pres['Total Votes'],4))*100\n",
    "oh_pres['PCT_REP'] = (round(oh_pres['R#']/oh_pres['Total Votes'],4))*100\n",
    "oh_pres['RD_DIFF'] = oh_pres['PCT_REP'] - oh_pres['PCT_DEM']\n",
    "oh_pres_pct = oh_pres[['State', 'Year', 'County', 'RD_DIFF']]\n",
    "oh_pres_pct_2020 = oh_pres_pct[oh_pres_pct['Year'] == 2020]\n",
    "oh_counties = ['Van Wert', 'Mercer', 'Auglaize', 'Logan', 'Union', 'Franklin', 'Fairfield', 'Hocking', 'Athens', 'Meigs']"
   ]
  },
  {
   "cell_type": "code",
   "execution_count": 5,
   "metadata": {},
   "outputs": [],
   "source": [
    "#Repeat for Indiana\n",
    "in_votes = pd.read_csv('../ElectionData/Indiana.csv', low_memory=False)\n",
    "in_votes = in_votes.fillna(0)\n",
    "in_votes['Year'] = pd.to_numeric(in_votes['Year'])\n",
    "in_votes.loc[:,'Total Votes'] = (in_votes.sum(axis=1)) - in_votes['Year']\n",
    "in_pres = in_votes[in_votes['Office'] == 'President']\n",
    "in_pres = in_pres.drop('Office', axis = 1)\n",
    "in_pres['Year'] = pd.to_numeric(in_pres['Year'])\n",
    "in_pres['PCT_DEM'] = (round(in_pres['D#']/in_pres['Total Votes'],4))*100\n",
    "in_pres['PCT_REP'] = (round(in_pres['R#']/in_pres['Total Votes'],4))*100\n",
    "in_pres['RD_DIFF'] = in_pres['PCT_REP'] - in_pres['PCT_DEM']\n",
    "in_pres_pct = in_pres[['State', 'Year', 'County', 'RD_DIFF']]\n",
    "in_pres_pct_2020 = in_pres_pct[in_pres_pct['Year'] == 2020]\n",
    "in_counties = ['Adams', 'Allen', 'Whitley', 'Noble', 'Elkhart']"
   ]
  },
  {
   "cell_type": "code",
   "execution_count": 6,
   "metadata": {},
   "outputs": [
    {
     "name": "stdout",
     "output_type": "stream",
     "text": [
      "         State  Year County  RD_DIFF\n",
      "12144  Indiana  2020  Adams    52.32\n",
      "         State  Year County  RD_DIFF\n",
      "12145  Indiana  2020  Allen    11.15\n",
      "         State  Year   County  RD_DIFF\n",
      "12235  Indiana  2020  Whitley    49.06\n",
      "         State  Year County  RD_DIFF\n",
      "12200  Indiana  2020  Noble    49.62\n",
      "         State  Year   County  RD_DIFF\n",
      "12163  Indiana  2020  Elkhart    27.96\n"
     ]
    }
   ],
   "source": [
    "for c in in_counties:\n",
    "    print(in_pres_pct_2020[in_pres_pct_2020['County'] == c])"
   ]
  },
  {
   "cell_type": "code",
   "execution_count": 7,
   "metadata": {},
   "outputs": [
    {
     "name": "stdout",
     "output_type": "stream",
     "text": [
      "      State    Year    County  RD_DIFF\n",
      "12664  Ohio  2020.0  Van Wert    57.25\n",
      "      State    Year  County  RD_DIFF\n",
      "12637  Ohio  2020.0  Mercer    64.85\n",
      "      State    Year    County  RD_DIFF\n",
      "12589  Ohio  2020.0  Auglaize    62.53\n",
      "      State    Year County  RD_DIFF\n",
      "12629  Ohio  2020.0  Logan    55.15\n",
      "      State    Year County  RD_DIFF\n",
      "12663  Ohio  2020.0  Union     31.4\n",
      "      State    Year    County  RD_DIFF\n",
      "12608  Ohio  2020.0  Franklin   -31.28\n",
      "      State    Year     County  RD_DIFF\n",
      "12606  Ohio  2020.0  Fairfield    23.49\n",
      "      State    Year   County  RD_DIFF\n",
      "12620  Ohio  2020.0  Hocking    42.28\n",
      "      State    Year  County  RD_DIFF\n",
      "12588  Ohio  2020.0  Athens   -14.97\n",
      "      State    Year County  RD_DIFF\n",
      "12636  Ohio  2020.0  Meigs    53.11\n"
     ]
    }
   ],
   "source": [
    "for c in oh_counties:\n",
    "    print(oh_pres_pct_2020[oh_pres_pct_2020['County'] == c])"
   ]
  },
  {
   "cell_type": "code",
   "execution_count": 8,
   "metadata": {},
   "outputs": [
    {
     "name": "stdout",
     "output_type": "stream",
     "text": [
      "              State    Year   County  RD_DIFF\n",
      "5902  West Virginia  2020.0  Jackson    50.97\n",
      "              State    Year County  RD_DIFF\n",
      "5928  West Virginia  2020.0  Roane    47.85\n",
      "              State    Year   County  RD_DIFF\n",
      "5891  West Virginia  2020.0  Calhoun    60.45\n",
      "              State    Year  County  RD_DIFF\n",
      "5895  West Virginia  2020.0  Gilmer    53.08\n",
      "              State    Year County  RD_DIFF\n",
      "5905  West Virginia  2020.0  Lewis     56.9\n",
      "              State    Year  County  RD_DIFF\n",
      "5933  West Virginia  2020.0  Upshur    53.94\n",
      "              State    Year   County  RD_DIFF\n",
      "5885  West Virginia  2020.0  Barbour     54.8\n",
      "              State    Year    County  RD_DIFF\n",
      "5926  West Virginia  2020.0  Randolph    43.53\n",
      "              State    Year     County  RD_DIFF\n",
      "5920  West Virginia  2020.0  Pendleton    53.62\n"
     ]
    }
   ],
   "source": [
    "for c in wv_counties:\n",
    "    print(wv_pres_pct_2020[wv_pres_pct_2020['County'] == c])"
   ]
  },
  {
   "cell_type": "code",
   "execution_count": 9,
   "metadata": {},
   "outputs": [
    {
     "name": "stdout",
     "output_type": "stream",
     "text": [
      "          State    Year County/City  RD_DIFF\n",
      "13972  Virginia  2020.0  Rockingham    40.41\n",
      "          State    Year        County/City  RD_DIFF\n",
      "14004  Virginia  2020.0  Harrisonburg City   -31.79\n",
      "          State    Year County/City  RD_DIFF\n",
      "13932  Virginia  2020.0      Greene     23.9\n",
      "          State    Year County/City  RD_DIFF\n",
      "13959  Virginia  2020.0      Orange    21.37\n",
      "          State    Year County/City  RD_DIFF\n",
      "13947  Virginia  2020.0      Louisa    22.93\n",
      "          State    Year County/City  RD_DIFF\n",
      "13935  Virginia  2020.0     Hanover    26.79\n",
      "          State    Year County/City  RD_DIFF\n",
      "13936  Virginia  2020.0     Henrico   -29.01\n",
      "          State    Year    County/City  RD_DIFF\n",
      "14018  Virginia  2020.0  Richmond City   -67.98\n"
     ]
    }
   ],
   "source": [
    "for c in va_counties:\n",
    "    print(va_pres_pct_2020[va_pres_pct_2020['County/City'] == c])"
   ]
  }
 ],
 "metadata": {
  "kernelspec": {
   "display_name": "Python 3",
   "language": "python",
   "name": "python3"
  },
  "language_info": {
   "codemirror_mode": {
    "name": "ipython",
    "version": 3
   },
   "file_extension": ".py",
   "mimetype": "text/x-python",
   "name": "python",
   "nbconvert_exporter": "python",
   "pygments_lexer": "ipython3",
   "version": "3.8.5"
  }
 },
 "nbformat": 4,
 "nbformat_minor": 4
}
