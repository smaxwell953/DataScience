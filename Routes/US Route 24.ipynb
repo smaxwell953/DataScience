{
 "cells": [
  {
   "cell_type": "markdown",
   "metadata": {},
   "source": [
    "<h2>Calculating 2020 Presidential Margins Along U.S. Route 24</h2>"
   ]
  },
  {
   "cell_type": "code",
   "execution_count": 1,
   "metadata": {},
   "outputs": [],
   "source": [
    "#Import relevant libraries\n",
    "import numpy as np\n",
    "import pandas as pd\n",
    "import warnings\n",
    "warnings.filterwarnings(\"ignore\")"
   ]
  },
  {
   "cell_type": "code",
   "execution_count": 2,
   "metadata": {},
   "outputs": [],
   "source": [
    "#Colorado\n",
    "co_vote = pd.read_csv('../ElectionData/Colorado.csv', low_memory=False)\n",
    "co_votes = pd.DataFrame(co_vote[co_vote.Year == '2020'])\n",
    "co_votes = co_votes.fillna(0)\n",
    "co_votes['Year'] = pd.to_numeric(co_votes['Year'])\n",
    "co_votes.loc[:,'Total Votes'] = (co_votes.sum(axis=1)) - co_votes['Year']\n",
    "co_pres = co_votes[co_votes['Office'] == 'President']\n",
    "co_pres = co_pres.drop('Office', axis = 1)\n",
    "co_pres['Year'] = pd.to_numeric(co_pres['Year'])\n",
    "co_pres['PCT_DEM'] = (round(co_pres['D#']/co_pres['Total Votes'],4))*100\n",
    "co_pres['PCT_REP'] = (round(co_pres['R#']/co_pres['Total Votes'],4))*100\n",
    "co_pres['RD_DIFF'] = co_pres['PCT_REP'] - co_pres['PCT_DEM']\n",
    "co_pres_pct = co_pres[['State', 'Year', 'County', 'RD_DIFF']]\n",
    "co_counties = ['Eagle', 'Lake', 'Chaffee', 'Park', 'Teller', 'El Paso', 'Elbert', 'Lincoln', 'Kit Carson']"
   ]
  },
  {
   "cell_type": "code",
   "execution_count": 3,
   "metadata": {},
   "outputs": [],
   "source": [
    "#Repeat for Kansas\n",
    "ks_votes = pd.read_csv('../ElectionData/Kansas.csv', low_memory=False)\n",
    "ks_votes = ks_votes.fillna(0)\n",
    "ks_votes['Year'] = pd.to_numeric(ks_votes['Year'])\n",
    "ks_votes.loc[:,'Total Votes'] = (ks_votes.sum(axis=1)) - ks_votes['Year']\n",
    "ks_pres = ks_votes[ks_votes['Office'] == 'President']\n",
    "ks_pres = ks_pres.drop('Office', axis = 1)\n",
    "ks_pres['Year'] = pd.to_numeric(ks_pres['Year'])\n",
    "ks_pres['PCT_DEM'] = (round(ks_pres['D#']/ks_pres['Total Votes'],4))*100\n",
    "ks_pres['PCT_REP'] = (round(ks_pres['R#']/ks_pres['Total Votes'],4))*100\n",
    "ks_pres['RD_DIFF'] = ks_pres['PCT_REP'] - ks_pres['PCT_DEM']\n",
    "ks_pres_pct = ks_pres[['State', 'Year', 'County', 'RD_DIFF']]\n",
    "ks_pres_pct_2020 = ks_pres_pct[ks_pres_pct['Year'] == 2020]\n",
    "ks_counties = ['Sherman', 'Thomas', 'Sheridan', 'Graham', 'Rooks', 'Osborne', 'Mitchell', 'Cloud', 'Clay', 'Riley', \\\n",
    "               'Pottawatomie', 'Shawnee', 'Jefferson', 'Douglas', 'Leavenworth', 'Wyandotte']"
   ]
  },
  {
   "cell_type": "code",
   "execution_count": 4,
   "metadata": {},
   "outputs": [],
   "source": [
    "#Repeat for Missouri\n",
    "mo_votes = pd.read_csv('../ElectionData/Missouri.csv', low_memory=False)\n",
    "mo_votes = mo_votes.fillna(0)\n",
    "mo_votes['Year'] = pd.to_numeric(mo_votes['Year'])\n",
    "mo_votes.loc[:,'Total Votes'] = (mo_votes.sum(axis=1)) - mo_votes['Year']\n",
    "mo_pres = mo_votes[mo_votes['Office'] == 'President']\n",
    "mo_pres = mo_pres.drop('Office', axis = 1)\n",
    "mo_pres['Year'] = pd.to_numeric(mo_pres['Year'])\n",
    "mo_pres['PCT_DEM'] = (round(mo_pres['D#']/mo_pres['Total Votes'],4))*100\n",
    "mo_pres['PCT_REP'] = (round(mo_pres['R#']/mo_pres['Total Votes'],4))*100\n",
    "mo_pres['RD_DIFF'] = mo_pres['PCT_REP'] - mo_pres['PCT_DEM']\n",
    "mo_pres_pct = mo_pres[['State', 'Year', 'County', 'RD_DIFF']]\n",
    "mo_pres_pct_2020 = mo_pres_pct[mo_pres_pct['Year'] == 2020]\n",
    "mo_counties = ['Jackson', 'Lafayette', 'Carroll', 'Chariton', 'Randolph', 'Monroe', 'Ralls', 'Marion']"
   ]
  },
  {
   "cell_type": "code",
   "execution_count": 5,
   "metadata": {},
   "outputs": [],
   "source": [
    "#Repeat for Illinois\n",
    "il_votes = pd.read_csv('../ElectionData/Illinois.csv', low_memory=False)\n",
    "il_votes = il_votes.fillna(0)\n",
    "il_votes['Year'] = pd.to_numeric(il_votes['Year'])\n",
    "il_votes.loc[:,'Total Votes'] = (il_votes.sum(axis=1)) - il_votes['Year']\n",
    "il_pres = il_votes[il_votes['Office'] == 'President']\n",
    "il_pres = il_pres.drop('Office', axis = 1)\n",
    "il_pres['Year'] = pd.to_numeric(il_pres['Year'])\n",
    "il_pres['PCT_DEM'] = (round(il_pres['D#']/il_pres['Total Votes'],4))*100\n",
    "il_pres['PCT_REP'] = (round(il_pres['R#']/il_pres['Total Votes'],4))*100\n",
    "il_pres['RD_DIFF'] = il_pres['PCT_REP'] - il_pres['PCT_DEM']\n",
    "il_pres_pct = il_pres[['State', 'Year', 'County', 'RD_DIFF']]\n",
    "il_pres_pct_2020 = il_pres_pct[il_pres_pct['Year'] == 2020]\n",
    "il_counties = ['Adams', 'Brown', 'Schuyler', 'Fulton', 'Peoria', 'Tazewell', 'Woodford', 'McLean', 'Livingston', 'Ford', \\\n",
    "               'Iroquois']"
   ]
  },
  {
   "cell_type": "code",
   "execution_count": 6,
   "metadata": {},
   "outputs": [],
   "source": [
    "#Repeat for Indiana\n",
    "in_votes = pd.read_csv('../ElectionData/Indiana.csv', low_memory=False)\n",
    "in_votes = in_votes.fillna(0)\n",
    "in_votes['Year'] = pd.to_numeric(in_votes['Year'])\n",
    "in_votes.loc[:,'Total Votes'] = (in_votes.sum(axis=1)) - in_votes['Year']\n",
    "in_pres = in_votes[in_votes['Office'] == 'President']\n",
    "in_pres = in_pres.drop('Office', axis = 1)\n",
    "in_pres['Year'] = pd.to_numeric(in_pres['Year'])\n",
    "in_pres['PCT_DEM'] = (round(in_pres['D#']/in_pres['Total Votes'],4))*100\n",
    "in_pres['PCT_REP'] = (round(in_pres['R#']/in_pres['Total Votes'],4))*100\n",
    "in_pres['RD_DIFF'] = in_pres['PCT_REP'] - in_pres['PCT_DEM']\n",
    "in_pres_pct = in_pres[['State', 'Year', 'County', 'RD_DIFF']]\n",
    "in_pres_pct_2020 = in_pres_pct[in_pres_pct['Year'] == 2020]\n",
    "in_counties = ['Newton', 'Jasper', 'White', 'Cass', 'Miami', 'Wabash', 'Huntington', 'Whitley', 'Allen']"
   ]
  },
  {
   "cell_type": "code",
   "execution_count": 7,
   "metadata": {},
   "outputs": [],
   "source": [
    "#Repeat for Ohio\n",
    "oh_votes = pd.read_csv('../ElectionData/Ohio.csv', low_memory=False)\n",
    "oh_votes = oh_votes.fillna(0)\n",
    "oh_votes['Year'] = pd.to_numeric(oh_votes['Year'])\n",
    "oh_votes.loc[:,'Total Votes'] = (oh_votes.sum(axis=1)) - oh_votes['Year']\n",
    "oh_pres = oh_votes[oh_votes['Office'] == 'President']\n",
    "oh_pres = oh_pres.drop('Office', axis = 1)\n",
    "oh_pres['Year'] = pd.to_numeric(oh_pres['Year'])\n",
    "oh_pres['PCT_DEM'] = (round(oh_pres['D#']/oh_pres['Total Votes'],4))*100\n",
    "oh_pres['PCT_REP'] = (round(oh_pres['R#']/oh_pres['Total Votes'],4))*100\n",
    "oh_pres['RD_DIFF'] = oh_pres['PCT_REP'] - oh_pres['PCT_DEM']\n",
    "oh_pres_pct = oh_pres[['State', 'Year', 'County', 'RD_DIFF']]\n",
    "oh_pres_pct_2020 = oh_pres_pct[oh_pres_pct['Year'] == 2020]\n",
    "oh_counties = ['Paulding', 'Defiance', 'Henry', 'Lucas']"
   ]
  },
  {
   "cell_type": "code",
   "execution_count": 8,
   "metadata": {},
   "outputs": [],
   "source": [
    "#Repeat for Michigan\n",
    "mi_votes = pd.read_csv('../ElectionData/Michigan.csv', low_memory=False)\n",
    "mi_votes = mi_votes.fillna(0)\n",
    "mi_votes['Year'] = pd.to_numeric(mi_votes['Year'])\n",
    "mi_votes.loc[:,'Total Votes'] = (mi_votes.sum(axis=1)) - mi_votes['Year']\n",
    "mi_pres = mi_votes[mi_votes['Office'] == 'President']\n",
    "mi_pres = mi_pres.drop('Office', axis = 1)\n",
    "mi_pres['Year'] = pd.to_numeric(mi_pres['Year'])\n",
    "mi_pres['PCT_DEM'] = (round(mi_pres['D1#']/mi_pres['Total Votes'],4))*100\n",
    "mi_pres['PCT_REP'] = (round(mi_pres['R#']/mi_pres['Total Votes'],4))*100\n",
    "mi_pres['RD_DIFF'] = mi_pres['PCT_REP'] - mi_pres['PCT_DEM']\n",
    "mi_pres_pct = mi_pres[['State', 'Year', 'County', 'RD_DIFF']]\n",
    "mi_pres_pct_2020 = mi_pres_pct[mi_pres_pct['Year'] == 2020]\n",
    "mi_counties = ['Monroe', 'Wayne', 'Oakland']"
   ]
  },
  {
   "cell_type": "markdown",
   "metadata": {},
   "source": [
    "Now find the margins from each county."
   ]
  },
  {
   "cell_type": "code",
   "execution_count": 9,
   "metadata": {},
   "outputs": [
    {
     "name": "stdout",
     "output_type": "stream",
     "text": [
      "          State  Year County  RD_DIFF\n",
      "19257  Colorado  2020  Eagle   -29.84\n",
      "          State  Year County  RD_DIFF\n",
      "19271  Colorado  2020   Lake   -20.35\n",
      "          State  Year   County  RD_DIFF\n",
      "19246  Colorado  2020  Chaffee    -6.83\n",
      "          State  Year County  RD_DIFF\n",
      "19285  Colorado  2020   Park    16.99\n",
      "          State  Year  County  RD_DIFF\n",
      "19298  Colorado  2020  Teller     35.2\n",
      "          State  Year   County  RD_DIFF\n",
      "19259  Colorado  2020  El Paso    10.79\n",
      "          State  Year  County  RD_DIFF\n",
      "19258  Colorado  2020  Elbert    50.24\n",
      "          State  Year   County  RD_DIFF\n",
      "19275  Colorado  2020  Lincoln    62.81\n",
      "          State  Year      County  RD_DIFF\n",
      "19270  Colorado  2020  Kit Carson    64.12\n"
     ]
    }
   ],
   "source": [
    "for c in co_counties:\n",
    "    print(co_pres_pct[co_pres_pct['County'] == c])"
   ]
  },
  {
   "cell_type": "code",
   "execution_count": 10,
   "metadata": {},
   "outputs": [
    {
     "name": "stdout",
     "output_type": "stream",
     "text": [
      "        State  Year   County  RD_DIFF\n",
      "16157  Kansas  2020  Sherman    68.68\n",
      "        State  Year  County  RD_DIFF\n",
      "16163  Kansas  2020  Thomas    65.75\n",
      "        State  Year    County  RD_DIFF\n",
      "16156  Kansas  2020  Sheridan    78.55\n",
      "        State  Year  County  RD_DIFF\n",
      "16099  Kansas  2020  Graham    63.73\n",
      "        State  Year County  RD_DIFF\n",
      "16148  Kansas  2020  Rooks    73.58\n",
      "        State  Year   County  RD_DIFF\n",
      "16137  Kansas  2020  Osborne     69.3\n",
      "        State  Year    County  RD_DIFF\n",
      "16128  Kansas  2020  Mitchell    62.76\n",
      "        State  Year County  RD_DIFF\n",
      "16081  Kansas  2020  Cloud    54.47\n",
      "        State  Year County  RD_DIFF\n",
      "16080  Kansas  2020   Clay    54.59\n",
      "        State  Year County  RD_DIFF\n",
      "16147  Kansas  2020  Riley    -4.59\n",
      "        State  Year        County  RD_DIFF\n",
      "16141  Kansas  2020  Pottawatomie    46.93\n",
      "        State  Year   County  RD_DIFF\n",
      "16155  Kansas  2020  Shawnee    -2.99\n",
      "        State  Year     County  RD_DIFF\n",
      "16110  Kansas  2020  Jefferson     32.1\n",
      "        State  Year   County  RD_DIFF\n",
      "16089  Kansas  2020  Douglas    -39.2\n",
      "        State  Year       County  RD_DIFF\n",
      "16118  Kansas  2020  Leavenworth    21.17\n",
      "        State  Year     County  RD_DIFF\n",
      "16171  Kansas  2020  Wyandotte   -31.28\n"
     ]
    }
   ],
   "source": [
    "for c in ks_counties:\n",
    "    print(ks_pres_pct_2020[ks_pres_pct_2020['County'] == c])"
   ]
  },
  {
   "cell_type": "code",
   "execution_count": 11,
   "metadata": {},
   "outputs": [
    {
     "name": "stdout",
     "output_type": "stream",
     "text": [
      "          State  Year   County  RD_DIFF\n",
      "18677  Missouri  2020  Jackson   -21.94\n",
      "          State  Year     County  RD_DIFF\n",
      "18683  Missouri  2020  Lafayette    45.63\n",
      "          State  Year   County  RD_DIFF\n",
      "18646  Missouri  2020  Carroll    64.43\n",
      "          State  Year    County  RD_DIFF\n",
      "18650  Missouri  2020  Chariton    53.84\n",
      "          State  Year    County  RD_DIFF\n",
      "18717  Missouri  2020  Randolph    51.44\n",
      "          State  Year  County  RD_DIFF\n",
      "18698  Missouri  2020  Monroe    56.68\n",
      "          State  Year County  RD_DIFF\n",
      "18716  Missouri  2020  Ralls    56.36\n",
      "          State  Year  County  RD_DIFF\n",
      "18693  Missouri  2020  Marion    50.19\n"
     ]
    }
   ],
   "source": [
    "for c in mo_counties:\n",
    "    print(mo_pres_pct_2020[mo_pres_pct_2020['County'] == c])"
   ]
  },
  {
   "cell_type": "code",
   "execution_count": 12,
   "metadata": {},
   "outputs": [
    {
     "name": "stdout",
     "output_type": "stream",
     "text": [
      "          State  Year County  RD_DIFF\n",
      "19890  Illinois  2020  Adams    46.49\n",
      "          State  Year County  RD_DIFF\n",
      "19894  Illinois  2020  Brown    57.23\n",
      "          State  Year    County  RD_DIFF\n",
      "19974  Illinois  2020  Schuyler    43.52\n",
      "          State  Year  County  RD_DIFF\n",
      "19918  Illinois  2020  Fulton    20.12\n",
      "          State  Year  County  RD_DIFF\n",
      "19961  Illinois  2020  Peoria    -6.35\n",
      "          State  Year    County  RD_DIFF\n",
      "19979  Illinois  2020  Tazewell    25.54\n",
      "          State  Year    County  RD_DIFF\n",
      "19991  Illinois  2020  Woodford    40.18\n",
      "          State  Year  County  RD_DIFF\n",
      "19946  Illinois  2020  McLean    -3.92\n",
      "          State  Year      County  RD_DIFF\n",
      "19942  Illinois  2020  Livingston    44.11\n",
      "          State  Year County  RD_DIFF\n",
      "19916  Illinois  2020   Ford    47.28\n",
      "          State  Year    County  RD_DIFF\n",
      "19927  Illinois  2020  Iroquois    56.74\n"
     ]
    }
   ],
   "source": [
    "for c in il_counties:\n",
    "    print(il_pres_pct_2020[il_pres_pct_2020['County'] == c])"
   ]
  },
  {
   "cell_type": "code",
   "execution_count": 13,
   "metadata": {},
   "outputs": [
    {
     "name": "stdout",
     "output_type": "stream",
     "text": [
      "         State  Year  County  RD_DIFF\n",
      "12199  Indiana  2020  Newton    51.95\n",
      "         State  Year  County  RD_DIFF\n",
      "12180  Indiana  2020  Jasper    49.02\n",
      "         State  Year County  RD_DIFF\n",
      "12234  Indiana  2020  White    44.03\n",
      "         State  Year County  RD_DIFF\n",
      "12152  Indiana  2020   Cass    41.11\n",
      "         State  Year County  RD_DIFF\n",
      "12195  Indiana  2020  Miami    53.06\n",
      "         State  Year  County  RD_DIFF\n",
      "12228  Indiana  2020  Wabash    49.79\n",
      "         State  Year      County  RD_DIFF\n",
      "12178  Indiana  2020  Huntington    49.76\n",
      "         State  Year   County  RD_DIFF\n",
      "12235  Indiana  2020  Whitley    49.06\n",
      "         State  Year County  RD_DIFF\n",
      "12145  Indiana  2020  Allen    11.15\n"
     ]
    }
   ],
   "source": [
    "for c in in_counties:\n",
    "    print(in_pres_pct_2020[in_pres_pct_2020['County'] == c])"
   ]
  },
  {
   "cell_type": "code",
   "execution_count": 14,
   "metadata": {},
   "outputs": [
    {
     "name": "stdout",
     "output_type": "stream",
     "text": [
      "      State    Year    County  RD_DIFF\n",
      "12646  Ohio  2020.0  Paulding    51.39\n",
      "      State    Year    County  RD_DIFF\n",
      "12603  Ohio  2020.0  Defiance    36.41\n",
      "      State    Year County  RD_DIFF\n",
      "12618  Ohio  2020.0  Henry    43.39\n",
      "      State    Year County  RD_DIFF\n",
      "12631  Ohio  2020.0  Lucas   -16.73\n"
     ]
    }
   ],
   "source": [
    "for c in oh_counties:\n",
    "    print(oh_pres_pct_2020[oh_pres_pct_2020['County'] == c])"
   ]
  },
  {
   "cell_type": "code",
   "execution_count": 15,
   "metadata": {},
   "outputs": [
    {
     "name": "stdout",
     "output_type": "stream",
     "text": [
      "          State  Year  County  RD_DIFF\n",
      "10414  Michigan  2020  Monroe    22.61\n",
      "          State  Year County  RD_DIFF\n",
      "10438  Michigan  2020  Wayne   -38.05\n",
      "          State  Year   County  RD_DIFF\n",
      "10419  Michigan  2020  Oakland   -14.02\n"
     ]
    }
   ],
   "source": [
    "for c in mi_counties:\n",
    "    print(mi_pres_pct_2020[mi_pres_pct_2020['County'] == c])"
   ]
  }
 ],
 "metadata": {
  "kernelspec": {
   "display_name": "Python 3",
   "language": "python",
   "name": "python3"
  },
  "language_info": {
   "codemirror_mode": {
    "name": "ipython",
    "version": 3
   },
   "file_extension": ".py",
   "mimetype": "text/x-python",
   "name": "python",
   "nbconvert_exporter": "python",
   "pygments_lexer": "ipython3",
   "version": "3.8.5"
  }
 },
 "nbformat": 4,
 "nbformat_minor": 4
}
