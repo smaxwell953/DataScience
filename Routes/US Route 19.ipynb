{
 "cells": [
  {
   "cell_type": "markdown",
   "metadata": {},
   "source": [
    "<h2>Calculating 2020 Presidential Margins Along U.S. Route 19</h2>"
   ]
  },
  {
   "cell_type": "code",
   "execution_count": 1,
   "metadata": {},
   "outputs": [],
   "source": [
    "#Import relevant libraries\n",
    "import numpy as np\n",
    "import pandas as pd\n",
    "import warnings\n",
    "warnings.filterwarnings(\"ignore\")"
   ]
  },
  {
   "cell_type": "code",
   "execution_count": 2,
   "metadata": {},
   "outputs": [],
   "source": [
    "#Florida\n",
    "fl_votes = pd.read_csv('../ElectionData/Florida.csv', low_memory=False)\n",
    "fl_votes = fl_votes.fillna(0)\n",
    "fl_votes['Year'] = pd.to_numeric(fl_votes['Year'])\n",
    "fl_votes.loc[:,'Total Votes'] = (fl_votes.sum(axis=1)) - fl_votes['Year']\n",
    "fl_pres = fl_votes[fl_votes['Office'] == 'President']\n",
    "fl_pres = fl_pres.drop('Office', axis = 1)\n",
    "fl_pres['Year'] = pd.to_numeric(fl_pres['Year'])\n",
    "fl_pres['PCT_DEM'] = (round(fl_pres['D#']/fl_pres['Total Votes'],4))*100\n",
    "fl_pres['PCT_REP'] = (round(fl_pres['R#']/fl_pres['Total Votes'],4))*100\n",
    "fl_pres['RD_DIFF'] = fl_pres['PCT_REP'] - fl_pres['PCT_DEM']\n",
    "fl_pres_pct = fl_pres[['State', 'Year', 'County', 'RD_DIFF']]\n",
    "fl_pres_pct_2020 = fl_pres_pct[fl_pres_pct['Year'] == 2020]\n",
    "fl_counties = ['Manatee', 'Hillsborough', 'Pinellas', 'Pasco', 'Hernando', 'Citrus', 'Levy', 'Gilchrist', 'Dixie', \\\n",
    "               'Taylor', 'Madison', 'Jefferson']"
   ]
  },
  {
   "cell_type": "code",
   "execution_count": 3,
   "metadata": {},
   "outputs": [],
   "source": [
    "#Repeat for Georgia\n",
    "ga_votes = pd.read_csv('../ElectionData/Georgia.csv', low_memory=False)\n",
    "ga_votes = ga_votes.fillna(0)\n",
    "ga_votes['Year'] = pd.to_numeric(ga_votes['Year'])\n",
    "ga_votes.loc[:,'Total Votes'] = (ga_votes.sum(axis=1)) - ga_votes['Year']\n",
    "ga_pres = ga_votes[ga_votes['Office'] == 'President']\n",
    "ga_pres = ga_pres.drop('Office', axis = 1)\n",
    "ga_pres['Year'] = pd.to_numeric(ga_pres['Year'])\n",
    "ga_pres['PCT_DEM'] = (round(ga_pres['D#']/ga_pres['Total Votes'],4))*100\n",
    "ga_pres['PCT_REP'] = (round(ga_pres['R#']/ga_pres['Total Votes'],4))*100\n",
    "ga_pres['RD_DIFF'] = ga_pres['PCT_REP'] - ga_pres['PCT_DEM']\n",
    "ga_pres_pct = ga_pres[['State', 'Year', 'County', 'RD_DIFF']]\n",
    "ga_pres_pct_2020 = ga_pres_pct[ga_pres_pct['Year'] == 2020]\n",
    "ga_counties = ['Thomas', 'Mitchell', 'Dougherty', 'Lee', 'Sumter', 'Schley', 'Taylor', 'Upson', 'Pike', 'Spalding', \\\n",
    "               'Henry', 'Clayton', 'Fulton', 'Forsyth', 'Dawson', 'Lumpkin', 'Union']"
   ]
  },
  {
   "cell_type": "code",
   "execution_count": 4,
   "metadata": {},
   "outputs": [],
   "source": [
    "#Repeat for North Carolina\n",
    "nc_votes = pd.read_csv('../ElectionData/North Carolina.csv', low_memory=False)\n",
    "nc_votes = nc_votes.fillna(0)\n",
    "nc_votes['Year'] = pd.to_numeric(nc_votes['Year'])\n",
    "nc_votes.loc[:,'Total Votes'] = (nc_votes.sum(axis=1)) - nc_votes['Year']\n",
    "nc_pres = nc_votes[nc_votes['Office'] == 'President']\n",
    "nc_pres = nc_pres.drop('Office', axis = 1)\n",
    "nc_pres['Year'] = pd.to_numeric(nc_pres['Year'])\n",
    "nc_pres['PCT_DEM'] = (round(nc_pres['D#']/nc_pres['Total Votes'],4))*100\n",
    "nc_pres['PCT_REP'] = (round(nc_pres['R#']/nc_pres['Total Votes'],4))*100\n",
    "nc_pres['RD_DIFF'] = nc_pres['PCT_REP'] - nc_pres['PCT_DEM']\n",
    "nc_pres_pct = nc_pres[['State', 'Year', 'County', 'RD_DIFF']]\n",
    "nc_pres_pct_2020 = nc_pres_pct[nc_pres_pct['Year'] == 2020]\n",
    "nc_counties = ['Cherokee', 'Graham', 'Swain', 'Jackson', 'Haywood', 'Buncombe', 'Madison', 'Yancey', 'Mitchell', 'Avery']"
   ]
  },
  {
   "cell_type": "code",
   "execution_count": 5,
   "metadata": {},
   "outputs": [],
   "source": [
    "#Repeat for Tennessee\n",
    "tn_votes = pd.read_csv('../ElectionData/Tennessee.csv', low_memory=False)\n",
    "tn_votes = tn_votes.fillna(0)\n",
    "tn_votes['Year'] = pd.to_numeric(tn_votes['Year'])\n",
    "tn_votes.loc[:,'Total Votes'] = (tn_votes.sum(axis=1)) - tn_votes['Year']\n",
    "tn_pres = tn_votes[tn_votes['Office'] == 'President']\n",
    "tn_pres = tn_pres.drop('Office', axis = 1)\n",
    "tn_pres['Year'] = pd.to_numeric(tn_pres['Year'])\n",
    "tn_pres['PCT_DEM'] = (round(tn_pres['D#']/tn_pres['Total Votes'],4))*100\n",
    "tn_pres['PCT_REP'] = (round(tn_pres['R#']/tn_pres['Total Votes'],4))*100\n",
    "tn_pres['RD_DIFF'] = tn_pres['PCT_REP'] - tn_pres['PCT_DEM']\n",
    "tn_pres_pct = tn_pres[['State', 'Year', 'County', 'RD_DIFF']]\n",
    "tn_pres_pct_2020 = tn_pres_pct[tn_pres_pct['Year'] == 2020]\n",
    "tn_counties = ['Unicoi', 'Carter', 'Washington', 'Sullivan']"
   ]
  },
  {
   "cell_type": "code",
   "execution_count": 6,
   "metadata": {},
   "outputs": [],
   "source": [
    "#Repeat for Virginia\n",
    "va_votes = pd.read_csv('../ElectionData/Virginia.csv', low_memory=False)\n",
    "va_votes = va_votes.fillna(0)\n",
    "va_votes['Year'] = pd.to_numeric(va_votes['Year'])\n",
    "va_votes.loc[:,'Total Votes'] = (va_votes.sum(axis=1)) - va_votes['Year']\n",
    "va_pres = va_votes[va_votes['Office'] == 'President']\n",
    "va_pres = va_pres.drop('Office', axis = 1)\n",
    "va_pres['Year'] = pd.to_numeric(va_pres['Year'])\n",
    "va_pres['PCT_DEM'] = (round(va_pres['D#']/va_pres['Total Votes'],4))*100\n",
    "va_pres['PCT_REP'] = (round(va_pres['R#']/va_pres['Total Votes'],4))*100\n",
    "va_pres['RD_DIFF'] = va_pres['PCT_REP'] - va_pres['PCT_DEM']\n",
    "va_pres_pct = va_pres[['State', 'Year', 'County/City', 'RD_DIFF']]\n",
    "va_pres_pct_2020 = va_pres_pct[va_pres_pct['Year'] == 2020]\n",
    "va_counties = ['Bristol City', 'Washington', 'Russell', 'Tazewell']"
   ]
  },
  {
   "cell_type": "code",
   "execution_count": 7,
   "metadata": {},
   "outputs": [],
   "source": [
    "#Repeat for West Virginia\n",
    "wv_votes = pd.read_csv('../ElectionData/West Virginia.csv', low_memory=False)\n",
    "wv_votes = wv_votes.fillna(0)\n",
    "wv_votes['Year'] = pd.to_numeric(wv_votes['Year'])\n",
    "wv_votes.loc[:,'Total Votes'] = (wv_votes.sum(axis=1)) - wv_votes['Year']\n",
    "wv_pres = wv_votes[wv_votes['Office'] == 'President']\n",
    "wv_pres = wv_pres.drop('Office', axis = 1)\n",
    "wv_pres['Year'] = pd.to_numeric(wv_pres['Year'])\n",
    "wv_pres['PCT_DEM'] = (round(wv_pres['D#']/wv_pres['Total Votes'],4))*100\n",
    "wv_pres['PCT_REP'] = (round(wv_pres['R#']/wv_pres['Total Votes'],4))*100\n",
    "wv_pres['RD_DIFF'] = wv_pres['PCT_REP'] - wv_pres['PCT_DEM']\n",
    "wv_pres_pct = wv_pres[['State', 'Year', 'County', 'RD_DIFF']]\n",
    "wv_pres_pct_2020 = wv_pres_pct[wv_pres_pct['Year'] == 2020]\n",
    "wv_counties = ['Mercer', 'Raleigh', 'Fayette', 'Nicholas', 'Braxton', 'Lewis', 'Harrison', 'Marion', 'Monongalia']"
   ]
  },
  {
   "cell_type": "code",
   "execution_count": 8,
   "metadata": {},
   "outputs": [],
   "source": [
    "#Repeat for Pennsylvania\n",
    "pa_votes = pd.read_csv('../ElectionData/Pennsylvania.csv', low_memory=False)\n",
    "pa_votes = pa_votes.fillna(0)\n",
    "pa_votes['Year'] = pd.to_numeric(pa_votes['Year'])\n",
    "pa_votes.loc[:,'Total Votes'] = (pa_votes.sum(axis=1)) - pa_votes['Year']\n",
    "pa_pres = pa_votes[pa_votes['Office'] == 'President']\n",
    "pa_pres = pa_pres.drop('Office', axis = 1)\n",
    "pa_pres['Year'] = pd.to_numeric(pa_pres['Year'])\n",
    "pa_pres['PCT_DEM'] = (round(pa_pres['D#']/pa_pres['Total Votes'],4))*100\n",
    "pa_pres['PCT_REP'] = (round(pa_pres['R#']/pa_pres['Total Votes'],4))*100\n",
    "pa_pres['RD_DIFF'] = pa_pres['PCT_REP'] - pa_pres['PCT_DEM']\n",
    "pa_pres_pct = pa_pres[['State', 'Year', 'County', 'RD_DIFF']]\n",
    "pa_pres_pct_2020 = pa_pres_pct[pa_pres_pct['Year'] == 2020]\n",
    "pa_counties = ['Greene', 'Washington', 'Allegheny', 'Butler', 'Lawrence', 'Mercer', 'Crawford', 'Erie']"
   ]
  },
  {
   "cell_type": "markdown",
   "metadata": {},
   "source": [
    "Now find the margins from each county."
   ]
  },
  {
   "cell_type": "code",
   "execution_count": 9,
   "metadata": {},
   "outputs": [
    {
     "name": "stdout",
     "output_type": "stream",
     "text": [
      "        State  Year   County  RD_DIFF\n",
      "7392  Florida  2020  Manatee    16.01\n",
      "        State  Year        County  RD_DIFF\n",
      "7380  Florida  2020  Hillsborough    -6.86\n",
      "        State  Year    County  RD_DIFF\n",
      "7404  Florida  2020  Pinellas    -0.22\n",
      "        State  Year County  RD_DIFF\n",
      "7403  Florida  2020  Pasco    20.01\n",
      "        State  Year    County  RD_DIFF\n",
      "7378  Florida  2020  Hernando    30.14\n",
      "        State  Year  County  RD_DIFF\n",
      "7361  Florida  2020  Citrus    40.97\n",
      "        State  Year County  RD_DIFF\n",
      "7389  Florida  2020   Levy    45.48\n",
      "        State  Year     County  RD_DIFF\n",
      "7372  Florida  2020  Gilchrist    63.85\n",
      "        State  Year County  RD_DIFF\n",
      "7366  Florida  2020  Dixie     66.0\n",
      "        State  Year  County  RD_DIFF\n",
      "7414  Florida  2020  Taylor    53.77\n",
      "        State  Year   County  RD_DIFF\n",
      "7391  Florida  2020  Madison    19.47\n",
      "        State  Year     County  RD_DIFF\n",
      "7384  Florida  2020  Jefferson     6.87\n"
     ]
    }
   ],
   "source": [
    "for c in fl_counties:\n",
    "    print(fl_pres_pct_2020[fl_pres_pct_2020['County'] == c])"
   ]
  },
  {
   "cell_type": "code",
   "execution_count": 10,
   "metadata": {},
   "outputs": [
    {
     "name": "stdout",
     "output_type": "stream",
     "text": [
      "         State  Year  County  RD_DIFF\n",
      "16490  Georgia  2020  Thomas    19.48\n",
      "         State  Year    County  RD_DIFF\n",
      "16455  Georgia  2020  Mitchell    10.51\n",
      "         State  Year     County  RD_DIFF\n",
      "16401  Georgia  2020  Dougherty   -40.03\n",
      "         State  Year County  RD_DIFF\n",
      "16442  Georgia  2020    Lee    44.56\n",
      "         State  Year  County  RD_DIFF\n",
      "16483  Georgia  2020  Sumter    -4.78\n",
      "         State  Year  County  RD_DIFF\n",
      "16477  Georgia  2020  Schley    58.81\n",
      "         State  Year  County  RD_DIFF\n",
      "16487  Georgia  2020  Taylor    26.86\n",
      "         State  Year County  RD_DIFF\n",
      "16499  Georgia  2020  Upson    34.12\n",
      "         State  Year County  RD_DIFF\n",
      "16468  Georgia  2020   Pike    71.09\n",
      "         State  Year    County  RD_DIFF\n",
      "16480  Georgia  2020  Spalding    20.77\n",
      "         State  Year County  RD_DIFF\n",
      "16429  Georgia  2020  Henry   -20.47\n",
      "         State  Year   County  RD_DIFF\n",
      "16385  Georgia  2020  Clayton   -70.87\n",
      "         State  Year  County  RD_DIFF\n",
      "16414  Georgia  2020  Fulton   -46.37\n",
      "         State  Year   County  RD_DIFF\n",
      "16412  Georgia  2020  Forsyth    33.17\n",
      "         State  Year  County  RD_DIFF\n",
      "16396  Georgia  2020  Dawson    67.84\n",
      "         State  Year   County  RD_DIFF\n",
      "16447  Georgia  2020  Lumpkin    58.13\n",
      "         State  Year County  RD_DIFF\n",
      "16498  Georgia  2020  Union     63.3\n"
     ]
    }
   ],
   "source": [
    "for c in ga_counties:\n",
    "    print(ga_pres_pct_2020[ga_pres_pct_2020['County'] == c])"
   ]
  },
  {
   "cell_type": "code",
   "execution_count": 11,
   "metadata": {},
   "outputs": [
    {
     "name": "stdout",
     "output_type": "stream",
     "text": [
      "                State    Year    County  RD_DIFF\n",
      "11715  North Carolina  2020.0  Cherokee    55.07\n",
      "                State    Year  County  RD_DIFF\n",
      "11733  North Carolina  2020.0  Graham    60.13\n",
      "                State    Year County  RD_DIFF\n",
      "11782  North Carolina  2020.0  Swain    19.54\n",
      "                State    Year   County  RD_DIFF\n",
      "11745  North Carolina  2020.0  Jackson     8.24\n",
      "                State    Year   County  RD_DIFF\n",
      "11739  North Carolina  2020.0  Haywood    26.52\n",
      "                State    Year    County  RD_DIFF\n",
      "11706  North Carolina  2020.0  Buncombe   -21.11\n",
      "                State    Year   County  RD_DIFF\n",
      "11753  North Carolina  2020.0  Madison    23.54\n",
      "                State    Year  County  RD_DIFF\n",
      "11795  North Carolina  2020.0  Yancey    33.72\n",
      "                State    Year    County  RD_DIFF\n",
      "11756  North Carolina  2020.0  Mitchell    57.77\n",
      "                State    Year County  RD_DIFF\n",
      "11701  North Carolina  2020.0  Avery    52.66\n"
     ]
    }
   ],
   "source": [
    "for c in nc_counties:\n",
    "    print(nc_pres_pct_2020[nc_pres_pct_2020['County'] == c])"
   ]
  },
  {
   "cell_type": "code",
   "execution_count": 12,
   "metadata": {},
   "outputs": [
    {
     "name": "stdout",
     "output_type": "stream",
     "text": [
      "          State    Year  County  RD_DIFF\n",
      "7178  Tennessee  2020.0  Unicoi     60.0\n",
      "          State    Year  County  RD_DIFF\n",
      "7102  Tennessee  2020.0  Carter    61.47\n",
      "          State    Year      County  RD_DIFF\n",
      "7182  Tennessee  2020.0  Washington    36.22\n",
      "          State    Year    County  RD_DIFF\n",
      "7174  Tennessee  2020.0  Sullivan    51.89\n"
     ]
    }
   ],
   "source": [
    "for c in tn_counties:\n",
    "    print(tn_pres_pct_2020[tn_pres_pct_2020['County'] == c])"
   ]
  },
  {
   "cell_type": "code",
   "execution_count": 13,
   "metadata": {},
   "outputs": [
    {
     "name": "stdout",
     "output_type": "stream",
     "text": [
      "          State    Year   County/City  RD_DIFF\n",
      "13990  Virginia  2020.0  Bristol City    38.87\n",
      "          State    Year County/City  RD_DIFF\n",
      "13984  Virginia  2020.0  Washington    52.51\n",
      "          State    Year County/City  RD_DIFF\n",
      "13973  Virginia  2020.0     Russell    63.54\n",
      "          State    Year County/City  RD_DIFF\n",
      "13982  Virginia  2020.0    Tazewell    67.18\n"
     ]
    }
   ],
   "source": [
    "for c in va_counties:\n",
    "    print(va_pres_pct_2020[va_pres_pct_2020['County/City'] == c])"
   ]
  },
  {
   "cell_type": "code",
   "execution_count": 14,
   "metadata": {},
   "outputs": [
    {
     "name": "stdout",
     "output_type": "stream",
     "text": [
      "              State    Year  County  RD_DIFF\n",
      "5912  West Virginia  2020.0  Mercer    54.43\n",
      "              State    Year   County  RD_DIFF\n",
      "5925  West Virginia  2020.0  Raleigh    50.41\n",
      "              State    Year   County  RD_DIFF\n",
      "5894  West Virginia  2020.0  Fayette    38.63\n",
      "              State    Year    County  RD_DIFF\n",
      "5918  West Virginia  2020.0  Nicholas    56.93\n",
      "              State    Year   County  RD_DIFF\n",
      "5888  West Virginia  2020.0  Braxton    47.02\n",
      "              State    Year County  RD_DIFF\n",
      "5905  West Virginia  2020.0  Lewis     56.9\n",
      "              State    Year    County  RD_DIFF\n",
      "5901  West Virginia  2020.0  Harrison    37.64\n",
      "              State    Year  County  RD_DIFF\n",
      "5909  West Virginia  2020.0  Marion    28.68\n",
      "              State    Year      County  RD_DIFF\n",
      "5915  West Virginia  2020.0  Monongalia     1.24\n"
     ]
    }
   ],
   "source": [
    "for c in wv_counties:\n",
    "    print(wv_pres_pct_2020[wv_pres_pct_2020['County'] == c])"
   ]
  },
  {
   "cell_type": "code",
   "execution_count": 15,
   "metadata": {},
   "outputs": [
    {
     "name": "stdout",
     "output_type": "stream",
     "text": [
      "             State    Year  County  RD_DIFF\n",
      "9275  Pennsylvania  2020.0  Greene    43.33\n",
      "             State    Year      County  RD_DIFF\n",
      "9308  Pennsylvania  2020.0  Washington    22.73\n",
      "             State    Year     County  RD_DIFF\n",
      "9247  Pennsylvania  2020.0  Allegheny    -20.4\n",
      "             State    Year  County  RD_DIFF\n",
      "9255  Pennsylvania  2020.0  Butler    32.42\n",
      "             State    Year    County  RD_DIFF\n",
      "9282  Pennsylvania  2020.0  Lawrence    29.49\n",
      "             State    Year  County  RD_DIFF\n",
      "9288  Pennsylvania  2020.0  Mercer    25.94\n",
      "             State    Year    County  RD_DIFF\n",
      "9265  Pennsylvania  2020.0  Crawford    37.13\n",
      "             State    Year County  RD_DIFF\n",
      "9270  Pennsylvania  2020.0   Erie    -1.03\n"
     ]
    }
   ],
   "source": [
    "for c in pa_counties:\n",
    "    print(pa_pres_pct_2020[pa_pres_pct_2020['County'] == c])"
   ]
  }
 ],
 "metadata": {
  "kernelspec": {
   "display_name": "Python 3",
   "language": "python",
   "name": "python3"
  },
  "language_info": {
   "codemirror_mode": {
    "name": "ipython",
    "version": 3
   },
   "file_extension": ".py",
   "mimetype": "text/x-python",
   "name": "python",
   "nbconvert_exporter": "python",
   "pygments_lexer": "ipython3",
   "version": "3.8.5"
  }
 },
 "nbformat": 4,
 "nbformat_minor": 4
}
