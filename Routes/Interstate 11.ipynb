{
 "cells": [
  {
   "cell_type": "markdown",
   "metadata": {},
   "source": [
    "<h2>Calculating 2020 Presidential Margins Along Interstate 11</h2>"
   ]
  },
  {
   "cell_type": "code",
   "execution_count": 1,
   "metadata": {},
   "outputs": [],
   "source": [
    "#Import relevant libraries\n",
    "import numpy as np\n",
    "import pandas as pd\n",
    "import warnings\n",
    "warnings.filterwarnings(\"ignore\")"
   ]
  },
  {
   "cell_type": "code",
   "execution_count": 2,
   "metadata": {},
   "outputs": [],
   "source": [
    "nv_vote = pd.read_csv('../ElectionData/Nevada.csv', low_memory=False)\n",
    "nv_votes = pd.DataFrame(nv_vote[nv_vote.Year == 2020])\n",
    "nv_votes = nv_votes.fillna(0)\n",
    "nv_votes['Year'] = pd.to_numeric(nv_votes['Year'])\n",
    "nv_votes.loc[:,'Total Votes'] = (nv_votes.sum(axis=1)) - nv_votes['Year']\n",
    "nv_pres = nv_votes[nv_votes['Office'] == 'President']\n",
    "nv_pres = nv_pres.drop('Office', axis = 1)\n",
    "nv_pres['Year'] = pd.to_numeric(nv_pres['Year'])\n",
    "nv_pres['PCT_DEM'] = (round(nv_pres['D#']/nv_pres['Total Votes'],4))*100\n",
    "nv_pres['PCT_REP'] = (round(nv_pres['R#']/nv_pres['Total Votes'],4))*100\n",
    "nv_pres['RD_DIFF'] = nv_pres['PCT_REP'] - nv_pres['PCT_DEM']\n",
    "nv_pres_pct = nv_pres[['State', 'Year', 'County', 'RD_DIFF']]\n",
    "nv_counties = ['Clark']"
   ]
  },
  {
   "cell_type": "code",
   "execution_count": 3,
   "metadata": {},
   "outputs": [
    {
     "name": "stdout",
     "output_type": "stream",
     "text": [
      "       State    Year County  RD_DIFF\n",
      "2950  Nevada  2020.0  Clark    -9.35\n"
     ]
    }
   ],
   "source": [
    "for c in nv_counties:\n",
    "    print(nv_pres_pct[nv_pres_pct['County'] == c])"
   ]
  }
 ],
 "metadata": {
  "kernelspec": {
   "display_name": "Python 3",
   "language": "python",
   "name": "python3"
  },
  "language_info": {
   "codemirror_mode": {
    "name": "ipython",
    "version": 3
   },
   "file_extension": ".py",
   "mimetype": "text/x-python",
   "name": "python",
   "nbconvert_exporter": "python",
   "pygments_lexer": "ipython3",
   "version": "3.8.5"
  }
 },
 "nbformat": 4,
 "nbformat_minor": 4
}
