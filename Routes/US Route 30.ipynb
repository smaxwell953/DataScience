{
 "cells": [
  {
   "cell_type": "markdown",
   "metadata": {},
   "source": [
    "#### <h2>Calculating 2020 Presidential Margins Along U.S. Route 30</h2>"
   ]
  },
  {
   "cell_type": "code",
   "execution_count": 1,
   "metadata": {},
   "outputs": [],
   "source": [
    "#Import relevant libraries\n",
    "import numpy as np\n",
    "import pandas as pd\n",
    "import warnings\n",
    "warnings.filterwarnings(\"ignore\")"
   ]
  },
  {
   "cell_type": "code",
   "execution_count": 2,
   "metadata": {},
   "outputs": [],
   "source": [
    "#Repeat for Oregon\n",
    "or_vote = pd.read_csv('../ElectionData/Oregon.csv', low_memory=False)\n",
    "or_votes = pd.DataFrame(or_vote[or_vote.Year == 2020])\n",
    "or_votes = or_votes.fillna(0)\n",
    "or_votes['Year'] = pd.to_numeric(or_votes['Year'])\n",
    "or_votes.loc[:,'Total Votes'] = (or_votes.sum(axis=1)) - or_votes['Year']\n",
    "or_pres = or_votes[or_votes['Office'] == 'President']\n",
    "or_pres = or_pres.drop('Office', axis = 1)\n",
    "or_pres['Year'] = pd.to_numeric(or_pres['Year'])\n",
    "or_pres['PCT_DEM'] = (round(or_pres['D#']/or_pres['Total Votes'],4))*100\n",
    "or_pres['PCT_REP'] = (round(or_pres['R#']/or_pres['Total Votes'],4))*100\n",
    "or_pres['RD_DIFF'] = or_pres['PCT_REP'] - or_pres['PCT_DEM']\n",
    "or_pres_pct = or_pres[['State', 'Year', 'County', 'RD_DIFF']]\n",
    "or_counties = ['Clatsop', 'Columbia', 'Multnomah', 'Hood River', 'Wasco', 'Sherman', 'Gilliam', 'Morrow', 'Umatilla',\\\n",
    "               'Union', 'Baker', 'Malheur']"
   ]
  },
  {
   "cell_type": "code",
   "execution_count": 3,
   "metadata": {},
   "outputs": [],
   "source": [
    "#Repeat for Idaho\n",
    "id_vote = pd.read_csv('../ElectionData/Idaho.csv', low_memory=False)\n",
    "id_votes = pd.DataFrame(id_vote[id_vote.Year == 2020])\n",
    "id_votes = id_votes.fillna(0)\n",
    "id_votes['Year'] = pd.to_numeric(id_votes['Year'])\n",
    "id_votes.loc[:,'Total Votes'] = (id_votes.sum(axis=1)) - id_votes['Year']\n",
    "id_pres = id_votes[id_votes['Office'] == 'President']\n",
    "id_pres = id_pres.drop('Office', axis = 1)\n",
    "id_pres['Year'] = pd.to_numeric(id_pres['Year'])\n",
    "id_pres['PCT_DEM'] = (round(id_pres['D#']/id_pres['Total Votes'],4))*100\n",
    "id_pres['PCT_REP'] = (round(id_pres['R#']/id_pres['Total Votes'],4))*100\n",
    "id_pres['RD_DIFF'] = id_pres['PCT_REP'] - id_pres['PCT_DEM']\n",
    "id_pres_pct = id_pres[['State', 'Year', 'County', 'RD_DIFF']]\n",
    "id_counties = ['Payette', 'Canyon', 'Ada', 'Elmore', 'Gooding', 'Twin Falls', 'Cassia', 'Minidoka', 'Power', 'Bannock',\\\n",
    "               'Caribou', 'Bear Lake']"
   ]
  },
  {
   "cell_type": "code",
   "execution_count": 4,
   "metadata": {},
   "outputs": [],
   "source": [
    "#Repeat for Wyoming\n",
    "wy_vote = pd.read_csv('../ElectionData/Wyoming.csv', low_memory=False)\n",
    "wy_votes = pd.DataFrame(wy_vote[wy_vote.Year == 2020])\n",
    "wy_votes = wy_votes.fillna(0)\n",
    "wy_votes['Year'] = pd.to_numeric(wy_votes['Year'])\n",
    "wy_votes.loc[:,'Total Votes'] = (wy_votes.sum(axis=1)) - wy_votes['Year']\n",
    "wy_pres = wy_votes[wy_votes['Office'] == 'President']\n",
    "wy_pres = wy_pres.drop('Office', axis = 1)\n",
    "wy_pres['Year'] = pd.to_numeric(wy_pres['Year'])\n",
    "wy_pres['PCT_DEM'] = (round(wy_pres['D#']/wy_pres['Total Votes'],4))*100\n",
    "wy_pres['PCT_REP'] = (round(wy_pres['R#']/wy_pres['Total Votes'],4))*100\n",
    "wy_pres['RD_DIFF'] = wy_pres['PCT_REP'] - wy_pres['PCT_DEM']\n",
    "wy_pres_pct = wy_pres[['State', 'Year', 'County', 'RD_DIFF']]\n",
    "wy_counties = ['Lincoln', 'Sweetwater', 'Carbon', 'Albany', 'Laramie']"
   ]
  },
  {
   "cell_type": "code",
   "execution_count": 5,
   "metadata": {},
   "outputs": [],
   "source": [
    "#Repeat for Nebraska\n",
    "ne_vote = pd.read_csv('../ElectionData/Nebraska.csv', low_memory=False)\n",
    "ne_votes = pd.DataFrame(ne_vote[ne_vote.Year == 2020])\n",
    "ne_votes = ne_votes.fillna(0)\n",
    "ne_votes['Year'] = pd.to_numeric(ne_votes['Year'])\n",
    "ne_votes.loc[:,'Total Votes'] = (ne_votes.sum(axis=1)) - ne_votes['Year']\n",
    "ne_pres = ne_votes[ne_votes['Office'] == 'President']\n",
    "ne_pres = ne_pres.drop('Office', axis = 1)\n",
    "ne_pres['Year'] = pd.to_numeric(ne_pres['Year'])\n",
    "ne_pres['PCT_DEM'] = (round(ne_pres['D#']/ne_pres['Total Votes'],4))*100\n",
    "ne_pres['PCT_REP'] = (round(ne_pres['R#']/ne_pres['Total Votes'],4))*100\n",
    "ne_pres['RD_DIFF'] = ne_pres['PCT_REP'] - ne_pres['PCT_DEM']\n",
    "ne_pres_pct = ne_pres[['State', 'Year', 'County', 'RD_DIFF']]\n",
    "ne_counties = ['Kimball', 'Cheyenne', 'Deuel', 'Keith', 'Lincoln', 'Dawson', 'Buffalo', 'Hall', 'Merrick', 'Platte',\\\n",
    "               'Colfax', 'Dodge', 'Washington']"
   ]
  },
  {
   "cell_type": "code",
   "execution_count": 6,
   "metadata": {},
   "outputs": [],
   "source": [
    "#Repeat for Iowa\n",
    "ia_vote = pd.read_csv('../ElectionData/Iowa.csv', low_memory=False)\n",
    "ia_votes = pd.DataFrame(ia_vote[ia_vote.Year == 2020])\n",
    "ia_votes = ia_votes.fillna(0)\n",
    "ia_votes['Year'] = pd.to_numeric(ia_votes['Year'])\n",
    "ia_votes.loc[:,'Total Votes'] = (ia_votes.sum(axis=1)) - ia_votes['Year']\n",
    "ia_pres = ia_votes[ia_votes['Office'] == 'President']\n",
    "ia_pres = ia_pres.drop('Office', axis = 1)\n",
    "ia_pres['Year'] = pd.to_numeric(ia_pres['Year'])\n",
    "ia_pres['PCT_DEM'] = (round(ia_pres['D#']/ia_pres['Total Votes'],4))*100\n",
    "ia_pres['PCT_REP'] = (round(ia_pres['R#']/ia_pres['Total Votes'],4))*100\n",
    "ia_pres['RD_DIFF'] = ia_pres['PCT_REP'] - ia_pres['PCT_DEM']\n",
    "ia_pres_pct = ia_pres[['State', 'Year', 'County', 'RD_DIFF']]\n",
    "ia_counties = ['Harrison', 'Crawford', 'Carroll', 'Greene', 'Boone', 'Story', 'Marshall', 'Tama', 'Benton', 'Linn',\\\n",
    "               'Cedar', 'Clinton']"
   ]
  },
  {
   "cell_type": "code",
   "execution_count": 7,
   "metadata": {},
   "outputs": [],
   "source": [
    "#Repeat for Illinois\n",
    "il_vote = pd.read_csv('../ElectionData/Illinois.csv', low_memory=False)\n",
    "il_votes = pd.DataFrame(il_vote[il_vote.Year == 2020])\n",
    "il_votes = il_votes.fillna(0)\n",
    "il_votes['Year'] = pd.to_numeric(il_votes['Year'])\n",
    "il_votes.loc[:,'Total Votes'] = (il_votes.sum(axis=1)) - il_votes['Year']\n",
    "il_pres = il_votes[il_votes['Office'] == 'President']\n",
    "il_pres = il_pres.drop('Office', axis = 1)\n",
    "il_pres['Year'] = pd.to_numeric(il_pres['Year'])\n",
    "il_pres['PCT_DEM'] = (round(il_pres['D#']/il_pres['Total Votes'],4))*100\n",
    "il_pres['PCT_REP'] = (round(il_pres['R#']/il_pres['Total Votes'],4))*100\n",
    "il_pres['RD_DIFF'] = il_pres['PCT_REP'] - il_pres['PCT_DEM']\n",
    "il_pres_pct = il_pres[['State', 'Year', 'County', 'RD_DIFF']]\n",
    "il_counties = ['Whiteside', 'Lee', 'DeKalb', 'Kane', 'Kendall', 'Will', 'Cook']"
   ]
  },
  {
   "cell_type": "code",
   "execution_count": 8,
   "metadata": {},
   "outputs": [],
   "source": [
    "#Repeat for Indiana\n",
    "in_vote = pd.read_csv('../ElectionData/Indiana.csv', low_memory=False)\n",
    "in_votes = pd.DataFrame(in_vote[in_vote.Year == 2020])\n",
    "in_votes = in_votes.fillna(0)\n",
    "in_votes['Year'] = pd.to_numeric(in_votes['Year'])\n",
    "in_votes.loc[:,'Total Votes'] = (in_votes.sum(axis=1)) - in_votes['Year']\n",
    "in_pres = in_votes[in_votes['Office'] == 'President']\n",
    "in_pres = in_pres.drop('Office', axis = 1)\n",
    "in_pres['Year'] = pd.to_numeric(in_pres['Year'])\n",
    "in_pres['PCT_DEM'] = (round(in_pres['D#']/in_pres['Total Votes'],4))*100\n",
    "in_pres['PCT_REP'] = (round(in_pres['R#']/in_pres['Total Votes'],4))*100\n",
    "in_pres['RD_DIFF'] = in_pres['PCT_REP'] - in_pres['PCT_DEM']\n",
    "in_pres_pct = in_pres[['State', 'Year', 'County', 'RD_DIFF']]\n",
    "in_counties = ['Lake', 'Porter', 'LaPorte', 'Starke', 'Marshall', 'Kosciusko', 'Whitley', 'Allen']"
   ]
  },
  {
   "cell_type": "code",
   "execution_count": 9,
   "metadata": {},
   "outputs": [],
   "source": [
    "#Repeat for Ohio\n",
    "oh_vote = pd.read_csv('../ElectionData/Ohio.csv', low_memory=False)\n",
    "oh_votes = pd.DataFrame(oh_vote[oh_vote.Year == 2020])\n",
    "oh_votes = oh_votes.fillna(0)\n",
    "oh_votes['Year'] = pd.to_numeric(oh_votes['Year'])\n",
    "oh_votes.loc[:,'Total Votes'] = (oh_votes.sum(axis=1)) - oh_votes['Year']\n",
    "oh_pres = oh_votes[oh_votes['Office'] == 'President']\n",
    "oh_pres = oh_pres.drop('Office', axis = 1)\n",
    "oh_pres['Year'] = pd.to_numeric(oh_pres['Year'])\n",
    "oh_pres['PCT_DEM'] = (round(oh_pres['D#']/oh_pres['Total Votes'],4))*100\n",
    "oh_pres['PCT_REP'] = (round(oh_pres['R#']/oh_pres['Total Votes'],4))*100\n",
    "oh_pres['RD_DIFF'] = oh_pres['PCT_REP'] - oh_pres['PCT_DEM']\n",
    "oh_pres_pct = oh_pres[['State', 'Year', 'County', 'RD_DIFF']]\n",
    "oh_counties = ['Paulding', 'Van Wert', 'Putnam', 'Allen', 'Hancock', 'Wyandot', 'Crawford', 'Richland', 'Ashland', 'Wayne',\\\n",
    "               'Stark', 'Columbiana']"
   ]
  },
  {
   "cell_type": "code",
   "execution_count": 10,
   "metadata": {},
   "outputs": [],
   "source": [
    "#Repeat for West Virginia\n",
    "wv_vote = pd.read_csv('../ElectionData/West Virginia.csv', low_memory=False)\n",
    "wv_votes = pd.DataFrame(wv_vote[wv_vote.Year == 2020])\n",
    "wv_votes = wv_votes.fillna(0)\n",
    "wv_votes['Year'] = pd.to_numeric(wv_votes['Year'])\n",
    "wv_votes.loc[:,'Total Votes'] = (wv_votes.sum(axis=1)) - wv_votes['Year']\n",
    "wv_pres = wv_votes[wv_votes['Office'] == 'President']\n",
    "wv_pres = wv_pres.drop('Office', axis = 1)\n",
    "wv_pres['Year'] = pd.to_numeric(wv_pres['Year'])\n",
    "wv_pres['PCT_DEM'] = (round(wv_pres['D#']/wv_pres['Total Votes'],4))*100\n",
    "wv_pres['PCT_REP'] = (round(wv_pres['R#']/wv_pres['Total Votes'],4))*100\n",
    "wv_pres['RD_DIFF'] = wv_pres['PCT_REP'] - wv_pres['PCT_DEM']\n",
    "wv_pres_pct = wv_pres[['State', 'Year', 'County', 'RD_DIFF']]\n",
    "wv_counties = ['Hancock']"
   ]
  },
  {
   "cell_type": "code",
   "execution_count": 11,
   "metadata": {},
   "outputs": [],
   "source": [
    "#Repeat for Pennsylvania\n",
    "pa_vote = pd.read_csv('../ElectionData/Pennsylvania.csv', low_memory=False)\n",
    "pa_votes = pd.DataFrame(pa_vote[pa_vote.Year == 2020])\n",
    "pa_votes = pa_votes.fillna(0)\n",
    "pa_votes['Year'] = pd.to_numeric(pa_votes['Year'])\n",
    "pa_votes.loc[:,'Total Votes'] = (pa_votes.sum(axis=1)) - pa_votes['Year']\n",
    "pa_pres = pa_votes[pa_votes['Office'] == 'President']\n",
    "pa_pres = pa_pres.drop('Office', axis = 1)\n",
    "pa_pres['Year'] = pd.to_numeric(pa_pres['Year'])\n",
    "pa_pres['PCT_DEM'] = (round(pa_pres['D#']/pa_pres['Total Votes'],4))*100\n",
    "pa_pres['PCT_REP'] = (round(pa_pres['R#']/pa_pres['Total Votes'],4))*100\n",
    "pa_pres['RD_DIFF'] = pa_pres['PCT_REP'] - pa_pres['PCT_DEM']\n",
    "pa_pres_pct = pa_pres[['State', 'Year', 'County', 'RD_DIFF']]\n",
    "pa_counties = ['Beaver', 'Allegheny', 'Westmoreland', 'Somerset', 'Bedford', 'Fulton', 'Franklin', 'Adams', 'York', \\\n",
    "               'Lancaster', 'Chester', 'Delaware', 'Montgomery', 'Philadelphia']"
   ]
  },
  {
   "cell_type": "code",
   "execution_count": 12,
   "metadata": {},
   "outputs": [],
   "source": [
    "#Repeat for New Jersey\n",
    "nj_vote = pd.read_csv('../ElectionData/New Jersey.csv', low_memory=False)\n",
    "nj_votes = pd.DataFrame(nj_vote[nj_vote.Year == 2020])\n",
    "nj_votes = nj_votes.fillna(0)\n",
    "nj_votes['Year'] = pd.to_numeric(nj_votes['Year'])\n",
    "nj_votes.loc[:,'Total Votes'] = (nj_votes.sum(axis=1)) - nj_votes['Year']\n",
    "nj_pres = nj_votes[nj_votes['Office'] == 'President']\n",
    "nj_pres = nj_pres.drop('Office', axis = 1)\n",
    "nj_pres['Year'] = pd.to_numeric(nj_pres['Year'])\n",
    "nj_pres['PCT_DEM'] = (round(nj_pres['D#']/nj_pres['Total Votes'],4))*100\n",
    "nj_pres['PCT_REP'] = (round(nj_pres['R#']/nj_pres['Total Votes'],4))*100\n",
    "nj_pres['RD_DIFF'] = nj_pres['PCT_REP'] - nj_pres['PCT_DEM']\n",
    "nj_pres_pct = nj_pres[['State', 'Year', 'County', 'RD_DIFF']]\n",
    "nj_counties = ['Camden', 'Atlantic']"
   ]
  },
  {
   "cell_type": "markdown",
   "metadata": {},
   "source": [
    "Now find the margins from each county."
   ]
  },
  {
   "cell_type": "code",
   "execution_count": 13,
   "metadata": {},
   "outputs": [
    {
     "name": "stdout",
     "output_type": "stream",
     "text": [
      "       State    Year   County  RD_DIFF\n",
      "3531  Oregon  2020.0  Clatsop   -11.28\n",
      "       State    Year    County  RD_DIFF\n",
      "3532  Oregon  2020.0  Columbia    10.29\n",
      "       State    Year     County  RD_DIFF\n",
      "3553  Oregon  2020.0  Multnomah   -61.31\n",
      "       State    Year      County  RD_DIFF\n",
      "3541  Oregon  2020.0  Hood River   -36.74\n",
      "       State    Year County  RD_DIFF\n",
      "3560  Oregon  2020.0  Wasco     3.05\n",
      "       State    Year   County  RD_DIFF\n",
      "3555  Oregon  2020.0  Sherman    54.72\n",
      "       State    Year   County  RD_DIFF\n",
      "3538  Oregon  2020.0  Gilliam     43.3\n",
      "       State    Year  County  RD_DIFF\n",
      "3552  Oregon  2020.0  Morrow    43.28\n",
      "       State    Year    County  RD_DIFF\n",
      "3557  Oregon  2020.0  Umatilla    31.97\n",
      "       State    Year County  RD_DIFF\n",
      "3558  Oregon  2020.0  Union    40.44\n",
      "       State    Year County  RD_DIFF\n",
      "3528  Oregon  2020.0  Baker     50.4\n",
      "       State    Year   County  RD_DIFF\n",
      "3550  Oregon  2020.0  Malheur    41.74\n"
     ]
    }
   ],
   "source": [
    "for c in or_counties:\n",
    "    print(or_pres_pct[or_pres_pct['County'] == c])"
   ]
  },
  {
   "cell_type": "code",
   "execution_count": 14,
   "metadata": {},
   "outputs": [
    {
     "name": "stdout",
     "output_type": "stream",
     "text": [
      "      State  Year   County  RD_DIFF\n",
      "6661  Idaho  2020  Payette    59.33\n",
      "      State  Year  County  RD_DIFF\n",
      "6637  Idaho  2020  Canyon    39.66\n",
      "      State  Year County  RD_DIFF\n",
      "6624  Idaho  2020    Ada     3.88\n",
      "      State  Year  County  RD_DIFF\n",
      "6643  Idaho  2020  Elmore    45.48\n",
      "      State  Year   County  RD_DIFF\n",
      "6647  Idaho  2020  Gooding    56.23\n",
      "      State  Year      County  RD_DIFF\n",
      "6665  Idaho  2020  Twin Falls    45.21\n",
      "      State  Year  County  RD_DIFF\n",
      "6639  Idaho  2020  Cassia    66.89\n",
      "      State  Year    County  RD_DIFF\n",
      "6657  Idaho  2020  Minidoka    58.99\n",
      "      State  Year County  RD_DIFF\n",
      "6662  Idaho  2020  Power    40.54\n",
      "      State  Year   County  RD_DIFF\n",
      "6626  Idaho  2020  Bannock    21.74\n",
      "      State  Year   County  RD_DIFF\n",
      "6638  Idaho  2020  Caribou    72.45\n",
      "      State  Year     County  RD_DIFF\n",
      "6627  Idaho  2020  Bear Lake    77.33\n"
     ]
    }
   ],
   "source": [
    "for c in id_counties:\n",
    "    print(id_pres_pct[id_pres_pct['County'] == c])"
   ]
  },
  {
   "cell_type": "code",
   "execution_count": 15,
   "metadata": {},
   "outputs": [
    {
     "name": "stdout",
     "output_type": "stream",
     "text": [
      "        State    Year   County  RD_DIFF\n",
      "1954  Wyoming  2020.0  Lincoln    68.15\n",
      "        State    Year      County  RD_DIFF\n",
      "1961  Wyoming  2020.0  Sweetwater    50.63\n",
      "        State    Year  County  RD_DIFF\n",
      "1946  Wyoming  2020.0  Carbon    53.83\n",
      "        State    Year  County  RD_DIFF\n",
      "1943  Wyoming  2020.0  Albany    -2.76\n",
      "        State    Year   County  RD_DIFF\n",
      "1953  Wyoming  2020.0  Laramie    28.17\n"
     ]
    }
   ],
   "source": [
    "for c in wy_counties:\n",
    "    print(wy_pres_pct[wy_pres_pct['County'] == c])"
   ]
  },
  {
   "cell_type": "code",
   "execution_count": 16,
   "metadata": {},
   "outputs": [
    {
     "name": "stdout",
     "output_type": "stream",
     "text": [
      "          State    Year   County  RD_DIFF\n",
      "11672  Nebraska  2020.0  Kimball    68.99\n",
      "          State    Year    County  RD_DIFF\n",
      "11636  Nebraska  2020.0  Cheyenne    61.94\n",
      "          State    Year County  RD_DIFF\n",
      "11644  Nebraska  2020.0  Deuel     70.6\n",
      "          State    Year County  RD_DIFF\n",
      "11670  Nebraska  2020.0  Keith    63.66\n",
      "          State    Year   County  RD_DIFF\n",
      "11675  Nebraska  2020.0  Lincoln    54.65\n",
      "          State    Year  County  RD_DIFF\n",
      "11643  Nebraska  2020.0  Dawson    43.81\n",
      "          State    Year   County  RD_DIFF\n",
      "11629  Nebraska  2020.0  Buffalo     43.4\n",
      "          State    Year County  RD_DIFF\n",
      "11659  Nebraska  2020.0   Hall    34.79\n",
      "          State    Year   County  RD_DIFF\n",
      "11680  Nebraska  2020.0  Merrick     62.5\n",
      "          State    Year  County  RD_DIFF\n",
      "11690  Nebraska  2020.0  Platte    56.77\n",
      "          State    Year  County  RD_DIFF\n",
      "11638  Nebraska  2020.0  Colfax    43.24\n",
      "          State    Year County  RD_DIFF\n",
      "11646  Nebraska  2020.0  Dodge    32.12\n",
      "          State    Year      County  RD_DIFF\n",
      "11708  Nebraska  2020.0  Washington    40.34\n"
     ]
    }
   ],
   "source": [
    "for c in ne_counties:\n",
    "    print(ne_pres_pct[ne_pres_pct['County'] == c])"
   ]
  },
  {
   "cell_type": "code",
   "execution_count": 17,
   "metadata": {},
   "outputs": [
    {
     "name": "stdout",
     "output_type": "stream",
     "text": [
      "      State  Year    County  RD_DIFF\n",
      "16476  Iowa  2020  Harrison    38.37\n",
      "      State  Year    County  RD_DIFF\n",
      "16457  Iowa  2020  Crawford    36.82\n",
      "      State  Year   County  RD_DIFF\n",
      "16447  Iowa  2020  Carroll    37.79\n",
      "      State  Year  County  RD_DIFF\n",
      "16470  Iowa  2020  Greene    28.75\n",
      "      State  Year County  RD_DIFF\n",
      "16441  Iowa  2020  Boone    15.59\n",
      "      State  Year County  RD_DIFF\n",
      "16518  Iowa  2020  Story   -17.31\n",
      "      State  Year    County  RD_DIFF\n",
      "16497  Iowa  2020  Marshall     7.69\n",
      "      State  Year County  RD_DIFF\n",
      "16519  Iowa  2020   Tama    19.08\n",
      "      State  Year  County  RD_DIFF\n",
      "16439  Iowa  2020  Benton    27.51\n",
      "      State  Year County  RD_DIFF\n",
      "16490  Iowa  2020   Linn   -13.74\n",
      "      State  Year County  RD_DIFF\n",
      "16449  Iowa  2020  Cedar    17.04\n",
      "      State  Year   County  RD_DIFF\n",
      "16456  Iowa  2020  Clinton    10.32\n"
     ]
    }
   ],
   "source": [
    "for c in ia_counties:\n",
    "    print(ia_pres_pct[ia_pres_pct['County'] == c])"
   ]
  },
  {
   "cell_type": "code",
   "execution_count": 18,
   "metadata": {},
   "outputs": [
    {
     "name": "stdout",
     "output_type": "stream",
     "text": [
      "          State  Year     County  RD_DIFF\n",
      "19987  Illinois  2020  Whiteside     8.28\n",
      "          State  Year County  RD_DIFF\n",
      "19941  Illinois  2020    Lee    19.61\n",
      "          State  Year  County  RD_DIFF\n",
      "19908  Illinois  2020  DeKalb     -5.7\n",
      "          State  Year County  RD_DIFF\n",
      "19934  Illinois  2020   Kane    -14.4\n",
      "          State  Year   County  RD_DIFF\n",
      "19936  Illinois  2020  Kendall    -5.73\n",
      "          State  Year County  RD_DIFF\n",
      "19988  Illinois  2020   Will    -8.31\n",
      "          State  Year County  RD_DIFF\n",
      "19905  Illinois  2020   Cook   -50.21\n"
     ]
    }
   ],
   "source": [
    "for c in il_counties:\n",
    "    print(il_pres_pct[il_pres_pct['County'] == c])"
   ]
  },
  {
   "cell_type": "code",
   "execution_count": 19,
   "metadata": {},
   "outputs": [
    {
     "name": "stdout",
     "output_type": "stream",
     "text": [
      "         State  Year County  RD_DIFF\n",
      "12188  Indiana  2020   Lake   -15.02\n",
      "         State  Year  County  RD_DIFF\n",
      "12207  Indiana  2020  Porter     6.06\n",
      "         State  Year   County  RD_DIFF\n",
      "12189  Indiana  2020  LaPorte     7.22\n",
      "         State  Year  County  RD_DIFF\n",
      "12218  Indiana  2020  Starke    46.71\n",
      "         State  Year    County  RD_DIFF\n",
      "12193  Indiana  2020  Marshall    40.75\n",
      "         State  Year     County  RD_DIFF\n",
      "12186  Indiana  2020  Kosciusko    50.54\n",
      "         State  Year   County  RD_DIFF\n",
      "12235  Indiana  2020  Whitley    49.06\n",
      "         State  Year County  RD_DIFF\n",
      "12145  Indiana  2020  Allen    11.15\n"
     ]
    }
   ],
   "source": [
    "for c in in_counties:\n",
    "    print(in_pres_pct[in_pres_pct['County'] == c])"
   ]
  },
  {
   "cell_type": "code",
   "execution_count": 20,
   "metadata": {},
   "outputs": [
    {
     "name": "stdout",
     "output_type": "stream",
     "text": [
      "      State    Year    County  RD_DIFF\n",
      "12646  Ohio  2020.0  Paulding    51.39\n",
      "      State    Year    County  RD_DIFF\n",
      "12664  Ohio  2020.0  Van Wert    57.25\n",
      "      State    Year  County  RD_DIFF\n",
      "12652  Ohio  2020.0  Putnam    66.26\n",
      "      State    Year County  RD_DIFF\n",
      "12585  Ohio  2020.0  Allen    39.43\n",
      "      State    Year   County  RD_DIFF\n",
      "12615  Ohio  2020.0  Hancock    37.54\n",
      "      State    Year   County  RD_DIFF\n",
      "12671  Ohio  2020.0  Wyandot    50.24\n",
      "      State    Year    County  RD_DIFF\n",
      "12600  Ohio  2020.0  Crawford    50.79\n",
      "      State    Year    County  RD_DIFF\n",
      "12653  Ohio  2020.0  Richland    39.74\n",
      "      State    Year   County  RD_DIFF\n",
      "12586  Ohio  2020.0  Ashland    48.73\n",
      "      State    Year County  RD_DIFF\n",
      "12668  Ohio  2020.0  Wayne    37.03\n",
      "      State    Year County  RD_DIFF\n",
      "12659  Ohio  2020.0  Stark    18.51\n",
      "      State    Year      County  RD_DIFF\n",
      "12598  Ohio  2020.0  Columbiana    44.77\n"
     ]
    }
   ],
   "source": [
    "for c in oh_counties:\n",
    "    print(oh_pres_pct[oh_pres_pct['County'] == c])"
   ]
  },
  {
   "cell_type": "code",
   "execution_count": 21,
   "metadata": {},
   "outputs": [
    {
     "name": "stdout",
     "output_type": "stream",
     "text": [
      "              State    Year   County  RD_DIFF\n",
      "5899  West Virginia  2020.0  Hancock    43.59\n"
     ]
    }
   ],
   "source": [
    "for c in wv_counties:\n",
    "    print(wv_pres_pct[wv_pres_pct['County'] == c])"
   ]
  },
  {
   "cell_type": "code",
   "execution_count": 22,
   "metadata": {},
   "outputs": [
    {
     "name": "stdout",
     "output_type": "stream",
     "text": [
      "             State    Year  County  RD_DIFF\n",
      "9249  Pennsylvania  2020.0  Beaver    17.63\n",
      "             State    Year     County  RD_DIFF\n",
      "9247  Pennsylvania  2020.0  Allegheny    -20.4\n",
      "             State    Year        County  RD_DIFF\n",
      "9310  Pennsylvania  2020.0  Westmoreland     28.3\n",
      "             State    Year    County  RD_DIFF\n",
      "9301  Pennsylvania  2020.0  Somerset    56.15\n",
      "             State    Year   County  RD_DIFF\n",
      "9250  Pennsylvania  2020.0  Bedford    67.57\n",
      "             State    Year  County  RD_DIFF\n",
      "9274  Pennsylvania  2020.0  Fulton    71.83\n",
      "             State    Year    County  RD_DIFF\n",
      "9273  Pennsylvania  2020.0  Franklin    42.98\n",
      "             State    Year County  RD_DIFF\n",
      "9246  Pennsylvania  2020.0  Adams     34.0\n",
      "             State    Year County  RD_DIFF\n",
      "9312  Pennsylvania  2020.0   York    24.51\n",
      "             State    Year     County  RD_DIFF\n",
      "9281  Pennsylvania  2020.0  Lancaster    15.77\n",
      "             State    Year   County  RD_DIFF\n",
      "9260  Pennsylvania  2020.0  Chester   -17.04\n",
      "             State    Year    County  RD_DIFF\n",
      "9268  Pennsylvania  2020.0  Delaware   -26.73\n",
      "             State    Year      County  RD_DIFF\n",
      "9291  Pennsylvania  2020.0  Montgomery   -26.18\n",
      "             State    Year        County  RD_DIFF\n",
      "9296  Pennsylvania  2020.0  Philadelphia   -63.35\n"
     ]
    }
   ],
   "source": [
    "for c in pa_counties:\n",
    "    print(pa_pres_pct[pa_pres_pct['County'] == c])"
   ]
  },
  {
   "cell_type": "code",
   "execution_count": 23,
   "metadata": {},
   "outputs": [
    {
     "name": "stdout",
     "output_type": "stream",
     "text": [
      "           State  Year  County  RD_DIFF\n",
      "1725  New Jersey  2020  Camden   -33.45\n",
      "           State  Year    County  RD_DIFF\n",
      "1722  New Jersey  2020  Atlantic    -6.69\n"
     ]
    }
   ],
   "source": [
    "for c in nj_counties:\n",
    "    print(nj_pres_pct[nj_pres_pct['County'] == c])"
   ]
  }
 ],
 "metadata": {
  "kernelspec": {
   "display_name": "Python 3",
   "language": "python",
   "name": "python3"
  },
  "language_info": {
   "codemirror_mode": {
    "name": "ipython",
    "version": 3
   },
   "file_extension": ".py",
   "mimetype": "text/x-python",
   "name": "python",
   "nbconvert_exporter": "python",
   "pygments_lexer": "ipython3",
   "version": "3.8.5"
  }
 },
 "nbformat": 4,
 "nbformat_minor": 4
}
