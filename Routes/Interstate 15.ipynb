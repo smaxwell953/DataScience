{
 "cells": [
  {
   "cell_type": "markdown",
   "metadata": {},
   "source": [
    "<h2>Calculating 2020 Presidential Margins Along Interstate 15</h2>"
   ]
  },
  {
   "cell_type": "code",
   "execution_count": 1,
   "metadata": {},
   "outputs": [],
   "source": [
    "#Import relevant libraries\n",
    "import numpy as np\n",
    "import pandas as pd\n",
    "import warnings\n",
    "warnings.filterwarnings(\"ignore\")"
   ]
  },
  {
   "cell_type": "code",
   "execution_count": 2,
   "metadata": {},
   "outputs": [],
   "source": [
    "ca_vote = pd.read_csv('../ElectionData/California.csv', low_memory=False)\n",
    "ca_votes = pd.DataFrame(ca_vote[ca_vote.Year == '2020'])\n",
    "ca_votes = ca_votes.fillna(0)\n",
    "ca_votes['Year'] = pd.to_numeric(ca_votes['Year'])\n",
    "ca_votes.loc[:,'Total Votes'] = (ca_votes.sum(axis=1)) - ca_votes['Year']\n",
    "ca_pres = ca_votes[ca_votes['Office'] == 'President']\n",
    "ca_pres = ca_pres.drop('Office', axis = 1)\n",
    "ca_pres['Year'] = pd.to_numeric(ca_pres['Year'])\n",
    "ca_pres['PCT_DEM'] = (round(ca_pres['D1#']/ca_pres['Total Votes'],4))*100\n",
    "ca_pres['PCT_REP'] = (round(ca_pres['R#']/ca_pres['Total Votes'],4))*100\n",
    "ca_pres['RD_DIFF'] = ca_pres['PCT_REP'] - ca_pres['PCT_DEM']\n",
    "ca_pres_pct = ca_pres[['State', 'Year', 'County', 'RD_DIFF']]\n",
    "ca_counties = ['San Diego', 'Riverside', 'San Bernardino']"
   ]
  },
  {
   "cell_type": "code",
   "execution_count": 16,
   "metadata": {},
   "outputs": [],
   "source": [
    "nv_vote = pd.read_csv('../ElectionData/Nevada.csv', low_memory=False)\n",
    "nv_votes = pd.DataFrame(nv_vote[nv_vote.Year == 2020])\n",
    "nv_votes = nv_votes.fillna(0)\n",
    "nv_votes['Year'] = pd.to_numeric(nv_votes['Year'])\n",
    "nv_votes.loc[:,'Total Votes'] = (nv_votes.sum(axis=1)) - nv_votes['Year']\n",
    "nv_pres = nv_votes[nv_votes['Office'] == 'President']\n",
    "nv_pres = nv_pres.drop('Office', axis = 1)\n",
    "nv_pres['Year'] = pd.to_numeric(nv_pres['Year'])\n",
    "nv_pres['PCT_DEM'] = (round(nv_pres['D#']/nv_pres['Total Votes'],4))*100\n",
    "nv_pres['PCT_REP'] = (round(nv_pres['R#']/nv_pres['Total Votes'],4))*100\n",
    "nv_pres['RD_DIFF'] = nv_pres['PCT_REP'] - nv_pres['PCT_DEM']\n",
    "nv_pres_pct = nv_pres[['State', 'Year', 'County', 'RD_DIFF']]\n",
    "nv_counties = ['Clark']"
   ]
  },
  {
   "cell_type": "code",
   "execution_count": 4,
   "metadata": {},
   "outputs": [],
   "source": [
    "az_vote = pd.read_csv('../ElectionData/Arizona.csv', low_memory=False)\n",
    "az_votes = pd.DataFrame(az_vote[az_vote.Year == 2020])\n",
    "az_votes = az_votes.fillna(0)\n",
    "az_votes['Year'] = pd.to_numeric(az_votes['Year'])\n",
    "az_votes.loc[:,'Total Votes'] = (az_votes.sum(axis=1)) - az_votes['Year']\n",
    "az_pres = az_votes[az_votes['Office'] == 'President']\n",
    "az_pres = az_pres.drop('Office', axis = 1)\n",
    "az_pres['Year'] = pd.to_numeric(az_pres['Year'])\n",
    "az_pres['PCT_DEM'] = (round(az_pres['D#']/az_pres['Total Votes'],4))*100\n",
    "az_pres['PCT_REP'] = (round(az_pres['R#']/az_pres['Total Votes'],4))*100\n",
    "az_pres['RD_DIFF'] = az_pres['PCT_REP'] - az_pres['PCT_DEM']\n",
    "az_pres_pct = az_pres[['State', 'Year', 'County', 'RD_DIFF']]\n",
    "az_counties = ['Pinal', 'Maricopa', 'Yuma']"
   ]
  },
  {
   "cell_type": "code",
   "execution_count": 5,
   "metadata": {},
   "outputs": [],
   "source": [
    "ut_vote = pd.read_csv('../ElectionData/Utah.csv', low_memory=False)\n",
    "ut_votes = pd.DataFrame(ut_vote[ut_vote.Year == 2020])\n",
    "ut_votes = ut_votes.fillna(0)\n",
    "ut_votes['Year'] = pd.to_numeric(ut_votes['Year'])\n",
    "ut_votes.loc[:,'Total Votes'] = (ut_votes.sum(axis=1)) - ut_votes['Year']\n",
    "ut_pres = ut_votes[ut_votes['Office'] == 'President']\n",
    "ut_pres = ut_pres.drop('Office', axis = 1)\n",
    "ut_pres['Year'] = pd.to_numeric(ut_pres['Year'])\n",
    "ut_pres['PCT_DEM'] = (round(ut_pres['D#']/ut_pres['Total Votes'],4))*100\n",
    "ut_pres['PCT_REP'] = (round(ut_pres['R#']/ut_pres['Total Votes'],4))*100\n",
    "ut_pres['RD_DIFF'] = ut_pres['PCT_REP'] - ut_pres['PCT_DEM']\n",
    "ut_pres_pct = ut_pres[['State', 'Year', 'County', 'RD_DIFF']]\n",
    "ut_counties = ['Washington', 'Iron', 'Beaver', 'Millard', 'Juab', 'Utah', 'Salt Lake', 'Davis', 'Weber', 'Box Elder']"
   ]
  },
  {
   "cell_type": "code",
   "execution_count": 6,
   "metadata": {},
   "outputs": [],
   "source": [
    "id_vote = pd.read_csv('../ElectionData/Idaho.csv', low_memory=False)\n",
    "id_votes = pd.DataFrame(id_vote[id_vote.Year == 2020])\n",
    "id_votes = id_votes.fillna(0)\n",
    "id_votes['Year'] = pd.to_numeric(id_votes['Year'])\n",
    "id_votes.loc[:,'Total Votes'] = (id_votes.sum(axis=1)) - id_votes['Year']\n",
    "id_pres = id_votes[id_votes['Office'] == 'President']\n",
    "id_pres = id_pres.drop('Office', axis = 1)\n",
    "id_pres['Year'] = pd.to_numeric(id_pres['Year'])\n",
    "id_pres['PCT_DEM'] = (round(id_pres['D#']/id_pres['Total Votes'],4))*100\n",
    "id_pres['PCT_REP'] = (round(id_pres['R#']/id_pres['Total Votes'],4))*100\n",
    "id_pres['RD_DIFF'] = id_pres['PCT_REP'] - id_pres['PCT_DEM']\n",
    "id_pres_pct = id_pres[['State', 'Year', 'County', 'RD_DIFF']]\n",
    "id_counties = ['Oneida', 'Bannock', 'Bingham', 'Bonneville', 'Jefferson', 'Clark']"
   ]
  },
  {
   "cell_type": "code",
   "execution_count": 7,
   "metadata": {},
   "outputs": [],
   "source": [
    "mt_vote = pd.read_csv('../ElectionData/Montana.csv', low_memory=False)\n",
    "mt_votes = pd.DataFrame(mt_vote[mt_vote.Year == 2020])\n",
    "mt_votes = mt_votes.fillna(0)\n",
    "mt_votes['Year'] = pd.to_numeric(mt_votes['Year'])\n",
    "mt_votes.loc[:,'Total Votes'] = (mt_votes.sum(axis=1)) - mt_votes['Year']\n",
    "mt_pres = mt_votes[mt_votes['Office'] == 'President']\n",
    "mt_pres = mt_pres.drop('Office', axis = 1)\n",
    "mt_pres['Year'] = pd.to_numeric(mt_pres['Year'])\n",
    "mt_pres['PCT_DEM'] = (round(mt_pres['D#']/mt_pres['Total Votes'],4))*100\n",
    "mt_pres['PCT_REP'] = (round(mt_pres['R#']/mt_pres['Total Votes'],4))*100\n",
    "mt_pres['RD_DIFF'] = mt_pres['PCT_REP'] - mt_pres['PCT_DEM']\n",
    "mt_pres_pct = mt_pres[['State', 'Year', 'County', 'RD_DIFF']]\n",
    "mt_counties = ['Beaverhead', 'Madison', 'Silver Bow', 'Jefferson', 'Lewis and Clark', 'Cascade', 'Teton', 'Pondera', 'Toole']"
   ]
  },
  {
   "cell_type": "markdown",
   "metadata": {},
   "source": [
    "Now find the margins from each county."
   ]
  },
  {
   "cell_type": "code",
   "execution_count": 8,
   "metadata": {},
   "outputs": [
    {
     "name": "stdout",
     "output_type": "stream",
     "text": [
      "            State  Year     County  RD_DIFF\n",
      "11450  California  2020  San Diego   -22.75\n",
      "            State  Year     County  RD_DIFF\n",
      "11446  California  2020  Riverside    -7.94\n",
      "            State  Year          County  RD_DIFF\n",
      "11449  California  2020  San Bernardino   -10.66\n"
     ]
    }
   ],
   "source": [
    "for c in ca_counties:\n",
    "    print(ca_pres_pct[ca_pres_pct['County'] == c])"
   ]
  },
  {
   "cell_type": "code",
   "execution_count": 17,
   "metadata": {},
   "outputs": [
    {
     "name": "stdout",
     "output_type": "stream",
     "text": [
      "       State    Year County  RD_DIFF\n",
      "2950  Nevada  2020.0  Clark    -9.35\n"
     ]
    }
   ],
   "source": [
    "for c in nv_counties:\n",
    "    print(nv_pres_pct[nv_pres_pct['County'] == c])"
   ]
  },
  {
   "cell_type": "code",
   "execution_count": 10,
   "metadata": {},
   "outputs": [
    {
     "name": "stdout",
     "output_type": "stream",
     "text": [
      "        State  Year County  RD_DIFF\n",
      "1848  Arizona  2020  Pinal    17.24\n",
      "        State  Year    County  RD_DIFF\n",
      "1844  Arizona  2020  Maricopa    -2.17\n",
      "        State  Year County  RD_DIFF\n",
      "1851  Arizona  2020   Yuma     6.17\n"
     ]
    }
   ],
   "source": [
    "for c in az_counties:\n",
    "    print(az_pres_pct[az_pres_pct['County'] == c])"
   ]
  },
  {
   "cell_type": "code",
   "execution_count": 11,
   "metadata": {},
   "outputs": [
    {
     "name": "stdout",
     "output_type": "stream",
     "text": [
      "     State    Year      County  RD_DIFF\n",
      "3230  Utah  2020.0  Washington     51.3\n",
      "     State    Year County  RD_DIFF\n",
      "3214  Utah  2020.0   Iron    56.15\n",
      "     State    Year  County  RD_DIFF\n",
      "3204  Utah  2020.0  Beaver    75.42\n",
      "     State    Year   County  RD_DIFF\n",
      "3217  Utah  2020.0  Millard    77.22\n",
      "     State    Year County  RD_DIFF\n",
      "3215  Utah  2020.0   Juab    75.25\n",
      "     State    Year County  RD_DIFF\n",
      "3228  Utah  2020.0   Utah    40.39\n",
      "     State    Year     County  RD_DIFF\n",
      "3221  Utah  2020.0  Salt Lake   -10.93\n",
      "     State    Year County  RD_DIFF\n",
      "3209  Utah  2020.0  Davis    26.94\n",
      "     State    Year County  RD_DIFF\n",
      "3232  Utah  2020.0  Weber    22.41\n",
      "     State    Year     County  RD_DIFF\n",
      "3205  Utah  2020.0  Box Elder     62.5\n"
     ]
    }
   ],
   "source": [
    "for c in ut_counties:\n",
    "    print(ut_pres_pct[ut_pres_pct['County'] == c])"
   ]
  },
  {
   "cell_type": "code",
   "execution_count": 12,
   "metadata": {},
   "outputs": [
    {
     "name": "stdout",
     "output_type": "stream",
     "text": [
      "      State  Year  County  RD_DIFF\n",
      "6659  Idaho  2020  Oneida    77.45\n",
      "      State  Year   County  RD_DIFF\n",
      "6626  Idaho  2020  Bannock    21.74\n",
      "      State  Year   County  RD_DIFF\n",
      "6629  Idaho  2020  Bingham    55.87\n",
      "      State  Year      County  RD_DIFF\n",
      "6633  Idaho  2020  Bonneville    43.59\n",
      "      State  Year     County  RD_DIFF\n",
      "6649  Idaho  2020  Jefferson    73.61\n",
      "      State  Year County  RD_DIFF\n",
      "6640  Idaho  2020  Clark    71.71\n"
     ]
    }
   ],
   "source": [
    "for c in id_counties:\n",
    "    print(id_pres_pct[id_pres_pct['County'] == c])"
   ]
  },
  {
   "cell_type": "code",
   "execution_count": 13,
   "metadata": {},
   "outputs": [
    {
     "name": "stdout",
     "output_type": "stream",
     "text": [
      "        State    Year      County  RD_DIFF\n",
      "5752  Montana  2020.0  Beaverhead     40.9\n",
      "        State    Year   County  RD_DIFF\n",
      "5780  Montana  2020.0  Madison    39.76\n",
      "        State    Year      County  RD_DIFF\n",
      "5798  Montana  2020.0  Silver Bow   -14.19\n",
      "        State    Year     County  RD_DIFF\n",
      "5773  Montana  2020.0  Jefferson    33.37\n",
      "        State    Year           County  RD_DIFF\n",
      "5776  Montana  2020.0  Lewis and Clark     3.94\n",
      "        State    Year   County  RD_DIFF\n",
      "5758  Montana  2020.0  Cascade    19.71\n",
      "        State    Year County  RD_DIFF\n",
      "5801  Montana  2020.0  Teton    43.52\n",
      "        State    Year   County  RD_DIFF\n",
      "5788  Montana  2020.0  Pondera    37.66\n",
      "        State    Year County  RD_DIFF\n",
      "5802  Montana  2020.0  Toole    53.28\n"
     ]
    }
   ],
   "source": [
    "for c in mt_counties:\n",
    "    print(mt_pres_pct[mt_pres_pct['County'] == c])"
   ]
  }
 ],
 "metadata": {
  "kernelspec": {
   "display_name": "Python 3",
   "language": "python",
   "name": "python3"
  },
  "language_info": {
   "codemirror_mode": {
    "name": "ipython",
    "version": 3
   },
   "file_extension": ".py",
   "mimetype": "text/x-python",
   "name": "python",
   "nbconvert_exporter": "python",
   "pygments_lexer": "ipython3",
   "version": "3.8.5"
  }
 },
 "nbformat": 4,
 "nbformat_minor": 4
}
