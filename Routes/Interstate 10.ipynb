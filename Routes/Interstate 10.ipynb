{
 "cells": [
  {
   "cell_type": "markdown",
   "metadata": {},
   "source": [
    "<h2>Calculating 2020 Presidential Margins Along Interstate 10</h2>"
   ]
  },
  {
   "cell_type": "code",
   "execution_count": 1,
   "metadata": {},
   "outputs": [],
   "source": [
    "#Import relevant libraries\n",
    "import numpy as np\n",
    "import pandas as pd\n",
    "import warnings\n",
    "warnings.filterwarnings(\"ignore\")"
   ]
  },
  {
   "cell_type": "code",
   "execution_count": 2,
   "metadata": {},
   "outputs": [],
   "source": [
    "ca_vote = pd.read_csv('../ElectionData/California.csv', low_memory=False)\n",
    "ca_votes = pd.DataFrame(ca_vote[ca_vote.Year == '2020'])\n",
    "ca_votes = ca_votes.fillna(0)\n",
    "ca_votes['Year'] = pd.to_numeric(ca_votes['Year'])\n",
    "ca_votes.loc[:,'Total Votes'] = (ca_votes.sum(axis=1)) - ca_votes['Year']\n",
    "ca_pres = ca_votes[ca_votes['Office'] == 'President']\n",
    "ca_pres = ca_pres.drop('Office', axis = 1)\n",
    "ca_pres['Year'] = pd.to_numeric(ca_pres['Year'])\n",
    "ca_pres['PCT_DEM'] = (round(ca_pres['D1#']/ca_pres['Total Votes'],4))*100\n",
    "ca_pres['PCT_REP'] = (round(ca_pres['R#']/ca_pres['Total Votes'],4))*100\n",
    "ca_pres['RD_DIFF'] = ca_pres['PCT_REP'] - ca_pres['PCT_DEM']\n",
    "ca_pres_pct = ca_pres[['State', 'Year', 'County', 'RD_DIFF']]\n",
    "ca_counties = ['Los Angeles', 'San Bernardino', 'Riverside']"
   ]
  },
  {
   "cell_type": "code",
   "execution_count": 3,
   "metadata": {},
   "outputs": [],
   "source": [
    "az_vote = pd.read_csv('../ElectionData/Arizona.csv', low_memory=False)\n",
    "az_votes = pd.DataFrame(az_vote[az_vote.Year == 2020])\n",
    "az_votes = az_votes.fillna(0)\n",
    "az_votes['Year'] = pd.to_numeric(az_votes['Year'])\n",
    "az_votes.loc[:,'Total Votes'] = (az_votes.sum(axis=1)) - az_votes['Year']\n",
    "az_pres = az_votes[az_votes['Office'] == 'President']\n",
    "az_pres = az_pres.drop('Office', axis = 1)\n",
    "az_pres['Year'] = pd.to_numeric(az_pres['Year'])\n",
    "az_pres['PCT_DEM'] = (round(az_pres['D#']/az_pres['Total Votes'],4))*100\n",
    "az_pres['PCT_REP'] = (round(az_pres['R#']/az_pres['Total Votes'],4))*100\n",
    "az_pres['RD_DIFF'] = az_pres['PCT_REP'] - az_pres['PCT_DEM']\n",
    "az_pres_pct = az_pres[['State', 'Year', 'County', 'RD_DIFF']]\n",
    "az_counties = ['La Paz', 'Maricopa', 'Pinal', 'Pima', 'Cochise']"
   ]
  },
  {
   "cell_type": "code",
   "execution_count": 4,
   "metadata": {},
   "outputs": [],
   "source": [
    "nm_vote = pd.read_csv('../ElectionData/New Mexico.csv', low_memory=False)\n",
    "nm_votes = pd.DataFrame(nm_vote[nm_vote.Year == 2020])\n",
    "nm_votes = nm_votes.fillna(0)\n",
    "nm_votes['Year'] = pd.to_numeric(nm_votes['Year'])\n",
    "nm_votes.loc[:,'Total Votes'] = (nm_votes.sum(axis=1)) - nm_votes['Year']\n",
    "nm_pres = nm_votes[nm_votes['Office'] == 'President']\n",
    "nm_pres = nm_pres.drop('Office', axis = 1)\n",
    "nm_pres['Year'] = pd.to_numeric(nm_pres['Year'])\n",
    "nm_pres['PCT_DEM'] = (round(nm_pres['D#']/nm_pres['Total Votes'],4))*100\n",
    "nm_pres['PCT_REP'] = (round(nm_pres['R#']/nm_pres['Total Votes'],4))*100\n",
    "nm_pres['RD_DIFF'] = nm_pres['PCT_REP'] - nm_pres['PCT_DEM']\n",
    "nm_pres_pct = nm_pres[['State', 'Year', 'County', 'RD_DIFF']]\n",
    "nm_counties = ['Hidalgo', 'Grant', 'Luna', 'Dona Ana']"
   ]
  },
  {
   "cell_type": "code",
   "execution_count": 14,
   "metadata": {},
   "outputs": [],
   "source": [
    "tx_vote = pd.read_csv('../ElectionData/Texas.csv', low_memory=False)\n",
    "tx_votes = pd.DataFrame(tx_vote[tx_vote.Year == 2020])\n",
    "tx_votes = tx_votes.fillna(0)\n",
    "tx_votes['Year'] = pd.to_numeric(tx_votes['Year'])\n",
    "tx_votes.loc[:,'Total Votes'] = (tx_votes.sum(axis=1)) - tx_votes['Year']\n",
    "tx_pres = tx_votes[tx_votes['Office'] == 'President']\n",
    "tx_pres = tx_pres.drop('Office', axis = 1)\n",
    "tx_pres['Year'] = pd.to_numeric(tx_pres['Year'])\n",
    "tx_pres['PCT_DEM'] = (round(tx_pres['D#']/tx_pres['Total Votes'],4))*100\n",
    "tx_pres['PCT_REP'] = (round(tx_pres['R#']/tx_pres['Total Votes'],4))*100\n",
    "tx_pres['RD_DIFF'] = tx_pres['PCT_REP'] - tx_pres['PCT_DEM']\n",
    "tx_pres_pct = tx_pres[['State', 'Year', 'County', 'RD_DIFF']]\n",
    "tx_counties = ['El Paso', 'Hudspeth', 'Culberson', 'Jeff Davis', 'Reeves', 'Pecos', 'Crockett', 'Sutton', 'Kimble', \\\n",
    "               'Gillespie', 'Kerr', 'Kendall', 'Bexar', 'Guadalupe', 'Caldwell', 'Gonzales', 'Fayette', 'Colorado', \\\n",
    "               'Austin', 'Waller', 'Fort Bend', 'Harris', 'Chambers', 'Jefferson', 'Orange']"
   ]
  },
  {
   "cell_type": "code",
   "execution_count": 6,
   "metadata": {},
   "outputs": [],
   "source": [
    "la_votes = pd.read_csv('../ElectionData/Louisiana.csv', low_memory=False)\n",
    "la_votes['Year'] = pd.to_numeric(la_votes['Year'])\n",
    "la_votes.loc[:,'Total Votes'] = (la_votes.sum(axis=1)) - la_votes['Year']\n",
    "la_pres = la_votes[la_votes['Office'] == 'President']\n",
    "la_pres = la_pres.drop('Office', axis = 1)\n",
    "la_pres['Year'] = pd.to_numeric(la_pres['Year'])\n",
    "la_pres['PCT_DEM'] = (round(la_pres['D#']/la_pres['Total Votes'],4))*100\n",
    "la_pres['PCT_REP'] = (round(la_pres['R#']/la_pres['Total Votes'],4))*100\n",
    "la_pres['RD_DIFF'] = la_pres['PCT_REP'] - la_pres['PCT_DEM']\n",
    "la_pres_pct = la_pres[['State', 'Year', 'Parish', 'RD_DIFF']]\n",
    "la_pres_pct_2020 = la_pres_pct[la_pres_pct['Year'] == 2020]\n",
    "la_parishes = ['Calcasieu', 'Jefferson Davis', 'Acadia', 'Lafayette', 'Saint Martin', 'Iberville', 'West Baton Rouge', \\\n",
    "               'East Baton Rouge', 'Ascension', 'Saint James', 'Saint John the Baptist', 'Saint Charles', 'Jefferson', \\\n",
    "               'Orleans', 'Saint Tammany']"
   ]
  },
  {
   "cell_type": "code",
   "execution_count": 7,
   "metadata": {},
   "outputs": [],
   "source": [
    "ms_vote = pd.read_csv('../ElectionData/Mississippi.csv', low_memory=False)\n",
    "ms_votes = pd.DataFrame(ms_vote[ms_vote.Year == '2020'])\n",
    "ms_votes = ms_votes.fillna(0)\n",
    "ms_votes['Year'] = pd.to_numeric(ms_votes['Year'])\n",
    "ms_votes.loc[:,'Total Votes'] = (ms_votes.sum(axis=1)) - ms_votes['Year']\n",
    "ms_pres = ms_votes[ms_votes['Office'] == 'President']\n",
    "ms_pres = ms_pres.drop('Office', axis = 1)\n",
    "ms_pres['Year'] = pd.to_numeric(ms_pres['Year'])\n",
    "ms_pres['PCT_DEM'] = (round(ms_pres['D#']/ms_pres['Total Votes'],4))*100\n",
    "ms_pres['PCT_REP'] = (round(ms_pres['R#']/ms_pres['Total Votes'],4))*100\n",
    "ms_pres['RD_DIFF'] = ms_pres['PCT_REP'] - ms_pres['PCT_DEM']\n",
    "ms_pres_pct = ms_pres[['State', 'Year', 'County', 'RD_DIFF']]\n",
    "ms_counties = ['Hancock', 'Harrison', 'Jackson']"
   ]
  },
  {
   "cell_type": "code",
   "execution_count": 8,
   "metadata": {},
   "outputs": [],
   "source": [
    "al_vote = pd.read_csv('../ElectionData/Alabama.csv', low_memory=False)\n",
    "al_votes = pd.DataFrame(al_vote[al_vote.Year == '2020'])\n",
    "al_votes = al_votes.fillna(0)\n",
    "al_votes['Year'] = pd.to_numeric(al_votes['Year'])\n",
    "al_votes.loc[:,'Total Votes'] = (al_votes.sum(axis=1)) - al_votes['Year']\n",
    "al_pres = al_votes[al_votes['Office'] == 'President']\n",
    "al_pres = al_pres.drop('Office', axis = 1)\n",
    "al_pres['Year'] = pd.to_numeric(al_pres['Year'])\n",
    "al_pres['PCT_DEM'] = (round(al_pres['D#']/al_pres['Total Votes'],4))*100\n",
    "al_pres['PCT_REP'] = (round(al_pres['R#']/al_pres['Total Votes'],4))*100\n",
    "al_pres['RD_DIFF'] = al_pres['PCT_REP'] - al_pres['PCT_DEM']\n",
    "al_pres_pct = al_pres[['State', 'Year', 'County', 'RD_DIFF']]\n",
    "al_counties = ['Mobile', 'Baldwin']"
   ]
  },
  {
   "cell_type": "code",
   "execution_count": 9,
   "metadata": {},
   "outputs": [],
   "source": [
    "fl_votes = pd.read_csv('../ElectionData/Florida.csv', low_memory=False)\n",
    "fl_votes = fl_votes.fillna(0)\n",
    "fl_votes['Year'] = pd.to_numeric(fl_votes['Year'])\n",
    "fl_votes.loc[:,'Total Votes'] = (fl_votes.sum(axis=1)) - fl_votes['Year']\n",
    "fl_pres = fl_votes[fl_votes['Office'] == 'President']\n",
    "fl_pres = fl_pres.drop('Office', axis = 1)\n",
    "fl_pres['Year'] = pd.to_numeric(fl_pres['Year'])\n",
    "fl_pres['PCT_DEM'] = (round(fl_pres['D#']/fl_pres['Total Votes'],4))*100\n",
    "fl_pres['PCT_REP'] = (round(fl_pres['R#']/fl_pres['Total Votes'],4))*100\n",
    "fl_pres['RD_DIFF'] = fl_pres['PCT_REP'] - fl_pres['PCT_DEM']\n",
    "fl_pres_pct = fl_pres[['State', 'Year', 'County', 'RD_DIFF']]\n",
    "fl_pres_pct_2020 = fl_pres_pct[fl_pres_pct['Year'] == 2020]\n",
    "fl_counties = ['Escambia', 'Santa Rosa', 'Okaloosa', 'Walton', 'Holmes', 'Washington', 'Jackson', 'Gadsden', 'Leon', \\\n",
    "               'Jefferson', 'Madison', 'Suwannee', 'Columbia', 'Baker', 'Nassau', 'Duval']"
   ]
  },
  {
   "cell_type": "code",
   "execution_count": 10,
   "metadata": {},
   "outputs": [
    {
     "name": "stdout",
     "output_type": "stream",
     "text": [
      "            State  Year       County  RD_DIFF\n",
      "11432  California  2020  Los Angeles   -44.17\n",
      "            State  Year          County  RD_DIFF\n",
      "11449  California  2020  San Bernardino   -10.66\n",
      "            State  Year     County  RD_DIFF\n",
      "11446  California  2020  Riverside    -7.94\n"
     ]
    }
   ],
   "source": [
    "for c in ca_counties:\n",
    "    print(ca_pres_pct[ca_pres_pct['County'] == c])"
   ]
  },
  {
   "cell_type": "markdown",
   "metadata": {},
   "source": [
    "Now find the margins from each county."
   ]
  },
  {
   "cell_type": "code",
   "execution_count": 11,
   "metadata": {},
   "outputs": [
    {
     "name": "stdout",
     "output_type": "stream",
     "text": [
      "        State  Year  County  RD_DIFF\n",
      "1843  Arizona  2020  La Paz    38.71\n",
      "        State  Year    County  RD_DIFF\n",
      "1844  Arizona  2020  Maricopa    -2.17\n",
      "        State  Year County  RD_DIFF\n",
      "1848  Arizona  2020  Pinal    17.24\n",
      "        State  Year County  RD_DIFF\n",
      "1847  Arizona  2020   Pima   -18.62\n",
      "        State  Year   County  RD_DIFF\n",
      "1838  Arizona  2020  Cochise    19.49\n"
     ]
    }
   ],
   "source": [
    "for c in az_counties:\n",
    "    print(az_pres_pct[az_pres_pct['County'] == c])"
   ]
  },
  {
   "cell_type": "code",
   "execution_count": 12,
   "metadata": {},
   "outputs": [
    {
     "name": "stdout",
     "output_type": "stream",
     "text": [
      "           State    Year   County  RD_DIFF\n",
      "4286  New Mexico  2020.0  Hidalgo    15.05\n",
      "           State    Year County  RD_DIFF\n",
      "4283  New Mexico  2020.0  Grant    -7.18\n",
      "           State    Year County  RD_DIFF\n",
      "4290  New Mexico  2020.0   Luna    10.43\n",
      "           State    Year    County  RD_DIFF\n",
      "4281  New Mexico  2020.0  Dona Ana   -18.34\n"
     ]
    }
   ],
   "source": [
    "for c in nm_counties:\n",
    "    print(nm_pres_pct[nm_pres_pct['County'] == c])"
   ]
  },
  {
   "cell_type": "code",
   "execution_count": 15,
   "metadata": {},
   "outputs": [
    {
     "name": "stdout",
     "output_type": "stream",
     "text": [
      "       State    Year   County  RD_DIFF\n",
      "21647  Texas  2020.0  El Paso    -35.1\n",
      "       State    Year    County  RD_DIFF\n",
      "21691  Texas  2020.0  Hudspeth    35.02\n",
      "       State    Year     County  RD_DIFF\n",
      "21631  Texas  2020.0  Culberson    -2.66\n",
      "       State    Year      County  RD_DIFF\n",
      "21698  Texas  2020.0  Jeff Davis    21.69\n",
      "       State    Year  County  RD_DIFF\n",
      "21771  Texas  2020.0  Reeves    23.28\n",
      "       State    Year County  RD_DIFF\n",
      "21762  Texas  2020.0  Pecos    39.26\n",
      "       State    Year    County  RD_DIFF\n",
      "21629  Texas  2020.0  Crockett    55.65\n",
      "       State    Year  County  RD_DIFF\n",
      "21794  Texas  2020.0  Sutton     57.8\n",
      "       State    Year  County  RD_DIFF\n",
      "21710  Texas  2020.0  Kimble     74.3\n",
      "       State    Year     County  RD_DIFF\n",
      "21662  Texas  2020.0  Gillespie    58.91\n",
      "       State    Year County  RD_DIFF\n",
      "21709  Texas  2020.0   Kerr    51.74\n",
      "       State    Year   County  RD_DIFF\n",
      "21706  Texas  2020.0  Kendall    53.16\n",
      "       State    Year County  RD_DIFF\n",
      "21591  Texas  2020.0  Bexar   -18.15\n",
      "       State    Year     County  RD_DIFF\n",
      "21670  Texas  2020.0  Guadalupe    24.12\n",
      "       State    Year    County  RD_DIFF\n",
      "21604  Texas  2020.0  Caldwell     9.08\n",
      "       State    Year    County  RD_DIFF\n",
      "21665  Texas  2020.0  Gonzales     48.1\n",
      "       State    Year   County  RD_DIFF\n",
      "21651  Texas  2020.0  Fayette    58.04\n",
      "       State    Year    County  RD_DIFF\n",
      "21621  Texas  2020.0  Colorado    50.65\n",
      "       State    Year  County  RD_DIFF\n",
      "21584  Texas  2020.0  Austin    58.37\n",
      "       State    Year  County  RD_DIFF\n",
      "21813  Texas  2020.0  Waller     26.7\n",
      "       State    Year     County  RD_DIFF\n",
      "21655  Texas  2020.0  Fort Bend   -10.56\n",
      "       State    Year  County  RD_DIFF\n",
      "21677  Texas  2020.0  Harris   -13.26\n",
      "       State    Year    County  RD_DIFF\n",
      "21612  Texas  2020.0  Chambers    61.69\n",
      "       State    Year     County  RD_DIFF\n",
      "21699  Texas  2020.0  Jefferson     1.58\n",
      "       State    Year  County  RD_DIFF\n",
      "21757  Texas  2020.0  Orange    63.43\n"
     ]
    }
   ],
   "source": [
    "for c in tx_counties:\n",
    "    print(tx_pres_pct[tx_pres_pct['County'] == c])"
   ]
  },
  {
   "cell_type": "code",
   "execution_count": 16,
   "metadata": {},
   "outputs": [
    {
     "name": "stdout",
     "output_type": "stream",
     "text": [
      "          State  Year     Parish  RD_DIFF\n",
      "4933  Louisiana  2020  Calcasieu    35.19\n",
      "          State  Year           Parish  RD_DIFF\n",
      "4950  Louisiana  2020  Jefferson Davis    55.35\n",
      "          State  Year  Parish  RD_DIFF\n",
      "4924  Louisiana  2020  Acadia    60.34\n",
      "          State  Year     Parish  RD_DIFF\n",
      "4951  Louisiana  2020  Lafayette    28.67\n",
      "          State  Year        Parish  RD_DIFF\n",
      "4973  Louisiana  2020  Saint Martin    36.11\n",
      "          State  Year     Parish  RD_DIFF\n",
      "4947  Louisiana  2020  Iberville    -3.71\n",
      "          State  Year            Parish  RD_DIFF\n",
      "4984  Louisiana  2020  West Baton Rouge    10.53\n",
      "          State  Year            Parish  RD_DIFF\n",
      "4940  Louisiana  2020  East Baton Rouge   -13.05\n",
      "          State  Year     Parish  RD_DIFF\n",
      "4926  Louisiana  2020  Ascension    32.55\n",
      "          State  Year       Parish  RD_DIFF\n",
      "4970  Louisiana  2020  Saint James    -4.42\n",
      "          State  Year                  Parish  RD_DIFF\n",
      "4971  Louisiana  2020  Saint John the Baptist    -28.2\n",
      "          State  Year         Parish  RD_DIFF\n",
      "4968  Louisiana  2020  Saint Charles    29.57\n",
      "          State  Year     Parish  RD_DIFF\n",
      "4949  Louisiana  2020  Jefferson    11.09\n",
      "          State  Year   Parish  RD_DIFF\n",
      "4959  Louisiana  2020  Orleans   -68.15\n",
      "          State  Year         Parish  RD_DIFF\n",
      "4975  Louisiana  2020  Saint Tammany    44.19\n"
     ]
    }
   ],
   "source": [
    "for p in la_parishes:\n",
    "    print(la_pres_pct_2020[la_pres_pct_2020['Parish'] == p])"
   ]
  },
  {
   "cell_type": "code",
   "execution_count": 17,
   "metadata": {},
   "outputs": [
    {
     "name": "stdout",
     "output_type": "stream",
     "text": [
      "            State  Year   County  RD_DIFF\n",
      "7890  Mississippi  2020  Hancock    55.49\n",
      "            State  Year    County  RD_DIFF\n",
      "7891  Mississippi  2020  Harrison    25.16\n",
      "            State  Year   County  RD_DIFF\n",
      "7897  Mississippi  2020  Jackson    34.68\n"
     ]
    }
   ],
   "source": [
    "for c in ms_counties:\n",
    "    print(ms_pres_pct[ms_pres_pct['County'] == c])"
   ]
  },
  {
   "cell_type": "code",
   "execution_count": 18,
   "metadata": {},
   "outputs": [
    {
     "name": "stdout",
     "output_type": "stream",
     "text": [
      "        State  Year  County  RD_DIFF\n",
      "8088  Alabama  2020  Mobile    11.88\n",
      "        State  Year   County  RD_DIFF\n",
      "8041  Alabama  2020  Baldwin    53.76\n"
     ]
    }
   ],
   "source": [
    "for c in al_counties:\n",
    "    print(al_pres_pct[al_pres_pct['County'] == c])"
   ]
  },
  {
   "cell_type": "code",
   "execution_count": 19,
   "metadata": {},
   "outputs": [
    {
     "name": "stdout",
     "output_type": "stream",
     "text": [
      "        State  Year    County  RD_DIFF\n",
      "7368  Florida  2020  Escambia    15.07\n",
      "        State  Year      County  RD_DIFF\n",
      "7409  Florida  2020  Santa Rosa    46.43\n",
      "        State  Year    County  RD_DIFF\n",
      "7398  Florida  2020  Okaloosa    39.01\n",
      "        State  Year  County  RD_DIFF\n",
      "7418  Florida  2020  Walton    51.62\n",
      "        State  Year  County  RD_DIFF\n",
      "7381  Florida  2020  Holmes    78.83\n",
      "        State  Year      County  RD_DIFF\n",
      "7419  Florida  2020  Washington    61.03\n",
      "        State  Year   County  RD_DIFF\n",
      "7383  Florida  2020  Jackson    38.84\n",
      "        State  Year   County  RD_DIFF\n",
      "7371  Florida  2020  Gadsden   -36.56\n",
      "        State  Year County  RD_DIFF\n",
      "7388  Florida  2020   Leon   -28.18\n",
      "        State  Year     County  RD_DIFF\n",
      "7384  Florida  2020  Jefferson     6.87\n",
      "        State  Year   County  RD_DIFF\n",
      "7391  Florida  2020  Madison    19.47\n",
      "        State  Year    County  RD_DIFF\n",
      "7413  Florida  2020  Suwannee    56.57\n",
      "        State  Year    County  RD_DIFF\n",
      "7364  Florida  2020  Columbia    45.09\n",
      "        State  Year County  RD_DIFF\n",
      "7354  Florida  2020  Baker    70.11\n",
      "        State  Year  County  RD_DIFF\n",
      "7397  Florida  2020  Nassau    45.83\n",
      "        State  Year County  RD_DIFF\n",
      "7367  Florida  2020  Duval    -3.81\n"
     ]
    }
   ],
   "source": [
    "for c in fl_counties:\n",
    "    print(fl_pres_pct_2020[fl_pres_pct_2020['County'] == c])"
   ]
  }
 ],
 "metadata": {
  "kernelspec": {
   "display_name": "Python 3",
   "language": "python",
   "name": "python3"
  },
  "language_info": {
   "codemirror_mode": {
    "name": "ipython",
    "version": 3
   },
   "file_extension": ".py",
   "mimetype": "text/x-python",
   "name": "python",
   "nbconvert_exporter": "python",
   "pygments_lexer": "ipython3",
   "version": "3.8.5"
  }
 },
 "nbformat": 4,
 "nbformat_minor": 4
}
