{
 "cells": [
  {
   "cell_type": "markdown",
   "metadata": {},
   "source": [
    "### <h2>Calculating 2020 Presidential Margins Along U.S. Route 35</h2>"
   ]
  },
  {
   "cell_type": "code",
   "execution_count": 1,
   "metadata": {},
   "outputs": [],
   "source": [
    "#Import relevant libraries\n",
    "import numpy as np\n",
    "import pandas as pd\n",
    "import warnings\n",
    "warnings.filterwarnings(\"ignore\")"
   ]
  },
  {
   "cell_type": "code",
   "execution_count": 2,
   "metadata": {},
   "outputs": [],
   "source": [
    "#West Virginia\n",
    "wv_vote = pd.read_csv('../ElectionData/West Virginia.csv', low_memory=False)\n",
    "wv_votes = pd.DataFrame(wv_vote[wv_vote.Year == 2020])\n",
    "wv_votes = wv_votes.fillna(0)\n",
    "wv_votes['Year'] = pd.to_numeric(wv_votes['Year'])\n",
    "wv_votes.loc[:,'Total Votes'] = (wv_votes.sum(axis=1)) - wv_votes['Year']\n",
    "wv_pres = wv_votes[wv_votes['Office'] == 'President']\n",
    "wv_pres = wv_pres.drop('Office', axis = 1)\n",
    "wv_pres['Year'] = pd.to_numeric(wv_pres['Year'])\n",
    "wv_pres['PCT_DEM'] = (round(wv_pres['D#']/wv_pres['Total Votes'],4))*100\n",
    "wv_pres['PCT_REP'] = (round(wv_pres['R#']/wv_pres['Total Votes'],4))*100\n",
    "wv_pres['RD_DIFF'] = wv_pres['PCT_REP'] - wv_pres['PCT_DEM']\n",
    "wv_pres_pct = wv_pres[['State', 'Year', 'County', 'RD_DIFF']]\n",
    "wv_pres_pct_2020 = wv_pres_pct[wv_pres_pct['Year'] == 2020]\n",
    "wv_counties = ['Putnam', 'Mason']"
   ]
  },
  {
   "cell_type": "code",
   "execution_count": 3,
   "metadata": {},
   "outputs": [],
   "source": [
    "#Ohio\n",
    "oh_votes = pd.read_csv('../ElectionData/Ohio.csv', low_memory=False)\n",
    "oh_votes = oh_votes.fillna(0)\n",
    "oh_votes['Year'] = pd.to_numeric(oh_votes['Year'])\n",
    "oh_votes.loc[:,'Total Votes'] = (oh_votes.sum(axis=1)) - oh_votes['Year']\n",
    "oh_pres = oh_votes[oh_votes['Office'] == 'President']\n",
    "oh_pres = oh_pres.drop('Office', axis = 1)\n",
    "oh_pres['Year'] = pd.to_numeric(oh_pres['Year'])\n",
    "oh_pres['PCT_DEM'] = (round(oh_pres['D#']/oh_pres['Total Votes'],4))*100\n",
    "oh_pres['PCT_REP'] = (round(oh_pres['R#']/oh_pres['Total Votes'],4))*100\n",
    "oh_pres['RD_DIFF'] = oh_pres['PCT_REP'] - oh_pres['PCT_DEM']\n",
    "oh_pres_pct = oh_pres[['State', 'Year', 'County', 'RD_DIFF']]\n",
    "oh_pres_pct_2020 = oh_pres_pct[oh_pres_pct['Year'] == 2020]\n",
    "oh_counties = ['Gallia', 'Jackson', 'Ross', 'Fayette', 'Greene', 'Montgomery', 'Preble']"
   ]
  },
  {
   "cell_type": "code",
   "execution_count": 4,
   "metadata": {},
   "outputs": [],
   "source": [
    "#Indiana\n",
    "in_votes = pd.read_csv('../ElectionData/Indiana.csv', low_memory=False)\n",
    "in_votes = in_votes.fillna(0)\n",
    "in_votes['Year'] = pd.to_numeric(in_votes['Year'])\n",
    "in_votes.loc[:,'Total Votes'] = (in_votes.sum(axis=1)) - in_votes['Year']\n",
    "in_pres = in_votes[in_votes['Office'] == 'President']\n",
    "in_pres = in_pres.drop('Office', axis = 1)\n",
    "in_pres['Year'] = pd.to_numeric(in_pres['Year'])\n",
    "in_pres['PCT_DEM'] = (round(in_pres['D#']/in_pres['Total Votes'],4))*100\n",
    "in_pres['PCT_REP'] = (round(in_pres['R#']/in_pres['Total Votes'],4))*100\n",
    "in_pres['RD_DIFF'] = in_pres['PCT_REP'] - in_pres['PCT_DEM']\n",
    "in_pres_pct = in_pres[['State', 'Year', 'County', 'RD_DIFF']]\n",
    "in_pres_pct_2020 = in_pres_pct[in_pres_pct['Year'] == 2020]\n",
    "in_counties = ['Wayne', 'Randolph', 'Henry', 'Delaware', 'Grant', 'Howard', 'Cass', 'Pulaski', 'Starke', 'LaPorte']"
   ]
  },
  {
   "cell_type": "code",
   "execution_count": 5,
   "metadata": {},
   "outputs": [
    {
     "name": "stdout",
     "output_type": "stream",
     "text": [
      "              State    Year  County  RD_DIFF\n",
      "5924  West Virginia  2020.0  Putnam    42.65\n",
      "              State    Year County  RD_DIFF\n",
      "5911  West Virginia  2020.0  Mason    53.23\n"
     ]
    }
   ],
   "source": [
    "for c in wv_counties:\n",
    "    print(wv_pres_pct[wv_pres_pct['County'] == c])"
   ]
  },
  {
   "cell_type": "code",
   "execution_count": 6,
   "metadata": {},
   "outputs": [
    {
     "name": "stdout",
     "output_type": "stream",
     "text": [
      "      State    Year  County  RD_DIFF\n",
      "12610  Ohio  2020.0  Gallia    55.47\n",
      "      State    Year   County  RD_DIFF\n",
      "12623  Ohio  2020.0  Jackson     54.0\n",
      "      State    Year County  RD_DIFF\n",
      "12654  Ohio  2020.0   Ross    35.13\n",
      "      State    Year   County  RD_DIFF\n",
      "12607  Ohio  2020.0  Fayette    51.47\n",
      "      State    Year  County  RD_DIFF\n",
      "12612  Ohio  2020.0  Greene    19.48\n",
      "      State    Year      County  RD_DIFF\n",
      "12640  Ohio  2020.0  Montgomery    -2.24\n",
      "      State    Year  County  RD_DIFF\n",
      "12651  Ohio  2020.0  Preble    57.37\n"
     ]
    }
   ],
   "source": [
    "for c in oh_counties:\n",
    "    print(oh_pres_pct_2020[oh_pres_pct_2020['County'] == c])"
   ]
  },
  {
   "cell_type": "code",
   "execution_count": 7,
   "metadata": {},
   "outputs": [
    {
     "name": "stdout",
     "output_type": "stream",
     "text": [
      "         State  Year County  RD_DIFF\n",
      "12232  Indiana  2020  Wayne    29.06\n",
      "         State  Year    County  RD_DIFF\n",
      "12211  Indiana  2020  Randolph    52.34\n",
      "         State  Year County  RD_DIFF\n",
      "12176  Indiana  2020  Henry    45.11\n",
      "         State  Year    County  RD_DIFF\n",
      "12161  Indiana  2020  Delaware    13.14\n",
      "         State  Year County  RD_DIFF\n",
      "12170  Indiana  2020  Grant    38.67\n",
      "         State  Year  County  RD_DIFF\n",
      "12177  Indiana  2020  Howard    32.36\n",
      "         State  Year County  RD_DIFF\n",
      "12152  Indiana  2020   Cass    41.11\n",
      "         State  Year   County  RD_DIFF\n",
      "12209  Indiana  2020  Pulaski    47.93\n",
      "         State  Year  County  RD_DIFF\n",
      "12218  Indiana  2020  Starke    46.71\n",
      "         State  Year   County  RD_DIFF\n",
      "12189  Indiana  2020  LaPorte     7.22\n"
     ]
    }
   ],
   "source": [
    "for c in in_counties:\n",
    "    print(in_pres_pct_2020[in_pres_pct_2020['County'] == c])"
   ]
  }
 ],
 "metadata": {
  "kernelspec": {
   "display_name": "Python 3",
   "language": "python",
   "name": "python3"
  },
  "language_info": {
   "codemirror_mode": {
    "name": "ipython",
    "version": 3
   },
   "file_extension": ".py",
   "mimetype": "text/x-python",
   "name": "python",
   "nbconvert_exporter": "python",
   "pygments_lexer": "ipython3",
   "version": "3.8.5"
  }
 },
 "nbformat": 4,
 "nbformat_minor": 4
}
