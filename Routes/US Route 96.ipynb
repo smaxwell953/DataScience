{
 "cells": [
  {
   "cell_type": "markdown",
   "metadata": {},
   "source": [
    "<h2>Calculating 2020 Presidential Margins Along U.S. Route 96</h2>"
   ]
  },
  {
   "cell_type": "code",
   "execution_count": 1,
   "metadata": {},
   "outputs": [],
   "source": [
    "#Import relevant libraries\n",
    "import numpy as np\n",
    "import pandas as pd\n",
    "import warnings\n",
    "warnings.filterwarnings(\"ignore\")"
   ]
  },
  {
   "cell_type": "code",
   "execution_count": 2,
   "metadata": {},
   "outputs": [
    {
     "data": {
      "text/plain": [
       "Index(['State', 'Year', 'Office', 'County', 'D#', 'R#', 'Prog.#', 'S#',\n",
       "       'Proh.#', 'SL#', 'SW#', 'Am.#', 'B&T#', 'TX Reg.#', 'I#', 'Ref.#',\n",
       "       'NL#', 'G#', 'L#', 'NA#', 'W/I1#', 'W/I2#', 'W/I3#', 'W/I4#', 'W/I5#',\n",
       "       'W/I6#', 'W/I7#', 'W/I8#', 'C#', 'W/I#', 'LRU#', 'I1#', 'I2#',\n",
       "       'Year / Office'],\n",
       "      dtype='object')"
      ]
     },
     "execution_count": 2,
     "metadata": {},
     "output_type": "execute_result"
    }
   ],
   "source": [
    "#Texas counties\n",
    "\n",
    "tx_vote = pd.read_csv('../ElectionData/Texas.csv', low_memory=False)\n",
    "\n",
    "tx_vote.columns"
   ]
  },
  {
   "cell_type": "code",
   "execution_count": 3,
   "metadata": {},
   "outputs": [
    {
     "data": {
      "text/plain": [
       "array([1912., 1916., 1920., 1924., 1928., 1932., 1936., 1940., 1944.,\n",
       "       1948., 1952., 1956., 1960., 1964., 1968., 1972., 1976., 1980.,\n",
       "       1984., 1988., 1992., 1996., 2000., 2004., 2008., 2012., 2016.,\n",
       "       1966., 1990., 1993., 1994., 2002., 2006., 2014., 2018., 1978.,\n",
       "       1998., 2010.,   nan, 2020.])"
      ]
     },
     "execution_count": 3,
     "metadata": {},
     "output_type": "execute_result"
    }
   ],
   "source": [
    "tx_vote['Year'].unique()"
   ]
  },
  {
   "cell_type": "code",
   "execution_count": 4,
   "metadata": {},
   "outputs": [],
   "source": [
    "tx_votes = pd.DataFrame(tx_vote[tx_vote.Year == 2020])\n",
    "tx_votes = tx_votes.fillna(0)\n",
    "tx_votes['Year'] = pd.to_numeric(tx_votes['Year'])\n",
    "tx_votes.loc[:,'Total Votes'] = (tx_votes.sum(axis=1)) - tx_votes['Year']\n",
    "tx_pres = tx_votes[tx_votes['Office'] == 'President']\n",
    "tx_pres = tx_pres.drop('Office', axis = 1)\n",
    "tx_pres['Year'] = pd.to_numeric(tx_pres['Year'])\n",
    "tx_pres['PCT_DEM'] = (round(tx_pres['D#']/tx_pres['Total Votes'],4))*100\n",
    "tx_pres['PCT_REP'] = (round(tx_pres['R#']/tx_pres['Total Votes'],4))*100\n",
    "tx_pres['RD_DIFF'] = tx_pres['PCT_REP'] - tx_pres['PCT_DEM']\n",
    "tx_pres_pct = tx_pres[['State', 'Year', 'County', 'RD_DIFF']]\n",
    "tx_counties = ['Jefferson', 'Hardin', 'Jasper', 'Sabine', 'San Augustine', 'Shelby']"
   ]
  },
  {
   "cell_type": "markdown",
   "metadata": {},
   "source": [
    "Now find the margins from each parish/county."
   ]
  },
  {
   "cell_type": "code",
   "execution_count": 5,
   "metadata": {},
   "outputs": [
    {
     "name": "stdout",
     "output_type": "stream",
     "text": [
      "       State    Year     County  RD_DIFF\n",
      "21699  Texas  2020.0  Jefferson     1.58\n",
      "       State    Year  County  RD_DIFF\n",
      "21676  Texas  2020.0  Hardin    73.76\n",
      "       State    Year  County  RD_DIFF\n",
      "21697  Texas  2020.0  Jasper    61.42\n",
      "       State    Year  County  RD_DIFF\n",
      "21778  Texas  2020.0  Sabine    74.94\n",
      "       State    Year         County  RD_DIFF\n",
      "21779  Texas  2020.0  San Augustine    50.65\n",
      "       State    Year  County  RD_DIFF\n",
      "21786  Texas  2020.0  Shelby    58.56\n"
     ]
    }
   ],
   "source": [
    "for c in tx_counties:\n",
    "    print(tx_pres_pct[tx_pres_pct['County'] == c])"
   ]
  }
 ],
 "metadata": {
  "kernelspec": {
   "display_name": "Python 3",
   "language": "python",
   "name": "python3"
  },
  "language_info": {
   "codemirror_mode": {
    "name": "ipython",
    "version": 3
   },
   "file_extension": ".py",
   "mimetype": "text/x-python",
   "name": "python",
   "nbconvert_exporter": "python",
   "pygments_lexer": "ipython3",
   "version": "3.8.5"
  }
 },
 "nbformat": 4,
 "nbformat_minor": 4
}
